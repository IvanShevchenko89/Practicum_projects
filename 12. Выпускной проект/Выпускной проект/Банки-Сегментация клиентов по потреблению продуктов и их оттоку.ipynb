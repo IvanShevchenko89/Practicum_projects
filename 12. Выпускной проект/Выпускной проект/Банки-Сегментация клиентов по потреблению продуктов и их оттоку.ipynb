{
 "cells": [
  {
   "cell_type": "markdown",
   "metadata": {},
   "source": [
    "# Выпускной проект \n",
    "# \"Банки — Сегментация клиентов по потреблению продуктов и их оттоку\""
   ]
  },
  {
   "cell_type": "markdown",
   "metadata": {},
   "source": [
    "<b> Проект: </b>\n",
    "    «Метанпромбанку», одному из лучших банков страны требуется проведение анализа оттока клиентов и сегментирование пользователей продуктов банка с целью разработки стратегии взаимодействия с клиентами на основе аналитических данных.\n",
    "\n",
    "<b> Предоставленные данные: </b>\n",
    "    CSV-файл \"bank_dataset.csv\", содержащий данные о клиентах банка «Метанпромбанк». Банк располагается в Ярославле и областных городах: Ростов Великий и Рыбинск.\n",
    "\n",
    "<b> Задачи: </b>\n",
    "    Анализ клиентов регионального банка и сегментация пользователей по количеству потребляемых продуктов.\n",
    "1. Проведение исследовательского анализа данных;\n",
    "2. Сегментация пользователей на основе данных о количестве потребляемых продуктов;\n",
    "3. Формулировка и проверка статистических гипотез.\n",
    "    \n",
    "<b> Результаты исследования: </b>\n",
    "    Формулировка основных выводов и разработка рекомендаций по повышению качества работы с клиентами:\n",
    "1. Формулировка выводов по итогам проверки гипотез;\n",
    "2. Выделение клиентских сегментов; \n",
    "3. Разработка мер по снижению оттока."
   ]
  },
  {
   "cell_type": "markdown",
   "metadata": {
    "toc": true
   },
   "source": [
    "<h1>Содержание<span class=\"tocSkip\"></span></h1>\n",
    "<div class=\"toc\"><ul class=\"toc-item\"><li><span><a href=\"#Загрузка-датасета-и-изучение-общей-информации\" data-toc-modified-id=\"Загрузка-датасета-и-изучение-общей-информации-1\"><span class=\"toc-item-num\">1&nbsp;&nbsp;</span>Загрузка датасета и изучение общей информации</a></span><ul class=\"toc-item\"><li><span><a href=\"#Вывод\" data-toc-modified-id=\"Вывод-1.1\"><span class=\"toc-item-num\">1.1&nbsp;&nbsp;</span>Вывод</a></span></li></ul></li><li><span><a href=\"#Предобработка-данных\" data-toc-modified-id=\"Предобработка-данных-2\"><span class=\"toc-item-num\">2&nbsp;&nbsp;</span>Предобработка данных</a></span><ul class=\"toc-item\"><li><span><a href=\"#Анализ-и-работа-с-пропусками-в-данных-о-балансе\" data-toc-modified-id=\"Анализ-и-работа-с-пропусками-в-данных-о-балансе-2.1\"><span class=\"toc-item-num\">2.1&nbsp;&nbsp;</span>Анализ и работа с пропусками в данных о балансе</a></span></li><li><span><a href=\"#Вывод\" data-toc-modified-id=\"Вывод-2.2\"><span class=\"toc-item-num\">2.2&nbsp;&nbsp;</span>Вывод</a></span></li></ul></li><li><span><a href=\"#Исследовательский-анализ-данных-(EDA)\" data-toc-modified-id=\"Исследовательский-анализ-данных-(EDA)-3\"><span class=\"toc-item-num\">3&nbsp;&nbsp;</span>Исследовательский анализ данных (EDA)</a></span><ul class=\"toc-item\"><li><span><a href=\"#Анализ-оттока-клиентов\" data-toc-modified-id=\"Анализ-оттока-клиентов-3.1\"><span class=\"toc-item-num\">3.1&nbsp;&nbsp;</span>Анализ оттока клиентов</a></span></li><li><span><a href=\"#Анализ-клиентского-потребления-продуктов\" data-toc-modified-id=\"Анализ-клиентского-потребления-продуктов-3.2\"><span class=\"toc-item-num\">3.2&nbsp;&nbsp;</span>Анализ клиентского потребления продуктов</a></span></li><li><span><a href=\"#Корреляция-признаков\" data-toc-modified-id=\"Корреляция-признаков-3.3\"><span class=\"toc-item-num\">3.3&nbsp;&nbsp;</span>Корреляция признаков</a></span></li><li><span><a href=\"#Вывод\" data-toc-modified-id=\"Вывод-3.4\"><span class=\"toc-item-num\">3.4&nbsp;&nbsp;</span>Вывод</a></span></li></ul></li><li><span><a href=\"#Сегментация-клиентов-по-количеству-используемых-продуктов\" data-toc-modified-id=\"Сегментация-клиентов-по-количеству-используемых-продуктов-4\"><span class=\"toc-item-num\">4&nbsp;&nbsp;</span>Сегментация клиентов по количеству используемых продуктов</a></span><ul class=\"toc-item\"><li><span><a href=\"#Построение-матрицы-расстояний-и-ее-визуализация\" data-toc-modified-id=\"Построение-матрицы-расстояний-и-ее-визуализация-4.1\"><span class=\"toc-item-num\">4.1&nbsp;&nbsp;</span>Построение матрицы расстояний и ее визуализация</a></span></li><li><span><a href=\"#Кластеризация-на-основании-алгоритма-K-Means\" data-toc-modified-id=\"Кластеризация-на-основании-алгоритма-K-Means-4.2\"><span class=\"toc-item-num\">4.2&nbsp;&nbsp;</span>Кластеризация на основании алгоритма K-Means</a></span></li><li><span><a href=\"#Вывод\" data-toc-modified-id=\"Вывод-4.3\"><span class=\"toc-item-num\">4.3&nbsp;&nbsp;</span>Вывод</a></span></li></ul></li><li><span><a href=\"#Проверка-гипотез\" data-toc-modified-id=\"Проверка-гипотез-5\"><span class=\"toc-item-num\">5&nbsp;&nbsp;</span>Проверка гипотез</a></span><ul class=\"toc-item\"><li><span><a href=\"#Гипотеза-1:-&quot;Доходы-клиентов,-которые-пользуются-двумя-продуктами-банка,-и-доходы-клиентов,-которые-пользуются-одним-различны&quot;.\" data-toc-modified-id=\"Гипотеза-1:-&quot;Доходы-клиентов,-которые-пользуются-двумя-продуктами-банка,-и-доходы-клиентов,-которые-пользуются-одним-различны&quot;.-5.1\"><span class=\"toc-item-num\">5.1&nbsp;&nbsp;</span>Гипотеза 1: \"Доходы клиентов, которые пользуются двумя продуктами банка, и доходы клиентов, которые пользуются одним различны\".</a></span></li><li><span><a href=\"#Гипотеза-2:-&quot;Средний-возраст-ушедших-клиентов-и-оставшихся-различен&quot;.\" data-toc-modified-id=\"Гипотеза-2:-&quot;Средний-возраст-ушедших-клиентов-и-оставшихся-различен&quot;.-5.2\"><span class=\"toc-item-num\">5.2&nbsp;&nbsp;</span>Гипотеза 2: \"Средний возраст ушедших клиентов и оставшихся различен\".</a></span></li><li><span><a href=\"#Вывод\" data-toc-modified-id=\"Вывод-5.3\"><span class=\"toc-item-num\">5.3&nbsp;&nbsp;</span>Вывод</a></span></li></ul></li><li><span><a href=\"#Приложения-к-проекту\" data-toc-modified-id=\"Приложения-к-проекту-6\"><span class=\"toc-item-num\">6&nbsp;&nbsp;</span>Приложения к проекту</a></span><ul class=\"toc-item\"><li><span><a href=\"#Ссылка-на-презентацию\" data-toc-modified-id=\"Ссылка-на-презентацию-6.1\"><span class=\"toc-item-num\">6.1&nbsp;&nbsp;</span>Ссылка на презентацию</a></span></li><li><span><a href=\"#Ссылка-на-дашборд\" data-toc-modified-id=\"Ссылка-на-дашборд-6.2\"><span class=\"toc-item-num\">6.2&nbsp;&nbsp;</span>Ссылка на дашборд</a></span></li></ul></li><li><span><a href=\"#Общий-вывод-и-рекомендации-бизнесу\" data-toc-modified-id=\"Общий-вывод-и-рекомендации-бизнесу-7\"><span class=\"toc-item-num\">7&nbsp;&nbsp;</span>Общий вывод и рекомендации бизнесу</a></span></li></ul></div>"
   ]
  },
  {
   "cell_type": "markdown",
   "metadata": {},
   "source": [
    "## Загрузка датасета и изучение общей информации"
   ]
  },
  {
   "cell_type": "code",
   "execution_count": 1,
   "metadata": {},
   "outputs": [],
   "source": [
    "import pandas as pd\n",
    "import numpy as np\n",
    "import matplotlib.pyplot as plt\n",
    "import seaborn as sns\n",
    "import phik\n",
    "import scipy\n",
    "from scipy import stats as st\n",
    "from sklearn.preprocessing import StandardScaler\n",
    "from scipy.cluster.hierarchy import dendrogram, linkage\n",
    "from sklearn.cluster import KMeans\n",
    "from IPython.core.interactiveshell import InteractiveShell\n",
    "InteractiveShell.ast_node_interactivity = \"all\"\n",
    "import warnings\n",
    "warnings.filterwarnings(\"ignore\", category= FutureWarning)"
   ]
  },
  {
   "cell_type": "code",
   "execution_count": 2,
   "metadata": {},
   "outputs": [],
   "source": [
    "bank = pd.read_csv('/datasets/bank_dataset.csv')"
   ]
  },
  {
   "cell_type": "code",
   "execution_count": 3,
   "metadata": {},
   "outputs": [
    {
     "data": {
      "text/html": [
       "<div>\n",
       "<style scoped>\n",
       "    .dataframe tbody tr th:only-of-type {\n",
       "        vertical-align: middle;\n",
       "    }\n",
       "\n",
       "    .dataframe tbody tr th {\n",
       "        vertical-align: top;\n",
       "    }\n",
       "\n",
       "    .dataframe thead th {\n",
       "        text-align: right;\n",
       "    }\n",
       "</style>\n",
       "<table border=\"1\" class=\"dataframe\">\n",
       "  <thead>\n",
       "    <tr style=\"text-align: right;\">\n",
       "      <th></th>\n",
       "      <th>userid</th>\n",
       "      <th>score</th>\n",
       "      <th>City</th>\n",
       "      <th>Gender</th>\n",
       "      <th>Age</th>\n",
       "      <th>Objects</th>\n",
       "      <th>Balance</th>\n",
       "      <th>Products</th>\n",
       "      <th>CreditCard</th>\n",
       "      <th>Loyalty</th>\n",
       "      <th>estimated_salary</th>\n",
       "      <th>Churn</th>\n",
       "    </tr>\n",
       "  </thead>\n",
       "  <tbody>\n",
       "    <tr>\n",
       "      <th>9394</th>\n",
       "      <td>15658489</td>\n",
       "      <td>597</td>\n",
       "      <td>Ростов Великий</td>\n",
       "      <td>Ж</td>\n",
       "      <td>35</td>\n",
       "      <td>8</td>\n",
       "      <td>131101.04</td>\n",
       "      <td>1</td>\n",
       "      <td>1</td>\n",
       "      <td>1</td>\n",
       "      <td>192852.67</td>\n",
       "      <td>0</td>\n",
       "    </tr>\n",
       "    <tr>\n",
       "      <th>898</th>\n",
       "      <td>15697436</td>\n",
       "      <td>523</td>\n",
       "      <td>Ярославль</td>\n",
       "      <td>Ж</td>\n",
       "      <td>40</td>\n",
       "      <td>2</td>\n",
       "      <td>102967.41</td>\n",
       "      <td>1</td>\n",
       "      <td>1</td>\n",
       "      <td>0</td>\n",
       "      <td>128702.10</td>\n",
       "      <td>1</td>\n",
       "    </tr>\n",
       "    <tr>\n",
       "      <th>2398</th>\n",
       "      <td>15676613</td>\n",
       "      <td>706</td>\n",
       "      <td>Рыбинск</td>\n",
       "      <td>Ж</td>\n",
       "      <td>42</td>\n",
       "      <td>8</td>\n",
       "      <td>95386.82</td>\n",
       "      <td>1</td>\n",
       "      <td>1</td>\n",
       "      <td>1</td>\n",
       "      <td>75732.25</td>\n",
       "      <td>0</td>\n",
       "    </tr>\n",
       "    <tr>\n",
       "      <th>5906</th>\n",
       "      <td>15788359</td>\n",
       "      <td>788</td>\n",
       "      <td>Ярославль</td>\n",
       "      <td>М</td>\n",
       "      <td>32</td>\n",
       "      <td>4</td>\n",
       "      <td>112079.58</td>\n",
       "      <td>1</td>\n",
       "      <td>0</td>\n",
       "      <td>0</td>\n",
       "      <td>89368.59</td>\n",
       "      <td>0</td>\n",
       "    </tr>\n",
       "    <tr>\n",
       "      <th>2343</th>\n",
       "      <td>15808638</td>\n",
       "      <td>706</td>\n",
       "      <td>Ростов Великий</td>\n",
       "      <td>М</td>\n",
       "      <td>38</td>\n",
       "      <td>5</td>\n",
       "      <td>163034.82</td>\n",
       "      <td>2</td>\n",
       "      <td>1</td>\n",
       "      <td>1</td>\n",
       "      <td>135662.17</td>\n",
       "      <td>0</td>\n",
       "    </tr>\n",
       "    <tr>\n",
       "      <th>8225</th>\n",
       "      <td>15846878</td>\n",
       "      <td>670</td>\n",
       "      <td>Рыбинск</td>\n",
       "      <td>Ж</td>\n",
       "      <td>57</td>\n",
       "      <td>3</td>\n",
       "      <td>175575.95</td>\n",
       "      <td>2</td>\n",
       "      <td>1</td>\n",
       "      <td>0</td>\n",
       "      <td>99061.75</td>\n",
       "      <td>1</td>\n",
       "    </tr>\n",
       "    <tr>\n",
       "      <th>5506</th>\n",
       "      <td>15739764</td>\n",
       "      <td>590</td>\n",
       "      <td>Рыбинск</td>\n",
       "      <td>М</td>\n",
       "      <td>34</td>\n",
       "      <td>0</td>\n",
       "      <td>65812.35</td>\n",
       "      <td>2</td>\n",
       "      <td>0</td>\n",
       "      <td>1</td>\n",
       "      <td>160346.30</td>\n",
       "      <td>0</td>\n",
       "    </tr>\n",
       "    <tr>\n",
       "      <th>6451</th>\n",
       "      <td>15765319</td>\n",
       "      <td>636</td>\n",
       "      <td>Рыбинск</td>\n",
       "      <td>Ж</td>\n",
       "      <td>29</td>\n",
       "      <td>6</td>\n",
       "      <td>157576.47</td>\n",
       "      <td>2</td>\n",
       "      <td>1</td>\n",
       "      <td>1</td>\n",
       "      <td>101102.39</td>\n",
       "      <td>0</td>\n",
       "    </tr>\n",
       "    <tr>\n",
       "      <th>2670</th>\n",
       "      <td>15803182</td>\n",
       "      <td>598</td>\n",
       "      <td>Ярославль</td>\n",
       "      <td>Ж</td>\n",
       "      <td>64</td>\n",
       "      <td>9</td>\n",
       "      <td>NaN</td>\n",
       "      <td>1</td>\n",
       "      <td>0</td>\n",
       "      <td>1</td>\n",
       "      <td>13181.37</td>\n",
       "      <td>1</td>\n",
       "    </tr>\n",
       "    <tr>\n",
       "      <th>3497</th>\n",
       "      <td>15631680</td>\n",
       "      <td>456</td>\n",
       "      <td>Ярославль</td>\n",
       "      <td>Ж</td>\n",
       "      <td>63</td>\n",
       "      <td>1</td>\n",
       "      <td>165350.61</td>\n",
       "      <td>2</td>\n",
       "      <td>0</td>\n",
       "      <td>0</td>\n",
       "      <td>140758.07</td>\n",
       "      <td>1</td>\n",
       "    </tr>\n",
       "  </tbody>\n",
       "</table>\n",
       "</div>"
      ],
      "text/plain": [
       "        userid  score            City Gender  Age  Objects    Balance  \\\n",
       "9394  15658489    597  Ростов Великий      Ж   35        8  131101.04   \n",
       "898   15697436    523       Ярославль      Ж   40        2  102967.41   \n",
       "2398  15676613    706         Рыбинск      Ж   42        8   95386.82   \n",
       "5906  15788359    788       Ярославль      М   32        4  112079.58   \n",
       "2343  15808638    706  Ростов Великий      М   38        5  163034.82   \n",
       "8225  15846878    670         Рыбинск      Ж   57        3  175575.95   \n",
       "5506  15739764    590         Рыбинск      М   34        0   65812.35   \n",
       "6451  15765319    636         Рыбинск      Ж   29        6  157576.47   \n",
       "2670  15803182    598       Ярославль      Ж   64        9        NaN   \n",
       "3497  15631680    456       Ярославль      Ж   63        1  165350.61   \n",
       "\n",
       "      Products  CreditCard  Loyalty  estimated_salary  Churn  \n",
       "9394         1           1        1         192852.67      0  \n",
       "898          1           1        0         128702.10      1  \n",
       "2398         1           1        1          75732.25      0  \n",
       "5906         1           0        0          89368.59      0  \n",
       "2343         2           1        1         135662.17      0  \n",
       "8225         2           1        0          99061.75      1  \n",
       "5506         2           0        1         160346.30      0  \n",
       "6451         2           1        1         101102.39      0  \n",
       "2670         1           0        1          13181.37      1  \n",
       "3497         2           0        0         140758.07      1  "
      ]
     },
     "execution_count": 3,
     "metadata": {},
     "output_type": "execute_result"
    },
    {
     "name": "stdout",
     "output_type": "stream",
     "text": [
      "<class 'pandas.core.frame.DataFrame'>\n",
      "RangeIndex: 10000 entries, 0 to 9999\n",
      "Data columns (total 12 columns):\n",
      " #   Column            Non-Null Count  Dtype  \n",
      "---  ------            --------------  -----  \n",
      " 0   userid            10000 non-null  int64  \n",
      " 1   score             10000 non-null  int64  \n",
      " 2   City              10000 non-null  object \n",
      " 3   Gender            10000 non-null  object \n",
      " 4   Age               10000 non-null  int64  \n",
      " 5   Objects           10000 non-null  int64  \n",
      " 6   Balance           6383 non-null   float64\n",
      " 7   Products          10000 non-null  int64  \n",
      " 8   CreditCard        10000 non-null  int64  \n",
      " 9   Loyalty           10000 non-null  int64  \n",
      " 10  estimated_salary  10000 non-null  float64\n",
      " 11  Churn             10000 non-null  int64  \n",
      "dtypes: float64(2), int64(8), object(2)\n",
      "memory usage: 937.6+ KB\n"
     ]
    }
   ],
   "source": [
    "bank.sample(10, random_state = 0)\n",
    "bank.info()"
   ]
  },
  {
   "cell_type": "code",
   "execution_count": 4,
   "metadata": {
    "scrolled": false
   },
   "outputs": [
    {
     "data": {
      "text/html": [
       "<div>\n",
       "<style scoped>\n",
       "    .dataframe tbody tr th:only-of-type {\n",
       "        vertical-align: middle;\n",
       "    }\n",
       "\n",
       "    .dataframe tbody tr th {\n",
       "        vertical-align: top;\n",
       "    }\n",
       "\n",
       "    .dataframe thead th {\n",
       "        text-align: right;\n",
       "    }\n",
       "</style>\n",
       "<table border=\"1\" class=\"dataframe\">\n",
       "  <thead>\n",
       "    <tr style=\"text-align: right;\">\n",
       "      <th></th>\n",
       "      <th>userid</th>\n",
       "      <th>score</th>\n",
       "      <th>Age</th>\n",
       "      <th>Objects</th>\n",
       "      <th>Balance</th>\n",
       "      <th>Products</th>\n",
       "      <th>CreditCard</th>\n",
       "      <th>Loyalty</th>\n",
       "      <th>estimated_salary</th>\n",
       "      <th>Churn</th>\n",
       "    </tr>\n",
       "  </thead>\n",
       "  <tbody>\n",
       "    <tr>\n",
       "      <th>count</th>\n",
       "      <td>1.000000e+04</td>\n",
       "      <td>10000.000000</td>\n",
       "      <td>10000.000000</td>\n",
       "      <td>10000.000000</td>\n",
       "      <td>6383.000000</td>\n",
       "      <td>10000.000000</td>\n",
       "      <td>10000.00000</td>\n",
       "      <td>10000.000000</td>\n",
       "      <td>10000.000000</td>\n",
       "      <td>10000.000000</td>\n",
       "    </tr>\n",
       "    <tr>\n",
       "      <th>mean</th>\n",
       "      <td>1.573368e+07</td>\n",
       "      <td>650.528800</td>\n",
       "      <td>38.921800</td>\n",
       "      <td>5.012800</td>\n",
       "      <td>119827.493793</td>\n",
       "      <td>1.530200</td>\n",
       "      <td>0.70550</td>\n",
       "      <td>0.515100</td>\n",
       "      <td>100090.239881</td>\n",
       "      <td>0.203700</td>\n",
       "    </tr>\n",
       "    <tr>\n",
       "      <th>std</th>\n",
       "      <td>7.193619e+04</td>\n",
       "      <td>96.653299</td>\n",
       "      <td>10.487806</td>\n",
       "      <td>2.892174</td>\n",
       "      <td>30095.056462</td>\n",
       "      <td>0.581654</td>\n",
       "      <td>0.45584</td>\n",
       "      <td>0.499797</td>\n",
       "      <td>57510.492818</td>\n",
       "      <td>0.402769</td>\n",
       "    </tr>\n",
       "    <tr>\n",
       "      <th>min</th>\n",
       "      <td>1.560844e+07</td>\n",
       "      <td>350.000000</td>\n",
       "      <td>18.000000</td>\n",
       "      <td>0.000000</td>\n",
       "      <td>3768.690000</td>\n",
       "      <td>1.000000</td>\n",
       "      <td>0.00000</td>\n",
       "      <td>0.000000</td>\n",
       "      <td>11.580000</td>\n",
       "      <td>0.000000</td>\n",
       "    </tr>\n",
       "    <tr>\n",
       "      <th>25%</th>\n",
       "      <td>1.567126e+07</td>\n",
       "      <td>584.000000</td>\n",
       "      <td>32.000000</td>\n",
       "      <td>3.000000</td>\n",
       "      <td>100181.975000</td>\n",
       "      <td>1.000000</td>\n",
       "      <td>0.00000</td>\n",
       "      <td>0.000000</td>\n",
       "      <td>51002.110000</td>\n",
       "      <td>0.000000</td>\n",
       "    </tr>\n",
       "    <tr>\n",
       "      <th>50%</th>\n",
       "      <td>1.573347e+07</td>\n",
       "      <td>652.000000</td>\n",
       "      <td>37.000000</td>\n",
       "      <td>5.000000</td>\n",
       "      <td>119839.690000</td>\n",
       "      <td>1.000000</td>\n",
       "      <td>1.00000</td>\n",
       "      <td>1.000000</td>\n",
       "      <td>100193.915000</td>\n",
       "      <td>0.000000</td>\n",
       "    </tr>\n",
       "    <tr>\n",
       "      <th>75%</th>\n",
       "      <td>1.579597e+07</td>\n",
       "      <td>718.000000</td>\n",
       "      <td>44.000000</td>\n",
       "      <td>7.000000</td>\n",
       "      <td>139512.290000</td>\n",
       "      <td>2.000000</td>\n",
       "      <td>1.00000</td>\n",
       "      <td>1.000000</td>\n",
       "      <td>149388.247500</td>\n",
       "      <td>0.000000</td>\n",
       "    </tr>\n",
       "    <tr>\n",
       "      <th>max</th>\n",
       "      <td>1.585843e+07</td>\n",
       "      <td>850.000000</td>\n",
       "      <td>92.000000</td>\n",
       "      <td>10.000000</td>\n",
       "      <td>250898.090000</td>\n",
       "      <td>4.000000</td>\n",
       "      <td>1.00000</td>\n",
       "      <td>1.000000</td>\n",
       "      <td>199992.480000</td>\n",
       "      <td>1.000000</td>\n",
       "    </tr>\n",
       "  </tbody>\n",
       "</table>\n",
       "</div>"
      ],
      "text/plain": [
       "             userid         score           Age       Objects        Balance  \\\n",
       "count  1.000000e+04  10000.000000  10000.000000  10000.000000    6383.000000   \n",
       "mean   1.573368e+07    650.528800     38.921800      5.012800  119827.493793   \n",
       "std    7.193619e+04     96.653299     10.487806      2.892174   30095.056462   \n",
       "min    1.560844e+07    350.000000     18.000000      0.000000    3768.690000   \n",
       "25%    1.567126e+07    584.000000     32.000000      3.000000  100181.975000   \n",
       "50%    1.573347e+07    652.000000     37.000000      5.000000  119839.690000   \n",
       "75%    1.579597e+07    718.000000     44.000000      7.000000  139512.290000   \n",
       "max    1.585843e+07    850.000000     92.000000     10.000000  250898.090000   \n",
       "\n",
       "           Products   CreditCard       Loyalty  estimated_salary         Churn  \n",
       "count  10000.000000  10000.00000  10000.000000      10000.000000  10000.000000  \n",
       "mean       1.530200      0.70550      0.515100     100090.239881      0.203700  \n",
       "std        0.581654      0.45584      0.499797      57510.492818      0.402769  \n",
       "min        1.000000      0.00000      0.000000         11.580000      0.000000  \n",
       "25%        1.000000      0.00000      0.000000      51002.110000      0.000000  \n",
       "50%        1.000000      1.00000      1.000000     100193.915000      0.000000  \n",
       "75%        2.000000      1.00000      1.000000     149388.247500      0.000000  \n",
       "max        4.000000      1.00000      1.000000     199992.480000      1.000000  "
      ]
     },
     "execution_count": 4,
     "metadata": {},
     "output_type": "execute_result"
    }
   ],
   "source": [
    "bank.describe()"
   ]
  },
  {
   "cell_type": "code",
   "execution_count": 5,
   "metadata": {},
   "outputs": [
    {
     "data": {
      "image/png": "[encoded data removed]",
      "text/plain": [
       "<Figure size 1152x864 with 9 Axes>"
      ]
     },
     "metadata": {
      "needs_background": "light"
     },
     "output_type": "display_data"
    }
   ],
   "source": [
    "bank.drop('userid', axis=1).hist(figsize= (16,12));"
   ]
  },
  {
   "cell_type": "markdown",
   "metadata": {},
   "source": [
    "### Вывод"
   ]
  },
  {
   "cell_type": "markdown",
   "metadata": {},
   "source": [
    "Для исследования у нас имеется таблица, состоящая из 10000 строк и 12 столбцов, содержащая информацию о клиентах Банка. В столбце Balance имеются 3617 незаполненных ячеек (природу их появления изучим в дальнейшем), типы данных соответствуют содержащимся значениям. На первый взгляд аномальные значения отсутствуют. Для удобства можно привести названия столбцов к единому образцу."
   ]
  },
  {
   "cell_type": "markdown",
   "metadata": {},
   "source": [
    "## Предобработка данных"
   ]
  },
  {
   "cell_type": "code",
   "execution_count": 6,
   "metadata": {},
   "outputs": [],
   "source": [
    "# Для удобства приведем названия столбцов к единому образцу\n",
    "bank.columns = bank.columns.str.lower()\n",
    "bank = bank.rename(columns={'creditcard' : 'credit_card'})"
   ]
  },
  {
   "cell_type": "code",
   "execution_count": 7,
   "metadata": {},
   "outputs": [
    {
     "data": {
      "text/plain": [
       "0"
      ]
     },
     "execution_count": 7,
     "metadata": {},
     "output_type": "execute_result"
    }
   ],
   "source": [
    "# Проверим на наличие дубликатов\n",
    "bank.duplicated().sum()"
   ]
  },
  {
   "cell_type": "code",
   "execution_count": 8,
   "metadata": {},
   "outputs": [],
   "source": [
    "# Для удобства дальнейшего анализа, переведем категориальные данные о городе и поле в поля с бинарными занчениями\n",
    "bank_without_categorical = pd.get_dummies(bank)"
   ]
  },
  {
   "cell_type": "markdown",
   "metadata": {},
   "source": [
    "### Анализ и работа с пропусками в данных о балансе"
   ]
  },
  {
   "cell_type": "code",
   "execution_count": 9,
   "metadata": {
    "scrolled": false
   },
   "outputs": [
    {
     "data": {
      "text/html": [
       "<div>\n",
       "<style scoped>\n",
       "    .dataframe tbody tr th:only-of-type {\n",
       "        vertical-align: middle;\n",
       "    }\n",
       "\n",
       "    .dataframe tbody tr th {\n",
       "        vertical-align: top;\n",
       "    }\n",
       "\n",
       "    .dataframe thead th {\n",
       "        text-align: right;\n",
       "    }\n",
       "</style>\n",
       "<table border=\"1\" class=\"dataframe\">\n",
       "  <thead>\n",
       "    <tr style=\"text-align: right;\">\n",
       "      <th></th>\n",
       "      <th>userid</th>\n",
       "      <th>score</th>\n",
       "      <th>age</th>\n",
       "      <th>objects</th>\n",
       "      <th>balance</th>\n",
       "      <th>products</th>\n",
       "      <th>credit_card</th>\n",
       "      <th>loyalty</th>\n",
       "      <th>estimated_salary</th>\n",
       "      <th>churn</th>\n",
       "      <th>city_Ростов Великий</th>\n",
       "      <th>city_Рыбинск</th>\n",
       "      <th>city_Ярославль</th>\n",
       "      <th>gender_Ж</th>\n",
       "      <th>gender_М</th>\n",
       "    </tr>\n",
       "  </thead>\n",
       "  <tbody>\n",
       "    <tr>\n",
       "      <th>count</th>\n",
       "      <td>3.617000e+03</td>\n",
       "      <td>3617.000000</td>\n",
       "      <td>3617.000000</td>\n",
       "      <td>3617.000000</td>\n",
       "      <td>0.0</td>\n",
       "      <td>3617.000000</td>\n",
       "      <td>3617.000000</td>\n",
       "      <td>3617.000000</td>\n",
       "      <td>3617.000000</td>\n",
       "      <td>3617.000000</td>\n",
       "      <td>3617.0</td>\n",
       "      <td>3617.000000</td>\n",
       "      <td>3617.000000</td>\n",
       "      <td>3617.000000</td>\n",
       "      <td>3617.000000</td>\n",
       "    </tr>\n",
       "    <tr>\n",
       "      <th>mean</th>\n",
       "      <td>1.573469e+07</td>\n",
       "      <td>649.452861</td>\n",
       "      <td>38.434891</td>\n",
       "      <td>5.071330</td>\n",
       "      <td>NaN</td>\n",
       "      <td>1.784628</td>\n",
       "      <td>0.716616</td>\n",
       "      <td>0.517832</td>\n",
       "      <td>98983.559549</td>\n",
       "      <td>0.138236</td>\n",
       "      <td>0.0</td>\n",
       "      <td>0.331490</td>\n",
       "      <td>0.668510</td>\n",
       "      <td>0.457285</td>\n",
       "      <td>0.542715</td>\n",
       "    </tr>\n",
       "    <tr>\n",
       "      <th>std</th>\n",
       "      <td>7.194749e+04</td>\n",
       "      <td>96.158798</td>\n",
       "      <td>10.492002</td>\n",
       "      <td>2.860781</td>\n",
       "      <td>NaN</td>\n",
       "      <td>0.496455</td>\n",
       "      <td>0.450704</td>\n",
       "      <td>0.499751</td>\n",
       "      <td>57730.828955</td>\n",
       "      <td>0.345195</td>\n",
       "      <td>0.0</td>\n",
       "      <td>0.470814</td>\n",
       "      <td>0.470814</td>\n",
       "      <td>0.498241</td>\n",
       "      <td>0.498241</td>\n",
       "    </tr>\n",
       "    <tr>\n",
       "      <th>min</th>\n",
       "      <td>1.560844e+07</td>\n",
       "      <td>350.000000</td>\n",
       "      <td>18.000000</td>\n",
       "      <td>0.000000</td>\n",
       "      <td>NaN</td>\n",
       "      <td>1.000000</td>\n",
       "      <td>0.000000</td>\n",
       "      <td>0.000000</td>\n",
       "      <td>90.070000</td>\n",
       "      <td>0.000000</td>\n",
       "      <td>0.0</td>\n",
       "      <td>0.000000</td>\n",
       "      <td>0.000000</td>\n",
       "      <td>0.000000</td>\n",
       "      <td>0.000000</td>\n",
       "    </tr>\n",
       "    <tr>\n",
       "      <th>25%</th>\n",
       "      <td>1.567226e+07</td>\n",
       "      <td>583.000000</td>\n",
       "      <td>31.000000</td>\n",
       "      <td>3.000000</td>\n",
       "      <td>NaN</td>\n",
       "      <td>1.000000</td>\n",
       "      <td>0.000000</td>\n",
       "      <td>0.000000</td>\n",
       "      <td>49506.820000</td>\n",
       "      <td>0.000000</td>\n",
       "      <td>0.0</td>\n",
       "      <td>0.000000</td>\n",
       "      <td>0.000000</td>\n",
       "      <td>0.000000</td>\n",
       "      <td>0.000000</td>\n",
       "    </tr>\n",
       "    <tr>\n",
       "      <th>50%</th>\n",
       "      <td>1.573608e+07</td>\n",
       "      <td>651.000000</td>\n",
       "      <td>37.000000</td>\n",
       "      <td>5.000000</td>\n",
       "      <td>NaN</td>\n",
       "      <td>2.000000</td>\n",
       "      <td>1.000000</td>\n",
       "      <td>1.000000</td>\n",
       "      <td>98618.790000</td>\n",
       "      <td>0.000000</td>\n",
       "      <td>0.0</td>\n",
       "      <td>0.000000</td>\n",
       "      <td>1.000000</td>\n",
       "      <td>0.000000</td>\n",
       "      <td>1.000000</td>\n",
       "    </tr>\n",
       "    <tr>\n",
       "      <th>75%</th>\n",
       "      <td>1.579629e+07</td>\n",
       "      <td>717.000000</td>\n",
       "      <td>43.000000</td>\n",
       "      <td>7.000000</td>\n",
       "      <td>NaN</td>\n",
       "      <td>2.000000</td>\n",
       "      <td>1.000000</td>\n",
       "      <td>1.000000</td>\n",
       "      <td>148330.970000</td>\n",
       "      <td>0.000000</td>\n",
       "      <td>0.0</td>\n",
       "      <td>1.000000</td>\n",
       "      <td>1.000000</td>\n",
       "      <td>1.000000</td>\n",
       "      <td>1.000000</td>\n",
       "    </tr>\n",
       "    <tr>\n",
       "      <th>max</th>\n",
       "      <td>1.585810e+07</td>\n",
       "      <td>850.000000</td>\n",
       "      <td>88.000000</td>\n",
       "      <td>10.000000</td>\n",
       "      <td>NaN</td>\n",
       "      <td>4.000000</td>\n",
       "      <td>1.000000</td>\n",
       "      <td>1.000000</td>\n",
       "      <td>199992.480000</td>\n",
       "      <td>1.000000</td>\n",
       "      <td>0.0</td>\n",
       "      <td>1.000000</td>\n",
       "      <td>1.000000</td>\n",
       "      <td>1.000000</td>\n",
       "      <td>1.000000</td>\n",
       "    </tr>\n",
       "  </tbody>\n",
       "</table>\n",
       "</div>"
      ],
      "text/plain": [
       "             userid        score          age      objects  balance  \\\n",
       "count  3.617000e+03  3617.000000  3617.000000  3617.000000      0.0   \n",
       "mean   1.573469e+07   649.452861    38.434891     5.071330      NaN   \n",
       "std    7.194749e+04    96.158798    10.492002     2.860781      NaN   \n",
       "min    1.560844e+07   350.000000    18.000000     0.000000      NaN   \n",
       "25%    1.567226e+07   583.000000    31.000000     3.000000      NaN   \n",
       "50%    1.573608e+07   651.000000    37.000000     5.000000      NaN   \n",
       "75%    1.579629e+07   717.000000    43.000000     7.000000      NaN   \n",
       "max    1.585810e+07   850.000000    88.000000    10.000000      NaN   \n",
       "\n",
       "          products  credit_card      loyalty  estimated_salary        churn  \\\n",
       "count  3617.000000  3617.000000  3617.000000       3617.000000  3617.000000   \n",
       "mean      1.784628     0.716616     0.517832      98983.559549     0.138236   \n",
       "std       0.496455     0.450704     0.499751      57730.828955     0.345195   \n",
       "min       1.000000     0.000000     0.000000         90.070000     0.000000   \n",
       "25%       1.000000     0.000000     0.000000      49506.820000     0.000000   \n",
       "50%       2.000000     1.000000     1.000000      98618.790000     0.000000   \n",
       "75%       2.000000     1.000000     1.000000     148330.970000     0.000000   \n",
       "max       4.000000     1.000000     1.000000     199992.480000     1.000000   \n",
       "\n",
       "       city_Ростов Великий  city_Рыбинск  city_Ярославль     gender_Ж  \\\n",
       "count               3617.0   3617.000000     3617.000000  3617.000000   \n",
       "mean                   0.0      0.331490        0.668510     0.457285   \n",
       "std                    0.0      0.470814        0.470814     0.498241   \n",
       "min                    0.0      0.000000        0.000000     0.000000   \n",
       "25%                    0.0      0.000000        0.000000     0.000000   \n",
       "50%                    0.0      0.000000        1.000000     0.000000   \n",
       "75%                    0.0      1.000000        1.000000     1.000000   \n",
       "max                    0.0      1.000000        1.000000     1.000000   \n",
       "\n",
       "          gender_М  \n",
       "count  3617.000000  \n",
       "mean      0.542715  \n",
       "std       0.498241  \n",
       "min       0.000000  \n",
       "25%       0.000000  \n",
       "50%       1.000000  \n",
       "75%       1.000000  \n",
       "max       1.000000  "
      ]
     },
     "execution_count": 9,
     "metadata": {},
     "output_type": "execute_result"
    }
   ],
   "source": [
    "# Проверим средние значения признаков клиентов с отсутствующими данными о балансе\n",
    "bank_without_categorical.query('balance.isna()').describe()"
   ]
  },
  {
   "cell_type": "markdown",
   "metadata": {},
   "source": [
    "Средние значения клиентов с пропусками в балансе не имеют ярких особенностей, отсутствуют аномалии на которые можно было бы обратить внимание. Можно лишь обратить внимание на то, что в Ростове Великом у всех клиентов есть информация о балансе, а вот больше половины Ярославских клиентов информации о балансе в анкете не имеют."
   ]
  },
  {
   "cell_type": "code",
   "execution_count": 10,
   "metadata": {},
   "outputs": [],
   "source": [
    "# Создадим таблицу, исключив из нее строки с пропусками\n",
    "filled_bank = bank_without_categorical.query('balance.notnull()')"
   ]
  },
  {
   "cell_type": "code",
   "execution_count": 11,
   "metadata": {},
   "outputs": [
    {
     "data": {
      "text/html": [
       "<div>\n",
       "<style scoped>\n",
       "    .dataframe tbody tr th:only-of-type {\n",
       "        vertical-align: middle;\n",
       "    }\n",
       "\n",
       "    .dataframe tbody tr th {\n",
       "        vertical-align: top;\n",
       "    }\n",
       "\n",
       "    .dataframe thead th {\n",
       "        text-align: right;\n",
       "    }\n",
       "</style>\n",
       "<table border=\"1\" class=\"dataframe\">\n",
       "  <thead>\n",
       "    <tr style=\"text-align: right;\">\n",
       "      <th></th>\n",
       "      <th>userid</th>\n",
       "      <th>score</th>\n",
       "      <th>age</th>\n",
       "      <th>objects</th>\n",
       "      <th>balance</th>\n",
       "      <th>products</th>\n",
       "      <th>credit_card</th>\n",
       "      <th>loyalty</th>\n",
       "      <th>estimated_salary</th>\n",
       "      <th>churn</th>\n",
       "      <th>city_Ростов Великий</th>\n",
       "      <th>city_Рыбинск</th>\n",
       "      <th>city_Ярославль</th>\n",
       "      <th>gender_Ж</th>\n",
       "      <th>gender_М</th>\n",
       "    </tr>\n",
       "  </thead>\n",
       "  <tbody>\n",
       "    <tr>\n",
       "      <th>count</th>\n",
       "      <td>10000.00</td>\n",
       "      <td>10000.00</td>\n",
       "      <td>10000.00</td>\n",
       "      <td>10000.00</td>\n",
       "      <td>6383.00</td>\n",
       "      <td>10000.00</td>\n",
       "      <td>10000.00</td>\n",
       "      <td>10000.00</td>\n",
       "      <td>10000.00</td>\n",
       "      <td>10000.0</td>\n",
       "      <td>10000.00</td>\n",
       "      <td>10000.00</td>\n",
       "      <td>10000.0</td>\n",
       "      <td>10000.00</td>\n",
       "      <td>10000.00</td>\n",
       "    </tr>\n",
       "    <tr>\n",
       "      <th>mean</th>\n",
       "      <td>15733676.57</td>\n",
       "      <td>650.53</td>\n",
       "      <td>38.92</td>\n",
       "      <td>5.01</td>\n",
       "      <td>119827.49</td>\n",
       "      <td>1.53</td>\n",
       "      <td>0.71</td>\n",
       "      <td>0.52</td>\n",
       "      <td>100090.24</td>\n",
       "      <td>0.2</td>\n",
       "      <td>0.25</td>\n",
       "      <td>0.25</td>\n",
       "      <td>0.5</td>\n",
       "      <td>0.45</td>\n",
       "      <td>0.55</td>\n",
       "    </tr>\n",
       "    <tr>\n",
       "      <th>std</th>\n",
       "      <td>71936.19</td>\n",
       "      <td>96.65</td>\n",
       "      <td>10.49</td>\n",
       "      <td>2.89</td>\n",
       "      <td>30095.06</td>\n",
       "      <td>0.58</td>\n",
       "      <td>0.46</td>\n",
       "      <td>0.50</td>\n",
       "      <td>57510.49</td>\n",
       "      <td>0.4</td>\n",
       "      <td>0.43</td>\n",
       "      <td>0.43</td>\n",
       "      <td>0.5</td>\n",
       "      <td>0.50</td>\n",
       "      <td>0.50</td>\n",
       "    </tr>\n",
       "    <tr>\n",
       "      <th>min</th>\n",
       "      <td>15608437.00</td>\n",
       "      <td>350.00</td>\n",
       "      <td>18.00</td>\n",
       "      <td>0.00</td>\n",
       "      <td>3768.69</td>\n",
       "      <td>1.00</td>\n",
       "      <td>0.00</td>\n",
       "      <td>0.00</td>\n",
       "      <td>11.58</td>\n",
       "      <td>0.0</td>\n",
       "      <td>0.00</td>\n",
       "      <td>0.00</td>\n",
       "      <td>0.0</td>\n",
       "      <td>0.00</td>\n",
       "      <td>0.00</td>\n",
       "    </tr>\n",
       "    <tr>\n",
       "      <th>25%</th>\n",
       "      <td>15671264.25</td>\n",
       "      <td>584.00</td>\n",
       "      <td>32.00</td>\n",
       "      <td>3.00</td>\n",
       "      <td>100181.98</td>\n",
       "      <td>1.00</td>\n",
       "      <td>0.00</td>\n",
       "      <td>0.00</td>\n",
       "      <td>51002.11</td>\n",
       "      <td>0.0</td>\n",
       "      <td>0.00</td>\n",
       "      <td>0.00</td>\n",
       "      <td>0.0</td>\n",
       "      <td>0.00</td>\n",
       "      <td>0.00</td>\n",
       "    </tr>\n",
       "    <tr>\n",
       "      <th>50%</th>\n",
       "      <td>15733474.00</td>\n",
       "      <td>652.00</td>\n",
       "      <td>37.00</td>\n",
       "      <td>5.00</td>\n",
       "      <td>119839.69</td>\n",
       "      <td>1.00</td>\n",
       "      <td>1.00</td>\n",
       "      <td>1.00</td>\n",
       "      <td>100193.92</td>\n",
       "      <td>0.0</td>\n",
       "      <td>0.00</td>\n",
       "      <td>0.00</td>\n",
       "      <td>1.0</td>\n",
       "      <td>0.00</td>\n",
       "      <td>1.00</td>\n",
       "    </tr>\n",
       "    <tr>\n",
       "      <th>75%</th>\n",
       "      <td>15795969.75</td>\n",
       "      <td>718.00</td>\n",
       "      <td>44.00</td>\n",
       "      <td>7.00</td>\n",
       "      <td>139512.29</td>\n",
       "      <td>2.00</td>\n",
       "      <td>1.00</td>\n",
       "      <td>1.00</td>\n",
       "      <td>149388.25</td>\n",
       "      <td>0.0</td>\n",
       "      <td>1.00</td>\n",
       "      <td>0.00</td>\n",
       "      <td>1.0</td>\n",
       "      <td>1.00</td>\n",
       "      <td>1.00</td>\n",
       "    </tr>\n",
       "    <tr>\n",
       "      <th>max</th>\n",
       "      <td>15858426.00</td>\n",
       "      <td>850.00</td>\n",
       "      <td>92.00</td>\n",
       "      <td>10.00</td>\n",
       "      <td>250898.09</td>\n",
       "      <td>4.00</td>\n",
       "      <td>1.00</td>\n",
       "      <td>1.00</td>\n",
       "      <td>199992.48</td>\n",
       "      <td>1.0</td>\n",
       "      <td>1.00</td>\n",
       "      <td>1.00</td>\n",
       "      <td>1.0</td>\n",
       "      <td>1.00</td>\n",
       "      <td>1.00</td>\n",
       "    </tr>\n",
       "  </tbody>\n",
       "</table>\n",
       "</div>"
      ],
      "text/plain": [
       "            userid     score       age   objects    balance  products  \\\n",
       "count     10000.00  10000.00  10000.00  10000.00    6383.00  10000.00   \n",
       "mean   15733676.57    650.53     38.92      5.01  119827.49      1.53   \n",
       "std       71936.19     96.65     10.49      2.89   30095.06      0.58   \n",
       "min    15608437.00    350.00     18.00      0.00    3768.69      1.00   \n",
       "25%    15671264.25    584.00     32.00      3.00  100181.98      1.00   \n",
       "50%    15733474.00    652.00     37.00      5.00  119839.69      1.00   \n",
       "75%    15795969.75    718.00     44.00      7.00  139512.29      2.00   \n",
       "max    15858426.00    850.00     92.00     10.00  250898.09      4.00   \n",
       "\n",
       "       credit_card   loyalty  estimated_salary    churn  city_Ростов Великий  \\\n",
       "count     10000.00  10000.00          10000.00  10000.0             10000.00   \n",
       "mean          0.71      0.52         100090.24      0.2                 0.25   \n",
       "std           0.46      0.50          57510.49      0.4                 0.43   \n",
       "min           0.00      0.00             11.58      0.0                 0.00   \n",
       "25%           0.00      0.00          51002.11      0.0                 0.00   \n",
       "50%           1.00      1.00         100193.92      0.0                 0.00   \n",
       "75%           1.00      1.00         149388.25      0.0                 1.00   \n",
       "max           1.00      1.00         199992.48      1.0                 1.00   \n",
       "\n",
       "       city_Рыбинск  city_Ярославль  gender_Ж  gender_М  \n",
       "count      10000.00         10000.0  10000.00  10000.00  \n",
       "mean           0.25             0.5      0.45      0.55  \n",
       "std            0.43             0.5      0.50      0.50  \n",
       "min            0.00             0.0      0.00      0.00  \n",
       "25%            0.00             0.0      0.00      0.00  \n",
       "50%            0.00             1.0      0.00      1.00  \n",
       "75%            0.00             1.0      1.00      1.00  \n",
       "max            1.00             1.0      1.00      1.00  "
      ]
     },
     "execution_count": 11,
     "metadata": {},
     "output_type": "execute_result"
    },
    {
     "data": {
      "text/html": [
       "<div>\n",
       "<style scoped>\n",
       "    .dataframe tbody tr th:only-of-type {\n",
       "        vertical-align: middle;\n",
       "    }\n",
       "\n",
       "    .dataframe tbody tr th {\n",
       "        vertical-align: top;\n",
       "    }\n",
       "\n",
       "    .dataframe thead th {\n",
       "        text-align: right;\n",
       "    }\n",
       "</style>\n",
       "<table border=\"1\" class=\"dataframe\">\n",
       "  <thead>\n",
       "    <tr style=\"text-align: right;\">\n",
       "      <th></th>\n",
       "      <th>userid</th>\n",
       "      <th>score</th>\n",
       "      <th>age</th>\n",
       "      <th>objects</th>\n",
       "      <th>balance</th>\n",
       "      <th>products</th>\n",
       "      <th>credit_card</th>\n",
       "      <th>loyalty</th>\n",
       "      <th>estimated_salary</th>\n",
       "      <th>churn</th>\n",
       "      <th>city_Ростов Великий</th>\n",
       "      <th>city_Рыбинск</th>\n",
       "      <th>city_Ярославль</th>\n",
       "      <th>gender_Ж</th>\n",
       "      <th>gender_М</th>\n",
       "    </tr>\n",
       "  </thead>\n",
       "  <tbody>\n",
       "    <tr>\n",
       "      <th>count</th>\n",
       "      <td>6383.00</td>\n",
       "      <td>6383.00</td>\n",
       "      <td>6383.00</td>\n",
       "      <td>6383.00</td>\n",
       "      <td>6383.00</td>\n",
       "      <td>6383.00</td>\n",
       "      <td>6383.00</td>\n",
       "      <td>6383.00</td>\n",
       "      <td>6383.00</td>\n",
       "      <td>6383.00</td>\n",
       "      <td>6383.00</td>\n",
       "      <td>6383.0</td>\n",
       "      <td>6383.00</td>\n",
       "      <td>6383.00</td>\n",
       "      <td>6383.00</td>\n",
       "    </tr>\n",
       "    <tr>\n",
       "      <th>mean</th>\n",
       "      <td>15733104.80</td>\n",
       "      <td>651.14</td>\n",
       "      <td>39.20</td>\n",
       "      <td>4.98</td>\n",
       "      <td>119827.49</td>\n",
       "      <td>1.39</td>\n",
       "      <td>0.70</td>\n",
       "      <td>0.51</td>\n",
       "      <td>100717.35</td>\n",
       "      <td>0.24</td>\n",
       "      <td>0.39</td>\n",
       "      <td>0.2</td>\n",
       "      <td>0.41</td>\n",
       "      <td>0.45</td>\n",
       "      <td>0.55</td>\n",
       "    </tr>\n",
       "    <tr>\n",
       "      <th>std</th>\n",
       "      <td>71929.13</td>\n",
       "      <td>96.93</td>\n",
       "      <td>10.48</td>\n",
       "      <td>2.91</td>\n",
       "      <td>30095.06</td>\n",
       "      <td>0.58</td>\n",
       "      <td>0.46</td>\n",
       "      <td>0.50</td>\n",
       "      <td>57380.32</td>\n",
       "      <td>0.43</td>\n",
       "      <td>0.49</td>\n",
       "      <td>0.4</td>\n",
       "      <td>0.49</td>\n",
       "      <td>0.50</td>\n",
       "      <td>0.50</td>\n",
       "    </tr>\n",
       "    <tr>\n",
       "      <th>min</th>\n",
       "      <td>15608437.00</td>\n",
       "      <td>350.00</td>\n",
       "      <td>18.00</td>\n",
       "      <td>0.00</td>\n",
       "      <td>3768.69</td>\n",
       "      <td>1.00</td>\n",
       "      <td>0.00</td>\n",
       "      <td>0.00</td>\n",
       "      <td>11.58</td>\n",
       "      <td>0.00</td>\n",
       "      <td>0.00</td>\n",
       "      <td>0.0</td>\n",
       "      <td>0.00</td>\n",
       "      <td>0.00</td>\n",
       "      <td>0.00</td>\n",
       "    </tr>\n",
       "    <tr>\n",
       "      <th>25%</th>\n",
       "      <td>15670940.00</td>\n",
       "      <td>584.00</td>\n",
       "      <td>32.00</td>\n",
       "      <td>2.00</td>\n",
       "      <td>100181.98</td>\n",
       "      <td>1.00</td>\n",
       "      <td>0.00</td>\n",
       "      <td>0.00</td>\n",
       "      <td>51736.85</td>\n",
       "      <td>0.00</td>\n",
       "      <td>0.00</td>\n",
       "      <td>0.0</td>\n",
       "      <td>0.00</td>\n",
       "      <td>0.00</td>\n",
       "      <td>0.00</td>\n",
       "    </tr>\n",
       "    <tr>\n",
       "      <th>50%</th>\n",
       "      <td>15732262.00</td>\n",
       "      <td>652.00</td>\n",
       "      <td>38.00</td>\n",
       "      <td>5.00</td>\n",
       "      <td>119839.69</td>\n",
       "      <td>1.00</td>\n",
       "      <td>1.00</td>\n",
       "      <td>1.00</td>\n",
       "      <td>101139.30</td>\n",
       "      <td>0.00</td>\n",
       "      <td>0.00</td>\n",
       "      <td>0.0</td>\n",
       "      <td>0.00</td>\n",
       "      <td>0.00</td>\n",
       "      <td>1.00</td>\n",
       "    </tr>\n",
       "    <tr>\n",
       "      <th>75%</th>\n",
       "      <td>15795842.00</td>\n",
       "      <td>718.00</td>\n",
       "      <td>44.00</td>\n",
       "      <td>8.00</td>\n",
       "      <td>139512.29</td>\n",
       "      <td>2.00</td>\n",
       "      <td>1.00</td>\n",
       "      <td>1.00</td>\n",
       "      <td>149596.62</td>\n",
       "      <td>0.00</td>\n",
       "      <td>1.00</td>\n",
       "      <td>0.0</td>\n",
       "      <td>1.00</td>\n",
       "      <td>1.00</td>\n",
       "      <td>1.00</td>\n",
       "    </tr>\n",
       "    <tr>\n",
       "      <th>max</th>\n",
       "      <td>15858426.00</td>\n",
       "      <td>850.00</td>\n",
       "      <td>92.00</td>\n",
       "      <td>10.00</td>\n",
       "      <td>250898.09</td>\n",
       "      <td>4.00</td>\n",
       "      <td>1.00</td>\n",
       "      <td>1.00</td>\n",
       "      <td>199970.74</td>\n",
       "      <td>1.00</td>\n",
       "      <td>1.00</td>\n",
       "      <td>1.0</td>\n",
       "      <td>1.00</td>\n",
       "      <td>1.00</td>\n",
       "      <td>1.00</td>\n",
       "    </tr>\n",
       "  </tbody>\n",
       "</table>\n",
       "</div>"
      ],
      "text/plain": [
       "            userid    score      age  objects    balance  products  \\\n",
       "count      6383.00  6383.00  6383.00  6383.00    6383.00   6383.00   \n",
       "mean   15733104.80   651.14    39.20     4.98  119827.49      1.39   \n",
       "std       71929.13    96.93    10.48     2.91   30095.06      0.58   \n",
       "min    15608437.00   350.00    18.00     0.00    3768.69      1.00   \n",
       "25%    15670940.00   584.00    32.00     2.00  100181.98      1.00   \n",
       "50%    15732262.00   652.00    38.00     5.00  119839.69      1.00   \n",
       "75%    15795842.00   718.00    44.00     8.00  139512.29      2.00   \n",
       "max    15858426.00   850.00    92.00    10.00  250898.09      4.00   \n",
       "\n",
       "       credit_card  loyalty  estimated_salary    churn  city_Ростов Великий  \\\n",
       "count      6383.00  6383.00           6383.00  6383.00              6383.00   \n",
       "mean          0.70     0.51         100717.35     0.24                 0.39   \n",
       "std           0.46     0.50          57380.32     0.43                 0.49   \n",
       "min           0.00     0.00             11.58     0.00                 0.00   \n",
       "25%           0.00     0.00          51736.85     0.00                 0.00   \n",
       "50%           1.00     1.00         101139.30     0.00                 0.00   \n",
       "75%           1.00     1.00         149596.62     0.00                 1.00   \n",
       "max           1.00     1.00         199970.74     1.00                 1.00   \n",
       "\n",
       "       city_Рыбинск  city_Ярославль  gender_Ж  gender_М  \n",
       "count        6383.0         6383.00   6383.00   6383.00  \n",
       "mean            0.2            0.41      0.45      0.55  \n",
       "std             0.4            0.49      0.50      0.50  \n",
       "min             0.0            0.00      0.00      0.00  \n",
       "25%             0.0            0.00      0.00      0.00  \n",
       "50%             0.0            0.00      0.00      1.00  \n",
       "75%             0.0            1.00      1.00      1.00  \n",
       "max             1.0            1.00      1.00      1.00  "
      ]
     },
     "execution_count": 11,
     "metadata": {},
     "output_type": "execute_result"
    }
   ],
   "source": [
    "# Сравним значения таблиц\n",
    "bank_without_categorical.describe().round(2)\n",
    "filled_bank.describe().round(2)"
   ]
  },
  {
   "cell_type": "markdown",
   "metadata": {},
   "source": [
    "Средние и медианные у двух таблиц практически одинаковы."
   ]
  },
  {
   "cell_type": "code",
   "execution_count": 12,
   "metadata": {},
   "outputs": [
    {
     "data": {
      "image/png": "[encoded data removed]",
      "text/plain": [
       "<Figure size 1296x1080 with 8 Axes>"
      ]
     },
     "metadata": {
      "needs_background": "light"
     },
     "output_type": "display_data"
    }
   ],
   "source": [
    "# Построим графики распределения числовых значений для двух таблиц\n",
    "plt.figure(figsize=(18, 15))\n",
    "plt.subplots_adjust(hspace=0.5)\n",
    "plt.suptitle(\"Распределение числовых значений для основной таблицы и таблицы с пропусками в балансе\", fontsize=18, y=0.95)\n",
    "for n, col in enumerate(bank.select_dtypes(include=np.number).drop(['userid', 'balance'], axis=1).columns):\n",
    "    ax = plt.subplot(3, 3, n + 1)\n",
    "    \n",
    "    bank.plot(kind='hist', y=col, alpha=0.7, label='С пропусками', ax=ax, title=col)\n",
    "    filled_bank.plot(kind='hist', y=col, alpha=0.5, label='Без пропусков', ax=ax, grid=True, legend=True)\n",
    "    \n",
    "    ax.set_title(col.upper())\n",
    "    ax.set_xlabel(\"\")\n",
    "plt.show();"
   ]
  },
  {
   "cell_type": "markdown",
   "metadata": {},
   "source": [
    "Визуально данные в двух таблицах распределены пропорционально друг к другу. Аномальных значений или исключительных признаков, присущих тому или иному датафрейму, не выявлено."
   ]
  },
  {
   "cell_type": "markdown",
   "metadata": {},
   "source": [
    "### Вывод"
   ]
  },
  {
   "cell_type": "markdown",
   "metadata": {},
   "source": [
    "Сравнив данные клиентов, у которых отсутствует информация о балансе с данными всех клиентов, значимых различий в их распределении мы не заметили. Из этого можно сделать вывод, что клиенты с отсутствующим балансом не являются определенной категорией клиентов (по крайней мере исходя из имеющихся признаков) с присущими им исключительными признаками или особенностями. Во избежание искажения данных мы не будем заполнять пропуски какими-либо значениями, а при необходимости будем пользоваться выборкой из 6383 строк с заполненными данными. Несмотря на это, можно предположить, что у работников офисов, расположенных в Ярославле, имеются проблемы со сбором информации о балансе клиента. Если это действительно так, то для работников из Ярославля стоит провести соответствующие занятия на основе опыта Ростовских коллег, у которых со сбором информации проблем нет."
   ]
  },
  {
   "cell_type": "markdown",
   "metadata": {},
   "source": [
    "## Исследовательский анализ данных (EDA)"
   ]
  },
  {
   "cell_type": "markdown",
   "metadata": {},
   "source": [
    "### Анализ оттока клиентов"
   ]
  },
  {
   "cell_type": "code",
   "execution_count": 13,
   "metadata": {
    "scrolled": true
   },
   "outputs": [
    {
     "data": {
      "text/plain": [
       "0    7963\n",
       "1    2037\n",
       "Name: churn, dtype: int64"
      ]
     },
     "execution_count": 13,
     "metadata": {},
     "output_type": "execute_result"
    }
   ],
   "source": [
    "bank.churn.value_counts()"
   ]
  },
  {
   "cell_type": "markdown",
   "metadata": {},
   "source": [
    "Ушедшие клиенты составляют лишь пятую часть всей выборки (2037)."
   ]
  },
  {
   "cell_type": "code",
   "execution_count": 14,
   "metadata": {},
   "outputs": [
    {
     "data": {
      "text/html": [
       "<div>\n",
       "<style scoped>\n",
       "    .dataframe tbody tr th:only-of-type {\n",
       "        vertical-align: middle;\n",
       "    }\n",
       "\n",
       "    .dataframe tbody tr th {\n",
       "        vertical-align: top;\n",
       "    }\n",
       "\n",
       "    .dataframe thead th {\n",
       "        text-align: right;\n",
       "    }\n",
       "</style>\n",
       "<table border=\"1\" class=\"dataframe\">\n",
       "  <thead>\n",
       "    <tr style=\"text-align: right;\">\n",
       "      <th>churn</th>\n",
       "      <th>0</th>\n",
       "      <th>1</th>\n",
       "    </tr>\n",
       "  </thead>\n",
       "  <tbody>\n",
       "    <tr>\n",
       "      <th>score</th>\n",
       "      <td>651.85</td>\n",
       "      <td>645.35</td>\n",
       "    </tr>\n",
       "    <tr>\n",
       "      <th>age</th>\n",
       "      <td>37.41</td>\n",
       "      <td>44.84</td>\n",
       "    </tr>\n",
       "    <tr>\n",
       "      <th>objects</th>\n",
       "      <td>5.03</td>\n",
       "      <td>4.93</td>\n",
       "    </tr>\n",
       "    <tr>\n",
       "      <th>balance</th>\n",
       "      <td>119535.86</td>\n",
       "      <td>120746.97</td>\n",
       "    </tr>\n",
       "    <tr>\n",
       "      <th>products</th>\n",
       "      <td>1.54</td>\n",
       "      <td>1.48</td>\n",
       "    </tr>\n",
       "    <tr>\n",
       "      <th>credit_card</th>\n",
       "      <td>0.71</td>\n",
       "      <td>0.70</td>\n",
       "    </tr>\n",
       "    <tr>\n",
       "      <th>loyalty</th>\n",
       "      <td>0.55</td>\n",
       "      <td>0.36</td>\n",
       "    </tr>\n",
       "    <tr>\n",
       "      <th>estimated_salary</th>\n",
       "      <td>99738.39</td>\n",
       "      <td>101465.68</td>\n",
       "    </tr>\n",
       "    <tr>\n",
       "      <th>city_Ростов Великий</th>\n",
       "      <td>0.21</td>\n",
       "      <td>0.40</td>\n",
       "    </tr>\n",
       "    <tr>\n",
       "      <th>city_Рыбинск</th>\n",
       "      <td>0.26</td>\n",
       "      <td>0.20</td>\n",
       "    </tr>\n",
       "    <tr>\n",
       "      <th>city_Ярославль</th>\n",
       "      <td>0.53</td>\n",
       "      <td>0.40</td>\n",
       "    </tr>\n",
       "    <tr>\n",
       "      <th>gender_Ж</th>\n",
       "      <td>0.43</td>\n",
       "      <td>0.56</td>\n",
       "    </tr>\n",
       "    <tr>\n",
       "      <th>gender_М</th>\n",
       "      <td>0.57</td>\n",
       "      <td>0.44</td>\n",
       "    </tr>\n",
       "  </tbody>\n",
       "</table>\n",
       "</div>"
      ],
      "text/plain": [
       "churn                        0          1\n",
       "score                   651.85     645.35\n",
       "age                      37.41      44.84\n",
       "objects                   5.03       4.93\n",
       "balance              119535.86  120746.97\n",
       "products                  1.54       1.48\n",
       "credit_card               0.71       0.70\n",
       "loyalty                   0.55       0.36\n",
       "estimated_salary      99738.39  101465.68\n",
       "city_Ростов Великий       0.21       0.40\n",
       "city_Рыбинск              0.26       0.20\n",
       "city_Ярославль            0.53       0.40\n",
       "gender_Ж                  0.43       0.56\n",
       "gender_М                  0.57       0.44"
      ]
     },
     "execution_count": 14,
     "metadata": {},
     "output_type": "execute_result"
    }
   ],
   "source": [
    "# Сгруппируем по оттоку и посмотрим на средние значения\n",
    "bank_without_categorical.drop('userid', axis=1).groupby('churn').mean().T.round(2)"
   ]
  },
  {
   "cell_type": "markdown",
   "metadata": {},
   "source": [
    "Из явных различий двух групп можно отметить средний возраст ушедших - 45 лет к 37 годам у оставшихся и активность ушедших - 0.36 к 0.55 у оставшихся пользователей. Также клиенты из Ростова Великого попадают в отток чаще клиентов из других городов. Остальные признаки значимых различий не имеют."
   ]
  },
  {
   "cell_type": "code",
   "execution_count": 15,
   "metadata": {},
   "outputs": [
    {
     "data": {
      "image/png": "[encoded data removed]",
      "text/plain": [
       "<Figure size 1296x1296 with 8 Axes>"
      ]
     },
     "metadata": {
      "needs_background": "light"
     },
     "output_type": "display_data"
    }
   ],
   "source": [
    "plt.figure(figsize=(18, 18))\n",
    "plt.subplots_adjust(hspace=0.5)\n",
    "plt.suptitle(\"Распределение признаков по оттоку клиентов\", fontsize=18, y=0.95)\n",
    "for n, col in enumerate(bank.select_dtypes(include=np.number).drop(['userid', 'churn'], axis=1).columns):\n",
    "    ax = plt.subplot(3, 3, n + 1)\n",
    "    \n",
    "    bank.query('churn == 0').plot(kind='hist', y=col, alpha=0.7, label='Остался', ax=ax, title=col)\n",
    "    bank.query('churn == 1').plot(kind='hist', y=col, alpha=0.5, label='Ушёл', ax=ax, grid=True, legend=True)\n",
    "    \n",
    "    ax.set_title(col.upper())\n",
    "    ax.set_xlabel(\"\")\n",
    "plt.show();"
   ]
  },
  {
   "cell_type": "markdown",
   "metadata": {},
   "source": [
    "На графиках, помимо уже перечисленных ранее различий двух групп, также можно обратить внимание на то, что ушедшие чаще пользовались тремя продуктами банка и исключительно они пользовалась четырьмя продуктами, хотя подавляющее их большинство пользовались одним продуктом в отличие от клиентов, которые остались."
   ]
  },
  {
   "cell_type": "markdown",
   "metadata": {},
   "source": [
    "### Анализ клиентского потребления продуктов"
   ]
  },
  {
   "cell_type": "code",
   "execution_count": 16,
   "metadata": {},
   "outputs": [
    {
     "data": {
      "text/plain": [
       "1    5084\n",
       "2    4590\n",
       "3     266\n",
       "4      60\n",
       "Name: products, dtype: int64"
      ]
     },
     "execution_count": 16,
     "metadata": {},
     "output_type": "execute_result"
    }
   ],
   "source": [
    "bank.products.value_counts()"
   ]
  },
  {
   "cell_type": "markdown",
   "metadata": {},
   "source": [
    "3 и 4 продукта одновременно используют крайне мало клиентов. Клиенты, пользующиеся 1-м и 2-мя продуктами разделились почти поровну - 5084 и 4590 соответственно."
   ]
  },
  {
   "cell_type": "code",
   "execution_count": 17,
   "metadata": {},
   "outputs": [
    {
     "data": {
      "text/html": [
       "<div>\n",
       "<style scoped>\n",
       "    .dataframe tbody tr th:only-of-type {\n",
       "        vertical-align: middle;\n",
       "    }\n",
       "\n",
       "    .dataframe tbody tr th {\n",
       "        vertical-align: top;\n",
       "    }\n",
       "\n",
       "    .dataframe thead th {\n",
       "        text-align: right;\n",
       "    }\n",
       "</style>\n",
       "<table border=\"1\" class=\"dataframe\">\n",
       "  <thead>\n",
       "    <tr style=\"text-align: right;\">\n",
       "      <th>products</th>\n",
       "      <th>1</th>\n",
       "      <th>2</th>\n",
       "      <th>3</th>\n",
       "      <th>4</th>\n",
       "    </tr>\n",
       "  </thead>\n",
       "  <tbody>\n",
       "    <tr>\n",
       "      <th>score</th>\n",
       "      <td>649.12</td>\n",
       "      <td>652.19</td>\n",
       "      <td>648.11</td>\n",
       "      <td>653.58</td>\n",
       "    </tr>\n",
       "    <tr>\n",
       "      <th>age</th>\n",
       "      <td>39.67</td>\n",
       "      <td>37.75</td>\n",
       "      <td>43.20</td>\n",
       "      <td>45.68</td>\n",
       "    </tr>\n",
       "    <tr>\n",
       "      <th>objects</th>\n",
       "      <td>4.97</td>\n",
       "      <td>5.05</td>\n",
       "      <td>5.00</td>\n",
       "      <td>5.30</td>\n",
       "    </tr>\n",
       "    <tr>\n",
       "      <th>balance</th>\n",
       "      <td>119894.16</td>\n",
       "      <td>119660.94</td>\n",
       "      <td>119475.69</td>\n",
       "      <td>122260.61</td>\n",
       "    </tr>\n",
       "    <tr>\n",
       "      <th>credit_card</th>\n",
       "      <td>0.70</td>\n",
       "      <td>0.71</td>\n",
       "      <td>0.71</td>\n",
       "      <td>0.68</td>\n",
       "    </tr>\n",
       "    <tr>\n",
       "      <th>loyalty</th>\n",
       "      <td>0.50</td>\n",
       "      <td>0.53</td>\n",
       "      <td>0.42</td>\n",
       "      <td>0.48</td>\n",
       "    </tr>\n",
       "    <tr>\n",
       "      <th>estimated_salary</th>\n",
       "      <td>99487.26</td>\n",
       "      <td>100452.01</td>\n",
       "      <td>104318.13</td>\n",
       "      <td>104763.72</td>\n",
       "    </tr>\n",
       "    <tr>\n",
       "      <th>churn</th>\n",
       "      <td>0.28</td>\n",
       "      <td>0.08</td>\n",
       "      <td>0.83</td>\n",
       "      <td>1.00</td>\n",
       "    </tr>\n",
       "    <tr>\n",
       "      <th>city_Ростов Великий</th>\n",
       "      <td>0.27</td>\n",
       "      <td>0.23</td>\n",
       "      <td>0.36</td>\n",
       "      <td>0.40</td>\n",
       "    </tr>\n",
       "    <tr>\n",
       "      <th>city_Рыбинск</th>\n",
       "      <td>0.24</td>\n",
       "      <td>0.26</td>\n",
       "      <td>0.25</td>\n",
       "      <td>0.12</td>\n",
       "    </tr>\n",
       "    <tr>\n",
       "      <th>city_Ярославль</th>\n",
       "      <td>0.49</td>\n",
       "      <td>0.52</td>\n",
       "      <td>0.39</td>\n",
       "      <td>0.48</td>\n",
       "    </tr>\n",
       "    <tr>\n",
       "      <th>gender_Ж</th>\n",
       "      <td>0.45</td>\n",
       "      <td>0.45</td>\n",
       "      <td>0.56</td>\n",
       "      <td>0.63</td>\n",
       "    </tr>\n",
       "    <tr>\n",
       "      <th>gender_М</th>\n",
       "      <td>0.55</td>\n",
       "      <td>0.55</td>\n",
       "      <td>0.44</td>\n",
       "      <td>0.37</td>\n",
       "    </tr>\n",
       "  </tbody>\n",
       "</table>\n",
       "</div>"
      ],
      "text/plain": [
       "products                     1          2          3          4\n",
       "score                   649.12     652.19     648.11     653.58\n",
       "age                      39.67      37.75      43.20      45.68\n",
       "objects                   4.97       5.05       5.00       5.30\n",
       "balance              119894.16  119660.94  119475.69  122260.61\n",
       "credit_card               0.70       0.71       0.71       0.68\n",
       "loyalty                   0.50       0.53       0.42       0.48\n",
       "estimated_salary      99487.26  100452.01  104318.13  104763.72\n",
       "churn                     0.28       0.08       0.83       1.00\n",
       "city_Ростов Великий       0.27       0.23       0.36       0.40\n",
       "city_Рыбинск              0.24       0.26       0.25       0.12\n",
       "city_Ярославль            0.49       0.52       0.39       0.48\n",
       "gender_Ж                  0.45       0.45       0.56       0.63\n",
       "gender_М                  0.55       0.55       0.44       0.37"
      ]
     },
     "execution_count": 17,
     "metadata": {},
     "output_type": "execute_result"
    }
   ],
   "source": [
    "# Сгруппируем по количеству используемых продуктов и посмотрим на средние значения\n",
    "bank_without_categorical.drop('userid', axis=1).groupby('products').mean().T.round(2)"
   ]
  },
  {
   "cell_type": "markdown",
   "metadata": {},
   "source": [
    "Сгруппировав данные по количеству потребляемых продуктов, пожалуй можно обратить внимание на более старший возраст тех, кто пользуется 3-мя и 4-мя продуктами (43 и 46 лет соответственно), меньшую активность и более высокий отток этих двух групп."
   ]
  },
  {
   "cell_type": "code",
   "execution_count": 18,
   "metadata": {},
   "outputs": [
    {
     "data": {
      "image/png": "[encoded data removed]",
      "text/plain": [
       "<Figure size 1296x1296 with 9 Axes>"
      ]
     },
     "metadata": {
      "needs_background": "light"
     },
     "output_type": "display_data"
    }
   ],
   "source": [
    "# Аналогично построим графики по признакам пользоваетелей взависимости от кол-ва продуктов\n",
    "plt.figure(figsize=(18, 18))\n",
    "plt.subplots_adjust(hspace=0.5)\n",
    "plt.suptitle(\"Распределение признаков в зависимости от количества продуктов\", fontsize=18, y=0.95)\n",
    "for n, col in enumerate(bank.select_dtypes(include=np.number).drop('userid', axis=1).columns):\n",
    "    ax = plt.subplot(3, 3, n + 1)\n",
    "    \n",
    "    bank.query('products == 1').plot(kind='hist', y=col, alpha=0.7, label='1 продукт', ax=ax, title=col, grid=True)\n",
    "    bank.query('products == 2').plot(kind='hist', y=col, alpha=0.5, label='2 продукта', ax=ax, grid=True)\n",
    "    bank.query('products == 3').plot(kind='hist', y=col, alpha=0.5, label='3 продукта', ax=ax, grid=True)\n",
    "    bank.query('products == 4').plot(kind='hist', y=col, alpha=0.5, label='4 продукта', ax=ax, grid=True)\n",
    "    \n",
    "    ax.set_title(col.upper())\n",
    "    ax.set_xlabel(\"\")\n",
    "plt.show();"
   ]
  },
  {
   "cell_type": "markdown",
   "metadata": {},
   "source": [
    "Виузализация результатов, полученных ранее, также выявляет признаки, различающиеся между группами. Наверное главное, на что стоит обратить внимание это более старший возраст и отток клиентов, пользовавшихся 3-мя и 4-мя продуктами одновременно."
   ]
  },
  {
   "cell_type": "code",
   "execution_count": 19,
   "metadata": {
    "scrolled": false
   },
   "outputs": [
    {
     "data": {
      "image/png": "[encoded data removed]",
      "text/plain": [
       "<Figure size 1296x576 with 1 Axes>"
      ]
     },
     "metadata": {
      "needs_background": "light"
     },
     "output_type": "display_data"
    }
   ],
   "source": [
    "city_products = bank.pivot_table(index='products', columns='city', values='userid', aggfunc='count').T\n",
    "city_products.plot(kind=\"bar\", stacked=False, grid=True, figsize=(18, 8))\n",
    "\n",
    "plt.suptitle('Количество потребляемых продуктов с разбивкой по городам', fontsize=18, y=0.95)\n",
    "plt.xlabel('Город')\n",
    "plt.ylabel('Количество клиентов');"
   ]
  },
  {
   "cell_type": "code",
   "execution_count": 20,
   "metadata": {},
   "outputs": [
    {
     "data": {
      "image/png": "[encoded data removed]",
      "text/plain": [
       "<Figure size 1296x576 with 1 Axes>"
      ]
     },
     "metadata": {
      "needs_background": "light"
     },
     "output_type": "display_data"
    }
   ],
   "source": [
    "gender_products = bank.pivot_table(index='products', columns='gender', values='userid', aggfunc='count').T\n",
    "gender_products.plot(kind=\"bar\", stacked=False, grid=True, figsize=(18, 8))\n",
    "\n",
    "plt.suptitle('Количество потребляемых продуктов с разбивкой по полу', fontsize=18, y=0.95)\n",
    "plt.xlabel('Пол')\n",
    "plt.ylabel('Количество клиентов');"
   ]
  },
  {
   "cell_type": "markdown",
   "metadata": {},
   "source": [
    "### Корреляция признаков"
   ]
  },
  {
   "cell_type": "code",
   "execution_count": 21,
   "metadata": {},
   "outputs": [],
   "source": [
    "# Построим матрицу корреляций\n",
    "cm = bank.corr()"
   ]
  },
  {
   "cell_type": "code",
   "execution_count": 22,
   "metadata": {},
   "outputs": [
    {
     "data": {
      "image/png": "[encoded data removed]",
      "text/plain": [
       "<Figure size 864x720 with 2 Axes>"
      ]
     },
     "metadata": {
      "needs_background": "light"
     },
     "output_type": "display_data"
    }
   ],
   "source": [
    "# Визуализируем тепловую карту с подписями для матрицы корреляций\n",
    "fig = plt.subplots(figsize=(12,10)) \n",
    "sns.heatmap(cm, annot = True, fmt='.2f', linewidths=1, linecolor='gray')\n",
    "\n",
    "plt.show();"
   ]
  },
  {
   "cell_type": "markdown",
   "metadata": {},
   "source": [
    "Явных признаков, коррелирующих с оттоком клиентов или количеством используемых продуктов на матрице к сожалению не выявлено. Среди всех слабых зависимостей, лидером по взаимодействию с оттоком оказался возрастной признак (0.29)."
   ]
  },
  {
   "cell_type": "code",
   "execution_count": 23,
   "metadata": {},
   "outputs": [
    {
     "name": "stdout",
     "output_type": "stream",
     "text": [
      "interval columns not set, guessing: ['score', 'age', 'objects', 'balance', 'products', 'credit_card', 'loyalty', 'estimated_salary', 'churn']\n"
     ]
    }
   ],
   "source": [
    "phikcm = bank.drop('userid', axis=1).phik_matrix()"
   ]
  },
  {
   "cell_type": "code",
   "execution_count": 24,
   "metadata": {},
   "outputs": [
    {
     "data": {
      "image/png": "[encoded data removed]",
      "text/plain": [
       "<Figure size 864x720 with 2 Axes>"
      ]
     },
     "metadata": {
      "needs_background": "light"
     },
     "output_type": "display_data"
    }
   ],
   "source": [
    "fig = plt.subplots(figsize=(12,10)) \n",
    "sns.heatmap(phikcm, annot = True, fmt='.2f', linewidths=1, linecolor='gray')\n",
    "\n",
    "plt.show();"
   ]
  },
  {
   "cell_type": "markdown",
   "metadata": {},
   "source": [
    "### Вывод"
   ]
  },
  {
   "cell_type": "markdown",
   "metadata": {},
   "source": [
    "Проведя разведочный анализ основных свойств данных, мы убедились в отсутствии аномальных значений, нормальном распределении данных, а также установили в них некоторые слабые закономерности, благодаря которым можно сформировать первые гипотезы и построить предварительные прогнозы по предрасположенности к оттоку и выбору определенного количества продуктов у некоторых групп клиентов."
   ]
  },
  {
   "cell_type": "markdown",
   "metadata": {},
   "source": [
    "## Сегментация клиентов по количеству используемых продуктов"
   ]
  },
  {
   "cell_type": "markdown",
   "metadata": {},
   "source": [
    "### Построение матрицы расстояний и ее визуализация"
   ]
  },
  {
   "cell_type": "code",
   "execution_count": 25,
   "metadata": {},
   "outputs": [
    {
     "name": "stdout",
     "output_type": "stream",
     "text": [
      "<class 'pandas.core.frame.DataFrame'>\n",
      "Int64Index: 6383 entries, 1 to 9999\n",
      "Data columns (total 15 columns):\n",
      " #   Column               Non-Null Count  Dtype  \n",
      "---  ------               --------------  -----  \n",
      " 0   userid               6383 non-null   int64  \n",
      " 1   score                6383 non-null   int64  \n",
      " 2   age                  6383 non-null   int64  \n",
      " 3   objects              6383 non-null   int64  \n",
      " 4   balance              6383 non-null   float64\n",
      " 5   products             6383 non-null   int64  \n",
      " 6   credit_card          6383 non-null   int64  \n",
      " 7   loyalty              6383 non-null   int64  \n",
      " 8   estimated_salary     6383 non-null   float64\n",
      " 9   churn                6383 non-null   int64  \n",
      " 10  city_Ростов Великий  6383 non-null   uint8  \n",
      " 11  city_Рыбинск         6383 non-null   uint8  \n",
      " 12  city_Ярославль       6383 non-null   uint8  \n",
      " 13  gender_Ж             6383 non-null   uint8  \n",
      " 14  gender_М             6383 non-null   uint8  \n",
      "dtypes: float64(2), int64(8), uint8(5)\n",
      "memory usage: 579.7 KB\n"
     ]
    }
   ],
   "source": [
    "# В таблице без пропусков представим категориальные данные о поле и городе множеством бинарных полей\n",
    "copy_filled_bank = pd.get_dummies(filled_bank)\n",
    "copy_filled_bank.info()"
   ]
  },
  {
   "cell_type": "code",
   "execution_count": 26,
   "metadata": {},
   "outputs": [],
   "source": [
    "# Уберем целевую переменную\n",
    "X = copy_filled_bank.drop('products', axis=1)"
   ]
  },
  {
   "cell_type": "code",
   "execution_count": 27,
   "metadata": {},
   "outputs": [],
   "source": [
    "# Стандартизируем данные\n",
    "sc = StandardScaler()\n",
    "X_sc = sc.fit_transform(X)\n",
    "# Создадим таблицу связок между объектами\n",
    "linked = linkage(X_sc, method = 'ward') "
   ]
  },
  {
   "cell_type": "code",
   "execution_count": 28,
   "metadata": {
    "scrolled": false
   },
   "outputs": [
    {
     "data": {
      "image/png": "[encoded data removed]",
      "text/plain": [
       "<Figure size 1800x1080 with 1 Axes>"
      ]
     },
     "metadata": {
      "needs_background": "light"
     },
     "output_type": "display_data"
    }
   ],
   "source": [
    "# Построим дендрограмму\n",
    "plt.figure(figsize=(25, 15))  \n",
    "dendrogram(linked, orientation='top', no_labels=True)\n",
    "plt.show();"
   ]
  },
  {
   "cell_type": "markdown",
   "metadata": {},
   "source": [
    "Исходя из визуализации агломеративной кластеризации, получаем оптимальное число кластеров, предложенное алгоритмом - 3. Данное число кластеров и предложим алгоритму KMeans."
   ]
  },
  {
   "cell_type": "markdown",
   "metadata": {},
   "source": [
    "### Кластеризация на основании алгоритма K-Means"
   ]
  },
  {
   "cell_type": "code",
   "execution_count": 29,
   "metadata": {},
   "outputs": [],
   "source": [
    "# Задаём модель k_means с числом кластеров, равным 3\n",
    "km = KMeans(n_clusters = 3, random_state=0)\n",
    "# Прогнозируем кластеры для наблюдений\n",
    "labels = km.fit_predict(X_sc)"
   ]
  },
  {
   "cell_type": "code",
   "execution_count": 30,
   "metadata": {},
   "outputs": [
    {
     "data": {
      "text/html": [
       "<div>\n",
       "<style scoped>\n",
       "    .dataframe tbody tr th:only-of-type {\n",
       "        vertical-align: middle;\n",
       "    }\n",
       "\n",
       "    .dataframe tbody tr th {\n",
       "        vertical-align: top;\n",
       "    }\n",
       "\n",
       "    .dataframe thead th {\n",
       "        text-align: right;\n",
       "    }\n",
       "</style>\n",
       "<table border=\"1\" class=\"dataframe\">\n",
       "  <thead>\n",
       "    <tr style=\"text-align: right;\">\n",
       "      <th></th>\n",
       "      <th>0</th>\n",
       "      <th>1</th>\n",
       "      <th>2</th>\n",
       "    </tr>\n",
       "  </thead>\n",
       "  <tbody>\n",
       "    <tr>\n",
       "      <th>score</th>\n",
       "      <td>651.45</td>\n",
       "      <td>650.90</td>\n",
       "      <td>651.00</td>\n",
       "    </tr>\n",
       "    <tr>\n",
       "      <th>age</th>\n",
       "      <td>39.77</td>\n",
       "      <td>38.61</td>\n",
       "      <td>39.26</td>\n",
       "    </tr>\n",
       "    <tr>\n",
       "      <th>objects</th>\n",
       "      <td>5.01</td>\n",
       "      <td>4.95</td>\n",
       "      <td>4.98</td>\n",
       "    </tr>\n",
       "    <tr>\n",
       "      <th>balance</th>\n",
       "      <td>119730.12</td>\n",
       "      <td>119927.77</td>\n",
       "      <td>119814.99</td>\n",
       "    </tr>\n",
       "    <tr>\n",
       "      <th>products</th>\n",
       "      <td>1.52</td>\n",
       "      <td>1.30</td>\n",
       "      <td>1.30</td>\n",
       "    </tr>\n",
       "    <tr>\n",
       "      <th>credit_card</th>\n",
       "      <td>0.71</td>\n",
       "      <td>0.69</td>\n",
       "      <td>0.68</td>\n",
       "    </tr>\n",
       "    <tr>\n",
       "      <th>loyalty</th>\n",
       "      <td>0.50</td>\n",
       "      <td>0.51</td>\n",
       "      <td>0.55</td>\n",
       "    </tr>\n",
       "    <tr>\n",
       "      <th>estimated_salary</th>\n",
       "      <td>101113.44</td>\n",
       "      <td>100625.03</td>\n",
       "      <td>100127.28</td>\n",
       "    </tr>\n",
       "    <tr>\n",
       "      <th>churn</th>\n",
       "      <td>0.32</td>\n",
       "      <td>0.18</td>\n",
       "      <td>0.20</td>\n",
       "    </tr>\n",
       "    <tr>\n",
       "      <th>city_Ростов Великий</th>\n",
       "      <td>1.00</td>\n",
       "      <td>0.00</td>\n",
       "      <td>0.00</td>\n",
       "    </tr>\n",
       "    <tr>\n",
       "      <th>city_Рыбинск</th>\n",
       "      <td>0.00</td>\n",
       "      <td>0.00</td>\n",
       "      <td>1.00</td>\n",
       "    </tr>\n",
       "    <tr>\n",
       "      <th>city_Ярославль</th>\n",
       "      <td>0.00</td>\n",
       "      <td>1.00</td>\n",
       "      <td>0.00</td>\n",
       "    </tr>\n",
       "    <tr>\n",
       "      <th>gender_Ж</th>\n",
       "      <td>0.48</td>\n",
       "      <td>0.44</td>\n",
       "      <td>0.43</td>\n",
       "    </tr>\n",
       "    <tr>\n",
       "      <th>gender_М</th>\n",
       "      <td>0.52</td>\n",
       "      <td>0.56</td>\n",
       "      <td>0.57</td>\n",
       "    </tr>\n",
       "  </tbody>\n",
       "</table>\n",
       "</div>"
      ],
      "text/plain": [
       "                             0          1          2\n",
       "score                   651.45     650.90     651.00\n",
       "age                      39.77      38.61      39.26\n",
       "objects                   5.01       4.95       4.98\n",
       "balance              119730.12  119927.77  119814.99\n",
       "products                  1.52       1.30       1.30\n",
       "credit_card               0.71       0.69       0.68\n",
       "loyalty                   0.50       0.51       0.55\n",
       "estimated_salary     101113.44  100625.03  100127.28\n",
       "churn                     0.32       0.18       0.20\n",
       "city_Ростов Великий       1.00       0.00       0.00\n",
       "city_Рыбинск              0.00       0.00       1.00\n",
       "city_Ярославль            0.00       1.00       0.00\n",
       "gender_Ж                  0.48       0.44       0.43\n",
       "gender_М                  0.52       0.56       0.57"
      ]
     },
     "execution_count": 30,
     "metadata": {},
     "output_type": "execute_result"
    }
   ],
   "source": [
    "# Создадим в таблице столбец с присвоенным номером кластера и сгруппируем по нему данные, получив их средние значения\n",
    "copy_filled_bank['cluster'] = labels\n",
    "bank_grouped_by_cluster = copy_filled_bank.groupby('cluster').mean().reset_index()\n",
    "bank_grouped_by_cluster.drop(['cluster', 'userid'], axis=1).T.round(2)"
   ]
  },
  {
   "cell_type": "code",
   "execution_count": 31,
   "metadata": {},
   "outputs": [
    {
     "data": {
      "image/png": "[encoded data removed]",
      "text/plain": [
       "<Figure size 1296x1296 with 14 Axes>"
      ]
     },
     "metadata": {
      "needs_background": "light"
     },
     "output_type": "display_data"
    }
   ],
   "source": [
    "# В цикле построим графики для всех признаков с разбиением на кластеры\n",
    "plt.figure(figsize=(18, 18))\n",
    "plt.subplots_adjust(hspace=0.5)\n",
    "plt.suptitle(\"Разбивка признаков по кластерам\", fontsize=18, y=0.95)\n",
    "for n, col in enumerate(bank_grouped_by_cluster.drop(['cluster', 'userid'], axis=1).columns):\n",
    "    ax = plt.subplot(5, 3, n + 1)\n",
    "    bank_grouped_by_cluster.plot.bar(ax=ax, y=col, title=col, grid=True)\n",
    "\n",
    "    ax.set_title(col.upper())\n",
    "    ax.get_legend().remove()\n",
    "    ax.set_xlabel(\"\")\n",
    "plt.show();"
   ]
  },
  {
   "cell_type": "markdown",
   "metadata": {},
   "source": [
    "Визуализация показателей кластеров продемонстрировала отсутствие явных различий между группами, полученными с помощью алгоритма k_means. В среднем клиенты пользуются одинаковым количеством банковских продуктов."
   ]
  },
  {
   "cell_type": "markdown",
   "metadata": {},
   "source": [
    "### Вывод"
   ]
  },
  {
   "cell_type": "markdown",
   "metadata": {},
   "source": [
    "Как уже было выявлено ранее, на этапе исследовательского анализа данных, клиенты из представленной выборки не имеют ярко выраженных различий. Ни работа \"вручную\" путем группировки данных, ни кластеризация при помощи алгоритма K_means не позволили нам выявить признаки присущие той или иной группе клиентов, что еще раз подтвердило правильность низких показателей матрицы корреляции признаков. Незначительная взаимосвязь прослеживается лишь среди более возрастной группы клиентов, которая пользуется бОльшим количеством продуктов, при этом проявляет меньшую активность и чаще попадает в отток. Попробуем, исходя из этой информации, сформировать соответствующие гипотезы."
   ]
  },
  {
   "cell_type": "markdown",
   "metadata": {},
   "source": [
    "## Проверка гипотез"
   ]
  },
  {
   "cell_type": "code",
   "execution_count": 32,
   "metadata": {},
   "outputs": [],
   "source": [
    "def shapiro_test(sample_1, sample_2):\n",
    "    \n",
    "    p_value_1 = st.shapiro(sample_1)[1]\n",
    "    p_value_2 = st.shapiro(sample_2)[1]\n",
    "\n",
    "    alpha = 0.05\n",
    "    \n",
    "    print('Выборка 1')\n",
    "    print('p-значение: ', p_value_1)\n",
    "    if p_value_1 < alpha:\n",
    "        print('Отвергаем нулевую гипотезу: распределение не нормально')\n",
    "    else:\n",
    "        print('Не получилось отвергнуть нулевую гипотезу, всё нормально') \n",
    "    print('-------------------------------------------------------')\n",
    "    print('Выборка 2')\n",
    "    print('p-значение: ', p_value_2)\n",
    "    if p_value_2 < alpha:\n",
    "        print('Отвергаем нулевую гипотезу: распределение не нормально')\n",
    "    else:\n",
    "        print('Не получилось отвергнуть нулевую гипотезу, всё нормально') "
   ]
  },
  {
   "cell_type": "markdown",
   "metadata": {},
   "source": [
    "Создадим функцию проверки данных на нормальность при помощи критерия Шапиро-Уилка. Для удобства будем проводить проверку сразу двух выборок."
   ]
  },
  {
   "cell_type": "markdown",
   "metadata": {},
   "source": [
    "### Гипотеза 1: \"Доходы клиентов, которые пользуются двумя продуктами банка, и доходы клиентов, которые пользуются одним различны\"."
   ]
  },
  {
   "cell_type": "markdown",
   "metadata": {},
   "source": [
    "H₀ - Доходы клиентов, которые пользуются двумя продуктами банка, и доходы клиентов, которые пользуются одним не различаются.\n",
    "\n",
    "H₁ - Доходы клиентов, которые пользуются двумя продуктами банка, и доходы клиентов, которые пользуются одним различны."
   ]
  },
  {
   "cell_type": "code",
   "execution_count": 33,
   "metadata": {},
   "outputs": [],
   "source": [
    "# Создадим выборки для сравнения зарплат клиентов с одним и двумя продуктами\n",
    "one_product = bank.query('products == 1')['estimated_salary']\n",
    "two_products = bank.query('products == 2')['estimated_salary']"
   ]
  },
  {
   "cell_type": "code",
   "execution_count": 34,
   "metadata": {},
   "outputs": [
    {
     "data": {
      "image/png": "[encoded data removed]",
      "text/plain": [
       "<Figure size 720x504 with 1 Axes>"
      ]
     },
     "metadata": {
      "needs_background": "light"
     },
     "output_type": "display_data"
    }
   ],
   "source": [
    "# Визуализируем распределения данных в указанных выборках\n",
    "one_product.plot(kind='hist', bins=200, label='1 продукт', figsize = (10,7), legend=True)\n",
    "two_products.plot(kind='hist',bins=200, alpha=0.7, label='2 продукта', grid=True, legend=True)\n",
    "\n",
    "plt.title('Распределение возраста клиентов в зависимости от их оттока')\n",
    "plt.xlabel('Заработная плата')\n",
    "plt.ylabel('Количество клиентов');\n",
    "plt.show();"
   ]
  },
  {
   "cell_type": "code",
   "execution_count": 35,
   "metadata": {},
   "outputs": [
    {
     "name": "stdout",
     "output_type": "stream",
     "text": [
      "Выборка 1\n",
      "p-значение:  3.016011142283786e-36\n",
      "Отвергаем нулевую гипотезу: распределение не нормально\n",
      "-------------------------------------------------------\n",
      "Выборка 2\n",
      "p-значение:  2.1702207154579243e-35\n",
      "Отвергаем нулевую гипотезу: распределение не нормально\n"
     ]
    },
    {
     "name": "stderr",
     "output_type": "stream",
     "text": [
      "/opt/conda/lib/python3.9/site-packages/scipy/stats/_morestats.py:1800: UserWarning: p-value may not be accurate for N > 5000.\n",
      "  warnings.warn(\"p-value may not be accurate for N > 5000.\")\n"
     ]
    }
   ],
   "source": [
    "shapiro_test(one_product, two_products)"
   ]
  },
  {
   "cell_type": "markdown",
   "metadata": {},
   "source": [
    "Проведенной проверкой установленно, что данные распределены не нормально, в связи с чем, для сравнения выборок, используем непараметрический тест Уилкоксона-Манна-Уитни."
   ]
  },
  {
   "cell_type": "code",
   "execution_count": 36,
   "metadata": {},
   "outputs": [
    {
     "name": "stdout",
     "output_type": "stream",
     "text": [
      "средний доход клиентов, пользующихся одним продуктом: 99487\n",
      "средний доход клиентов, пользующихся двумя продуктами: 100452\n",
      "\n",
      "p-значение: 0.4079566652\n",
      "\n",
      "Не получилось отвергнуть нулевую гипотезу, вывод о различии сделать нельзя\n"
     ]
    }
   ],
   "source": [
    "alpha = 0.05\n",
    "\n",
    "results = st.mannwhitneyu(one_product, two_products)\n",
    "print('средний доход клиентов, пользующихся одним продуктом: {:.0f}'.format(one_product.mean()))\n",
    "print('средний доход клиентов, пользующихся двумя продуктами: {:.0f}'.format(two_products.mean()))\n",
    "print()\n",
    "print('p-значение: {:.10f}'.format(results.pvalue))\n",
    "print()\n",
    "if alpha > results.pvalue:\n",
    "    print('Отвергаем нулевую гипотезу: разница статистически значима')\n",
    "else:\n",
    "    print('Не получилось отвергнуть нулевую гипотезу, вывод о различии сделать нельзя')"
   ]
  },
  {
   "cell_type": "markdown",
   "metadata": {},
   "source": [
    "p-значение выше критического уровня статистической значимости, что говорит нам об отсутствии статистически значимых различий в двух совокупностях, в связи с чем, отвергнуть нулевую гипотезу не представляется возможным. Доходы клиентов, которые пользуются двумя продуктами банка, и доходы клиентов, которые пользуются одним не различаются."
   ]
  },
  {
   "cell_type": "markdown",
   "metadata": {},
   "source": [
    "### Гипотеза 2: \"Средний возраст ушедших клиентов и оставшихся различен\"."
   ]
  },
  {
   "cell_type": "markdown",
   "metadata": {},
   "source": [
    "H₀ - Средний возраст ушедших и оставшися клиентов не различается.\n",
    "\n",
    "H₁ - Средний возраст ушедших и оставшися клиентов имеет различия."
   ]
  },
  {
   "cell_type": "code",
   "execution_count": 37,
   "metadata": {},
   "outputs": [],
   "source": [
    "remaining_client_age = bank.query('churn == 0')['age']\n",
    "churn_client_age = bank.query('churn == 1')['age']"
   ]
  },
  {
   "cell_type": "code",
   "execution_count": 38,
   "metadata": {},
   "outputs": [
    {
     "data": {
      "image/png": "[encoded data removed]",
      "text/plain": [
       "<Figure size 720x504 with 1 Axes>"
      ]
     },
     "metadata": {
      "needs_background": "light"
     },
     "output_type": "display_data"
    }
   ],
   "source": [
    "ax = remaining_client_age.plot(kind='hist', label='Оставшиеся', figsize = (10,7), legend=True)\n",
    "churn_client_age.plot(kind='hist',alpha=0.7, label='Ушедшие', ax=ax, grid=True, legend=True)\n",
    "\n",
    "plt.title('Распределение возраста клиентов в зависимости от их оттока')\n",
    "plt.xlabel('Возраст')\n",
    "plt.ylabel('Количество клиентов');\n",
    "plt.show();"
   ]
  },
  {
   "cell_type": "code",
   "execution_count": 39,
   "metadata": {
    "scrolled": true
   },
   "outputs": [
    {
     "name": "stdout",
     "output_type": "stream",
     "text": [
      "Выборка 1\n",
      "p-значение:  0.0\n",
      "Отвергаем нулевую гипотезу: распределение не нормально\n",
      "-------------------------------------------------------\n",
      "Выборка 2\n",
      "p-значение:  0.005860917270183563\n",
      "Отвергаем нулевую гипотезу: распределение не нормально\n"
     ]
    },
    {
     "name": "stderr",
     "output_type": "stream",
     "text": [
      "/opt/conda/lib/python3.9/site-packages/scipy/stats/_morestats.py:1800: UserWarning: p-value may not be accurate for N > 5000.\n",
      "  warnings.warn(\"p-value may not be accurate for N > 5000.\")\n"
     ]
    }
   ],
   "source": [
    "shapiro_test(remaining_client_age, churn_client_age)"
   ]
  },
  {
   "cell_type": "code",
   "execution_count": 40,
   "metadata": {},
   "outputs": [
    {
     "name": "stdout",
     "output_type": "stream",
     "text": [
      "средний возраст действующих клиентов: 37\n",
      "средний возраст ушедших клиентов: 45\n",
      "\n",
      "p-значение: 0.0000000000\n",
      "\n",
      "Отвергаем нулевую гипотезу: разница статистически значима\n"
     ]
    }
   ],
   "source": [
    "alpha = 0.05\n",
    "results = st.mannwhitneyu(remaining_client_age, churn_client_age)\n",
    "\n",
    "print('средний возраст действующих клиентов: {:.0f}'.format(remaining_client_age.mean()))\n",
    "print('средний возраст ушедших клиентов: {:.0f}'.format(churn_client_age.mean()))\n",
    "print()\n",
    "print('p-значение: {:.10f}'.format(results.pvalue))\n",
    "print()\n",
    "if alpha > results.pvalue:\n",
    "    print('Отвергаем нулевую гипотезу: разница статистически значима')\n",
    "else:\n",
    "    print('Не получилось отвергнуть нулевую гипотезу, вывод о различии сделать нельзя')"
   ]
  },
  {
   "cell_type": "markdown",
   "metadata": {},
   "source": [
    "p-значение ниже критического уровня статистической значимости, что говорит нам о наличии различий в двух совокупностях, в связи с чем, нулевая гипотеза отвергается. Средний возраст ушедших клиентов - 45, оставшихся - 37 (разница ощутима)."
   ]
  },
  {
   "cell_type": "markdown",
   "metadata": {},
   "source": [
    "### Вывод"
   ]
  },
  {
   "cell_type": "markdown",
   "metadata": {},
   "source": [
    "Проверив выдвинутые перед исследованием гипотезы, делаем следующие выводы:\n",
    "   - Доходы клиентов, которые пользуются двумя продуктами банка, и доходы клиентов, которые пользуются одним не различаются;\n",
    "   - Средний возраст действующих и ушедших клиентов различается. В отток попадают клиенты со средним возрастом - 45 лет, когда средний возраст действующего клиента - 37 лет."
   ]
  },
  {
   "cell_type": "markdown",
   "metadata": {},
   "source": [
    "## Приложения к проекту"
   ]
  },
  {
   "cell_type": "markdown",
   "metadata": {},
   "source": [
    "### Ссылка на презентацию"
   ]
  },
  {
   "cell_type": "markdown",
   "metadata": {},
   "source": [
    "https://drive.google.com/file/d/1KOvN13gNyYU3DSoKdXYIkHEu2a8_KXiW/view?usp=sharing"
   ]
  },
  {
   "cell_type": "markdown",
   "metadata": {},
   "source": [
    "### Ссылка на дашборд"
   ]
  },
  {
   "cell_type": "markdown",
   "metadata": {},
   "source": [
    "https://public.tableau.com/views/_16433016733100/Dashboard1?:language=en-US&:display_count=n&:origin=viz_share_link"
   ]
  },
  {
   "cell_type": "markdown",
   "metadata": {},
   "source": [
    "## Общий вывод и рекомендации бизнесу"
   ]
  },
  {
   "cell_type": "markdown",
   "metadata": {},
   "source": [
    "<b>1. Сегментация по продуктовому потреблению:</b>\n",
    "\n",
    "<b> - Признаки, присущие клиентам с 1 продуктом (51%):</b>\n",
    "В половине случаев - клиенты из Ярославля, в среднем 39-40 лет, в 70% - имеющие кредитную карту, всего около четверти их попало в отток;\n",
    "\n",
    "<b> - Признаки, присущие клиентам с 2 продуктами (46%):</b>\n",
    "В половине случаев - клиенты из Ярославля, в среднем 37-38 лет, в 70% - имеющие кредитную карту, являются самыми активными клиентами с самым низким числом оттока - 7.6%;\n",
    "\n",
    "<b> - Признаки, присущие клиентам с 3-4 продуктами (3%):</b>\n",
    "Немного чаще это женщины (56% и 63% соответственно продуктам), почти поровну из Ярославля и Ростова Великого, имеют самые высокие доходы, низкую активность и громадный отток (83% и 100%), в сравнении с остальными сегментами.\n",
    "__________________________________________________________________________________________________________________\n",
    "<b>2. Сегментация по оттоку:</b>\n",
    "\n",
    "<b> - Признаки, присущие лояльным клиентам:</b>\n",
    "Мужчины из Ярославля, в среднем 38-40 лет, пользующиеся 2-мя банковскими продуктами, являются более лояльными клиентами.\n",
    "\n",
    "<b> - Признаки, присущие ушедшим клиентам:</b>\n",
    "Женщины со средним возрастом 43-45 лет из Ростова Великого, пользовавшиеся 3-4 продуктами Банка, проявляющие более низкую клиентскую активность, чаще остальных уходят в отток.\n",
    "\n",
    "__________________________________________________________________________________________________________________\n",
    "<b>3.Рекомендации бизнесу:</b>\n",
    "1. Для проведения последующих исследований, имеется необходимость сбора более подробной информации о:\n",
    "    - клиентах банка (место работы (учебы), должность, семейное положение, образование, как долго является клиентом, какими продуктами за это время пользовался и пользуется в настоящее время, при оформлении кредитов - суммы займов и цели);\n",
    "    - банковских продуктах(необходимо более детальное раскрытие каждого продукта для качественного анализа взаимодействия клиентов с ними и влияния определенного набора продуктов на отток).\n",
    "2. Возможно в Ярославле имеются проблемы со сбором информации о балансе клиентов, необходимо разобраться с причинами большого количества пропусков.\n",
    "3. Анализ с использованием большего количества данных клиентской активности и взаимодейтсвия с продуктами Банка в Ростове Великом, где отток выше, чем в других городах.\n",
    "4. Необходимо изучение продуктов, которыми пользовались ушедшие клиенты. Анализ обратной связи от ушедших клиентов поможет в данном вопросе.\n",
    "5. Увеличение маркетинговых затрат на привлечение групп граждан старше 40 лет, а также действующих клиентов, с падающей пользовательской активностью.\n",
    "6. Пересмотр или внедрение программы кэшбека, с повышенной ставкой за приобретение товаров и услуг, пользующихся спросом у женщин и клиентов старше 40 лет (клиенты, склонные к оттоку)."
   ]
  }
 ],
 "metadata": {
  "ExecuteTimeLog": [
   {
    "duration": 993,
    "start_time": "2021-12-06T17:54:24.824Z"
   },
   {
    "duration": 3688,
    "start_time": "2021-12-06T17:55:48.137Z"
   },
   {
    "duration": 3771,
    "start_time": "2021-12-06T17:56:07.828Z"
   },
   {
    "duration": 31,
    "start_time": "2021-12-06T17:56:18.322Z"
   },
   {
    "duration": 28,
    "start_time": "2021-12-06T17:59:27.708Z"
   },
   {
    "duration": 42,
    "start_time": "2021-12-06T17:59:36.660Z"
   },
   {
    "duration": 9,
    "start_time": "2021-12-06T18:01:17.142Z"
   },
   {
    "duration": 9,
    "start_time": "2021-12-06T18:01:39.615Z"
   },
   {
    "duration": 10,
    "start_time": "2021-12-06T18:01:49.974Z"
   },
   {
    "duration": 465,
    "start_time": "2021-12-06T18:02:02.983Z"
   },
   {
    "duration": 621,
    "start_time": "2021-12-08T10:14:16.028Z"
   },
   {
    "duration": 28,
    "start_time": "2021-12-08T10:14:16.651Z"
   },
   {
    "duration": 26,
    "start_time": "2021-12-08T10:14:16.681Z"
   },
   {
    "duration": 291,
    "start_time": "2021-12-08T10:16:56.029Z"
   },
   {
    "duration": 14,
    "start_time": "2021-12-08T10:17:05.137Z"
   },
   {
    "duration": 10,
    "start_time": "2021-12-08T10:17:44.831Z"
   },
   {
    "duration": 959,
    "start_time": "2021-12-08T10:22:03.215Z"
   },
   {
    "duration": 20,
    "start_time": "2021-12-08T10:22:07.424Z"
   },
   {
    "duration": 18,
    "start_time": "2021-12-08T12:41:06.168Z"
   },
   {
    "duration": 26,
    "start_time": "2021-12-08T12:41:38.301Z"
   },
   {
    "duration": 18,
    "start_time": "2021-12-08T12:41:47.927Z"
   },
   {
    "duration": 42,
    "start_time": "2021-12-08T12:41:58.774Z"
   },
   {
    "duration": 2175,
    "start_time": "2021-12-12T16:21:14.485Z"
   },
   {
    "duration": 132,
    "start_time": "2021-12-12T16:21:16.663Z"
   },
   {
    "duration": 36,
    "start_time": "2021-12-12T16:21:16.798Z"
   },
   {
    "duration": 71,
    "start_time": "2021-12-12T16:21:16.836Z"
   },
   {
    "duration": 1501,
    "start_time": "2021-12-13T08:12:52.543Z"
   },
   {
    "duration": 26,
    "start_time": "2021-12-13T08:12:54.046Z"
   },
   {
    "duration": 23,
    "start_time": "2021-12-13T08:12:54.074Z"
   },
   {
    "duration": 49,
    "start_time": "2021-12-13T08:12:54.100Z"
   },
   {
    "duration": 4,
    "start_time": "2021-12-13T08:13:07.660Z"
   },
   {
    "duration": 29,
    "start_time": "2021-12-13T08:13:07.666Z"
   },
   {
    "duration": 16,
    "start_time": "2021-12-13T08:13:07.697Z"
   },
   {
    "duration": 34,
    "start_time": "2021-12-13T08:13:07.715Z"
   },
   {
    "duration": 3,
    "start_time": "2021-12-13T08:20:08.057Z"
   },
   {
    "duration": 4,
    "start_time": "2021-12-13T08:20:08.942Z"
   },
   {
    "duration": 21,
    "start_time": "2021-12-13T08:20:18.308Z"
   },
   {
    "duration": 5,
    "start_time": "2021-12-13T08:21:38.520Z"
   },
   {
    "duration": 17,
    "start_time": "2021-12-13T08:21:39.630Z"
   },
   {
    "duration": 63,
    "start_time": "2021-12-13T09:08:15.368Z"
   },
   {
    "duration": 22,
    "start_time": "2021-12-13T09:08:31.234Z"
   },
   {
    "duration": 51,
    "start_time": "2021-12-13T09:08:54.416Z"
   },
   {
    "duration": 36,
    "start_time": "2021-12-13T09:09:07.252Z"
   },
   {
    "duration": 12,
    "start_time": "2021-12-13T09:11:14.776Z"
   },
   {
    "duration": 38,
    "start_time": "2021-12-13T09:11:41.119Z"
   },
   {
    "duration": 930,
    "start_time": "2021-12-13T09:13:18.225Z"
   },
   {
    "duration": 905,
    "start_time": "2021-12-13T09:13:51.290Z"
   },
   {
    "duration": 8,
    "start_time": "2021-12-13T09:37:23.795Z"
   },
   {
    "duration": 1172,
    "start_time": "2021-12-13T09:37:43.348Z"
   },
   {
    "duration": 8,
    "start_time": "2021-12-13T09:37:49.655Z"
   },
   {
    "duration": 2796,
    "start_time": "2021-12-13T09:38:07.430Z"
   },
   {
    "duration": 15,
    "start_time": "2021-12-13T09:57:07.536Z"
   },
   {
    "duration": 11,
    "start_time": "2021-12-13T09:57:18.199Z"
   },
   {
    "duration": 9,
    "start_time": "2021-12-13T09:57:23.599Z"
   },
   {
    "duration": 10,
    "start_time": "2021-12-13T09:57:57.291Z"
   },
   {
    "duration": 39,
    "start_time": "2021-12-13T10:01:44.345Z"
   },
   {
    "duration": 71,
    "start_time": "2021-12-13T10:02:17.373Z"
   },
   {
    "duration": 6,
    "start_time": "2021-12-13T10:06:36.406Z"
   },
   {
    "duration": 70,
    "start_time": "2021-12-13T10:06:47.013Z"
   },
   {
    "duration": 7,
    "start_time": "2021-12-13T10:09:00.095Z"
   },
   {
    "duration": 69,
    "start_time": "2021-12-13T10:09:14.187Z"
   },
   {
    "duration": 3276,
    "start_time": "2021-12-13T10:12:36.531Z"
   },
   {
    "duration": 9,
    "start_time": "2021-12-13T10:23:55.160Z"
   },
   {
    "duration": 19,
    "start_time": "2021-12-13T10:24:03.285Z"
   },
   {
    "duration": 64,
    "start_time": "2021-12-13T10:24:32.417Z"
   },
   {
    "duration": 341,
    "start_time": "2021-12-13T10:25:05.826Z"
   },
   {
    "duration": 295,
    "start_time": "2021-12-13T10:25:16.276Z"
   },
   {
    "duration": 2620,
    "start_time": "2021-12-13T10:25:25.257Z"
   },
   {
    "duration": 10,
    "start_time": "2021-12-13T10:37:45.426Z"
   },
   {
    "duration": 8,
    "start_time": "2021-12-13T10:38:28.252Z"
   },
   {
    "duration": 74,
    "start_time": "2021-12-13T10:38:29.039Z"
   },
   {
    "duration": 4096,
    "start_time": "2021-12-13T10:38:39.169Z"
   },
   {
    "duration": 7,
    "start_time": "2021-12-13T10:51:16.515Z"
   },
   {
    "duration": 2021,
    "start_time": "2021-12-13T13:18:34.543Z"
   },
   {
    "duration": 78,
    "start_time": "2021-12-13T13:18:36.567Z"
   },
   {
    "duration": 32,
    "start_time": "2021-12-13T13:18:36.649Z"
   },
   {
    "duration": 69,
    "start_time": "2021-12-13T13:18:36.684Z"
   },
   {
    "duration": 8,
    "start_time": "2021-12-13T13:18:36.756Z"
   },
   {
    "duration": 17,
    "start_time": "2021-12-13T13:18:36.766Z"
   },
   {
    "duration": 41,
    "start_time": "2021-12-13T13:18:36.785Z"
   },
   {
    "duration": 132,
    "start_time": "2021-12-13T13:18:36.830Z"
   },
   {
    "duration": 5062,
    "start_time": "2021-12-13T13:18:36.966Z"
   },
   {
    "duration": 10,
    "start_time": "2021-12-13T13:18:42.031Z"
   },
   {
    "duration": 9,
    "start_time": "2021-12-13T13:20:15.079Z"
   },
   {
    "duration": 307,
    "start_time": "2021-12-13T13:20:34.934Z"
   },
   {
    "duration": 9,
    "start_time": "2021-12-13T13:20:39.717Z"
   },
   {
    "duration": 460,
    "start_time": "2021-12-13T13:49:15.770Z"
   },
   {
    "duration": 1366,
    "start_time": "2021-12-13T13:49:28.671Z"
   },
   {
    "duration": 4660,
    "start_time": "2021-12-13T13:50:15.319Z"
   },
   {
    "duration": 1957,
    "start_time": "2021-12-14T05:52:03.645Z"
   },
   {
    "duration": 31,
    "start_time": "2021-12-14T05:52:05.604Z"
   },
   {
    "duration": 31,
    "start_time": "2021-12-14T05:52:05.638Z"
   },
   {
    "duration": 75,
    "start_time": "2021-12-14T05:52:05.672Z"
   },
   {
    "duration": 7,
    "start_time": "2021-12-14T05:52:05.750Z"
   },
   {
    "duration": 18,
    "start_time": "2021-12-14T05:52:05.759Z"
   },
   {
    "duration": 9,
    "start_time": "2021-12-14T05:52:05.779Z"
   },
   {
    "duration": 138,
    "start_time": "2021-12-14T05:52:05.792Z"
   },
   {
    "duration": 5697,
    "start_time": "2021-12-14T05:52:05.934Z"
   },
   {
    "duration": 8,
    "start_time": "2021-12-14T05:52:11.634Z"
   },
   {
    "duration": 9,
    "start_time": "2021-12-14T05:52:11.644Z"
   },
   {
    "duration": 4177,
    "start_time": "2021-12-14T05:52:11.655Z"
   },
   {
    "duration": 853,
    "start_time": "2021-12-14T05:54:06.782Z"
   },
   {
    "duration": 4731,
    "start_time": "2021-12-14T05:54:13.868Z"
   },
   {
    "duration": 4108,
    "start_time": "2021-12-14T05:54:48.138Z"
   },
   {
    "duration": 5781,
    "start_time": "2021-12-14T05:56:08.038Z"
   },
   {
    "duration": 5272,
    "start_time": "2021-12-14T05:57:04.205Z"
   },
   {
    "duration": 6789,
    "start_time": "2021-12-14T05:57:30.778Z"
   },
   {
    "duration": 22,
    "start_time": "2021-12-14T06:01:08.498Z"
   },
   {
    "duration": 24,
    "start_time": "2021-12-14T06:03:22.121Z"
   },
   {
    "duration": 8,
    "start_time": "2021-12-14T09:51:21.367Z"
   },
   {
    "duration": 1299,
    "start_time": "2021-12-14T09:51:22.655Z"
   },
   {
    "duration": 5843,
    "start_time": "2021-12-14T10:03:23.206Z"
   },
   {
    "duration": 1089,
    "start_time": "2021-12-14T10:06:01.881Z"
   },
   {
    "duration": 508,
    "start_time": "2021-12-14T10:06:16.087Z"
   },
   {
    "duration": 307,
    "start_time": "2021-12-14T10:08:24.445Z"
   },
   {
    "duration": 305,
    "start_time": "2021-12-14T10:09:02.039Z"
   },
   {
    "duration": 330,
    "start_time": "2021-12-14T10:09:59.078Z"
   },
   {
    "duration": 311,
    "start_time": "2021-12-14T10:10:19.789Z"
   },
   {
    "duration": 312,
    "start_time": "2021-12-14T10:10:42.645Z"
   },
   {
    "duration": 3791,
    "start_time": "2021-12-14T10:12:24.869Z"
   },
   {
    "duration": 996,
    "start_time": "2021-12-14T10:52:51.449Z"
   },
   {
    "duration": 259,
    "start_time": "2021-12-14T10:56:05.037Z"
   },
   {
    "duration": 259,
    "start_time": "2021-12-14T10:56:23.237Z"
   },
   {
    "duration": 810,
    "start_time": "2021-12-14T10:58:37.499Z"
   },
   {
    "duration": 289,
    "start_time": "2021-12-14T10:59:12.144Z"
   },
   {
    "duration": 535,
    "start_time": "2021-12-14T11:01:31.480Z"
   },
   {
    "duration": 1121,
    "start_time": "2021-12-14T11:04:53.055Z"
   },
   {
    "duration": 439,
    "start_time": "2021-12-14T11:05:42.580Z"
   },
   {
    "duration": 438,
    "start_time": "2021-12-14T11:06:05.122Z"
   },
   {
    "duration": 474,
    "start_time": "2021-12-14T11:06:24.513Z"
   },
   {
    "duration": 625,
    "start_time": "2021-12-14T11:06:41.383Z"
   },
   {
    "duration": 583,
    "start_time": "2021-12-14T11:07:20.675Z"
   },
   {
    "duration": 991,
    "start_time": "2021-12-14T11:07:31.310Z"
   },
   {
    "duration": 1316,
    "start_time": "2021-12-14T11:07:42.936Z"
   },
   {
    "duration": 8566,
    "start_time": "2021-12-14T11:37:25.139Z"
   },
   {
    "duration": 8754,
    "start_time": "2021-12-14T11:37:59.428Z"
   },
   {
    "duration": 5829,
    "start_time": "2021-12-14T11:38:23.784Z"
   },
   {
    "duration": 404,
    "start_time": "2021-12-14T11:44:32.637Z"
   },
   {
    "duration": 1699,
    "start_time": "2021-12-14T11:45:11.509Z"
   },
   {
    "duration": 2190,
    "start_time": "2021-12-14T11:46:04.437Z"
   },
   {
    "duration": 1172,
    "start_time": "2021-12-14T11:46:16.452Z"
   },
   {
    "duration": 685,
    "start_time": "2021-12-14T11:48:42.916Z"
   },
   {
    "duration": 5,
    "start_time": "2021-12-14T11:48:50.505Z"
   },
   {
    "duration": 2304,
    "start_time": "2021-12-14T11:48:53.175Z"
   },
   {
    "duration": 1637,
    "start_time": "2021-12-14T11:48:58.245Z"
   },
   {
    "duration": 1614,
    "start_time": "2021-12-14T11:52:12.413Z"
   },
   {
    "duration": 342,
    "start_time": "2021-12-14T11:53:08.969Z"
   },
   {
    "duration": 1478,
    "start_time": "2021-12-14T11:53:12.364Z"
   },
   {
    "duration": 303,
    "start_time": "2021-12-14T11:53:15.773Z"
   },
   {
    "duration": 300,
    "start_time": "2021-12-14T11:53:42.212Z"
   },
   {
    "duration": 28,
    "start_time": "2021-12-14T11:54:26.746Z"
   },
   {
    "duration": 660,
    "start_time": "2021-12-14T11:56:32.695Z"
   },
   {
    "duration": 3423,
    "start_time": "2021-12-14T11:56:40.807Z"
   },
   {
    "duration": 6,
    "start_time": "2021-12-14T11:58:37.137Z"
   },
   {
    "duration": 1453,
    "start_time": "2021-12-14T11:58:39.093Z"
   },
   {
    "duration": 2687,
    "start_time": "2021-12-14T11:59:24.433Z"
   },
   {
    "duration": 1281,
    "start_time": "2021-12-14T11:59:27.194Z"
   },
   {
    "duration": 1521,
    "start_time": "2021-12-14T11:59:38.731Z"
   },
   {
    "duration": 28,
    "start_time": "2021-12-14T11:59:40.737Z"
   },
   {
    "duration": 3180,
    "start_time": "2021-12-14T11:59:51.922Z"
   },
   {
    "duration": 98,
    "start_time": "2021-12-14T12:51:56.832Z"
   },
   {
    "duration": 25,
    "start_time": "2021-12-14T12:53:26.763Z"
   },
   {
    "duration": 14,
    "start_time": "2021-12-14T12:54:01.706Z"
   },
   {
    "duration": 518,
    "start_time": "2021-12-14T12:55:53.497Z"
   },
   {
    "duration": 6,
    "start_time": "2021-12-14T12:56:52.551Z"
   },
   {
    "duration": 301,
    "start_time": "2021-12-14T12:56:56.848Z"
   },
   {
    "duration": 10,
    "start_time": "2021-12-14T12:57:02.750Z"
   },
   {
    "duration": 13,
    "start_time": "2021-12-14T12:57:03.248Z"
   },
   {
    "duration": 346,
    "start_time": "2021-12-14T13:16:53.447Z"
   },
   {
    "duration": 38,
    "start_time": "2021-12-14T13:17:13.720Z"
   },
   {
    "duration": 15,
    "start_time": "2021-12-14T13:17:29.220Z"
   },
   {
    "duration": 7,
    "start_time": "2021-12-14T13:17:44.887Z"
   },
   {
    "duration": 14,
    "start_time": "2021-12-14T13:17:54.415Z"
   },
   {
    "duration": 30,
    "start_time": "2021-12-14T13:17:55.548Z"
   },
   {
    "duration": 12,
    "start_time": "2021-12-14T13:18:04.276Z"
   },
   {
    "duration": 30,
    "start_time": "2021-12-14T13:18:09.950Z"
   },
   {
    "duration": 29,
    "start_time": "2021-12-14T13:18:28.987Z"
   },
   {
    "duration": 12,
    "start_time": "2021-12-14T13:18:36.209Z"
   },
   {
    "duration": 9,
    "start_time": "2021-12-14T13:19:02.541Z"
   },
   {
    "duration": 12,
    "start_time": "2021-12-14T13:21:19.072Z"
   },
   {
    "duration": 11,
    "start_time": "2021-12-14T13:21:20.245Z"
   },
   {
    "duration": 7476,
    "start_time": "2021-12-14T13:21:47.717Z"
   },
   {
    "duration": 12,
    "start_time": "2021-12-14T13:21:59.546Z"
   },
   {
    "duration": 13,
    "start_time": "2021-12-14T13:22:00.720Z"
   },
   {
    "duration": 13,
    "start_time": "2021-12-14T13:23:58.932Z"
   },
   {
    "duration": 10,
    "start_time": "2021-12-14T13:24:00.982Z"
   },
   {
    "duration": 11,
    "start_time": "2021-12-14T13:25:23.517Z"
   },
   {
    "duration": 10,
    "start_time": "2021-12-14T13:25:24.296Z"
   },
   {
    "duration": 14,
    "start_time": "2021-12-14T13:26:00.875Z"
   },
   {
    "duration": 12,
    "start_time": "2021-12-14T13:26:01.966Z"
   },
   {
    "duration": 11,
    "start_time": "2021-12-14T13:26:30.662Z"
   },
   {
    "duration": 11,
    "start_time": "2021-12-14T13:26:32.235Z"
   },
   {
    "duration": 11,
    "start_time": "2021-12-14T13:27:30.939Z"
   },
   {
    "duration": 15,
    "start_time": "2021-12-14T13:27:32.031Z"
   },
   {
    "duration": 23,
    "start_time": "2021-12-14T13:29:12.385Z"
   },
   {
    "duration": 242,
    "start_time": "2021-12-14T13:44:34.839Z"
   },
   {
    "duration": 9257,
    "start_time": "2021-12-14T13:46:26.955Z"
   },
   {
    "duration": 5,
    "start_time": "2021-12-14T13:47:12.777Z"
   },
   {
    "duration": 261,
    "start_time": "2021-12-14T13:47:31.998Z"
   },
   {
    "duration": 551,
    "start_time": "2021-12-14T13:47:45.730Z"
   },
   {
    "duration": 9,
    "start_time": "2021-12-14T13:51:26.861Z"
   },
   {
    "duration": 122,
    "start_time": "2021-12-14T13:51:28.138Z"
   },
   {
    "duration": 113,
    "start_time": "2021-12-14T13:52:24.109Z"
   },
   {
    "duration": 117,
    "start_time": "2021-12-14T13:52:30.103Z"
   },
   {
    "duration": 108,
    "start_time": "2021-12-14T13:52:36.349Z"
   },
   {
    "duration": 132,
    "start_time": "2021-12-14T13:55:25.011Z"
   },
   {
    "duration": 128,
    "start_time": "2021-12-14T13:55:34.422Z"
   },
   {
    "duration": 95,
    "start_time": "2021-12-14T13:56:18.949Z"
   },
   {
    "duration": 104,
    "start_time": "2021-12-14T13:56:26.541Z"
   },
   {
    "duration": 118,
    "start_time": "2021-12-14T13:56:35.778Z"
   },
   {
    "duration": 126,
    "start_time": "2021-12-14T13:56:40.699Z"
   },
   {
    "duration": 121,
    "start_time": "2021-12-14T13:57:03.655Z"
   },
   {
    "duration": 92,
    "start_time": "2021-12-14T14:04:52.622Z"
   },
   {
    "duration": 5458,
    "start_time": "2021-12-14T14:05:09.388Z"
   },
   {
    "duration": 3732,
    "start_time": "2021-12-14T14:05:16.367Z"
   },
   {
    "duration": 6,
    "start_time": "2021-12-14T15:36:11.600Z"
   },
   {
    "duration": 2261,
    "start_time": "2021-12-14T15:36:14.428Z"
   },
   {
    "duration": 1075,
    "start_time": "2021-12-14T15:36:18.942Z"
   },
   {
    "duration": 1694,
    "start_time": "2021-12-14T15:36:28.730Z"
   },
   {
    "duration": 26,
    "start_time": "2021-12-14T15:36:34.993Z"
   },
   {
    "duration": 2948,
    "start_time": "2021-12-14T15:38:02.549Z"
   },
   {
    "duration": 296,
    "start_time": "2021-12-14T15:40:49.806Z"
   },
   {
    "duration": 46,
    "start_time": "2021-12-14T15:41:13.977Z"
   },
   {
    "duration": 256,
    "start_time": "2021-12-14T15:41:52.979Z"
   },
   {
    "duration": 1562,
    "start_time": "2021-12-14T15:42:13.063Z"
   },
   {
    "duration": 25,
    "start_time": "2021-12-14T15:42:15.272Z"
   },
   {
    "duration": 3123,
    "start_time": "2021-12-14T15:42:18.991Z"
   },
   {
    "duration": 312,
    "start_time": "2021-12-14T15:44:44.950Z"
   },
   {
    "duration": 6,
    "start_time": "2021-12-14T15:45:06.247Z"
   },
   {
    "duration": 25,
    "start_time": "2021-12-14T15:45:14.137Z"
   },
   {
    "duration": 1925,
    "start_time": "2021-12-14T15:45:27.082Z"
   },
   {
    "duration": 28,
    "start_time": "2021-12-14T15:45:29.010Z"
   },
   {
    "duration": 30,
    "start_time": "2021-12-14T15:45:29.041Z"
   },
   {
    "duration": 81,
    "start_time": "2021-12-14T15:45:29.074Z"
   },
   {
    "duration": 3712,
    "start_time": "2021-12-14T15:45:29.158Z"
   },
   {
    "duration": 9,
    "start_time": "2021-12-14T15:45:32.873Z"
   },
   {
    "duration": 40,
    "start_time": "2021-12-14T15:45:32.885Z"
   },
   {
    "duration": 9,
    "start_time": "2021-12-14T15:45:32.931Z"
   },
   {
    "duration": 137,
    "start_time": "2021-12-14T15:45:32.944Z"
   },
   {
    "duration": 3984,
    "start_time": "2021-12-14T15:45:33.085Z"
   },
   {
    "duration": 8,
    "start_time": "2021-12-14T15:45:37.071Z"
   },
   {
    "duration": 43,
    "start_time": "2021-12-14T15:45:37.081Z"
   },
   {
    "duration": 4085,
    "start_time": "2021-12-14T15:45:37.127Z"
   },
   {
    "duration": 12,
    "start_time": "2021-12-14T15:45:41.215Z"
   },
   {
    "duration": 34,
    "start_time": "2021-12-14T15:45:41.229Z"
   },
   {
    "duration": 5153,
    "start_time": "2021-12-14T15:45:41.265Z"
   },
   {
    "duration": 8,
    "start_time": "2021-12-14T15:45:46.423Z"
   },
   {
    "duration": 1268,
    "start_time": "2021-12-14T15:45:46.433Z"
   },
   {
    "duration": 6,
    "start_time": "2021-12-14T15:45:47.704Z"
   },
   {
    "duration": 2237,
    "start_time": "2021-12-14T15:45:47.724Z"
   },
   {
    "duration": 1099,
    "start_time": "2021-12-14T15:45:49.963Z"
   },
   {
    "duration": 1565,
    "start_time": "2021-12-14T15:45:51.064Z"
   },
   {
    "duration": 24,
    "start_time": "2021-12-14T15:45:52.633Z"
   },
   {
    "duration": 2935,
    "start_time": "2021-12-14T15:45:52.660Z"
   },
   {
    "duration": 50,
    "start_time": "2021-12-14T15:45:55.597Z"
   },
   {
    "duration": 249,
    "start_time": "2021-12-14T15:45:55.649Z"
   },
   {
    "duration": 22,
    "start_time": "2021-12-14T15:45:55.901Z"
   },
   {
    "duration": 9,
    "start_time": "2021-12-14T15:45:55.926Z"
   },
   {
    "duration": 16,
    "start_time": "2021-12-14T15:45:55.937Z"
   },
   {
    "duration": 466,
    "start_time": "2021-12-14T15:45:55.955Z"
   },
   {
    "duration": -163,
    "start_time": "2021-12-14T15:45:56.587Z"
   },
   {
    "duration": 1941,
    "start_time": "2021-12-14T15:52:08.900Z"
   },
   {
    "duration": 319,
    "start_time": "2021-12-14T15:54:21.186Z"
   },
   {
    "duration": 736,
    "start_time": "2021-12-14T15:54:37.449Z"
   },
   {
    "duration": 12,
    "start_time": "2021-12-14T15:54:49.028Z"
   },
   {
    "duration": 383,
    "start_time": "2021-12-14T15:54:57.709Z"
   },
   {
    "duration": 3,
    "start_time": "2021-12-14T15:55:09.766Z"
   },
   {
    "duration": 4,
    "start_time": "2021-12-14T15:55:15.822Z"
   },
   {
    "duration": 293,
    "start_time": "2021-12-14T15:55:21.478Z"
   },
   {
    "duration": 4,
    "start_time": "2021-12-14T15:55:49.643Z"
   },
   {
    "duration": 24,
    "start_time": "2021-12-14T15:55:56.592Z"
   },
   {
    "duration": 334,
    "start_time": "2021-12-14T15:56:15.337Z"
   },
   {
    "duration": 292,
    "start_time": "2021-12-14T15:56:24.068Z"
   },
   {
    "duration": 4,
    "start_time": "2021-12-14T15:58:54.718Z"
   },
   {
    "duration": 27,
    "start_time": "2021-12-14T15:59:09.825Z"
   },
   {
    "duration": 7,
    "start_time": "2021-12-14T15:59:51.530Z"
   },
   {
    "duration": 1473,
    "start_time": "2021-12-15T13:09:49.997Z"
   },
   {
    "duration": 2,
    "start_time": "2021-12-15T13:09:51.472Z"
   },
   {
    "duration": 29,
    "start_time": "2021-12-15T13:09:51.476Z"
   },
   {
    "duration": 20,
    "start_time": "2021-12-15T13:09:51.506Z"
   },
   {
    "duration": 38,
    "start_time": "2021-12-15T13:09:51.527Z"
   },
   {
    "duration": 2010,
    "start_time": "2021-12-15T13:09:51.567Z"
   },
   {
    "duration": 9,
    "start_time": "2021-12-15T13:09:53.579Z"
   },
   {
    "duration": 10,
    "start_time": "2021-12-15T13:09:53.590Z"
   },
   {
    "duration": 8,
    "start_time": "2021-12-15T13:09:53.602Z"
   },
   {
    "duration": 86,
    "start_time": "2021-12-15T13:09:53.612Z"
   },
   {
    "duration": 2544,
    "start_time": "2021-12-15T13:09:53.700Z"
   },
   {
    "duration": 5,
    "start_time": "2021-12-15T13:09:56.245Z"
   },
   {
    "duration": 16,
    "start_time": "2021-12-15T13:09:56.252Z"
   },
   {
    "duration": 2534,
    "start_time": "2021-12-15T13:09:56.269Z"
   },
   {
    "duration": 6,
    "start_time": "2021-12-15T13:09:58.805Z"
   },
   {
    "duration": 25,
    "start_time": "2021-12-15T13:09:58.813Z"
   },
   {
    "duration": 3243,
    "start_time": "2021-12-15T13:09:58.839Z"
   },
   {
    "duration": 6,
    "start_time": "2021-12-15T13:10:02.087Z"
   },
   {
    "duration": 811,
    "start_time": "2021-12-15T13:10:02.095Z"
   },
   {
    "duration": 4,
    "start_time": "2021-12-15T13:10:02.908Z"
   },
   {
    "duration": 1594,
    "start_time": "2021-12-15T13:10:02.913Z"
   },
   {
    "duration": 725,
    "start_time": "2021-12-15T13:10:04.508Z"
   },
   {
    "duration": 1156,
    "start_time": "2021-12-15T13:10:05.235Z"
   },
   {
    "duration": 108,
    "start_time": "2021-12-15T13:10:06.393Z"
   },
   {
    "duration": 1746,
    "start_time": "2021-12-15T13:10:06.503Z"
   },
   {
    "duration": 24,
    "start_time": "2021-12-15T13:10:08.250Z"
   },
   {
    "duration": 156,
    "start_time": "2021-12-15T13:10:08.275Z"
   },
   {
    "duration": 6,
    "start_time": "2021-12-15T13:10:08.433Z"
   },
   {
    "duration": 5,
    "start_time": "2021-12-15T13:10:08.441Z"
   },
   {
    "duration": 8,
    "start_time": "2021-12-15T13:10:08.447Z"
   },
   {
    "duration": 341,
    "start_time": "2021-12-15T13:10:08.456Z"
   },
   {
    "duration": -80,
    "start_time": "2021-12-15T13:10:08.878Z"
   },
   {
    "duration": 1636,
    "start_time": "2021-12-16T07:04:15.373Z"
   },
   {
    "duration": 2,
    "start_time": "2021-12-16T07:04:17.011Z"
   },
   {
    "duration": 38,
    "start_time": "2021-12-16T07:04:17.015Z"
   },
   {
    "duration": 22,
    "start_time": "2021-12-16T07:04:17.055Z"
   },
   {
    "duration": 41,
    "start_time": "2021-12-16T07:04:17.078Z"
   },
   {
    "duration": 2160,
    "start_time": "2021-12-16T07:04:17.121Z"
   },
   {
    "duration": 5,
    "start_time": "2021-12-16T07:04:19.283Z"
   },
   {
    "duration": 20,
    "start_time": "2021-12-16T07:04:19.290Z"
   },
   {
    "duration": 13,
    "start_time": "2021-12-16T07:04:19.312Z"
   },
   {
    "duration": 83,
    "start_time": "2021-12-16T07:04:19.327Z"
   },
   {
    "duration": 2524,
    "start_time": "2021-12-16T07:04:19.411Z"
   },
   {
    "duration": 6,
    "start_time": "2021-12-16T07:04:21.936Z"
   },
   {
    "duration": 32,
    "start_time": "2021-12-16T07:04:21.943Z"
   },
   {
    "duration": 2667,
    "start_time": "2021-12-16T07:04:21.977Z"
   },
   {
    "duration": 6,
    "start_time": "2021-12-16T07:04:24.646Z"
   },
   {
    "duration": 21,
    "start_time": "2021-12-16T07:04:24.654Z"
   },
   {
    "duration": 3590,
    "start_time": "2021-12-16T07:04:24.677Z"
   },
   {
    "duration": 7,
    "start_time": "2021-12-16T07:04:28.268Z"
   },
   {
    "duration": 906,
    "start_time": "2021-12-16T07:04:28.276Z"
   },
   {
    "duration": 4,
    "start_time": "2021-12-16T07:04:29.184Z"
   },
   {
    "duration": 1789,
    "start_time": "2021-12-16T07:04:29.190Z"
   },
   {
    "duration": 791,
    "start_time": "2021-12-16T07:04:30.981Z"
   },
   {
    "duration": 1440,
    "start_time": "2021-12-16T07:04:31.775Z"
   },
   {
    "duration": 102,
    "start_time": "2021-12-16T07:04:33.217Z"
   },
   {
    "duration": 1897,
    "start_time": "2021-12-16T07:04:33.321Z"
   },
   {
    "duration": 25,
    "start_time": "2021-12-16T07:04:35.219Z"
   },
   {
    "duration": 163,
    "start_time": "2021-12-16T07:04:35.246Z"
   },
   {
    "duration": 7,
    "start_time": "2021-12-16T07:04:35.411Z"
   },
   {
    "duration": 7,
    "start_time": "2021-12-16T07:04:35.420Z"
   },
   {
    "duration": 10,
    "start_time": "2021-12-16T07:04:35.428Z"
   },
   {
    "duration": 470,
    "start_time": "2021-12-16T07:04:35.439Z"
   },
   {
    "duration": -117,
    "start_time": "2021-12-16T07:04:36.027Z"
   },
   {
    "duration": 7,
    "start_time": "2021-12-16T07:12:33.750Z"
   },
   {
    "duration": 9,
    "start_time": "2021-12-16T07:12:54.394Z"
   },
   {
    "duration": 7,
    "start_time": "2021-12-16T07:12:55.430Z"
   },
   {
    "duration": 17,
    "start_time": "2021-12-16T07:17:46.168Z"
   },
   {
    "duration": 9,
    "start_time": "2021-12-16T07:18:08.822Z"
   },
   {
    "duration": 8,
    "start_time": "2021-12-16T07:18:10.352Z"
   },
   {
    "duration": 357,
    "start_time": "2021-12-16T07:24:09.436Z"
   },
   {
    "duration": 9,
    "start_time": "2021-12-16T07:24:13.758Z"
   },
   {
    "duration": 7,
    "start_time": "2021-12-16T07:24:14.283Z"
   },
   {
    "duration": 8,
    "start_time": "2021-12-16T07:24:45.656Z"
   },
   {
    "duration": 8,
    "start_time": "2021-12-16T09:27:46.291Z"
   },
   {
    "duration": 9,
    "start_time": "2021-12-16T09:28:06.806Z"
   },
   {
    "duration": 5,
    "start_time": "2021-12-16T10:03:21.585Z"
   },
   {
    "duration": 1604,
    "start_time": "2021-12-16T10:03:22.371Z"
   },
   {
    "duration": 771,
    "start_time": "2021-12-16T10:03:23.977Z"
   },
   {
    "duration": 925,
    "start_time": "2021-12-16T10:03:49.981Z"
   },
   {
    "duration": 17,
    "start_time": "2021-12-16T10:03:53.793Z"
   },
   {
    "duration": 1912,
    "start_time": "2021-12-16T10:04:15.004Z"
   },
   {
    "duration": 5,
    "start_time": "2021-12-16T10:06:24.524Z"
   },
   {
    "duration": 2367,
    "start_time": "2021-12-16T10:06:25.335Z"
   },
   {
    "duration": 802,
    "start_time": "2021-12-16T10:06:27.704Z"
   },
   {
    "duration": 18,
    "start_time": "2021-12-16T10:14:48.635Z"
   },
   {
    "duration": 3,
    "start_time": "2021-12-16T10:16:28.753Z"
   },
   {
    "duration": 42,
    "start_time": "2021-12-16T10:17:18.994Z"
   },
   {
    "duration": 20,
    "start_time": "2021-12-16T10:17:24.606Z"
   },
   {
    "duration": 1660,
    "start_time": "2021-12-16T10:18:07.057Z"
   },
   {
    "duration": 909,
    "start_time": "2021-12-16T10:18:12.911Z"
   },
   {
    "duration": 1578,
    "start_time": "2021-12-16T10:21:15.738Z"
   },
   {
    "duration": 772,
    "start_time": "2021-12-16T10:21:20.099Z"
   },
   {
    "duration": 1940,
    "start_time": "2021-12-16T10:22:16.512Z"
   },
   {
    "duration": 4,
    "start_time": "2021-12-16T10:22:38.879Z"
   },
   {
    "duration": 1754,
    "start_time": "2021-12-16T10:22:42.728Z"
   },
   {
    "duration": 886,
    "start_time": "2021-12-16T10:22:47.607Z"
   },
   {
    "duration": 1668,
    "start_time": "2021-12-16T10:23:46.146Z"
   },
   {
    "duration": 25,
    "start_time": "2021-12-16T10:23:48.973Z"
   },
   {
    "duration": 16,
    "start_time": "2021-12-16T10:24:39.173Z"
   },
   {
    "duration": 1369,
    "start_time": "2021-12-16T10:24:57.238Z"
   },
   {
    "duration": 16,
    "start_time": "2021-12-16T10:24:59.351Z"
   },
   {
    "duration": 4,
    "start_time": "2021-12-16T10:27:17.135Z"
   },
   {
    "duration": 44,
    "start_time": "2021-12-16T10:27:18.042Z"
   },
   {
    "duration": 19,
    "start_time": "2021-12-16T10:27:19.405Z"
   },
   {
    "duration": 4,
    "start_time": "2021-12-16T10:27:28.891Z"
   },
   {
    "duration": 18,
    "start_time": "2021-12-16T10:27:38.050Z"
   },
   {
    "duration": 18,
    "start_time": "2021-12-16T10:27:48.828Z"
   },
   {
    "duration": 1669,
    "start_time": "2021-12-16T10:28:03.191Z"
   },
   {
    "duration": 5,
    "start_time": "2021-12-16T10:28:12.922Z"
   },
   {
    "duration": 4,
    "start_time": "2021-12-16T10:28:33.594Z"
   },
   {
    "duration": 743,
    "start_time": "2021-12-16T10:28:45.821Z"
   },
   {
    "duration": 775,
    "start_time": "2021-12-16T10:29:11.940Z"
   },
   {
    "duration": 17,
    "start_time": "2021-12-16T10:29:23.827Z"
   },
   {
    "duration": 16,
    "start_time": "2021-12-16T10:29:58.987Z"
   },
   {
    "duration": 1642,
    "start_time": "2021-12-16T10:36:23.007Z"
   },
   {
    "duration": 920,
    "start_time": "2021-12-16T10:36:24.651Z"
   },
   {
    "duration": 1209,
    "start_time": "2021-12-16T10:36:34.009Z"
   },
   {
    "duration": 22,
    "start_time": "2021-12-16T10:36:37.045Z"
   },
   {
    "duration": 1836,
    "start_time": "2021-12-16T10:37:21.692Z"
   },
   {
    "duration": 26,
    "start_time": "2021-12-16T10:43:48.011Z"
   },
   {
    "duration": 27,
    "start_time": "2021-12-16T10:44:30.206Z"
   },
   {
    "duration": 177,
    "start_time": "2021-12-16T10:45:05.915Z"
   },
   {
    "duration": 4,
    "start_time": "2021-12-16T10:48:23.129Z"
   },
   {
    "duration": 15,
    "start_time": "2021-12-16T10:48:33.101Z"
   },
   {
    "duration": 19,
    "start_time": "2021-12-16T10:48:41.336Z"
   },
   {
    "duration": 1690,
    "start_time": "2021-12-16T10:49:30.645Z"
   },
   {
    "duration": 870,
    "start_time": "2021-12-16T10:49:36.014Z"
   },
   {
    "duration": 1192,
    "start_time": "2021-12-16T10:49:49.024Z"
   },
   {
    "duration": 21,
    "start_time": "2021-12-16T10:50:17.914Z"
   },
   {
    "duration": 4,
    "start_time": "2021-12-16T10:52:55.459Z"
   },
   {
    "duration": 1690,
    "start_time": "2021-12-16T10:52:56.897Z"
   },
   {
    "duration": 744,
    "start_time": "2021-12-16T10:53:00.541Z"
   },
   {
    "duration": 1036,
    "start_time": "2021-12-16T10:53:13.371Z"
   },
   {
    "duration": 20,
    "start_time": "2021-12-16T10:53:21.379Z"
   },
   {
    "duration": 4,
    "start_time": "2021-12-16T10:55:10.601Z"
   },
   {
    "duration": 1844,
    "start_time": "2021-12-16T10:55:17.902Z"
   },
   {
    "duration": 918,
    "start_time": "2021-12-16T10:55:20.834Z"
   },
   {
    "duration": 889,
    "start_time": "2021-12-16T10:55:34.719Z"
   },
   {
    "duration": 20,
    "start_time": "2021-12-16T10:55:35.997Z"
   },
   {
    "duration": 12,
    "start_time": "2021-12-16T10:56:18.236Z"
   },
   {
    "duration": 19,
    "start_time": "2021-12-16T10:56:19.710Z"
   },
   {
    "duration": 1637,
    "start_time": "2021-12-16T10:56:29.009Z"
   },
   {
    "duration": 747,
    "start_time": "2021-12-16T10:56:30.647Z"
   },
   {
    "duration": 1217,
    "start_time": "2021-12-16T10:56:38.990Z"
   },
   {
    "duration": 19,
    "start_time": "2021-12-16T10:56:41.547Z"
   },
   {
    "duration": 2987,
    "start_time": "2021-12-16T10:57:47.415Z"
   },
   {
    "duration": 1524,
    "start_time": "2021-12-19T18:11:00.021Z"
   },
   {
    "duration": 2,
    "start_time": "2021-12-19T18:11:01.547Z"
   },
   {
    "duration": 36,
    "start_time": "2021-12-19T18:11:01.552Z"
   },
   {
    "duration": 22,
    "start_time": "2021-12-19T18:11:01.590Z"
   },
   {
    "duration": 41,
    "start_time": "2021-12-19T18:11:01.614Z"
   },
   {
    "duration": 2122,
    "start_time": "2021-12-19T18:11:01.657Z"
   },
   {
    "duration": 7,
    "start_time": "2021-12-19T18:11:03.780Z"
   },
   {
    "duration": 8,
    "start_time": "2021-12-19T18:11:03.789Z"
   },
   {
    "duration": 8,
    "start_time": "2021-12-19T18:11:03.800Z"
   },
   {
    "duration": 81,
    "start_time": "2021-12-19T18:11:03.810Z"
   },
   {
    "duration": 2468,
    "start_time": "2021-12-19T18:11:03.893Z"
   },
   {
    "duration": 6,
    "start_time": "2021-12-19T18:11:06.362Z"
   },
   {
    "duration": 47,
    "start_time": "2021-12-19T18:11:06.369Z"
   },
   {
    "duration": 2525,
    "start_time": "2021-12-19T18:11:06.418Z"
   },
   {
    "duration": 6,
    "start_time": "2021-12-19T18:11:08.944Z"
   },
   {
    "duration": 15,
    "start_time": "2021-12-19T18:11:08.951Z"
   },
   {
    "duration": 3830,
    "start_time": "2021-12-19T18:11:08.968Z"
   },
   {
    "duration": 7,
    "start_time": "2021-12-19T18:11:12.799Z"
   },
   {
    "duration": 1016,
    "start_time": "2021-12-19T18:11:12.808Z"
   },
   {
    "duration": 4,
    "start_time": "2021-12-19T18:11:13.827Z"
   },
   {
    "duration": 21,
    "start_time": "2021-12-19T18:11:13.832Z"
   },
   {
    "duration": 42,
    "start_time": "2021-12-19T18:11:13.854Z"
   },
   {
    "duration": 59,
    "start_time": "2021-12-19T18:11:13.898Z"
   },
   {
    "duration": 6,
    "start_time": "2021-12-19T18:11:13.958Z"
   },
   {
    "duration": 1692,
    "start_time": "2021-12-19T18:11:13.965Z"
   },
   {
    "duration": 823,
    "start_time": "2021-12-19T18:11:15.659Z"
   },
   {
    "duration": 1110,
    "start_time": "2021-12-19T18:11:16.484Z"
   },
   {
    "duration": 100,
    "start_time": "2021-12-19T18:11:17.597Z"
   },
   {
    "duration": 3200,
    "start_time": "2021-12-19T18:11:17.699Z"
   },
   {
    "duration": 417,
    "start_time": "2021-12-19T18:11:20.901Z"
   },
   {
    "duration": -1435,
    "start_time": "2021-12-19T18:11:22.755Z"
   },
   {
    "duration": -1439,
    "start_time": "2021-12-19T18:11:22.761Z"
   },
   {
    "duration": -1442,
    "start_time": "2021-12-19T18:11:22.765Z"
   },
   {
    "duration": -1446,
    "start_time": "2021-12-19T18:11:22.770Z"
   },
   {
    "duration": -1448,
    "start_time": "2021-12-19T18:11:22.774Z"
   },
   {
    "duration": 11,
    "start_time": "2021-12-19T18:17:46.638Z"
   },
   {
    "duration": 18,
    "start_time": "2021-12-19T18:17:52.829Z"
   },
   {
    "duration": 3,
    "start_time": "2021-12-19T18:18:11.624Z"
   },
   {
    "duration": 12,
    "start_time": "2021-12-19T18:18:13.280Z"
   },
   {
    "duration": 20,
    "start_time": "2021-12-19T18:18:14.407Z"
   },
   {
    "duration": 18,
    "start_time": "2021-12-19T18:18:46.686Z"
   },
   {
    "duration": 14,
    "start_time": "2021-12-19T18:19:32.238Z"
   },
   {
    "duration": 4,
    "start_time": "2021-12-19T18:20:47.062Z"
   },
   {
    "duration": 17,
    "start_time": "2021-12-19T18:20:53.079Z"
   },
   {
    "duration": 5,
    "start_time": "2021-12-19T18:21:17.463Z"
   },
   {
    "duration": 1507,
    "start_time": "2021-12-19T18:21:35.964Z"
   },
   {
    "duration": 951,
    "start_time": "2021-12-19T18:21:42.804Z"
   },
   {
    "duration": 925,
    "start_time": "2021-12-19T18:27:59.463Z"
   },
   {
    "duration": 15,
    "start_time": "2021-12-19T18:30:44.298Z"
   },
   {
    "duration": 4,
    "start_time": "2021-12-19T18:30:57.531Z"
   },
   {
    "duration": 1478,
    "start_time": "2021-12-19T18:30:58.337Z"
   },
   {
    "duration": 804,
    "start_time": "2021-12-19T18:30:59.817Z"
   },
   {
    "duration": 926,
    "start_time": "2021-12-19T18:31:06.662Z"
   },
   {
    "duration": 19,
    "start_time": "2021-12-19T18:32:00.148Z"
   },
   {
    "duration": 20,
    "start_time": "2021-12-19T18:33:12.640Z"
   },
   {
    "duration": 25,
    "start_time": "2021-12-19T18:37:21.008Z"
   },
   {
    "duration": 146,
    "start_time": "2021-12-19T18:38:10.683Z"
   },
   {
    "duration": 39,
    "start_time": "2021-12-19T18:38:30.047Z"
   },
   {
    "duration": 235,
    "start_time": "2021-12-19T18:38:57.438Z"
   },
   {
    "duration": 2647,
    "start_time": "2021-12-19T18:50:16.326Z"
   },
   {
    "duration": 18,
    "start_time": "2021-12-19T18:52:32.352Z"
   },
   {
    "duration": 5,
    "start_time": "2021-12-19T18:52:42.494Z"
   },
   {
    "duration": 1173,
    "start_time": "2021-12-19T18:52:46.361Z"
   },
   {
    "duration": 227,
    "start_time": "2021-12-19T18:54:03.213Z"
   },
   {
    "duration": 4,
    "start_time": "2021-12-19T18:54:21.926Z"
   },
   {
    "duration": 15,
    "start_time": "2021-12-19T18:54:29.021Z"
   },
   {
    "duration": 3713,
    "start_time": "2021-12-19T18:54:42.979Z"
   },
   {
    "duration": 915,
    "start_time": "2021-12-19T18:54:46.693Z"
   },
   {
    "duration": 1714,
    "start_time": "2021-12-19T18:55:06.973Z"
   },
   {
    "duration": 20,
    "start_time": "2021-12-19T18:55:10.983Z"
   },
   {
    "duration": 5,
    "start_time": "2021-12-19T18:57:02.563Z"
   },
   {
    "duration": 17,
    "start_time": "2021-12-19T18:57:15.147Z"
   },
   {
    "duration": 4,
    "start_time": "2021-12-19T18:57:26.017Z"
   },
   {
    "duration": 1285,
    "start_time": "2021-12-19T18:57:26.554Z"
   },
   {
    "duration": 685,
    "start_time": "2021-12-19T18:57:27.840Z"
   },
   {
    "duration": 587,
    "start_time": "2021-12-19T18:57:36.608Z"
   },
   {
    "duration": 18,
    "start_time": "2021-12-19T18:57:37.727Z"
   },
   {
    "duration": 2057,
    "start_time": "2021-12-20T04:38:24.658Z"
   },
   {
    "duration": 3,
    "start_time": "2021-12-20T04:38:26.718Z"
   },
   {
    "duration": 45,
    "start_time": "2021-12-20T04:38:26.724Z"
   },
   {
    "duration": 34,
    "start_time": "2021-12-20T04:38:26.773Z"
   },
   {
    "duration": 83,
    "start_time": "2021-12-20T04:38:26.809Z"
   },
   {
    "duration": 3936,
    "start_time": "2021-12-20T04:38:26.894Z"
   },
   {
    "duration": 7,
    "start_time": "2021-12-20T04:38:30.833Z"
   },
   {
    "duration": 31,
    "start_time": "2021-12-20T04:38:30.843Z"
   },
   {
    "duration": 13,
    "start_time": "2021-12-20T04:38:30.878Z"
   },
   {
    "duration": 129,
    "start_time": "2021-12-20T04:38:30.893Z"
   },
   {
    "duration": 4117,
    "start_time": "2021-12-20T04:38:31.025Z"
   },
   {
    "duration": 19,
    "start_time": "2021-12-20T04:38:35.144Z"
   },
   {
    "duration": 23,
    "start_time": "2021-12-20T04:38:35.165Z"
   },
   {
    "duration": 4391,
    "start_time": "2021-12-20T04:38:35.190Z"
   },
   {
    "duration": 8,
    "start_time": "2021-12-20T04:38:39.583Z"
   },
   {
    "duration": 32,
    "start_time": "2021-12-20T04:38:39.594Z"
   },
   {
    "duration": 5891,
    "start_time": "2021-12-20T04:38:39.629Z"
   },
   {
    "duration": 8,
    "start_time": "2021-12-20T04:38:45.522Z"
   },
   {
    "duration": 1281,
    "start_time": "2021-12-20T04:38:45.532Z"
   },
   {
    "duration": 25,
    "start_time": "2021-12-20T04:38:46.815Z"
   },
   {
    "duration": 23,
    "start_time": "2021-12-20T04:38:46.843Z"
   },
   {
    "duration": 2655,
    "start_time": "2021-12-20T04:38:46.868Z"
   },
   {
    "duration": 1149,
    "start_time": "2021-12-20T04:38:49.528Z"
   },
   {
    "duration": 1293,
    "start_time": "2021-12-20T04:38:50.679Z"
   },
   {
    "duration": 32,
    "start_time": "2021-12-20T04:38:52.064Z"
   },
   {
    "duration": 4389,
    "start_time": "2021-12-20T04:38:52.099Z"
   },
   {
    "duration": 40,
    "start_time": "2021-12-20T04:38:56.490Z"
   },
   {
    "duration": 286,
    "start_time": "2021-12-20T04:38:56.532Z"
   },
   {
    "duration": 11,
    "start_time": "2021-12-20T04:38:56.820Z"
   },
   {
    "duration": 30,
    "start_time": "2021-12-20T04:38:56.833Z"
   },
   {
    "duration": 9,
    "start_time": "2021-12-20T04:38:56.866Z"
   },
   {
    "duration": 11,
    "start_time": "2021-12-20T04:38:56.878Z"
   },
   {
    "duration": 2258,
    "start_time": "2021-12-20T06:33:37.492Z"
   },
   {
    "duration": 3,
    "start_time": "2021-12-20T06:33:39.753Z"
   },
   {
    "duration": 32,
    "start_time": "2021-12-20T06:33:39.759Z"
   },
   {
    "duration": 40,
    "start_time": "2021-12-20T06:33:39.793Z"
   },
   {
    "duration": 56,
    "start_time": "2021-12-20T06:33:39.835Z"
   },
   {
    "duration": 4087,
    "start_time": "2021-12-20T06:33:39.894Z"
   },
   {
    "duration": 8,
    "start_time": "2021-12-20T06:33:43.983Z"
   },
   {
    "duration": 33,
    "start_time": "2021-12-20T06:33:43.994Z"
   },
   {
    "duration": 11,
    "start_time": "2021-12-20T06:33:44.030Z"
   },
   {
    "duration": 129,
    "start_time": "2021-12-20T06:33:44.044Z"
   },
   {
    "duration": 4144,
    "start_time": "2021-12-20T06:33:44.176Z"
   },
   {
    "duration": 8,
    "start_time": "2021-12-20T06:33:48.323Z"
   },
   {
    "duration": 25,
    "start_time": "2021-12-20T06:33:48.334Z"
   },
   {
    "duration": 4335,
    "start_time": "2021-12-20T06:33:48.361Z"
   },
   {
    "duration": 7,
    "start_time": "2021-12-20T06:33:52.698Z"
   },
   {
    "duration": 23,
    "start_time": "2021-12-20T06:33:52.717Z"
   },
   {
    "duration": 5670,
    "start_time": "2021-12-20T06:33:52.742Z"
   },
   {
    "duration": 10,
    "start_time": "2021-12-20T06:33:58.417Z"
   },
   {
    "duration": 1298,
    "start_time": "2021-12-20T06:33:58.429Z"
   },
   {
    "duration": 26,
    "start_time": "2021-12-20T06:33:59.729Z"
   },
   {
    "duration": 16,
    "start_time": "2021-12-20T06:33:59.758Z"
   },
   {
    "duration": 2356,
    "start_time": "2021-12-20T06:33:59.776Z"
   },
   {
    "duration": 1185,
    "start_time": "2021-12-20T06:34:02.137Z"
   },
   {
    "duration": 997,
    "start_time": "2021-12-20T06:34:03.324Z"
   },
   {
    "duration": 118,
    "start_time": "2021-12-20T06:34:04.324Z"
   },
   {
    "duration": 4450,
    "start_time": "2021-12-20T06:34:04.445Z"
   },
   {
    "duration": 48,
    "start_time": "2021-12-20T06:34:08.898Z"
   },
   {
    "duration": 283,
    "start_time": "2021-12-20T06:34:08.948Z"
   },
   {
    "duration": 11,
    "start_time": "2021-12-20T06:34:09.233Z"
   },
   {
    "duration": 10,
    "start_time": "2021-12-20T06:34:09.246Z"
   },
   {
    "duration": 24,
    "start_time": "2021-12-20T06:34:09.259Z"
   },
   {
    "duration": 34,
    "start_time": "2021-12-20T06:34:09.285Z"
   },
   {
    "duration": 55,
    "start_time": "2021-12-20T06:38:46.508Z"
   },
   {
    "duration": 261,
    "start_time": "2021-12-20T09:43:38.437Z"
   },
   {
    "duration": 5,
    "start_time": "2021-12-20T10:18:54.832Z"
   },
   {
    "duration": 30,
    "start_time": "2021-12-20T10:20:02.659Z"
   },
   {
    "duration": 11,
    "start_time": "2021-12-20T10:20:36.793Z"
   },
   {
    "duration": 10,
    "start_time": "2021-12-20T10:21:00.856Z"
   },
   {
    "duration": 10,
    "start_time": "2021-12-20T10:22:10.827Z"
   },
   {
    "duration": 20,
    "start_time": "2021-12-20T10:23:04.589Z"
   },
   {
    "duration": 51,
    "start_time": "2021-12-20T10:23:08.482Z"
   },
   {
    "duration": 49,
    "start_time": "2021-12-20T10:23:44.979Z"
   },
   {
    "duration": 153,
    "start_time": "2021-12-20T10:24:00.913Z"
   },
   {
    "duration": 96,
    "start_time": "2021-12-20T10:27:17.593Z"
   },
   {
    "duration": 46,
    "start_time": "2021-12-20T10:28:57.135Z"
   },
   {
    "duration": 88,
    "start_time": "2021-12-20T10:29:14.301Z"
   },
   {
    "duration": 6,
    "start_time": "2021-12-20T10:29:59.389Z"
   },
   {
    "duration": 22,
    "start_time": "2021-12-20T10:31:15.472Z"
   },
   {
    "duration": 91,
    "start_time": "2021-12-20T10:33:50.443Z"
   },
   {
    "duration": 9,
    "start_time": "2021-12-20T10:38:12.245Z"
   },
   {
    "duration": 9,
    "start_time": "2021-12-20T11:26:16.073Z"
   },
   {
    "duration": 5,
    "start_time": "2021-12-20T11:33:07.289Z"
   },
   {
    "duration": 5,
    "start_time": "2021-12-20T11:33:30.481Z"
   },
   {
    "duration": 60,
    "start_time": "2021-12-20T12:35:29.353Z"
   },
   {
    "duration": 20,
    "start_time": "2021-12-20T12:35:34.906Z"
   },
   {
    "duration": 18,
    "start_time": "2021-12-20T12:36:56.415Z"
   },
   {
    "duration": 78,
    "start_time": "2021-12-20T12:37:21.093Z"
   },
   {
    "duration": 26,
    "start_time": "2021-12-20T12:38:13.852Z"
   },
   {
    "duration": 25,
    "start_time": "2021-12-20T12:46:30.642Z"
   },
   {
    "duration": 26,
    "start_time": "2021-12-20T12:46:45.459Z"
   },
   {
    "duration": 26,
    "start_time": "2021-12-20T12:47:29.440Z"
   },
   {
    "duration": 1592,
    "start_time": "2021-12-20T12:47:40.489Z"
   },
   {
    "duration": 29,
    "start_time": "2021-12-20T12:47:42.084Z"
   },
   {
    "duration": 33,
    "start_time": "2021-12-20T12:47:42.117Z"
   },
   {
    "duration": 76,
    "start_time": "2021-12-20T12:47:42.153Z"
   },
   {
    "duration": 4280,
    "start_time": "2021-12-20T12:47:42.232Z"
   },
   {
    "duration": 8,
    "start_time": "2021-12-20T12:47:46.517Z"
   },
   {
    "duration": 16,
    "start_time": "2021-12-20T12:47:46.527Z"
   },
   {
    "duration": 19,
    "start_time": "2021-12-20T12:47:46.547Z"
   },
   {
    "duration": 118,
    "start_time": "2021-12-20T12:47:46.569Z"
   },
   {
    "duration": 9,
    "start_time": "2021-12-20T12:47:46.689Z"
   },
   {
    "duration": 181,
    "start_time": "2021-12-20T12:47:46.700Z"
   },
   {
    "duration": 6494,
    "start_time": "2021-12-20T12:47:46.884Z"
   },
   {
    "duration": 10,
    "start_time": "2021-12-20T12:47:53.380Z"
   },
   {
    "duration": 46,
    "start_time": "2021-12-20T12:47:53.393Z"
   },
   {
    "duration": 6894,
    "start_time": "2021-12-20T12:47:53.443Z"
   },
   {
    "duration": 9,
    "start_time": "2021-12-20T12:48:00.339Z"
   },
   {
    "duration": 34,
    "start_time": "2021-12-20T12:48:00.351Z"
   },
   {
    "duration": 8975,
    "start_time": "2021-12-20T12:48:00.388Z"
   },
   {
    "duration": 12,
    "start_time": "2021-12-20T12:48:09.366Z"
   },
   {
    "duration": 1887,
    "start_time": "2021-12-20T12:48:09.381Z"
   },
   {
    "duration": 24,
    "start_time": "2021-12-20T12:48:11.270Z"
   },
   {
    "duration": 23,
    "start_time": "2021-12-20T12:48:11.297Z"
   },
   {
    "duration": 2254,
    "start_time": "2021-12-20T12:48:11.324Z"
   },
   {
    "duration": 1264,
    "start_time": "2021-12-20T12:48:13.581Z"
   },
   {
    "duration": 1470,
    "start_time": "2021-12-20T12:48:14.847Z"
   },
   {
    "duration": 121,
    "start_time": "2021-12-20T12:48:16.321Z"
   },
   {
    "duration": 4519,
    "start_time": "2021-12-20T12:48:16.444Z"
   },
   {
    "duration": 12,
    "start_time": "2021-12-20T12:48:20.965Z"
   },
   {
    "duration": 10,
    "start_time": "2021-12-20T12:48:20.979Z"
   },
   {
    "duration": 31,
    "start_time": "2021-12-20T12:48:20.992Z"
   },
   {
    "duration": 8,
    "start_time": "2021-12-20T12:48:21.025Z"
   },
   {
    "duration": 17,
    "start_time": "2021-12-20T12:48:21.035Z"
   },
   {
    "duration": 8,
    "start_time": "2021-12-20T12:48:21.055Z"
   },
   {
    "duration": 28,
    "start_time": "2021-12-20T13:10:03.961Z"
   },
   {
    "duration": 28,
    "start_time": "2021-12-20T13:36:38.814Z"
   },
   {
    "duration": 494,
    "start_time": "2021-12-20T14:11:34.605Z"
   },
   {
    "duration": 111,
    "start_time": "2021-12-20T14:11:38.991Z"
   },
   {
    "duration": 141,
    "start_time": "2021-12-20T14:12:17.077Z"
   },
   {
    "duration": 113,
    "start_time": "2021-12-20T14:12:26.002Z"
   },
   {
    "duration": 41,
    "start_time": "2021-12-20T14:12:47.627Z"
   },
   {
    "duration": 344,
    "start_time": "2021-12-20T14:13:58.543Z"
   },
   {
    "duration": 104,
    "start_time": "2021-12-20T14:14:07.729Z"
   },
   {
    "duration": 70,
    "start_time": "2021-12-20T14:14:35.258Z"
   },
   {
    "duration": 38,
    "start_time": "2021-12-20T14:14:44.204Z"
   },
   {
    "duration": 364,
    "start_time": "2021-12-20T14:15:16.368Z"
   },
   {
    "duration": 7894,
    "start_time": "2021-12-20T14:15:26.653Z"
   },
   {
    "duration": -561,
    "start_time": "2021-12-20T14:15:35.111Z"
   },
   {
    "duration": 16,
    "start_time": "2021-12-20T14:15:50.013Z"
   },
   {
    "duration": 14,
    "start_time": "2021-12-20T14:15:54.920Z"
   },
   {
    "duration": 10,
    "start_time": "2021-12-20T14:16:20.209Z"
   },
   {
    "duration": 1841,
    "start_time": "2021-12-20T14:23:12.428Z"
   },
   {
    "duration": 41,
    "start_time": "2021-12-20T14:23:14.273Z"
   },
   {
    "duration": 54,
    "start_time": "2021-12-20T14:23:14.318Z"
   },
   {
    "duration": 115,
    "start_time": "2021-12-20T14:23:14.376Z"
   },
   {
    "duration": 4751,
    "start_time": "2021-12-20T14:23:14.494Z"
   },
   {
    "duration": 9,
    "start_time": "2021-12-20T14:23:19.248Z"
   },
   {
    "duration": 19,
    "start_time": "2021-12-20T14:23:19.260Z"
   },
   {
    "duration": 26,
    "start_time": "2021-12-20T14:23:19.318Z"
   },
   {
    "duration": 107,
    "start_time": "2021-12-20T14:23:19.348Z"
   },
   {
    "duration": 13,
    "start_time": "2021-12-20T14:23:19.458Z"
   },
   {
    "duration": 206,
    "start_time": "2021-12-20T14:23:19.473Z"
   },
   {
    "duration": 7943,
    "start_time": "2021-12-20T14:23:19.681Z"
   },
   {
    "duration": 10,
    "start_time": "2021-12-20T14:23:27.627Z"
   },
   {
    "duration": 28,
    "start_time": "2021-12-20T14:23:27.641Z"
   },
   {
    "duration": 7976,
    "start_time": "2021-12-20T14:23:27.671Z"
   },
   {
    "duration": 9,
    "start_time": "2021-12-20T14:23:35.649Z"
   },
   {
    "duration": 30,
    "start_time": "2021-12-20T14:23:35.660Z"
   },
   {
    "duration": 9997,
    "start_time": "2021-12-20T14:23:35.692Z"
   },
   {
    "duration": 12,
    "start_time": "2021-12-20T14:23:45.692Z"
   },
   {
    "duration": 1897,
    "start_time": "2021-12-20T14:23:45.706Z"
   },
   {
    "duration": 41,
    "start_time": "2021-12-20T14:23:47.606Z"
   },
   {
    "duration": 6,
    "start_time": "2021-12-20T14:23:47.650Z"
   },
   {
    "duration": 3444,
    "start_time": "2021-12-20T14:23:47.664Z"
   },
   {
    "duration": 1654,
    "start_time": "2021-12-20T14:23:51.110Z"
   },
   {
    "duration": 1575,
    "start_time": "2021-12-20T14:23:52.768Z"
   },
   {
    "duration": 122,
    "start_time": "2021-12-20T14:23:54.347Z"
   },
   {
    "duration": 5397,
    "start_time": "2021-12-20T14:23:54.472Z"
   },
   {
    "duration": 11,
    "start_time": "2021-12-20T14:23:59.872Z"
   },
   {
    "duration": 13,
    "start_time": "2021-12-20T14:23:59.886Z"
   },
   {
    "duration": 17,
    "start_time": "2021-12-20T14:23:59.919Z"
   },
   {
    "duration": 10,
    "start_time": "2021-12-20T14:23:59.939Z"
   },
   {
    "duration": 14,
    "start_time": "2021-12-20T14:23:59.951Z"
   },
   {
    "duration": 56,
    "start_time": "2021-12-20T14:23:59.967Z"
   },
   {
    "duration": 124,
    "start_time": "2021-12-21T18:17:07.370Z"
   },
   {
    "duration": 79,
    "start_time": "2021-12-21T18:17:55.470Z"
   },
   {
    "duration": 107,
    "start_time": "2021-12-21T18:44:14.771Z"
   },
   {
    "duration": 82,
    "start_time": "2021-12-21T18:49:07.854Z"
   },
   {
    "duration": 1568,
    "start_time": "2021-12-22T04:30:14.667Z"
   },
   {
    "duration": 186,
    "start_time": "2021-12-22T04:30:16.237Z"
   },
   {
    "duration": 32,
    "start_time": "2021-12-22T04:30:16.426Z"
   },
   {
    "duration": 72,
    "start_time": "2021-12-22T04:30:16.461Z"
   },
   {
    "duration": 3703,
    "start_time": "2021-12-22T04:30:16.536Z"
   },
   {
    "duration": 7,
    "start_time": "2021-12-22T04:30:20.242Z"
   },
   {
    "duration": 16,
    "start_time": "2021-12-22T04:30:20.267Z"
   },
   {
    "duration": 20,
    "start_time": "2021-12-22T04:30:20.287Z"
   },
   {
    "duration": 112,
    "start_time": "2021-12-22T04:30:20.311Z"
   },
   {
    "duration": 9,
    "start_time": "2021-12-22T04:30:20.425Z"
   },
   {
    "duration": 180,
    "start_time": "2021-12-22T04:30:20.436Z"
   },
   {
    "duration": 7018,
    "start_time": "2021-12-22T04:30:20.618Z"
   },
   {
    "duration": 10,
    "start_time": "2021-12-22T04:30:27.639Z"
   },
   {
    "duration": 42,
    "start_time": "2021-12-22T04:30:27.651Z"
   },
   {
    "duration": 6718,
    "start_time": "2021-12-22T04:30:27.696Z"
   },
   {
    "duration": 9,
    "start_time": "2021-12-22T04:30:34.417Z"
   },
   {
    "duration": 54,
    "start_time": "2021-12-22T04:30:34.428Z"
   },
   {
    "duration": 9110,
    "start_time": "2021-12-22T04:30:34.484Z"
   },
   {
    "duration": 15,
    "start_time": "2021-12-22T04:30:43.597Z"
   },
   {
    "duration": 1879,
    "start_time": "2021-12-22T04:30:43.615Z"
   },
   {
    "duration": 28,
    "start_time": "2021-12-22T04:30:45.498Z"
   },
   {
    "duration": 6,
    "start_time": "2021-12-22T04:30:45.529Z"
   },
   {
    "duration": 2338,
    "start_time": "2021-12-22T04:30:45.570Z"
   },
   {
    "duration": 1279,
    "start_time": "2021-12-22T04:30:47.910Z"
   },
   {
    "duration": 982,
    "start_time": "2021-12-22T04:30:49.191Z"
   },
   {
    "duration": 117,
    "start_time": "2021-12-22T04:30:50.181Z"
   },
   {
    "duration": 4805,
    "start_time": "2021-12-22T04:30:50.300Z"
   },
   {
    "duration": 11,
    "start_time": "2021-12-22T04:30:55.108Z"
   },
   {
    "duration": 10,
    "start_time": "2021-12-22T04:30:55.122Z"
   },
   {
    "duration": 39,
    "start_time": "2021-12-22T04:30:55.135Z"
   },
   {
    "duration": 9,
    "start_time": "2021-12-22T04:30:55.176Z"
   },
   {
    "duration": 14,
    "start_time": "2021-12-22T04:30:55.188Z"
   },
   {
    "duration": 8,
    "start_time": "2021-12-22T04:30:55.204Z"
   },
   {
    "duration": 469,
    "start_time": "2021-12-22T04:54:39.627Z"
   },
   {
    "duration": 104,
    "start_time": "2021-12-22T04:55:01.635Z"
   },
   {
    "duration": 14418,
    "start_time": "2021-12-22T04:55:05.908Z"
   },
   {
    "duration": 20,
    "start_time": "2021-12-22T04:55:20.329Z"
   },
   {
    "duration": 1165,
    "start_time": "2021-12-22T04:57:09.663Z"
   },
   {
    "duration": 1994,
    "start_time": "2021-12-22T04:57:58.380Z"
   },
   {
    "duration": 1766,
    "start_time": "2021-12-22T05:07:11.792Z"
   },
   {
    "duration": 7,
    "start_time": "2021-12-22T05:10:39.931Z"
   },
   {
    "duration": 6,
    "start_time": "2021-12-22T05:10:57.261Z"
   },
   {
    "duration": 8,
    "start_time": "2021-12-22T05:43:43.036Z"
   },
   {
    "duration": 4,
    "start_time": "2021-12-22T05:44:44.790Z"
   },
   {
    "duration": 4,
    "start_time": "2021-12-22T05:45:30.629Z"
   },
   {
    "duration": 5,
    "start_time": "2021-12-22T05:46:01.881Z"
   },
   {
    "duration": 6,
    "start_time": "2021-12-22T05:46:06.394Z"
   },
   {
    "duration": 4,
    "start_time": "2021-12-22T05:46:14.920Z"
   },
   {
    "duration": 13,
    "start_time": "2021-12-22T05:46:17.647Z"
   },
   {
    "duration": 6,
    "start_time": "2021-12-22T05:46:18.147Z"
   },
   {
    "duration": 5,
    "start_time": "2021-12-22T05:46:44.678Z"
   },
   {
    "duration": 5,
    "start_time": "2021-12-22T05:47:30.425Z"
   },
   {
    "duration": 5,
    "start_time": "2021-12-22T05:47:42.781Z"
   },
   {
    "duration": 4,
    "start_time": "2021-12-22T05:48:03.035Z"
   },
   {
    "duration": 7,
    "start_time": "2021-12-22T05:48:05.935Z"
   },
   {
    "duration": 6,
    "start_time": "2021-12-22T05:48:12.089Z"
   },
   {
    "duration": 5,
    "start_time": "2021-12-22T05:48:32.676Z"
   },
   {
    "duration": 364,
    "start_time": "2021-12-22T06:01:11.039Z"
   },
   {
    "duration": 348,
    "start_time": "2021-12-22T06:01:38.067Z"
   },
   {
    "duration": 347,
    "start_time": "2021-12-22T06:02:39.661Z"
   },
   {
    "duration": 852,
    "start_time": "2021-12-22T06:03:10.193Z"
   },
   {
    "duration": 1422,
    "start_time": "2021-12-22T06:03:22.887Z"
   },
   {
    "duration": 879,
    "start_time": "2021-12-22T06:03:53.266Z"
   },
   {
    "duration": 841,
    "start_time": "2021-12-22T06:04:17.430Z"
   },
   {
    "duration": 871,
    "start_time": "2021-12-22T06:04:26.608Z"
   },
   {
    "duration": 759,
    "start_time": "2021-12-22T06:04:33.613Z"
   },
   {
    "duration": 1231,
    "start_time": "2021-12-23T06:22:17.135Z"
   },
   {
    "duration": 1255,
    "start_time": "2021-12-23T06:22:17.114Z"
   },
   {
    "duration": 1250,
    "start_time": "2021-12-23T06:22:17.120Z"
   },
   {
    "duration": 1239,
    "start_time": "2021-12-23T06:22:17.132Z"
   },
   {
    "duration": 1234,
    "start_time": "2021-12-23T06:22:17.138Z"
   },
   {
    "duration": 1231,
    "start_time": "2021-12-23T06:22:17.142Z"
   },
   {
    "duration": 1227,
    "start_time": "2021-12-23T06:22:17.146Z"
   },
   {
    "duration": 1225,
    "start_time": "2021-12-23T06:22:17.149Z"
   },
   {
    "duration": 1223,
    "start_time": "2021-12-23T06:22:17.152Z"
   },
   {
    "duration": 1222,
    "start_time": "2021-12-23T06:22:17.154Z"
   },
   {
    "duration": 1221,
    "start_time": "2021-12-23T06:22:17.156Z"
   },
   {
    "duration": 1220,
    "start_time": "2021-12-23T06:22:17.158Z"
   },
   {
    "duration": 1219,
    "start_time": "2021-12-23T06:22:17.160Z"
   },
   {
    "duration": 1218,
    "start_time": "2021-12-23T06:22:17.162Z"
   },
   {
    "duration": 1216,
    "start_time": "2021-12-23T06:22:17.164Z"
   },
   {
    "duration": 1215,
    "start_time": "2021-12-23T06:22:17.166Z"
   },
   {
    "duration": 1214,
    "start_time": "2021-12-23T06:22:17.168Z"
   },
   {
    "duration": 1214,
    "start_time": "2021-12-23T06:22:17.169Z"
   },
   {
    "duration": 1213,
    "start_time": "2021-12-23T06:22:17.171Z"
   },
   {
    "duration": 1212,
    "start_time": "2021-12-23T06:22:17.173Z"
   },
   {
    "duration": 1211,
    "start_time": "2021-12-23T06:22:17.175Z"
   },
   {
    "duration": 1210,
    "start_time": "2021-12-23T06:22:17.177Z"
   },
   {
    "duration": 1209,
    "start_time": "2021-12-23T06:22:17.179Z"
   },
   {
    "duration": 1208,
    "start_time": "2021-12-23T06:22:17.181Z"
   },
   {
    "duration": 1207,
    "start_time": "2021-12-23T06:22:17.183Z"
   },
   {
    "duration": 1206,
    "start_time": "2021-12-23T06:22:17.185Z"
   },
   {
    "duration": 1205,
    "start_time": "2021-12-23T06:22:17.187Z"
   },
   {
    "duration": 1199,
    "start_time": "2021-12-23T06:22:17.194Z"
   },
   {
    "duration": 1197,
    "start_time": "2021-12-23T06:22:17.196Z"
   },
   {
    "duration": 1196,
    "start_time": "2021-12-23T06:22:17.198Z"
   },
   {
    "duration": 1195,
    "start_time": "2021-12-23T06:22:17.200Z"
   },
   {
    "duration": 1194,
    "start_time": "2021-12-23T06:22:17.202Z"
   },
   {
    "duration": 1193,
    "start_time": "2021-12-23T06:22:17.204Z"
   },
   {
    "duration": 1190,
    "start_time": "2021-12-23T06:22:17.207Z"
   },
   {
    "duration": 1188,
    "start_time": "2021-12-23T06:22:17.210Z"
   },
   {
    "duration": 1187,
    "start_time": "2021-12-23T06:22:17.212Z"
   },
   {
    "duration": 1186,
    "start_time": "2021-12-23T06:22:17.214Z"
   },
   {
    "duration": 1185,
    "start_time": "2021-12-23T06:22:17.216Z"
   },
   {
    "duration": 1184,
    "start_time": "2021-12-23T06:22:17.218Z"
   },
   {
    "duration": 1182,
    "start_time": "2021-12-23T06:22:17.220Z"
   },
   {
    "duration": 1182,
    "start_time": "2021-12-23T06:22:17.221Z"
   },
   {
    "duration": 136,
    "start_time": "2021-12-23T06:22:47.187Z"
   },
   {
    "duration": 1281,
    "start_time": "2021-12-23T06:22:46.045Z"
   },
   {
    "duration": 1266,
    "start_time": "2021-12-23T06:22:46.061Z"
   },
   {
    "duration": 1257,
    "start_time": "2021-12-23T06:22:46.071Z"
   },
   {
    "duration": 1254,
    "start_time": "2021-12-23T06:22:46.076Z"
   },
   {
    "duration": 1253,
    "start_time": "2021-12-23T06:22:46.078Z"
   },
   {
    "duration": 1252,
    "start_time": "2021-12-23T06:22:46.080Z"
   },
   {
    "duration": 1252,
    "start_time": "2021-12-23T06:22:46.081Z"
   },
   {
    "duration": 1252,
    "start_time": "2021-12-23T06:22:46.083Z"
   },
   {
    "duration": 1250,
    "start_time": "2021-12-23T06:22:46.086Z"
   },
   {
    "duration": 1249,
    "start_time": "2021-12-23T06:22:46.088Z"
   },
   {
    "duration": 1247,
    "start_time": "2021-12-23T06:22:46.091Z"
   },
   {
    "duration": 1246,
    "start_time": "2021-12-23T06:22:46.093Z"
   },
   {
    "duration": 1246,
    "start_time": "2021-12-23T06:22:46.094Z"
   },
   {
    "duration": 1245,
    "start_time": "2021-12-23T06:22:46.096Z"
   },
   {
    "duration": 1244,
    "start_time": "2021-12-23T06:22:46.098Z"
   },
   {
    "duration": 1243,
    "start_time": "2021-12-23T06:22:46.100Z"
   },
   {
    "duration": 1243,
    "start_time": "2021-12-23T06:22:46.101Z"
   },
   {
    "duration": 1242,
    "start_time": "2021-12-23T06:22:46.103Z"
   },
   {
    "duration": 1241,
    "start_time": "2021-12-23T06:22:46.105Z"
   },
   {
    "duration": 1240,
    "start_time": "2021-12-23T06:22:46.107Z"
   },
   {
    "duration": 1239,
    "start_time": "2021-12-23T06:22:46.109Z"
   },
   {
    "duration": 1238,
    "start_time": "2021-12-23T06:22:46.111Z"
   },
   {
    "duration": 1237,
    "start_time": "2021-12-23T06:22:46.113Z"
   },
   {
    "duration": 1231,
    "start_time": "2021-12-23T06:22:46.120Z"
   },
   {
    "duration": 1230,
    "start_time": "2021-12-23T06:22:46.122Z"
   },
   {
    "duration": 1228,
    "start_time": "2021-12-23T06:22:46.124Z"
   },
   {
    "duration": 1228,
    "start_time": "2021-12-23T06:22:46.125Z"
   },
   {
    "duration": 1227,
    "start_time": "2021-12-23T06:22:46.127Z"
   },
   {
    "duration": 1226,
    "start_time": "2021-12-23T06:22:46.129Z"
   },
   {
    "duration": 1225,
    "start_time": "2021-12-23T06:22:46.131Z"
   },
   {
    "duration": 1225,
    "start_time": "2021-12-23T06:22:46.132Z"
   },
   {
    "duration": 1223,
    "start_time": "2021-12-23T06:22:46.134Z"
   },
   {
    "duration": 1222,
    "start_time": "2021-12-23T06:22:46.136Z"
   },
   {
    "duration": 1221,
    "start_time": "2021-12-23T06:22:46.138Z"
   },
   {
    "duration": 1219,
    "start_time": "2021-12-23T06:22:46.141Z"
   },
   {
    "duration": 1218,
    "start_time": "2021-12-23T06:22:46.143Z"
   },
   {
    "duration": 1217,
    "start_time": "2021-12-23T06:22:46.145Z"
   },
   {
    "duration": 1216,
    "start_time": "2021-12-23T06:22:46.146Z"
   },
   {
    "duration": 1215,
    "start_time": "2021-12-23T06:22:46.148Z"
   },
   {
    "duration": 1214,
    "start_time": "2021-12-23T06:22:46.150Z"
   },
   {
    "duration": 42,
    "start_time": "2021-12-23T06:23:23.379Z"
   },
   {
    "duration": 833,
    "start_time": "2021-12-23T06:23:35.035Z"
   },
   {
    "duration": 104132,
    "start_time": "2021-12-23T06:23:41.387Z"
   },
   {
    "duration": 46,
    "start_time": "2021-12-23T06:25:56.276Z"
   },
   {
    "duration": 40,
    "start_time": "2021-12-23T06:26:02.950Z"
   },
   {
    "duration": 1460,
    "start_time": "2021-12-23T06:26:08.845Z"
   },
   {
    "duration": 40823,
    "start_time": "2021-12-23T06:26:52.361Z"
   },
   {
    "duration": 1965,
    "start_time": "2021-12-23T06:27:33.187Z"
   },
   {
    "duration": 52,
    "start_time": "2021-12-23T06:27:35.154Z"
   },
   {
    "duration": 20,
    "start_time": "2021-12-23T06:27:35.208Z"
   },
   {
    "duration": 35,
    "start_time": "2021-12-23T06:27:35.229Z"
   },
   {
    "duration": 2247,
    "start_time": "2021-12-23T06:27:35.266Z"
   },
   {
    "duration": 6,
    "start_time": "2021-12-23T06:27:37.515Z"
   },
   {
    "duration": 13,
    "start_time": "2021-12-23T06:27:37.524Z"
   },
   {
    "duration": 15,
    "start_time": "2021-12-23T06:27:37.539Z"
   },
   {
    "duration": 75,
    "start_time": "2021-12-23T06:27:37.561Z"
   },
   {
    "duration": 7,
    "start_time": "2021-12-23T06:27:37.638Z"
   },
   {
    "duration": 113,
    "start_time": "2021-12-23T06:27:37.647Z"
   },
   {
    "duration": 4046,
    "start_time": "2021-12-23T06:27:37.761Z"
   },
   {
    "duration": 6,
    "start_time": "2021-12-23T06:27:41.808Z"
   },
   {
    "duration": 20,
    "start_time": "2021-12-23T06:27:41.815Z"
   },
   {
    "duration": 4047,
    "start_time": "2021-12-23T06:27:41.837Z"
   },
   {
    "duration": 7,
    "start_time": "2021-12-23T06:27:45.886Z"
   },
   {
    "duration": 24,
    "start_time": "2021-12-23T06:27:45.895Z"
   },
   {
    "duration": 5476,
    "start_time": "2021-12-23T06:27:45.921Z"
   },
   {
    "duration": 8,
    "start_time": "2021-12-23T06:27:51.399Z"
   },
   {
    "duration": 1211,
    "start_time": "2021-12-23T06:27:51.409Z"
   },
   {
    "duration": 739,
    "start_time": "2021-12-23T06:27:52.622Z"
   },
   {
    "duration": 1216,
    "start_time": "2021-12-23T06:27:53.364Z"
   },
   {
    "duration": 23,
    "start_time": "2021-12-23T06:27:54.582Z"
   },
   {
    "duration": 6,
    "start_time": "2021-12-23T06:27:54.606Z"
   },
   {
    "duration": 1892,
    "start_time": "2021-12-23T06:27:54.613Z"
   },
   {
    "duration": 225,
    "start_time": "2021-12-23T06:27:56.507Z"
   },
   {
    "duration": 1166,
    "start_time": "2021-12-23T06:27:55.568Z"
   },
   {
    "duration": 1155,
    "start_time": "2021-12-23T06:27:55.580Z"
   },
   {
    "duration": 1152,
    "start_time": "2021-12-23T06:27:55.584Z"
   },
   {
    "duration": 1151,
    "start_time": "2021-12-23T06:27:55.586Z"
   },
   {
    "duration": 1142,
    "start_time": "2021-12-23T06:27:55.595Z"
   },
   {
    "duration": 1140,
    "start_time": "2021-12-23T06:27:55.598Z"
   },
   {
    "duration": 1139,
    "start_time": "2021-12-23T06:27:55.600Z"
   },
   {
    "duration": 1139,
    "start_time": "2021-12-23T06:27:55.601Z"
   },
   {
    "duration": 1138,
    "start_time": "2021-12-23T06:27:55.603Z"
   },
   {
    "duration": 1136,
    "start_time": "2021-12-23T06:27:55.606Z"
   },
   {
    "duration": 1135,
    "start_time": "2021-12-23T06:27:55.608Z"
   },
   {
    "duration": 1134,
    "start_time": "2021-12-23T06:27:55.610Z"
   },
   {
    "duration": 1133,
    "start_time": "2021-12-23T06:27:55.612Z"
   },
   {
    "duration": 1130,
    "start_time": "2021-12-23T06:27:55.615Z"
   },
   {
    "duration": 1129,
    "start_time": "2021-12-23T06:27:55.617Z"
   },
   {
    "duration": 737,
    "start_time": "2021-12-23T06:28:19.975Z"
   },
   {
    "duration": 1279,
    "start_time": "2021-12-23T06:28:21.102Z"
   },
   {
    "duration": 1864,
    "start_time": "2021-12-23T06:50:05.314Z"
   },
   {
    "duration": 1176,
    "start_time": "2021-12-23T06:50:07.181Z"
   },
   {
    "duration": 28,
    "start_time": "2021-12-23T06:50:08.359Z"
   },
   {
    "duration": 23,
    "start_time": "2021-12-23T06:50:08.389Z"
   },
   {
    "duration": 38,
    "start_time": "2021-12-23T06:50:08.414Z"
   },
   {
    "duration": 2613,
    "start_time": "2021-12-23T06:50:08.455Z"
   },
   {
    "duration": 5,
    "start_time": "2021-12-23T06:50:11.070Z"
   },
   {
    "duration": 16,
    "start_time": "2021-12-23T06:50:11.078Z"
   },
   {
    "duration": 12,
    "start_time": "2021-12-23T06:50:11.096Z"
   },
   {
    "duration": 57,
    "start_time": "2021-12-23T06:50:11.110Z"
   },
   {
    "duration": 6,
    "start_time": "2021-12-23T06:50:11.168Z"
   },
   {
    "duration": 116,
    "start_time": "2021-12-23T06:50:11.176Z"
   },
   {
    "duration": 2878,
    "start_time": "2021-12-23T06:50:11.293Z"
   },
   {
    "duration": 6,
    "start_time": "2021-12-23T06:50:14.172Z"
   },
   {
    "duration": 27,
    "start_time": "2021-12-23T06:50:14.179Z"
   },
   {
    "duration": 2681,
    "start_time": "2021-12-23T06:50:14.207Z"
   },
   {
    "duration": 5,
    "start_time": "2021-12-23T06:50:16.890Z"
   },
   {
    "duration": 17,
    "start_time": "2021-12-23T06:50:16.897Z"
   },
   {
    "duration": 3724,
    "start_time": "2021-12-23T06:50:16.916Z"
   },
   {
    "duration": 252,
    "start_time": "2021-12-23T06:50:20.641Z"
   },
   {
    "duration": 1232,
    "start_time": "2021-12-23T06:50:19.663Z"
   },
   {
    "duration": 1216,
    "start_time": "2021-12-23T06:50:19.680Z"
   },
   {
    "duration": 1205,
    "start_time": "2021-12-23T06:50:19.692Z"
   },
   {
    "duration": 1199,
    "start_time": "2021-12-23T06:50:19.699Z"
   },
   {
    "duration": 1189,
    "start_time": "2021-12-23T06:50:19.710Z"
   },
   {
    "duration": 1180,
    "start_time": "2021-12-23T06:50:19.720Z"
   },
   {
    "duration": 1178,
    "start_time": "2021-12-23T06:50:19.723Z"
   },
   {
    "duration": 1177,
    "start_time": "2021-12-23T06:50:19.725Z"
   },
   {
    "duration": 1171,
    "start_time": "2021-12-23T06:50:19.732Z"
   },
   {
    "duration": 1167,
    "start_time": "2021-12-23T06:50:19.737Z"
   },
   {
    "duration": 1165,
    "start_time": "2021-12-23T06:50:19.740Z"
   },
   {
    "duration": 1164,
    "start_time": "2021-12-23T06:50:19.742Z"
   },
   {
    "duration": 1163,
    "start_time": "2021-12-23T06:50:19.744Z"
   },
   {
    "duration": 1161,
    "start_time": "2021-12-23T06:50:19.747Z"
   },
   {
    "duration": 1155,
    "start_time": "2021-12-23T06:50:19.754Z"
   },
   {
    "duration": 1154,
    "start_time": "2021-12-23T06:50:19.756Z"
   },
   {
    "duration": 1153,
    "start_time": "2021-12-23T06:50:19.758Z"
   },
   {
    "duration": 1151,
    "start_time": "2021-12-23T06:50:19.761Z"
   },
   {
    "duration": 1151,
    "start_time": "2021-12-23T06:50:19.763Z"
   },
   {
    "duration": 1145,
    "start_time": "2021-12-23T06:50:19.770Z"
   },
   {
    "duration": 1143,
    "start_time": "2021-12-23T06:50:19.772Z"
   },
   {
    "duration": 1141,
    "start_time": "2021-12-23T06:50:19.775Z"
   },
   {
    "duration": 1141,
    "start_time": "2021-12-23T06:50:19.776Z"
   },
   {
    "duration": 469,
    "start_time": "2021-12-23T06:50:37.136Z"
   },
   {
    "duration": 489,
    "start_time": "2021-12-23T06:52:47.892Z"
   },
   {
    "duration": 18,
    "start_time": "2021-12-23T06:53:16.663Z"
   },
   {
    "duration": 48,
    "start_time": "2021-12-23T06:54:20.824Z"
   },
   {
    "duration": 869,
    "start_time": "2021-12-23T06:54:27.216Z"
   },
   {
    "duration": 721,
    "start_time": "2021-12-23T06:56:03.683Z"
   },
   {
    "duration": 732,
    "start_time": "2021-12-23T06:56:11.934Z"
   },
   {
    "duration": 134,
    "start_time": "2021-12-23T06:56:30.221Z"
   },
   {
    "duration": 133,
    "start_time": "2021-12-23T06:56:52.009Z"
   },
   {
    "duration": 187,
    "start_time": "2021-12-23T06:57:06.791Z"
   },
   {
    "duration": 185,
    "start_time": "2021-12-23T06:57:39.648Z"
   },
   {
    "duration": 145,
    "start_time": "2021-12-23T07:02:27.656Z"
   },
   {
    "duration": 790,
    "start_time": "2021-12-23T07:02:55.241Z"
   },
   {
    "duration": 743,
    "start_time": "2021-12-23T07:05:56.740Z"
   },
   {
    "duration": 6,
    "start_time": "2021-12-23T07:06:33.300Z"
   },
   {
    "duration": 19,
    "start_time": "2021-12-23T07:07:35.899Z"
   },
   {
    "duration": 543,
    "start_time": "2021-12-23T07:07:51.500Z"
   },
   {
    "duration": 749,
    "start_time": "2021-12-23T07:08:13.363Z"
   },
   {
    "duration": 514,
    "start_time": "2021-12-23T07:10:07.450Z"
   },
   {
    "duration": 765,
    "start_time": "2021-12-23T07:10:26.856Z"
   },
   {
    "duration": 790,
    "start_time": "2021-12-23T07:10:50.887Z"
   },
   {
    "duration": 721,
    "start_time": "2021-12-23T07:11:03.924Z"
   },
   {
    "duration": 779,
    "start_time": "2021-12-23T07:17:02.248Z"
   },
   {
    "duration": 6,
    "start_time": "2021-12-23T07:17:07.844Z"
   },
   {
    "duration": 193,
    "start_time": "2021-12-23T07:17:51.441Z"
   },
   {
    "duration": 369,
    "start_time": "2021-12-23T07:18:06.780Z"
   },
   {
    "duration": 182,
    "start_time": "2021-12-23T07:18:22.107Z"
   },
   {
    "duration": 7,
    "start_time": "2021-12-23T07:18:27.113Z"
   },
   {
    "duration": 429,
    "start_time": "2021-12-23T07:19:23.317Z"
   },
   {
    "duration": 219,
    "start_time": "2021-12-23T07:19:57.492Z"
   },
   {
    "duration": 232,
    "start_time": "2021-12-23T07:20:14.894Z"
   },
   {
    "duration": 15833,
    "start_time": "2021-12-23T11:25:36.293Z"
   },
   {
    "duration": 1623,
    "start_time": "2021-12-23T11:25:52.129Z"
   },
   {
    "duration": 416,
    "start_time": "2021-12-23T11:25:53.755Z"
   },
   {
    "duration": 32,
    "start_time": "2021-12-23T11:25:54.173Z"
   },
   {
    "duration": 85,
    "start_time": "2021-12-23T11:25:54.207Z"
   },
   {
    "duration": 3771,
    "start_time": "2021-12-23T11:25:54.294Z"
   },
   {
    "duration": 7,
    "start_time": "2021-12-23T11:25:58.067Z"
   },
   {
    "duration": 19,
    "start_time": "2021-12-23T11:25:58.078Z"
   },
   {
    "duration": 20,
    "start_time": "2021-12-23T11:25:58.100Z"
   },
   {
    "duration": 130,
    "start_time": "2021-12-23T11:25:58.122Z"
   },
   {
    "duration": 9,
    "start_time": "2021-12-23T11:25:58.259Z"
   },
   {
    "duration": 172,
    "start_time": "2021-12-23T11:25:58.270Z"
   },
   {
    "duration": 6815,
    "start_time": "2021-12-23T11:25:58.445Z"
   },
   {
    "duration": 8,
    "start_time": "2021-12-23T11:26:05.263Z"
   },
   {
    "duration": 22,
    "start_time": "2021-12-23T11:26:05.273Z"
   },
   {
    "duration": 4535,
    "start_time": "2021-12-23T11:26:05.297Z"
   },
   {
    "duration": 8,
    "start_time": "2021-12-23T11:26:09.835Z"
   },
   {
    "duration": 33,
    "start_time": "2021-12-23T11:26:09.845Z"
   },
   {
    "duration": 6772,
    "start_time": "2021-12-23T11:26:09.880Z"
   },
   {
    "duration": 1244,
    "start_time": "2021-12-23T11:26:16.658Z"
   },
   {
    "duration": -127,
    "start_time": "2021-12-23T11:26:18.034Z"
   },
   {
    "duration": -151,
    "start_time": "2021-12-23T11:26:18.060Z"
   },
   {
    "duration": -162,
    "start_time": "2021-12-23T11:26:18.073Z"
   },
   {
    "duration": -166,
    "start_time": "2021-12-23T11:26:18.079Z"
   },
   {
    "duration": -175,
    "start_time": "2021-12-23T11:26:18.090Z"
   },
   {
    "duration": -180,
    "start_time": "2021-12-23T11:26:18.097Z"
   },
   {
    "duration": -188,
    "start_time": "2021-12-23T11:26:18.107Z"
   },
   {
    "duration": -195,
    "start_time": "2021-12-23T11:26:18.116Z"
   },
   {
    "duration": -204,
    "start_time": "2021-12-23T11:26:18.127Z"
   },
   {
    "duration": -218,
    "start_time": "2021-12-23T11:26:18.143Z"
   },
   {
    "duration": -231,
    "start_time": "2021-12-23T11:26:18.157Z"
   },
   {
    "duration": -206,
    "start_time": "2021-12-23T11:26:18.165Z"
   },
   {
    "duration": -217,
    "start_time": "2021-12-23T11:26:18.178Z"
   },
   {
    "duration": -228,
    "start_time": "2021-12-23T11:26:18.191Z"
   },
   {
    "duration": -229,
    "start_time": "2021-12-23T11:26:18.195Z"
   },
   {
    "duration": -242,
    "start_time": "2021-12-23T11:26:18.210Z"
   },
   {
    "duration": -244,
    "start_time": "2021-12-23T11:26:18.215Z"
   },
   {
    "duration": -249,
    "start_time": "2021-12-23T11:26:18.226Z"
   },
   {
    "duration": -228,
    "start_time": "2021-12-23T11:26:18.228Z"
   },
   {
    "duration": -239,
    "start_time": "2021-12-23T11:26:18.240Z"
   },
   {
    "duration": -240,
    "start_time": "2021-12-23T11:26:18.244Z"
   },
   {
    "duration": -252,
    "start_time": "2021-12-23T11:26:18.257Z"
   },
   {
    "duration": -254,
    "start_time": "2021-12-23T11:26:18.261Z"
   },
   {
    "duration": -254,
    "start_time": "2021-12-23T11:26:18.264Z"
   },
   {
    "duration": 361,
    "start_time": "2021-12-23T11:28:13.507Z"
   },
   {
    "duration": 375,
    "start_time": "2021-12-23T11:29:03.684Z"
   },
   {
    "duration": 523,
    "start_time": "2021-12-23T11:33:41.415Z"
   },
   {
    "duration": 9969,
    "start_time": "2021-12-23T11:34:04.575Z"
   },
   {
    "duration": 11377,
    "start_time": "2021-12-23T11:34:16.277Z"
   },
   {
    "duration": 11,
    "start_time": "2021-12-23T11:34:34.675Z"
   },
   {
    "duration": 655,
    "start_time": "2021-12-23T11:35:21.582Z"
   },
   {
    "duration": 774,
    "start_time": "2021-12-23T11:36:21.117Z"
   },
   {
    "duration": 14,
    "start_time": "2021-12-23T11:36:29.847Z"
   },
   {
    "duration": 806,
    "start_time": "2021-12-23T11:37:12.029Z"
   },
   {
    "duration": 813,
    "start_time": "2021-12-23T11:39:04.581Z"
   },
   {
    "duration": 796,
    "start_time": "2021-12-23T11:39:27.163Z"
   },
   {
    "duration": 451,
    "start_time": "2021-12-23T11:40:41.184Z"
   },
   {
    "duration": 405,
    "start_time": "2021-12-23T11:40:43.212Z"
   },
   {
    "duration": 502,
    "start_time": "2021-12-23T11:42:20.034Z"
   },
   {
    "duration": 401,
    "start_time": "2021-12-23T11:50:22.121Z"
   },
   {
    "duration": 390,
    "start_time": "2021-12-23T11:50:46.513Z"
   },
   {
    "duration": 8703,
    "start_time": "2021-12-24T09:01:03.154Z"
   },
   {
    "duration": 1274,
    "start_time": "2021-12-24T09:01:11.859Z"
   },
   {
    "duration": 45,
    "start_time": "2021-12-24T09:01:13.135Z"
   },
   {
    "duration": 20,
    "start_time": "2021-12-24T09:01:13.182Z"
   },
   {
    "duration": 37,
    "start_time": "2021-12-24T09:01:13.204Z"
   },
   {
    "duration": 2398,
    "start_time": "2021-12-24T09:01:13.243Z"
   },
   {
    "duration": 6,
    "start_time": "2021-12-24T09:01:15.643Z"
   },
   {
    "duration": 23,
    "start_time": "2021-12-24T09:01:15.651Z"
   },
   {
    "duration": 11,
    "start_time": "2021-12-24T09:01:15.677Z"
   },
   {
    "duration": 66,
    "start_time": "2021-12-24T09:01:15.690Z"
   },
   {
    "duration": 6,
    "start_time": "2021-12-24T09:01:15.758Z"
   },
   {
    "duration": 112,
    "start_time": "2021-12-24T09:01:15.765Z"
   },
   {
    "duration": 2899,
    "start_time": "2021-12-24T09:01:15.879Z"
   },
   {
    "duration": 7,
    "start_time": "2021-12-24T09:01:18.780Z"
   },
   {
    "duration": 18,
    "start_time": "2021-12-24T09:01:18.788Z"
   },
   {
    "duration": 2892,
    "start_time": "2021-12-24T09:01:18.808Z"
   },
   {
    "duration": 5,
    "start_time": "2021-12-24T09:01:21.701Z"
   },
   {
    "duration": 18,
    "start_time": "2021-12-24T09:01:21.708Z"
   },
   {
    "duration": 3876,
    "start_time": "2021-12-24T09:01:21.728Z"
   },
   {
    "duration": 253,
    "start_time": "2021-12-24T09:01:25.605Z"
   },
   {
    "duration": 235,
    "start_time": "2021-12-24T09:01:25.860Z"
   },
   {
    "duration": 6,
    "start_time": "2021-12-24T09:01:26.097Z"
   },
   {
    "duration": 787,
    "start_time": "2021-12-24T09:01:26.104Z"
   },
   {
    "duration": 618,
    "start_time": "2021-12-24T09:01:26.893Z"
   },
   {
    "duration": 877,
    "start_time": "2021-12-24T09:01:27.512Z"
   },
   {
    "duration": 15,
    "start_time": "2021-12-24T09:01:28.391Z"
   },
   {
    "duration": 3,
    "start_time": "2021-12-24T09:01:28.410Z"
   },
   {
    "duration": 1926,
    "start_time": "2021-12-24T09:01:28.415Z"
   },
   {
    "duration": 324,
    "start_time": "2021-12-24T09:01:30.346Z"
   },
   {
    "duration": -52,
    "start_time": "2021-12-24T09:01:30.724Z"
   },
   {
    "duration": -55,
    "start_time": "2021-12-24T09:01:30.728Z"
   },
   {
    "duration": -58,
    "start_time": "2021-12-24T09:01:30.732Z"
   },
   {
    "duration": -62,
    "start_time": "2021-12-24T09:01:30.737Z"
   },
   {
    "duration": -65,
    "start_time": "2021-12-24T09:01:30.741Z"
   },
   {
    "duration": -68,
    "start_time": "2021-12-24T09:01:30.746Z"
   },
   {
    "duration": -71,
    "start_time": "2021-12-24T09:01:30.750Z"
   },
   {
    "duration": -74,
    "start_time": "2021-12-24T09:01:30.753Z"
   },
   {
    "duration": -75,
    "start_time": "2021-12-24T09:01:30.756Z"
   },
   {
    "duration": -77,
    "start_time": "2021-12-24T09:01:30.759Z"
   },
   {
    "duration": -79,
    "start_time": "2021-12-24T09:01:30.761Z"
   },
   {
    "duration": -81,
    "start_time": "2021-12-24T09:01:30.764Z"
   },
   {
    "duration": -82,
    "start_time": "2021-12-24T09:01:30.766Z"
   },
   {
    "duration": -82,
    "start_time": "2021-12-24T09:01:30.768Z"
   },
   {
    "duration": -82,
    "start_time": "2021-12-24T09:01:30.769Z"
   },
   {
    "duration": 80,
    "start_time": "2021-12-24T09:04:33.569Z"
   },
   {
    "duration": 134,
    "start_time": "2021-12-24T09:09:08.389Z"
   },
   {
    "duration": 780,
    "start_time": "2021-12-24T09:10:26.680Z"
   },
   {
    "duration": 1044,
    "start_time": "2021-12-24T09:10:39.803Z"
   },
   {
    "duration": 19,
    "start_time": "2021-12-24T09:10:40.955Z"
   },
   {
    "duration": 2626,
    "start_time": "2021-12-24T09:10:42.237Z"
   },
   {
    "duration": 3,
    "start_time": "2021-12-24T09:16:34.881Z"
   },
   {
    "duration": 8,
    "start_time": "2021-12-24T09:16:37.630Z"
   },
   {
    "duration": 430,
    "start_time": "2021-12-24T09:16:38.259Z"
   },
   {
    "duration": 5,
    "start_time": "2021-12-24T09:16:42.151Z"
   },
   {
    "duration": 7,
    "start_time": "2021-12-24T10:05:19.468Z"
   },
   {
    "duration": 5,
    "start_time": "2021-12-24T10:05:22.381Z"
   },
   {
    "duration": 486,
    "start_time": "2021-12-24T11:27:06.429Z"
   },
   {
    "duration": 350,
    "start_time": "2021-12-24T11:27:22.376Z"
   },
   {
    "duration": 334,
    "start_time": "2021-12-24T11:27:31.874Z"
   },
   {
    "duration": 336,
    "start_time": "2021-12-24T11:27:44.230Z"
   },
   {
    "duration": 332,
    "start_time": "2021-12-24T11:27:57.738Z"
   },
   {
    "duration": 219,
    "start_time": "2021-12-24T11:34:58.390Z"
   },
   {
    "duration": 7,
    "start_time": "2021-12-24T11:35:05.092Z"
   },
   {
    "duration": 431,
    "start_time": "2021-12-24T11:35:05.530Z"
   },
   {
    "duration": 6,
    "start_time": "2021-12-24T11:35:06.954Z"
   },
   {
    "duration": 230,
    "start_time": "2021-12-24T11:35:08.412Z"
   },
   {
    "duration": 7,
    "start_time": "2021-12-24T11:35:43.413Z"
   },
   {
    "duration": 3,
    "start_time": "2021-12-24T11:35:50.780Z"
   },
   {
    "duration": 214,
    "start_time": "2021-12-24T11:38:43.124Z"
   },
   {
    "duration": 237,
    "start_time": "2021-12-24T11:38:59.230Z"
   },
   {
    "duration": 236,
    "start_time": "2021-12-24T11:40:11.296Z"
   },
   {
    "duration": 252,
    "start_time": "2021-12-24T11:40:17.506Z"
   },
   {
    "duration": 3,
    "start_time": "2021-12-24T11:40:41.107Z"
   },
   {
    "duration": 267,
    "start_time": "2021-12-24T11:40:48.914Z"
   },
   {
    "duration": 210,
    "start_time": "2021-12-24T11:40:57.303Z"
   },
   {
    "duration": 255,
    "start_time": "2021-12-24T11:41:06.283Z"
   },
   {
    "duration": 245,
    "start_time": "2021-12-24T11:42:46.839Z"
   },
   {
    "duration": 5,
    "start_time": "2021-12-24T11:42:53.772Z"
   },
   {
    "duration": 8,
    "start_time": "2021-12-24T12:30:23.774Z"
   },
   {
    "duration": 399,
    "start_time": "2021-12-24T12:32:53.776Z"
   },
   {
    "duration": 423,
    "start_time": "2021-12-24T12:33:08.499Z"
   },
   {
    "duration": 7,
    "start_time": "2021-12-24T12:33:24.205Z"
   },
   {
    "duration": 224,
    "start_time": "2021-12-24T12:34:10.230Z"
   },
   {
    "duration": 9,
    "start_time": "2021-12-24T12:34:27.246Z"
   },
   {
    "duration": 8,
    "start_time": "2021-12-24T12:34:27.954Z"
   },
   {
    "duration": 213,
    "start_time": "2021-12-24T12:34:57.484Z"
   },
   {
    "duration": 8,
    "start_time": "2021-12-24T12:35:00.654Z"
   },
   {
    "duration": 10,
    "start_time": "2021-12-24T12:35:02.010Z"
   },
   {
    "duration": 6,
    "start_time": "2021-12-24T12:35:15.012Z"
   },
   {
    "duration": 9176,
    "start_time": "2021-12-24T15:42:02.455Z"
   },
   {
    "duration": 1268,
    "start_time": "2021-12-24T15:42:11.633Z"
   },
   {
    "duration": 26,
    "start_time": "2021-12-24T15:42:12.903Z"
   },
   {
    "duration": 23,
    "start_time": "2021-12-24T15:42:12.931Z"
   },
   {
    "duration": 41,
    "start_time": "2021-12-24T15:42:12.956Z"
   },
   {
    "duration": 3166,
    "start_time": "2021-12-24T15:42:12.999Z"
   },
   {
    "duration": 8,
    "start_time": "2021-12-24T15:42:16.167Z"
   },
   {
    "duration": 14,
    "start_time": "2021-12-24T15:42:16.177Z"
   },
   {
    "duration": 19,
    "start_time": "2021-12-24T15:42:16.195Z"
   },
   {
    "duration": 107,
    "start_time": "2021-12-24T15:42:16.217Z"
   },
   {
    "duration": 6,
    "start_time": "2021-12-24T15:42:16.326Z"
   },
   {
    "duration": 96,
    "start_time": "2021-12-24T15:42:16.333Z"
   },
   {
    "duration": 3561,
    "start_time": "2021-12-24T15:42:16.430Z"
   },
   {
    "duration": 5,
    "start_time": "2021-12-24T15:42:19.993Z"
   },
   {
    "duration": 24,
    "start_time": "2021-12-24T15:42:20.000Z"
   },
   {
    "duration": 2819,
    "start_time": "2021-12-24T15:42:20.041Z"
   },
   {
    "duration": 7,
    "start_time": "2021-12-24T15:42:22.862Z"
   },
   {
    "duration": 17,
    "start_time": "2021-12-24T15:42:22.871Z"
   },
   {
    "duration": 3997,
    "start_time": "2021-12-24T15:42:22.890Z"
   },
   {
    "duration": 304,
    "start_time": "2021-12-24T15:42:26.889Z"
   },
   {
    "duration": 247,
    "start_time": "2021-12-24T15:42:27.195Z"
   },
   {
    "duration": 6,
    "start_time": "2021-12-24T15:42:27.445Z"
   },
   {
    "duration": 753,
    "start_time": "2021-12-24T15:42:27.455Z"
   },
   {
    "duration": 616,
    "start_time": "2021-12-24T15:42:28.209Z"
   },
   {
    "duration": 897,
    "start_time": "2021-12-24T15:42:28.826Z"
   },
   {
    "duration": 23,
    "start_time": "2021-12-24T15:42:29.725Z"
   },
   {
    "duration": 17,
    "start_time": "2021-12-24T15:42:29.753Z"
   },
   {
    "duration": 2168,
    "start_time": "2021-12-24T15:42:29.773Z"
   },
   {
    "duration": 799,
    "start_time": "2021-12-24T15:42:31.950Z"
   },
   {
    "duration": 1102,
    "start_time": "2021-12-24T15:42:32.751Z"
   },
   {
    "duration": 101,
    "start_time": "2021-12-24T15:42:33.857Z"
   },
   {
    "duration": 2965,
    "start_time": "2021-12-24T15:42:33.960Z"
   },
   {
    "duration": 3,
    "start_time": "2021-12-24T15:42:36.927Z"
   },
   {
    "duration": 13,
    "start_time": "2021-12-24T15:42:36.931Z"
   },
   {
    "duration": 468,
    "start_time": "2021-12-24T15:42:36.945Z"
   },
   {
    "duration": 26,
    "start_time": "2021-12-24T15:42:37.415Z"
   },
   {
    "duration": 15,
    "start_time": "2021-12-24T15:42:37.443Z"
   },
   {
    "duration": 11,
    "start_time": "2021-12-24T15:42:37.460Z"
   },
   {
    "duration": 9,
    "start_time": "2021-12-24T15:42:37.472Z"
   },
   {
    "duration": 7,
    "start_time": "2021-12-24T15:42:37.482Z"
   },
   {
    "duration": 9,
    "start_time": "2021-12-24T15:42:37.490Z"
   },
   {
    "duration": 7,
    "start_time": "2021-12-24T15:42:37.500Z"
   },
   {
    "duration": 34,
    "start_time": "2021-12-24T15:42:37.508Z"
   },
   {
    "duration": 304,
    "start_time": "2021-12-24T15:58:49.627Z"
   },
   {
    "duration": 5,
    "start_time": "2021-12-24T15:59:25.906Z"
   },
   {
    "duration": 8,
    "start_time": "2021-12-24T15:59:31.289Z"
   },
   {
    "duration": 6,
    "start_time": "2021-12-24T15:59:40.987Z"
   },
   {
    "duration": 5,
    "start_time": "2021-12-24T15:59:53.227Z"
   },
   {
    "duration": 6,
    "start_time": "2021-12-24T16:00:05.602Z"
   },
   {
    "duration": 5,
    "start_time": "2021-12-24T16:02:23.875Z"
   },
   {
    "duration": 219,
    "start_time": "2021-12-24T16:21:41.189Z"
   },
   {
    "duration": 10,
    "start_time": "2021-12-24T16:22:15.242Z"
   },
   {
    "duration": 6,
    "start_time": "2021-12-24T16:22:22.457Z"
   },
   {
    "duration": 12103,
    "start_time": "2021-12-25T05:57:52.750Z"
   },
   {
    "duration": 1756,
    "start_time": "2021-12-25T05:58:04.856Z"
   },
   {
    "duration": 44,
    "start_time": "2021-12-25T05:58:06.615Z"
   },
   {
    "duration": 32,
    "start_time": "2021-12-25T05:58:06.662Z"
   },
   {
    "duration": 73,
    "start_time": "2021-12-25T05:58:06.696Z"
   },
   {
    "duration": 3720,
    "start_time": "2021-12-25T05:58:06.772Z"
   },
   {
    "duration": 8,
    "start_time": "2021-12-25T05:58:10.494Z"
   },
   {
    "duration": 15,
    "start_time": "2021-12-25T05:58:10.506Z"
   },
   {
    "duration": 48,
    "start_time": "2021-12-25T05:58:10.525Z"
   },
   {
    "duration": 93,
    "start_time": "2021-12-25T05:58:10.576Z"
   },
   {
    "duration": 9,
    "start_time": "2021-12-25T05:58:10.671Z"
   },
   {
    "duration": 184,
    "start_time": "2021-12-25T05:58:10.683Z"
   },
   {
    "duration": 4366,
    "start_time": "2021-12-25T05:58:10.870Z"
   },
   {
    "duration": 8,
    "start_time": "2021-12-25T05:58:15.239Z"
   },
   {
    "duration": 32,
    "start_time": "2021-12-25T05:58:15.249Z"
   },
   {
    "duration": 4282,
    "start_time": "2021-12-25T05:58:15.283Z"
   },
   {
    "duration": 8,
    "start_time": "2021-12-25T05:58:19.567Z"
   },
   {
    "duration": 22,
    "start_time": "2021-12-25T05:58:19.578Z"
   },
   {
    "duration": 5919,
    "start_time": "2021-12-25T05:58:19.602Z"
   },
   {
    "duration": 421,
    "start_time": "2021-12-25T05:58:25.524Z"
   },
   {
    "duration": 391,
    "start_time": "2021-12-25T05:58:25.948Z"
   },
   {
    "duration": 21,
    "start_time": "2021-12-25T05:58:26.342Z"
   },
   {
    "duration": 1130,
    "start_time": "2021-12-25T05:58:26.368Z"
   },
   {
    "duration": 946,
    "start_time": "2021-12-25T05:58:27.501Z"
   },
   {
    "duration": 1369,
    "start_time": "2021-12-25T05:58:28.450Z"
   },
   {
    "duration": 25,
    "start_time": "2021-12-25T05:58:29.822Z"
   },
   {
    "duration": 5,
    "start_time": "2021-12-25T05:58:29.862Z"
   },
   {
    "duration": 2546,
    "start_time": "2021-12-25T05:58:29.870Z"
   },
   {
    "duration": 1154,
    "start_time": "2021-12-25T05:58:32.418Z"
   },
   {
    "duration": 1289,
    "start_time": "2021-12-25T05:58:33.574Z"
   },
   {
    "duration": 100,
    "start_time": "2021-12-25T05:58:34.866Z"
   },
   {
    "duration": 5915,
    "start_time": "2021-12-25T05:58:34.969Z"
   },
   {
    "duration": 4,
    "start_time": "2021-12-25T05:58:40.886Z"
   },
   {
    "duration": 19,
    "start_time": "2021-12-25T05:58:40.893Z"
   },
   {
    "duration": 706,
    "start_time": "2021-12-25T05:58:40.916Z"
   },
   {
    "duration": 11,
    "start_time": "2021-12-25T05:58:41.625Z"
   },
   {
    "duration": 29,
    "start_time": "2021-12-25T05:58:41.639Z"
   },
   {
    "duration": 29,
    "start_time": "2021-12-25T05:58:41.671Z"
   },
   {
    "duration": 11,
    "start_time": "2021-12-25T05:58:41.703Z"
   },
   {
    "duration": 10,
    "start_time": "2021-12-25T05:58:41.716Z"
   },
   {
    "duration": 42,
    "start_time": "2021-12-25T05:58:41.728Z"
   },
   {
    "duration": 8,
    "start_time": "2021-12-25T05:58:41.772Z"
   },
   {
    "duration": 11,
    "start_time": "2021-12-25T05:58:41.782Z"
   },
   {
    "duration": 7,
    "start_time": "2021-12-25T05:58:41.795Z"
   },
   {
    "duration": 6,
    "start_time": "2021-12-25T05:58:41.804Z"
   },
   {
    "duration": 59,
    "start_time": "2021-12-25T05:58:41.812Z"
   },
   {
    "duration": 813,
    "start_time": "2021-12-25T06:09:26.860Z"
   },
   {
    "duration": 7,
    "start_time": "2021-12-25T06:21:10.970Z"
   },
   {
    "duration": 8,
    "start_time": "2021-12-25T06:21:50.018Z"
   },
   {
    "duration": 14688,
    "start_time": "2021-12-25T13:14:45.194Z"
   },
   {
    "duration": 1849,
    "start_time": "2021-12-25T13:14:59.886Z"
   },
   {
    "duration": 190,
    "start_time": "2021-12-25T13:15:01.738Z"
   },
   {
    "duration": 31,
    "start_time": "2021-12-25T13:15:01.931Z"
   },
   {
    "duration": 54,
    "start_time": "2021-12-25T13:15:01.964Z"
   },
   {
    "duration": 4842,
    "start_time": "2021-12-25T13:15:02.021Z"
   },
   {
    "duration": 7,
    "start_time": "2021-12-25T13:15:06.865Z"
   },
   {
    "duration": 16,
    "start_time": "2021-12-25T13:15:06.875Z"
   },
   {
    "duration": 75,
    "start_time": "2021-12-25T13:15:06.895Z"
   },
   {
    "duration": 172,
    "start_time": "2021-12-25T13:15:06.974Z"
   },
   {
    "duration": 13,
    "start_time": "2021-12-25T13:15:07.149Z"
   },
   {
    "duration": 177,
    "start_time": "2021-12-25T13:15:07.165Z"
   },
   {
    "duration": 5494,
    "start_time": "2021-12-25T13:15:07.344Z"
   },
   {
    "duration": 19,
    "start_time": "2021-12-25T13:15:12.841Z"
   },
   {
    "duration": 25,
    "start_time": "2021-12-25T13:15:12.862Z"
   },
   {
    "duration": 5814,
    "start_time": "2021-12-25T13:15:12.890Z"
   },
   {
    "duration": 10,
    "start_time": "2021-12-25T13:15:18.707Z"
   },
   {
    "duration": 47,
    "start_time": "2021-12-25T13:15:18.720Z"
   },
   {
    "duration": 6660,
    "start_time": "2021-12-25T13:15:18.771Z"
   },
   {
    "duration": 520,
    "start_time": "2021-12-25T13:15:25.433Z"
   },
   {
    "duration": 494,
    "start_time": "2021-12-25T13:15:25.956Z"
   },
   {
    "duration": 10,
    "start_time": "2021-12-25T13:15:26.460Z"
   },
   {
    "duration": 1198,
    "start_time": "2021-12-25T13:15:26.473Z"
   },
   {
    "duration": 974,
    "start_time": "2021-12-25T13:15:27.673Z"
   },
   {
    "duration": 1401,
    "start_time": "2021-12-25T13:15:28.649Z"
   },
   {
    "duration": 30,
    "start_time": "2021-12-25T13:15:30.052Z"
   },
   {
    "duration": 1522,
    "start_time": "2021-12-25T13:15:30.087Z"
   },
   {
    "duration": 2647,
    "start_time": "2021-12-25T13:15:31.612Z"
   },
   {
    "duration": 1202,
    "start_time": "2021-12-25T13:15:34.261Z"
   },
   {
    "duration": 1196,
    "start_time": "2021-12-25T13:15:35.466Z"
   },
   {
    "duration": 121,
    "start_time": "2021-12-25T13:15:36.666Z"
   },
   {
    "duration": 4411,
    "start_time": "2021-12-25T13:15:36.790Z"
   },
   {
    "duration": 4,
    "start_time": "2021-12-25T13:15:41.205Z"
   },
   {
    "duration": 15,
    "start_time": "2021-12-25T13:15:41.213Z"
   },
   {
    "duration": 697,
    "start_time": "2021-12-25T13:15:41.231Z"
   },
   {
    "duration": 31,
    "start_time": "2021-12-25T13:15:41.931Z"
   },
   {
    "duration": 10,
    "start_time": "2021-12-25T13:15:41.964Z"
   },
   {
    "duration": 8,
    "start_time": "2021-12-25T13:15:41.977Z"
   },
   {
    "duration": 11,
    "start_time": "2021-12-25T13:15:41.987Z"
   },
   {
    "duration": 7,
    "start_time": "2021-12-25T13:15:42.001Z"
   },
   {
    "duration": 57,
    "start_time": "2021-12-25T13:15:42.011Z"
   },
   {
    "duration": 10,
    "start_time": "2021-12-25T13:15:42.070Z"
   },
   {
    "duration": 16,
    "start_time": "2021-12-25T13:15:42.082Z"
   },
   {
    "duration": 7,
    "start_time": "2021-12-25T13:15:42.101Z"
   },
   {
    "duration": 56,
    "start_time": "2021-12-25T13:15:42.111Z"
   },
   {
    "duration": 7,
    "start_time": "2021-12-25T13:15:42.169Z"
   },
   {
    "duration": 10,
    "start_time": "2021-12-25T13:15:42.179Z"
   },
   {
    "duration": 11,
    "start_time": "2021-12-25T13:15:42.192Z"
   },
   {
    "duration": 8,
    "start_time": "2021-12-25T13:16:53.574Z"
   },
   {
    "duration": 12440,
    "start_time": "2022-01-17T11:43:26.863Z"
   },
   {
    "duration": 1580,
    "start_time": "2022-01-17T11:43:39.306Z"
   },
   {
    "duration": 35,
    "start_time": "2022-01-17T11:43:40.889Z"
   },
   {
    "duration": 40,
    "start_time": "2022-01-17T11:43:40.927Z"
   },
   {
    "duration": 58,
    "start_time": "2022-01-17T11:43:40.969Z"
   },
   {
    "duration": 3892,
    "start_time": "2022-01-17T11:43:41.029Z"
   },
   {
    "duration": 7,
    "start_time": "2022-01-17T11:43:44.923Z"
   },
   {
    "duration": 37,
    "start_time": "2022-01-17T11:43:44.935Z"
   },
   {
    "duration": 19,
    "start_time": "2022-01-17T11:43:44.975Z"
   },
   {
    "duration": 104,
    "start_time": "2022-01-17T11:43:44.996Z"
   },
   {
    "duration": 9,
    "start_time": "2022-01-17T11:43:45.103Z"
   },
   {
    "duration": 180,
    "start_time": "2022-01-17T11:43:45.115Z"
   },
   {
    "duration": 4517,
    "start_time": "2022-01-17T11:43:45.297Z"
   },
   {
    "duration": 8,
    "start_time": "2022-01-17T11:43:49.817Z"
   },
   {
    "duration": 39,
    "start_time": "2022-01-17T11:43:49.828Z"
   },
   {
    "duration": 4425,
    "start_time": "2022-01-17T11:43:49.870Z"
   },
   {
    "duration": 8,
    "start_time": "2022-01-17T11:43:54.298Z"
   },
   {
    "duration": 25,
    "start_time": "2022-01-17T11:43:54.309Z"
   },
   {
    "duration": 6295,
    "start_time": "2022-01-17T11:43:54.364Z"
   },
   {
    "duration": 427,
    "start_time": "2022-01-17T11:44:00.663Z"
   },
   {
    "duration": 420,
    "start_time": "2022-01-17T11:44:01.093Z"
   },
   {
    "duration": 8,
    "start_time": "2022-01-17T11:44:01.515Z"
   },
   {
    "duration": 1183,
    "start_time": "2022-01-17T11:44:01.530Z"
   },
   {
    "duration": 937,
    "start_time": "2022-01-17T11:44:02.717Z"
   },
   {
    "duration": 1399,
    "start_time": "2022-01-17T11:44:03.657Z"
   },
   {
    "duration": 29,
    "start_time": "2022-01-17T11:44:05.063Z"
   },
   {
    "duration": 6,
    "start_time": "2022-01-17T11:44:05.095Z"
   },
   {
    "duration": 2642,
    "start_time": "2022-01-17T11:44:05.104Z"
   },
   {
    "duration": 1257,
    "start_time": "2022-01-17T11:44:07.748Z"
   },
   {
    "duration": 1255,
    "start_time": "2022-01-17T11:44:09.009Z"
   },
   {
    "duration": 118,
    "start_time": "2022-01-17T11:44:10.267Z"
   },
   {
    "duration": 5338,
    "start_time": "2022-01-17T11:44:10.387Z"
   },
   {
    "duration": 4,
    "start_time": "2022-01-17T11:44:15.728Z"
   },
   {
    "duration": 28,
    "start_time": "2022-01-17T11:44:15.735Z"
   },
   {
    "duration": 705,
    "start_time": "2022-01-17T11:44:15.765Z"
   },
   {
    "duration": 12,
    "start_time": "2022-01-17T11:44:16.472Z"
   },
   {
    "duration": 7,
    "start_time": "2022-01-17T11:44:16.486Z"
   },
   {
    "duration": 8,
    "start_time": "2022-01-17T11:44:16.496Z"
   },
   {
    "duration": 61,
    "start_time": "2022-01-17T11:44:16.507Z"
   },
   {
    "duration": 6,
    "start_time": "2022-01-17T11:44:16.571Z"
   },
   {
    "duration": 12,
    "start_time": "2022-01-17T11:44:16.580Z"
   },
   {
    "duration": 12,
    "start_time": "2022-01-17T11:44:16.594Z"
   },
   {
    "duration": 60,
    "start_time": "2022-01-17T11:44:16.608Z"
   },
   {
    "duration": 8,
    "start_time": "2022-01-17T11:44:16.670Z"
   },
   {
    "duration": 20,
    "start_time": "2022-01-17T11:44:16.680Z"
   },
   {
    "duration": 8,
    "start_time": "2022-01-17T11:44:16.703Z"
   },
   {
    "duration": 50,
    "start_time": "2022-01-17T11:44:16.714Z"
   },
   {
    "duration": 9,
    "start_time": "2022-01-17T11:44:16.767Z"
   },
   {
    "duration": 9152,
    "start_time": "2022-01-19T09:56:43.997Z"
   },
   {
    "duration": 1390,
    "start_time": "2022-01-19T09:56:53.151Z"
   },
   {
    "duration": 117,
    "start_time": "2022-01-19T09:56:54.544Z"
   },
   {
    "duration": 27,
    "start_time": "2022-01-19T09:56:54.663Z"
   },
   {
    "duration": 47,
    "start_time": "2022-01-19T09:56:54.692Z"
   },
   {
    "duration": 1977,
    "start_time": "2022-01-19T09:56:54.741Z"
   },
   {
    "duration": 9,
    "start_time": "2022-01-19T09:56:56.719Z"
   },
   {
    "duration": 9,
    "start_time": "2022-01-19T09:56:56.730Z"
   },
   {
    "duration": 11,
    "start_time": "2022-01-19T09:56:56.741Z"
   },
   {
    "duration": 78,
    "start_time": "2022-01-19T09:56:56.755Z"
   },
   {
    "duration": 7,
    "start_time": "2022-01-19T09:56:56.835Z"
   },
   {
    "duration": 137,
    "start_time": "2022-01-19T09:56:56.844Z"
   },
   {
    "duration": 3530,
    "start_time": "2022-01-19T09:56:56.982Z"
   },
   {
    "duration": 15,
    "start_time": "2022-01-19T09:57:00.514Z"
   },
   {
    "duration": 27,
    "start_time": "2022-01-19T09:57:00.530Z"
   },
   {
    "duration": 3070,
    "start_time": "2022-01-19T09:57:00.559Z"
   },
   {
    "duration": 6,
    "start_time": "2022-01-19T09:57:03.631Z"
   },
   {
    "duration": 30,
    "start_time": "2022-01-19T09:57:03.638Z"
   },
   {
    "duration": 3200,
    "start_time": "2022-01-19T09:57:03.670Z"
   },
   {
    "duration": 231,
    "start_time": "2022-01-19T09:57:06.872Z"
   },
   {
    "duration": 219,
    "start_time": "2022-01-19T09:57:07.104Z"
   },
   {
    "duration": 6,
    "start_time": "2022-01-19T09:57:07.324Z"
   },
   {
    "duration": 676,
    "start_time": "2022-01-19T09:57:07.332Z"
   },
   {
    "duration": 550,
    "start_time": "2022-01-19T09:57:08.010Z"
   },
   {
    "duration": 784,
    "start_time": "2022-01-19T09:57:08.561Z"
   },
   {
    "duration": 14,
    "start_time": "2022-01-19T09:57:09.347Z"
   },
   {
    "duration": 6,
    "start_time": "2022-01-19T09:57:09.364Z"
   },
   {
    "duration": 1888,
    "start_time": "2022-01-19T09:57:09.372Z"
   },
   {
    "duration": 912,
    "start_time": "2022-01-19T09:57:11.262Z"
   },
   {
    "duration": 1856,
    "start_time": "2022-01-19T09:57:12.176Z"
   },
   {
    "duration": 413,
    "start_time": "2022-01-19T09:57:14.035Z"
   },
   {
    "duration": 3585,
    "start_time": "2022-01-19T09:57:14.449Z"
   },
   {
    "duration": 9,
    "start_time": "2022-01-19T09:57:18.036Z"
   },
   {
    "duration": 9,
    "start_time": "2022-01-19T09:57:18.047Z"
   },
   {
    "duration": 10,
    "start_time": "2022-01-19T09:57:18.058Z"
   },
   {
    "duration": 9,
    "start_time": "2022-01-19T09:57:18.070Z"
   },
   {
    "duration": 608,
    "start_time": "2022-01-19T09:57:18.080Z"
   },
   {
    "duration": 1,
    "start_time": "2022-01-19T09:57:18.689Z"
   },
   {
    "duration": -2,
    "start_time": "2022-01-19T09:57:18.694Z"
   },
   {
    "duration": -6,
    "start_time": "2022-01-19T09:57:18.698Z"
   },
   {
    "duration": 17,
    "start_time": "2022-01-19T10:30:30.189Z"
   },
   {
    "duration": 34,
    "start_time": "2022-01-19T10:30:31.302Z"
   },
   {
    "duration": 17,
    "start_time": "2022-01-19T10:30:37.110Z"
   },
   {
    "duration": 283,
    "start_time": "2022-01-19T10:47:59.763Z"
   },
   {
    "duration": 287,
    "start_time": "2022-01-19T10:48:43.166Z"
   },
   {
    "duration": 2465,
    "start_time": "2022-01-19T10:48:52.128Z"
   },
   {
    "duration": 2149,
    "start_time": "2022-01-19T10:50:07.635Z"
   },
   {
    "duration": 98,
    "start_time": "2022-01-19T10:50:40.464Z"
   },
   {
    "duration": 285,
    "start_time": "2022-01-19T10:50:45.430Z"
   },
   {
    "duration": 86,
    "start_time": "2022-01-19T10:50:56.763Z"
   },
   {
    "duration": 1958,
    "start_time": "2022-01-19T10:51:02.415Z"
   },
   {
    "duration": 1869,
    "start_time": "2022-01-19T10:52:36.284Z"
   },
   {
    "duration": 1941,
    "start_time": "2022-01-19T11:19:26.510Z"
   },
   {
    "duration": 6,
    "start_time": "2022-01-19T12:03:16.101Z"
   },
   {
    "duration": 18,
    "start_time": "2022-01-19T12:03:19.245Z"
   },
   {
    "duration": 13,
    "start_time": "2022-01-19T12:23:12.339Z"
   },
   {
    "duration": 2904,
    "start_time": "2022-01-19T12:32:30.584Z"
   },
   {
    "duration": 102,
    "start_time": "2022-01-19T12:48:51.322Z"
   },
   {
    "duration": 2194,
    "start_time": "2022-01-19T12:48:56.439Z"
   },
   {
    "duration": 7638,
    "start_time": "2022-01-20T08:45:42.531Z"
   },
   {
    "duration": 1459,
    "start_time": "2022-01-20T08:45:50.171Z"
   },
   {
    "duration": 34,
    "start_time": "2022-01-20T08:45:51.632Z"
   },
   {
    "duration": 23,
    "start_time": "2022-01-20T08:45:51.668Z"
   },
   {
    "duration": 33,
    "start_time": "2022-01-20T08:45:51.693Z"
   },
   {
    "duration": 2150,
    "start_time": "2022-01-20T08:45:51.728Z"
   },
   {
    "duration": 5,
    "start_time": "2022-01-20T08:45:53.880Z"
   },
   {
    "duration": 13,
    "start_time": "2022-01-20T08:45:53.887Z"
   },
   {
    "duration": 12,
    "start_time": "2022-01-20T08:45:53.902Z"
   },
   {
    "duration": 75,
    "start_time": "2022-01-20T08:45:53.915Z"
   },
   {
    "duration": 7,
    "start_time": "2022-01-20T08:45:53.992Z"
   },
   {
    "duration": 103,
    "start_time": "2022-01-20T08:45:54.000Z"
   },
   {
    "duration": 1986,
    "start_time": "2022-01-20T08:45:54.104Z"
   },
   {
    "duration": 6,
    "start_time": "2022-01-20T08:45:56.092Z"
   },
   {
    "duration": 16,
    "start_time": "2022-01-20T08:45:56.100Z"
   },
   {
    "duration": 2038,
    "start_time": "2022-01-20T08:45:56.118Z"
   },
   {
    "duration": 5,
    "start_time": "2022-01-20T08:45:58.158Z"
   },
   {
    "duration": 23,
    "start_time": "2022-01-20T08:45:58.165Z"
   },
   {
    "duration": 3075,
    "start_time": "2022-01-20T08:45:58.190Z"
   },
   {
    "duration": 279,
    "start_time": "2022-01-20T08:46:01.267Z"
   },
   {
    "duration": 239,
    "start_time": "2022-01-20T08:46:01.548Z"
   },
   {
    "duration": 7,
    "start_time": "2022-01-20T08:46:01.789Z"
   },
   {
    "duration": 778,
    "start_time": "2022-01-20T08:46:01.799Z"
   },
   {
    "duration": 561,
    "start_time": "2022-01-20T08:46:02.580Z"
   },
   {
    "duration": 910,
    "start_time": "2022-01-20T08:46:03.143Z"
   },
   {
    "duration": 16,
    "start_time": "2022-01-20T08:46:04.055Z"
   },
   {
    "duration": 18,
    "start_time": "2022-01-20T08:46:04.073Z"
   },
   {
    "duration": 1859,
    "start_time": "2022-01-20T08:46:04.093Z"
   },
   {
    "duration": 815,
    "start_time": "2022-01-20T08:46:05.954Z"
   },
   {
    "duration": 1071,
    "start_time": "2022-01-20T08:46:06.771Z"
   },
   {
    "duration": 107,
    "start_time": "2022-01-20T08:46:07.845Z"
   },
   {
    "duration": 2362,
    "start_time": "2022-01-20T08:46:07.954Z"
   },
   {
    "duration": 9,
    "start_time": "2022-01-20T08:46:10.318Z"
   },
   {
    "duration": 23,
    "start_time": "2022-01-20T08:46:10.328Z"
   },
   {
    "duration": 33,
    "start_time": "2022-01-20T08:46:10.353Z"
   },
   {
    "duration": 310,
    "start_time": "2022-01-20T08:46:10.388Z"
   },
   {
    "duration": 349,
    "start_time": "2022-01-20T08:46:10.352Z"
   },
   {
    "duration": 345,
    "start_time": "2022-01-20T08:46:10.357Z"
   },
   {
    "duration": 341,
    "start_time": "2022-01-20T08:46:10.362Z"
   },
   {
    "duration": 339,
    "start_time": "2022-01-20T08:46:10.366Z"
   },
   {
    "duration": 1048,
    "start_time": "2022-01-20T08:46:40.941Z"
   },
   {
    "duration": 1041,
    "start_time": "2022-01-20T08:46:49.362Z"
   },
   {
    "duration": 1211,
    "start_time": "2022-01-20T08:47:22.671Z"
   },
   {
    "duration": 1503,
    "start_time": "2022-01-20T08:47:38.967Z"
   },
   {
    "duration": 1600,
    "start_time": "2022-01-20T08:48:20.081Z"
   },
   {
    "duration": 1455,
    "start_time": "2022-01-20T08:49:07.736Z"
   },
   {
    "duration": 1506,
    "start_time": "2022-01-20T08:51:01.653Z"
   },
   {
    "duration": 1480,
    "start_time": "2022-01-20T08:51:10.003Z"
   },
   {
    "duration": 496,
    "start_time": "2022-01-20T09:25:01.250Z"
   },
   {
    "duration": 1067,
    "start_time": "2022-01-20T09:25:02.314Z"
   },
   {
    "duration": 1982,
    "start_time": "2022-01-20T09:26:38.187Z"
   },
   {
    "duration": 14,
    "start_time": "2022-01-20T09:27:34.957Z"
   },
   {
    "duration": 9,
    "start_time": "2022-01-20T09:28:10.043Z"
   },
   {
    "duration": 215,
    "start_time": "2022-01-20T09:28:28.821Z"
   },
   {
    "duration": 589,
    "start_time": "2022-01-20T09:28:46.915Z"
   },
   {
    "duration": 2238,
    "start_time": "2022-01-20T09:29:06.146Z"
   },
   {
    "duration": 11,
    "start_time": "2022-01-20T09:29:36.449Z"
   },
   {
    "duration": 10,
    "start_time": "2022-01-20T09:29:49.281Z"
   },
   {
    "duration": 10,
    "start_time": "2022-01-20T09:29:56.774Z"
   },
   {
    "duration": 11,
    "start_time": "2022-01-20T09:30:06.395Z"
   },
   {
    "duration": 11,
    "start_time": "2022-01-20T09:30:12.916Z"
   },
   {
    "duration": 17,
    "start_time": "2022-01-20T09:32:15.860Z"
   },
   {
    "duration": 619,
    "start_time": "2022-01-20T09:33:20.005Z"
   },
   {
    "duration": 164,
    "start_time": "2022-01-20T09:34:01.921Z"
   },
   {
    "duration": 316,
    "start_time": "2022-01-20T09:34:35.414Z"
   },
   {
    "duration": 1312,
    "start_time": "2022-01-20T09:34:53.465Z"
   },
   {
    "duration": 1601,
    "start_time": "2022-01-20T09:35:03.130Z"
   },
   {
    "duration": 369,
    "start_time": "2022-01-20T09:35:23.996Z"
   },
   {
    "duration": 215,
    "start_time": "2022-01-20T09:35:28.012Z"
   },
   {
    "duration": 1738,
    "start_time": "2022-01-20T09:35:34.300Z"
   },
   {
    "duration": 1613,
    "start_time": "2022-01-20T09:36:56.971Z"
   },
   {
    "duration": 2249,
    "start_time": "2022-01-20T09:37:02.441Z"
   },
   {
    "duration": 2070,
    "start_time": "2022-01-20T09:37:43.890Z"
   },
   {
    "duration": 2386,
    "start_time": "2022-01-20T09:38:00.036Z"
   },
   {
    "duration": 2365,
    "start_time": "2022-01-20T09:38:10.056Z"
   },
   {
    "duration": 12,
    "start_time": "2022-01-20T09:38:52.560Z"
   },
   {
    "duration": 18,
    "start_time": "2022-01-20T09:39:06.652Z"
   },
   {
    "duration": 2069,
    "start_time": "2022-01-20T09:40:26.277Z"
   },
   {
    "duration": 11841,
    "start_time": "2022-01-21T10:03:06.141Z"
   },
   {
    "duration": 1668,
    "start_time": "2022-01-21T10:03:17.986Z"
   },
   {
    "duration": 44,
    "start_time": "2022-01-21T10:03:19.657Z"
   },
   {
    "duration": 47,
    "start_time": "2022-01-21T10:03:19.705Z"
   },
   {
    "duration": 61,
    "start_time": "2022-01-21T10:03:19.755Z"
   },
   {
    "duration": 2781,
    "start_time": "2022-01-21T10:03:19.819Z"
   },
   {
    "duration": 7,
    "start_time": "2022-01-21T10:03:22.603Z"
   },
   {
    "duration": 23,
    "start_time": "2022-01-21T10:03:22.614Z"
   },
   {
    "duration": 43,
    "start_time": "2022-01-21T10:03:22.641Z"
   },
   {
    "duration": 100,
    "start_time": "2022-01-21T10:03:22.687Z"
   },
   {
    "duration": 9,
    "start_time": "2022-01-21T10:03:22.790Z"
   },
   {
    "duration": 184,
    "start_time": "2022-01-21T10:03:22.802Z"
   },
   {
    "duration": 4271,
    "start_time": "2022-01-21T10:03:22.989Z"
   },
   {
    "duration": 11,
    "start_time": "2022-01-21T10:03:27.263Z"
   },
   {
    "duration": 38,
    "start_time": "2022-01-21T10:03:27.277Z"
   },
   {
    "duration": 4069,
    "start_time": "2022-01-21T10:03:27.318Z"
   },
   {
    "duration": 11,
    "start_time": "2022-01-21T10:03:31.390Z"
   },
   {
    "duration": 37,
    "start_time": "2022-01-21T10:03:31.404Z"
   },
   {
    "duration": 5415,
    "start_time": "2022-01-21T10:03:31.443Z"
   },
   {
    "duration": 521,
    "start_time": "2022-01-21T10:03:36.865Z"
   },
   {
    "duration": 418,
    "start_time": "2022-01-21T10:03:37.388Z"
   },
   {
    "duration": 10,
    "start_time": "2022-01-21T10:03:37.808Z"
   },
   {
    "duration": 1179,
    "start_time": "2022-01-21T10:03:37.825Z"
   },
   {
    "duration": 823,
    "start_time": "2022-01-21T10:03:39.007Z"
   },
   {
    "duration": 1457,
    "start_time": "2022-01-21T10:03:39.833Z"
   },
   {
    "duration": 27,
    "start_time": "2022-01-21T10:03:41.293Z"
   },
   {
    "duration": 6,
    "start_time": "2022-01-21T10:03:41.322Z"
   },
   {
    "duration": 2483,
    "start_time": "2022-01-21T10:03:41.330Z"
   },
   {
    "duration": 1262,
    "start_time": "2022-01-21T10:03:43.816Z"
   },
   {
    "duration": 1398,
    "start_time": "2022-01-21T10:03:45.081Z"
   },
   {
    "duration": 24,
    "start_time": "2022-01-21T10:03:46.566Z"
   },
   {
    "duration": 4474,
    "start_time": "2022-01-21T10:03:46.593Z"
   },
   {
    "duration": 3602,
    "start_time": "2022-01-21T10:03:51.070Z"
   },
   {
    "duration": -265,
    "start_time": "2022-01-21T10:03:54.940Z"
   },
   {
    "duration": -269,
    "start_time": "2022-01-21T10:03:54.946Z"
   },
   {
    "duration": -274,
    "start_time": "2022-01-21T10:03:54.953Z"
   },
   {
    "duration": -276,
    "start_time": "2022-01-21T10:03:54.957Z"
   },
   {
    "duration": -279,
    "start_time": "2022-01-21T10:03:54.962Z"
   },
   {
    "duration": -282,
    "start_time": "2022-01-21T10:03:54.967Z"
   },
   {
    "duration": -284,
    "start_time": "2022-01-21T10:03:54.971Z"
   },
   {
    "duration": -288,
    "start_time": "2022-01-21T10:03:54.976Z"
   },
   {
    "duration": -291,
    "start_time": "2022-01-21T10:03:54.981Z"
   },
   {
    "duration": -297,
    "start_time": "2022-01-21T10:03:54.988Z"
   },
   {
    "duration": 340,
    "start_time": "2022-01-21T10:55:30.072Z"
   },
   {
    "duration": 32,
    "start_time": "2022-01-21T10:55:44.363Z"
   },
   {
    "duration": 28,
    "start_time": "2022-01-21T10:58:44.379Z"
   },
   {
    "duration": 31,
    "start_time": "2022-01-21T11:05:59.739Z"
   },
   {
    "duration": 10,
    "start_time": "2022-01-21T11:06:36.457Z"
   },
   {
    "duration": 1242,
    "start_time": "2022-01-21T11:13:44.951Z"
   },
   {
    "duration": 2724,
    "start_time": "2022-01-21T11:14:11.676Z"
   },
   {
    "duration": 1616,
    "start_time": "2022-01-21T11:17:24.337Z"
   },
   {
    "duration": 1077,
    "start_time": "2022-01-21T11:18:15.462Z"
   },
   {
    "duration": 519,
    "start_time": "2022-01-21T11:26:59.136Z"
   },
   {
    "duration": 8100,
    "start_time": "2022-01-26T01:55:10.509Z"
   },
   {
    "duration": 1282,
    "start_time": "2022-01-26T01:55:18.612Z"
   },
   {
    "duration": 38,
    "start_time": "2022-01-26T01:55:19.897Z"
   },
   {
    "duration": 25,
    "start_time": "2022-01-26T01:55:19.937Z"
   },
   {
    "duration": 52,
    "start_time": "2022-01-26T01:55:19.964Z"
   },
   {
    "duration": 1618,
    "start_time": "2022-01-26T01:55:20.018Z"
   },
   {
    "duration": 7,
    "start_time": "2022-01-26T01:55:21.639Z"
   },
   {
    "duration": 24,
    "start_time": "2022-01-26T01:55:21.648Z"
   },
   {
    "duration": 31,
    "start_time": "2022-01-26T01:55:21.676Z"
   },
   {
    "duration": 57,
    "start_time": "2022-01-26T01:55:21.710Z"
   },
   {
    "duration": 9,
    "start_time": "2022-01-26T01:55:21.769Z"
   },
   {
    "duration": 128,
    "start_time": "2022-01-26T01:55:21.780Z"
   },
   {
    "duration": 2284,
    "start_time": "2022-01-26T01:55:21.911Z"
   },
   {
    "duration": 13,
    "start_time": "2022-01-26T01:55:24.198Z"
   },
   {
    "duration": 18,
    "start_time": "2022-01-26T01:55:24.213Z"
   },
   {
    "duration": 2393,
    "start_time": "2022-01-26T01:55:24.233Z"
   },
   {
    "duration": 8,
    "start_time": "2022-01-26T01:55:26.628Z"
   },
   {
    "duration": 16,
    "start_time": "2022-01-26T01:55:26.638Z"
   },
   {
    "duration": 3428,
    "start_time": "2022-01-26T01:55:26.656Z"
   },
   {
    "duration": 368,
    "start_time": "2022-01-26T01:55:30.086Z"
   },
   {
    "duration": 261,
    "start_time": "2022-01-26T01:55:30.456Z"
   },
   {
    "duration": 8,
    "start_time": "2022-01-26T01:55:30.719Z"
   },
   {
    "duration": 825,
    "start_time": "2022-01-26T01:55:30.729Z"
   },
   {
    "duration": 602,
    "start_time": "2022-01-26T01:55:31.556Z"
   },
   {
    "duration": 923,
    "start_time": "2022-01-26T01:55:32.160Z"
   },
   {
    "duration": 25,
    "start_time": "2022-01-26T01:55:33.085Z"
   },
   {
    "duration": 5,
    "start_time": "2022-01-26T01:55:33.114Z"
   },
   {
    "duration": 1988,
    "start_time": "2022-01-26T01:55:33.121Z"
   },
   {
    "duration": 881,
    "start_time": "2022-01-26T01:55:35.111Z"
   },
   {
    "duration": 1114,
    "start_time": "2022-01-26T01:55:35.994Z"
   },
   {
    "duration": 106,
    "start_time": "2022-01-26T01:55:37.110Z"
   },
   {
    "duration": 2433,
    "start_time": "2022-01-26T01:55:37.219Z"
   },
   {
    "duration": 9,
    "start_time": "2022-01-26T01:55:39.654Z"
   },
   {
    "duration": 23,
    "start_time": "2022-01-26T01:55:39.665Z"
   },
   {
    "duration": 24,
    "start_time": "2022-01-26T01:55:39.690Z"
   },
   {
    "duration": 314,
    "start_time": "2022-01-26T01:55:39.716Z"
   },
   {
    "duration": -4018,
    "start_time": "2022-01-26T01:55:44.050Z"
   },
   {
    "duration": -4021,
    "start_time": "2022-01-26T01:55:44.054Z"
   },
   {
    "duration": -4025,
    "start_time": "2022-01-26T01:55:44.059Z"
   },
   {
    "duration": -4028,
    "start_time": "2022-01-26T01:55:44.063Z"
   },
   {
    "duration": 13647,
    "start_time": "2022-01-26T08:13:32.115Z"
   },
   {
    "duration": 1170,
    "start_time": "2022-01-26T08:13:45.764Z"
   },
   {
    "duration": 122,
    "start_time": "2022-01-26T08:13:46.936Z"
   },
   {
    "duration": 24,
    "start_time": "2022-01-26T08:13:47.060Z"
   },
   {
    "duration": 35,
    "start_time": "2022-01-26T08:13:47.086Z"
   },
   {
    "duration": 1511,
    "start_time": "2022-01-26T08:13:47.122Z"
   },
   {
    "duration": 5,
    "start_time": "2022-01-26T08:13:48.635Z"
   },
   {
    "duration": 29,
    "start_time": "2022-01-26T08:13:48.644Z"
   },
   {
    "duration": 16,
    "start_time": "2022-01-26T08:13:48.676Z"
   },
   {
    "duration": 48,
    "start_time": "2022-01-26T08:13:48.694Z"
   },
   {
    "duration": 7,
    "start_time": "2022-01-26T08:13:48.744Z"
   },
   {
    "duration": 112,
    "start_time": "2022-01-26T08:13:48.752Z"
   },
   {
    "duration": 2281,
    "start_time": "2022-01-26T08:13:48.871Z"
   },
   {
    "duration": 7,
    "start_time": "2022-01-26T08:13:51.154Z"
   },
   {
    "duration": 17,
    "start_time": "2022-01-26T08:13:51.172Z"
   },
   {
    "duration": 2067,
    "start_time": "2022-01-26T08:13:51.191Z"
   },
   {
    "duration": 19,
    "start_time": "2022-01-26T08:13:53.259Z"
   },
   {
    "duration": 17,
    "start_time": "2022-01-26T08:13:53.280Z"
   },
   {
    "duration": 4096,
    "start_time": "2022-01-26T08:13:53.299Z"
   },
   {
    "duration": 479,
    "start_time": "2022-01-26T08:13:57.397Z"
   },
   {
    "duration": 340,
    "start_time": "2022-01-26T08:13:57.880Z"
   },
   {
    "duration": 6,
    "start_time": "2022-01-26T08:13:58.221Z"
   },
   {
    "duration": 778,
    "start_time": "2022-01-26T08:13:58.230Z"
   },
   {
    "duration": 519,
    "start_time": "2022-01-26T08:13:59.010Z"
   },
   {
    "duration": 880,
    "start_time": "2022-01-26T08:13:59.531Z"
   },
   {
    "duration": 13,
    "start_time": "2022-01-26T08:14:00.413Z"
   },
   {
    "duration": 3,
    "start_time": "2022-01-26T08:14:00.428Z"
   },
   {
    "duration": 1691,
    "start_time": "2022-01-26T08:14:00.432Z"
   },
   {
    "duration": 826,
    "start_time": "2022-01-26T08:14:02.125Z"
   },
   {
    "duration": 1033,
    "start_time": "2022-01-26T08:14:02.952Z"
   },
   {
    "duration": 102,
    "start_time": "2022-01-26T08:14:03.987Z"
   },
   {
    "duration": 2593,
    "start_time": "2022-01-26T08:14:04.092Z"
   },
   {
    "duration": 7,
    "start_time": "2022-01-26T08:14:06.687Z"
   },
   {
    "duration": 6,
    "start_time": "2022-01-26T08:14:06.696Z"
   },
   {
    "duration": 7,
    "start_time": "2022-01-26T08:14:06.703Z"
   },
   {
    "duration": 370,
    "start_time": "2022-01-26T08:14:06.712Z"
   },
   {
    "duration": -3017,
    "start_time": "2022-01-26T08:14:10.101Z"
   },
   {
    "duration": -3020,
    "start_time": "2022-01-26T08:14:10.105Z"
   },
   {
    "duration": -3024,
    "start_time": "2022-01-26T08:14:10.110Z"
   },
   {
    "duration": -3030,
    "start_time": "2022-01-26T08:14:10.117Z"
   },
   {
    "duration": 273,
    "start_time": "2022-01-26T08:15:13.546Z"
   },
   {
    "duration": 7,
    "start_time": "2022-01-26T08:16:53.231Z"
   },
   {
    "duration": 548,
    "start_time": "2022-01-26T08:17:00.525Z"
   },
   {
    "duration": 427,
    "start_time": "2022-01-26T08:17:12.235Z"
   },
   {
    "duration": 36,
    "start_time": "2022-01-26T08:17:55.858Z"
   },
   {
    "duration": 538,
    "start_time": "2022-01-26T08:18:02.977Z"
   },
   {
    "duration": 181,
    "start_time": "2022-01-26T08:20:26.139Z"
   },
   {
    "duration": 41,
    "start_time": "2022-01-26T09:15:20.446Z"
   },
   {
    "duration": 7,
    "start_time": "2022-01-26T09:48:03.528Z"
   },
   {
    "duration": 7,
    "start_time": "2022-01-26T09:48:15.441Z"
   },
   {
    "duration": 3,
    "start_time": "2022-01-26T10:33:47.204Z"
   },
   {
    "duration": 3,
    "start_time": "2022-01-26T10:36:28.502Z"
   },
   {
    "duration": 4,
    "start_time": "2022-01-26T10:37:39.390Z"
   },
   {
    "duration": 662,
    "start_time": "2022-01-26T10:37:53.333Z"
   },
   {
    "duration": 6,
    "start_time": "2022-01-26T10:38:40.924Z"
   },
   {
    "duration": 5,
    "start_time": "2022-01-26T10:38:49.804Z"
   },
   {
    "duration": 3,
    "start_time": "2022-01-26T10:40:25.460Z"
   },
   {
    "duration": 5,
    "start_time": "2022-01-26T10:40:29.128Z"
   },
   {
    "duration": 5,
    "start_time": "2022-01-26T10:46:08.402Z"
   },
   {
    "duration": 8,
    "start_time": "2022-01-26T10:46:11.848Z"
   },
   {
    "duration": 191,
    "start_time": "2022-01-26T10:46:12.324Z"
   },
   {
    "duration": 677,
    "start_time": "2022-01-26T10:46:15.512Z"
   },
   {
    "duration": 5,
    "start_time": "2022-01-26T10:47:04.224Z"
   },
   {
    "duration": 668,
    "start_time": "2022-01-26T10:47:08.676Z"
   },
   {
    "duration": 4,
    "start_time": "2022-01-26T10:47:28.123Z"
   },
   {
    "duration": 4,
    "start_time": "2022-01-26T10:47:32.319Z"
   },
   {
    "duration": 5,
    "start_time": "2022-01-26T10:47:57.569Z"
   },
   {
    "duration": 661,
    "start_time": "2022-01-26T10:48:02.141Z"
   },
   {
    "duration": 5,
    "start_time": "2022-01-26T10:48:10.181Z"
   },
   {
    "duration": 5,
    "start_time": "2022-01-26T10:48:12.783Z"
   },
   {
    "duration": 4,
    "start_time": "2022-01-26T10:48:28.089Z"
   },
   {
    "duration": 6,
    "start_time": "2022-01-26T10:48:31.124Z"
   },
   {
    "duration": 4,
    "start_time": "2022-01-26T10:49:09.585Z"
   },
   {
    "duration": 7,
    "start_time": "2022-01-26T10:49:12.779Z"
   },
   {
    "duration": 4,
    "start_time": "2022-01-26T10:50:06.529Z"
   },
   {
    "duration": 6,
    "start_time": "2022-01-26T10:50:09.384Z"
   },
   {
    "duration": 4,
    "start_time": "2022-01-26T10:50:47.525Z"
   },
   {
    "duration": 5,
    "start_time": "2022-01-26T10:50:51.385Z"
   },
   {
    "duration": 12,
    "start_time": "2022-01-26T10:54:20.134Z"
   },
   {
    "duration": 17,
    "start_time": "2022-01-26T10:55:06.466Z"
   },
   {
    "duration": 350,
    "start_time": "2022-01-26T12:11:58.615Z"
   },
   {
    "duration": 8,
    "start_time": "2022-01-26T12:12:02.610Z"
   },
   {
    "duration": 174,
    "start_time": "2022-01-26T12:12:03.809Z"
   },
   {
    "duration": 4,
    "start_time": "2022-01-26T12:12:15.211Z"
   },
   {
    "duration": 544,
    "start_time": "2022-01-26T12:16:17.903Z"
   },
   {
    "duration": 184,
    "start_time": "2022-01-26T12:16:53.305Z"
   },
   {
    "duration": 520,
    "start_time": "2022-01-26T12:17:05.931Z"
   },
   {
    "duration": 298,
    "start_time": "2022-01-26T12:17:22.981Z"
   },
   {
    "duration": 180,
    "start_time": "2022-01-26T12:17:45.991Z"
   },
   {
    "duration": 180,
    "start_time": "2022-01-26T12:18:01.422Z"
   },
   {
    "duration": 2460,
    "start_time": "2022-01-26T12:18:43.597Z"
   },
   {
    "duration": 1456,
    "start_time": "2022-01-26T12:18:46.060Z"
   },
   {
    "duration": 31,
    "start_time": "2022-01-26T12:18:47.519Z"
   },
   {
    "duration": 28,
    "start_time": "2022-01-26T12:18:47.552Z"
   },
   {
    "duration": 33,
    "start_time": "2022-01-26T12:18:47.583Z"
   },
   {
    "duration": 1448,
    "start_time": "2022-01-26T12:18:47.618Z"
   },
   {
    "duration": 5,
    "start_time": "2022-01-26T12:18:49.071Z"
   },
   {
    "duration": 9,
    "start_time": "2022-01-26T12:18:49.079Z"
   },
   {
    "duration": 11,
    "start_time": "2022-01-26T12:18:49.090Z"
   },
   {
    "duration": 70,
    "start_time": "2022-01-26T12:18:49.103Z"
   },
   {
    "duration": 10,
    "start_time": "2022-01-26T12:18:49.175Z"
   },
   {
    "duration": 133,
    "start_time": "2022-01-26T12:18:49.187Z"
   },
   {
    "duration": 2044,
    "start_time": "2022-01-26T12:18:49.323Z"
   },
   {
    "duration": 7,
    "start_time": "2022-01-26T12:18:51.369Z"
   },
   {
    "duration": 15,
    "start_time": "2022-01-26T12:18:51.378Z"
   },
   {
    "duration": 2844,
    "start_time": "2022-01-26T12:18:51.394Z"
   },
   {
    "duration": 7,
    "start_time": "2022-01-26T12:18:54.240Z"
   },
   {
    "duration": 30,
    "start_time": "2022-01-26T12:18:54.249Z"
   },
   {
    "duration": 3038,
    "start_time": "2022-01-26T12:18:54.281Z"
   },
   {
    "duration": 324,
    "start_time": "2022-01-26T12:18:57.321Z"
   },
   {
    "duration": 233,
    "start_time": "2022-01-26T12:18:57.647Z"
   },
   {
    "duration": 7,
    "start_time": "2022-01-26T12:18:57.882Z"
   },
   {
    "duration": 719,
    "start_time": "2022-01-26T12:18:57.893Z"
   },
   {
    "duration": 501,
    "start_time": "2022-01-26T12:18:58.615Z"
   },
   {
    "duration": 824,
    "start_time": "2022-01-26T12:18:59.118Z"
   },
   {
    "duration": 29,
    "start_time": "2022-01-26T12:18:59.944Z"
   },
   {
    "duration": 5,
    "start_time": "2022-01-26T12:18:59.975Z"
   },
   {
    "duration": 1818,
    "start_time": "2022-01-26T12:18:59.981Z"
   },
   {
    "duration": 846,
    "start_time": "2022-01-26T12:19:01.800Z"
   },
   {
    "duration": 929,
    "start_time": "2022-01-26T12:19:02.648Z"
   },
   {
    "duration": 102,
    "start_time": "2022-01-26T12:19:03.579Z"
   },
   {
    "duration": 2296,
    "start_time": "2022-01-26T12:19:03.682Z"
   },
   {
    "duration": 4,
    "start_time": "2022-01-26T12:19:05.980Z"
   },
   {
    "duration": 11,
    "start_time": "2022-01-26T12:19:05.987Z"
   },
   {
    "duration": 306,
    "start_time": "2022-01-26T12:19:06.001Z"
   },
   {
    "duration": 789,
    "start_time": "2022-01-26T12:19:06.308Z"
   },
   {
    "duration": -170,
    "start_time": "2022-01-26T12:19:07.269Z"
   },
   {
    "duration": -176,
    "start_time": "2022-01-26T12:19:07.276Z"
   },
   {
    "duration": -181,
    "start_time": "2022-01-26T12:19:07.282Z"
   },
   {
    "duration": -192,
    "start_time": "2022-01-26T12:19:07.294Z"
   },
   {
    "duration": -196,
    "start_time": "2022-01-26T12:19:07.299Z"
   },
   {
    "duration": 4,
    "start_time": "2022-01-26T12:36:44.417Z"
   },
   {
    "duration": 8,
    "start_time": "2022-01-26T12:37:06.479Z"
   },
   {
    "duration": 184,
    "start_time": "2022-01-26T12:37:07.032Z"
   },
   {
    "duration": 7,
    "start_time": "2022-01-26T12:37:08.043Z"
   },
   {
    "duration": 13,
    "start_time": "2022-01-26T12:37:08.930Z"
   },
   {
    "duration": 9,
    "start_time": "2022-01-26T12:37:11.015Z"
   },
   {
    "duration": 646,
    "start_time": "2022-01-26T12:37:11.479Z"
   },
   {
    "duration": 4,
    "start_time": "2022-01-26T12:37:12.231Z"
   },
   {
    "duration": 178,
    "start_time": "2022-01-26T12:37:26.762Z"
   },
   {
    "duration": 4,
    "start_time": "2022-01-26T12:39:15.388Z"
   },
   {
    "duration": 8,
    "start_time": "2022-01-26T12:39:17.200Z"
   },
   {
    "duration": 186,
    "start_time": "2022-01-26T12:39:17.776Z"
   },
   {
    "duration": 5,
    "start_time": "2022-01-26T12:39:19.015Z"
   },
   {
    "duration": 114,
    "start_time": "2022-01-26T13:04:35.631Z"
   },
   {
    "duration": 232,
    "start_time": "2022-01-26T13:04:50.852Z"
   },
   {
    "duration": 245,
    "start_time": "2022-01-26T13:06:24.335Z"
   },
   {
    "duration": 349,
    "start_time": "2022-01-26T13:06:46.657Z"
   },
   {
    "duration": 265,
    "start_time": "2022-01-26T13:07:33.930Z"
   },
   {
    "duration": 371,
    "start_time": "2022-01-26T13:09:21.723Z"
   },
   {
    "duration": 273,
    "start_time": "2022-01-26T13:09:45.864Z"
   },
   {
    "duration": 274,
    "start_time": "2022-01-26T13:10:04.586Z"
   },
   {
    "duration": 379,
    "start_time": "2022-01-26T13:10:30.552Z"
   },
   {
    "duration": 264,
    "start_time": "2022-01-26T13:11:03.496Z"
   },
   {
    "duration": 271,
    "start_time": "2022-01-26T13:11:15.830Z"
   },
   {
    "duration": 283,
    "start_time": "2022-01-26T13:11:50.472Z"
   },
   {
    "duration": 247,
    "start_time": "2022-01-26T13:12:07.712Z"
   },
   {
    "duration": 283,
    "start_time": "2022-01-26T13:12:35.112Z"
   },
   {
    "duration": 269,
    "start_time": "2022-01-26T13:12:46.409Z"
   },
   {
    "duration": 12,
    "start_time": "2022-01-26T13:15:57.764Z"
   },
   {
    "duration": 6,
    "start_time": "2022-01-26T13:16:10.031Z"
   },
   {
    "duration": 10,
    "start_time": "2022-01-26T13:44:10.742Z"
   },
   {
    "duration": 287,
    "start_time": "2022-01-26T13:44:44.587Z"
   },
   {
    "duration": 270,
    "start_time": "2022-01-26T13:45:28.117Z"
   },
   {
    "duration": 299,
    "start_time": "2022-01-26T13:46:03.966Z"
   },
   {
    "duration": 12,
    "start_time": "2022-01-26T13:47:09.998Z"
   },
   {
    "duration": 534,
    "start_time": "2022-01-26T14:15:33.077Z"
   },
   {
    "duration": 462,
    "start_time": "2022-01-26T14:15:54.471Z"
   },
   {
    "duration": 645,
    "start_time": "2022-01-26T14:16:14.340Z"
   },
   {
    "duration": 1209,
    "start_time": "2022-01-26T14:16:34.711Z"
   },
   {
    "duration": 973,
    "start_time": "2022-01-26T14:17:08.023Z"
   },
   {
    "duration": 17,
    "start_time": "2022-01-26T15:19:40.774Z"
   },
   {
    "duration": 6,
    "start_time": "2022-01-26T15:40:31.999Z"
   },
   {
    "duration": 33492,
    "start_time": "2022-01-27T08:04:11.203Z"
   },
   {
    "duration": 1468,
    "start_time": "2022-01-27T08:04:44.697Z"
   },
   {
    "duration": 53,
    "start_time": "2022-01-27T08:04:46.167Z"
   },
   {
    "duration": 22,
    "start_time": "2022-01-27T08:04:46.222Z"
   },
   {
    "duration": 38,
    "start_time": "2022-01-27T08:04:46.245Z"
   },
   {
    "duration": 1627,
    "start_time": "2022-01-27T08:04:46.285Z"
   },
   {
    "duration": 5,
    "start_time": "2022-01-27T08:04:47.914Z"
   },
   {
    "duration": 14,
    "start_time": "2022-01-27T08:04:47.921Z"
   },
   {
    "duration": 12,
    "start_time": "2022-01-27T08:04:47.937Z"
   },
   {
    "duration": 72,
    "start_time": "2022-01-27T08:04:47.950Z"
   },
   {
    "duration": 7,
    "start_time": "2022-01-27T08:04:48.023Z"
   },
   {
    "duration": 113,
    "start_time": "2022-01-27T08:04:48.032Z"
   },
   {
    "duration": 2183,
    "start_time": "2022-01-27T08:04:48.147Z"
   },
   {
    "duration": 5,
    "start_time": "2022-01-27T08:04:50.332Z"
   },
   {
    "duration": 15,
    "start_time": "2022-01-27T08:04:50.339Z"
   },
   {
    "duration": 2312,
    "start_time": "2022-01-27T08:04:50.356Z"
   },
   {
    "duration": 7,
    "start_time": "2022-01-27T08:04:52.669Z"
   },
   {
    "duration": 31,
    "start_time": "2022-01-27T08:04:52.678Z"
   },
   {
    "duration": 3333,
    "start_time": "2022-01-27T08:04:52.711Z"
   },
   {
    "duration": 371,
    "start_time": "2022-01-27T08:04:56.046Z"
   },
   {
    "duration": 262,
    "start_time": "2022-01-27T08:04:56.419Z"
   },
   {
    "duration": 14,
    "start_time": "2022-01-27T08:04:56.683Z"
   },
   {
    "duration": 842,
    "start_time": "2022-01-27T08:04:56.701Z"
   },
   {
    "duration": 563,
    "start_time": "2022-01-27T08:04:57.545Z"
   },
   {
    "duration": 901,
    "start_time": "2022-01-27T08:04:58.110Z"
   },
   {
    "duration": 15,
    "start_time": "2022-01-27T08:04:59.013Z"
   },
   {
    "duration": 5,
    "start_time": "2022-01-27T08:04:59.030Z"
   },
   {
    "duration": 1924,
    "start_time": "2022-01-27T08:04:59.036Z"
   },
   {
    "duration": 933,
    "start_time": "2022-01-27T08:05:00.962Z"
   },
   {
    "duration": 1000,
    "start_time": "2022-01-27T08:05:01.897Z"
   },
   {
    "duration": 109,
    "start_time": "2022-01-27T08:05:02.901Z"
   },
   {
    "duration": 3228,
    "start_time": "2022-01-27T08:05:03.012Z"
   },
   {
    "duration": 5,
    "start_time": "2022-01-27T08:05:06.241Z"
   },
   {
    "duration": 674,
    "start_time": "2022-01-27T08:05:06.247Z"
   },
   {
    "duration": 1266,
    "start_time": "2022-01-27T08:05:06.923Z"
   },
   {
    "duration": 10,
    "start_time": "2022-01-27T08:05:08.191Z"
   },
   {
    "duration": 14,
    "start_time": "2022-01-27T08:05:08.202Z"
   },
   {
    "duration": 8,
    "start_time": "2022-01-27T08:05:08.217Z"
   },
   {
    "duration": 336,
    "start_time": "2022-01-27T08:05:08.227Z"
   },
   {
    "duration": 6,
    "start_time": "2022-01-27T08:05:08.565Z"
   },
   {
    "duration": 29,
    "start_time": "2022-01-27T08:05:08.572Z"
   },
   {
    "duration": 6,
    "start_time": "2022-01-27T09:47:19.209Z"
   },
   {
    "duration": 484,
    "start_time": "2022-01-27T11:20:49.472Z"
   },
   {
    "duration": 854,
    "start_time": "2022-01-27T11:20:50.512Z"
   },
   {
    "duration": 1034,
    "start_time": "2022-01-27T11:37:38.438Z"
   },
   {
    "duration": 14,
    "start_time": "2022-01-27T11:37:50.833Z"
   },
   {
    "duration": 155,
    "start_time": "2022-01-27T11:38:14.932Z"
   },
   {
    "duration": 15,
    "start_time": "2022-01-27T11:38:20.073Z"
   },
   {
    "duration": 15,
    "start_time": "2022-01-27T11:38:32.331Z"
   },
   {
    "duration": 17,
    "start_time": "2022-01-27T11:39:45.200Z"
   },
   {
    "duration": 17,
    "start_time": "2022-01-27T11:42:16.566Z"
   },
   {
    "duration": 21947,
    "start_time": "2022-01-27T14:50:00.233Z"
   },
   {
    "duration": 1909,
    "start_time": "2022-01-27T14:50:22.184Z"
   },
   {
    "duration": 116,
    "start_time": "2022-01-27T14:50:24.096Z"
   },
   {
    "duration": 31,
    "start_time": "2022-01-27T14:50:24.216Z"
   },
   {
    "duration": 75,
    "start_time": "2022-01-27T14:50:24.249Z"
   },
   {
    "duration": 2483,
    "start_time": "2022-01-27T14:50:24.326Z"
   },
   {
    "duration": 15,
    "start_time": "2022-01-27T14:50:26.813Z"
   },
   {
    "duration": 110,
    "start_time": "2022-01-27T14:50:26.834Z"
   },
   {
    "duration": 21,
    "start_time": "2022-01-27T14:50:26.949Z"
   },
   {
    "duration": 103,
    "start_time": "2022-01-27T14:50:26.973Z"
   },
   {
    "duration": 11,
    "start_time": "2022-01-27T14:50:27.079Z"
   },
   {
    "duration": 183,
    "start_time": "2022-01-27T14:50:27.092Z"
   },
   {
    "duration": 3903,
    "start_time": "2022-01-27T14:50:27.278Z"
   },
   {
    "duration": 9,
    "start_time": "2022-01-27T14:50:31.184Z"
   },
   {
    "duration": 44,
    "start_time": "2022-01-27T14:50:31.196Z"
   },
   {
    "duration": 3578,
    "start_time": "2022-01-27T14:50:31.243Z"
   },
   {
    "duration": 8,
    "start_time": "2022-01-27T14:50:34.824Z"
   },
   {
    "duration": 26,
    "start_time": "2022-01-27T14:50:34.834Z"
   },
   {
    "duration": 5976,
    "start_time": "2022-01-27T14:50:34.875Z"
   },
   {
    "duration": 525,
    "start_time": "2022-01-27T14:50:40.854Z"
   },
   {
    "duration": 558,
    "start_time": "2022-01-27T14:50:41.382Z"
   },
   {
    "duration": 11,
    "start_time": "2022-01-27T14:50:41.943Z"
   },
   {
    "duration": 1700,
    "start_time": "2022-01-27T14:50:41.962Z"
   },
   {
    "duration": 1128,
    "start_time": "2022-01-27T14:50:43.684Z"
   },
   {
    "duration": 1189,
    "start_time": "2022-01-27T14:50:44.815Z"
   },
   {
    "duration": 42,
    "start_time": "2022-01-27T14:50:46.007Z"
   },
   {
    "duration": 6,
    "start_time": "2022-01-27T14:50:46.052Z"
   },
   {
    "duration": 2386,
    "start_time": "2022-01-27T14:50:46.061Z"
   },
   {
    "duration": 1693,
    "start_time": "2022-01-27T14:50:48.450Z"
   },
   {
    "duration": 1185,
    "start_time": "2022-01-27T14:50:50.146Z"
   },
   {
    "duration": 476,
    "start_time": "2022-01-27T14:50:51.334Z"
   },
   {
    "duration": 5049,
    "start_time": "2022-01-27T14:50:51.813Z"
   },
   {
    "duration": 8,
    "start_time": "2022-01-27T14:50:56.865Z"
   },
   {
    "duration": 16,
    "start_time": "2022-01-27T14:50:56.876Z"
   },
   {
    "duration": 2936,
    "start_time": "2022-01-27T14:50:56.895Z"
   },
   {
    "duration": 8,
    "start_time": "2022-01-27T14:50:59.833Z"
   },
   {
    "duration": 23,
    "start_time": "2022-01-27T14:50:59.845Z"
   },
   {
    "duration": 13,
    "start_time": "2022-01-27T14:50:59.871Z"
   },
   {
    "duration": 730,
    "start_time": "2022-01-27T14:50:59.922Z"
   },
   {
    "duration": 7,
    "start_time": "2022-01-27T14:51:00.655Z"
   },
   {
    "duration": 28,
    "start_time": "2022-01-27T14:51:00.665Z"
   },
   {
    "duration": 21,
    "start_time": "2022-01-27T14:51:03.067Z"
   },
   {
    "duration": 3288,
    "start_time": "2022-01-27T16:49:59.112Z"
   },
   {
    "duration": 1625,
    "start_time": "2022-01-27T16:50:02.403Z"
   },
   {
    "duration": 34,
    "start_time": "2022-01-27T16:50:04.031Z"
   },
   {
    "duration": 34,
    "start_time": "2022-01-27T16:50:04.068Z"
   },
   {
    "duration": 60,
    "start_time": "2022-01-27T16:50:04.124Z"
   },
   {
    "duration": 2723,
    "start_time": "2022-01-27T16:50:04.187Z"
   },
   {
    "duration": 18,
    "start_time": "2022-01-27T16:50:06.912Z"
   },
   {
    "duration": 22,
    "start_time": "2022-01-27T16:50:06.936Z"
   },
   {
    "duration": 32,
    "start_time": "2022-01-27T16:50:06.962Z"
   },
   {
    "duration": 144,
    "start_time": "2022-01-27T16:50:06.997Z"
   },
   {
    "duration": 12,
    "start_time": "2022-01-27T16:50:07.144Z"
   },
   {
    "duration": 189,
    "start_time": "2022-01-27T16:50:07.159Z"
   },
   {
    "duration": 3993,
    "start_time": "2022-01-27T16:50:07.351Z"
   },
   {
    "duration": 11,
    "start_time": "2022-01-27T16:50:11.347Z"
   },
   {
    "duration": 32,
    "start_time": "2022-01-27T16:50:11.361Z"
   },
   {
    "duration": 3972,
    "start_time": "2022-01-27T16:50:11.396Z"
   },
   {
    "duration": 8,
    "start_time": "2022-01-27T16:50:15.370Z"
   },
   {
    "duration": 51,
    "start_time": "2022-01-27T16:50:15.380Z"
   },
   {
    "duration": 6312,
    "start_time": "2022-01-27T16:50:15.434Z"
   },
   {
    "duration": 544,
    "start_time": "2022-01-27T16:50:21.748Z"
   },
   {
    "duration": 435,
    "start_time": "2022-01-27T16:50:22.295Z"
   },
   {
    "duration": 9,
    "start_time": "2022-01-27T16:50:22.732Z"
   },
   {
    "duration": 1536,
    "start_time": "2022-01-27T16:50:22.744Z"
   },
   {
    "duration": 891,
    "start_time": "2022-01-27T16:50:24.283Z"
   },
   {
    "duration": 1314,
    "start_time": "2022-01-27T16:50:25.177Z"
   },
   {
    "duration": 41,
    "start_time": "2022-01-27T16:50:26.494Z"
   },
   {
    "duration": 15,
    "start_time": "2022-01-27T16:50:26.542Z"
   },
   {
    "duration": 2462,
    "start_time": "2022-01-27T16:50:26.561Z"
   },
   {
    "duration": 1386,
    "start_time": "2022-01-27T16:50:29.026Z"
   },
   {
    "duration": 1110,
    "start_time": "2022-01-27T16:50:30.415Z"
   },
   {
    "duration": 117,
    "start_time": "2022-01-27T16:50:31.531Z"
   },
   {
    "duration": 4484,
    "start_time": "2022-01-27T16:50:31.651Z"
   },
   {
    "duration": 8,
    "start_time": "2022-01-27T16:50:36.139Z"
   },
   {
    "duration": 25,
    "start_time": "2022-01-27T16:50:36.150Z"
   },
   {
    "duration": 3214,
    "start_time": "2022-01-27T16:50:36.179Z"
   },
   {
    "duration": 29,
    "start_time": "2022-01-27T16:50:39.396Z"
   },
   {
    "duration": 19,
    "start_time": "2022-01-27T16:50:39.427Z"
   },
   {
    "duration": 11,
    "start_time": "2022-01-27T16:50:39.448Z"
   },
   {
    "duration": 520,
    "start_time": "2022-01-27T16:50:39.462Z"
   },
   {
    "duration": 8,
    "start_time": "2022-01-27T16:50:39.985Z"
   },
   {
    "duration": 207,
    "start_time": "2022-01-27T16:50:39.996Z"
   },
   {
    "duration": 96,
    "start_time": "2022-01-27T18:46:59.122Z"
   },
   {
    "duration": 20269,
    "start_time": "2022-02-16T10:55:36.528Z"
   },
   {
    "duration": 1276,
    "start_time": "2022-02-16T10:55:56.799Z"
   },
   {
    "duration": 1857,
    "start_time": "2022-02-16T10:55:58.077Z"
   },
   {
    "duration": 20,
    "start_time": "2022-02-16T10:55:59.936Z"
   },
   {
    "duration": 37,
    "start_time": "2022-02-16T10:55:59.958Z"
   },
   {
    "duration": 1671,
    "start_time": "2022-02-16T10:55:59.996Z"
   },
   {
    "duration": 5,
    "start_time": "2022-02-16T10:56:01.669Z"
   },
   {
    "duration": 32,
    "start_time": "2022-02-16T10:56:01.677Z"
   },
   {
    "duration": 22,
    "start_time": "2022-02-16T10:56:01.711Z"
   },
   {
    "duration": 88,
    "start_time": "2022-02-16T10:56:01.735Z"
   },
   {
    "duration": 6,
    "start_time": "2022-02-16T10:56:01.825Z"
   },
   {
    "duration": 134,
    "start_time": "2022-02-16T10:56:01.833Z"
   },
   {
    "duration": 2228,
    "start_time": "2022-02-16T10:56:01.969Z"
   },
   {
    "duration": 13,
    "start_time": "2022-02-16T10:56:04.199Z"
   },
   {
    "duration": 21,
    "start_time": "2022-02-16T10:56:04.214Z"
   },
   {
    "duration": 2279,
    "start_time": "2022-02-16T10:56:04.237Z"
   },
   {
    "duration": 7,
    "start_time": "2022-02-16T10:56:06.519Z"
   },
   {
    "duration": 25,
    "start_time": "2022-02-16T10:56:06.527Z"
   },
   {
    "duration": 3270,
    "start_time": "2022-02-16T10:56:06.554Z"
   },
   {
    "duration": 368,
    "start_time": "2022-02-16T10:56:09.826Z"
   },
   {
    "duration": 253,
    "start_time": "2022-02-16T10:56:10.196Z"
   },
   {
    "duration": 6,
    "start_time": "2022-02-16T10:56:10.451Z"
   },
   {
    "duration": 796,
    "start_time": "2022-02-16T10:56:10.460Z"
   },
   {
    "duration": 448,
    "start_time": "2022-02-16T10:56:11.258Z"
   },
   {
    "duration": 881,
    "start_time": "2022-02-16T10:56:11.708Z"
   },
   {
    "duration": 24,
    "start_time": "2022-02-16T10:56:12.591Z"
   },
   {
    "duration": 7,
    "start_time": "2022-02-16T10:56:12.617Z"
   },
   {
    "duration": 1713,
    "start_time": "2022-02-16T10:56:12.625Z"
   },
   {
    "duration": 836,
    "start_time": "2022-02-16T10:56:14.339Z"
   },
   {
    "duration": 1145,
    "start_time": "2022-02-16T10:56:15.176Z"
   },
   {
    "duration": 16,
    "start_time": "2022-02-16T10:56:16.411Z"
   },
   {
    "duration": 2430,
    "start_time": "2022-02-16T10:56:16.429Z"
   },
   {
    "duration": 4,
    "start_time": "2022-02-16T10:56:18.861Z"
   },
   {
    "duration": 32,
    "start_time": "2022-02-16T10:56:18.866Z"
   },
   {
    "duration": 1327,
    "start_time": "2022-02-16T10:56:18.900Z"
   },
   {
    "duration": 5,
    "start_time": "2022-02-16T10:56:20.228Z"
   },
   {
    "duration": 18,
    "start_time": "2022-02-16T10:56:20.234Z"
   },
   {
    "duration": 27,
    "start_time": "2022-02-16T10:56:20.253Z"
   },
   {
    "duration": 325,
    "start_time": "2022-02-16T10:56:20.282Z"
   },
   {
    "duration": 4,
    "start_time": "2022-02-16T10:56:20.612Z"
   },
   {
    "duration": 22,
    "start_time": "2022-02-16T10:56:20.617Z"
   },
   {
    "duration": 44,
    "start_time": "2022-11-20T03:35:39.779Z"
   },
   {
    "duration": 1339,
    "start_time": "2022-11-20T03:35:55.622Z"
   },
   {
    "duration": 2729,
    "start_time": "2022-11-20T03:36:07.503Z"
   },
   {
    "duration": 284,
    "start_time": "2022-11-20T03:36:16.941Z"
   },
   {
    "duration": 101,
    "start_time": "2022-11-20T03:36:21.857Z"
   },
   {
    "duration": 2771,
    "start_time": "2022-11-20T18:27:34.220Z"
   },
   {
    "duration": 1551,
    "start_time": "2022-11-20T18:27:38.858Z"
   },
   {
    "duration": 143,
    "start_time": "2022-11-20T18:27:41.433Z"
   },
   {
    "duration": 1511,
    "start_time": "2023-02-14T08:11:34.398Z"
   },
   {
    "duration": 43,
    "start_time": "2023-02-14T08:11:35.911Z"
   },
   {
    "duration": 37,
    "start_time": "2023-02-14T08:11:35.956Z"
   },
   {
    "duration": 36,
    "start_time": "2023-02-14T08:11:35.996Z"
   },
   {
    "duration": 1249,
    "start_time": "2023-02-14T08:11:36.034Z"
   },
   {
    "duration": 4,
    "start_time": "2023-02-14T08:11:37.285Z"
   },
   {
    "duration": 16,
    "start_time": "2023-02-14T08:11:37.291Z"
   },
   {
    "duration": 10,
    "start_time": "2023-02-14T08:11:37.309Z"
   },
   {
    "duration": 81,
    "start_time": "2023-02-14T08:11:37.321Z"
   },
   {
    "duration": 10,
    "start_time": "2023-02-14T08:11:37.406Z"
   },
   {
    "duration": 170,
    "start_time": "2023-02-14T08:11:37.419Z"
   },
   {
    "duration": 1586,
    "start_time": "2023-02-14T08:11:37.592Z"
   },
   {
    "duration": 1660,
    "start_time": "2023-02-14T08:11:39.184Z"
   },
   {
    "duration": 6,
    "start_time": "2023-02-14T08:11:40.846Z"
   },
   {
    "duration": 57,
    "start_time": "2023-02-14T08:11:40.853Z"
   },
   {
    "duration": 2913,
    "start_time": "2023-02-14T08:11:40.912Z"
   },
   {
    "duration": 6,
    "start_time": "2023-02-14T08:11:43.826Z"
   },
   {
    "duration": 43,
    "start_time": "2023-02-14T08:11:43.834Z"
   },
   {
    "duration": 2815,
    "start_time": "2023-02-14T08:11:43.882Z"
   },
   {
    "duration": 223,
    "start_time": "2023-02-14T08:11:46.699Z"
   },
   {
    "duration": 186,
    "start_time": "2023-02-14T08:11:46.924Z"
   },
   {
    "duration": 7,
    "start_time": "2023-02-14T08:11:47.111Z"
   },
   {
    "duration": 996,
    "start_time": "2023-02-14T08:11:47.119Z"
   },
   {
    "duration": 428,
    "start_time": "2023-02-14T08:11:48.117Z"
   },
   {
    "duration": 991,
    "start_time": "2023-02-14T08:11:48.547Z"
   },
   {
    "duration": 39,
    "start_time": "2023-02-14T08:11:49.540Z"
   },
   {
    "duration": 5,
    "start_time": "2023-02-14T08:11:49.580Z"
   },
   {
    "duration": 1665,
    "start_time": "2023-02-14T08:11:49.588Z"
   },
   {
    "duration": 519,
    "start_time": "2023-02-14T08:11:51.255Z"
   },
   {
    "duration": 710,
    "start_time": "2023-02-14T08:11:51.782Z"
   },
   {
    "duration": 90,
    "start_time": "2023-02-14T08:11:52.493Z"
   },
   {
    "duration": 1763,
    "start_time": "2023-02-14T08:11:52.586Z"
   },
   {
    "duration": 4,
    "start_time": "2023-02-14T08:11:54.350Z"
   },
   {
    "duration": 13,
    "start_time": "2023-02-14T08:11:54.368Z"
   },
   {
    "duration": 1017,
    "start_time": "2023-02-14T08:11:54.385Z"
   },
   {
    "duration": 6,
    "start_time": "2023-02-14T08:11:55.404Z"
   },
   {
    "duration": 20,
    "start_time": "2023-02-14T08:11:55.412Z"
   },
   {
    "duration": 8,
    "start_time": "2023-02-14T08:11:55.434Z"
   },
   {
    "duration": 235,
    "start_time": "2023-02-14T08:11:55.473Z"
   },
   {
    "duration": 6,
    "start_time": "2023-02-14T08:11:55.710Z"
   },
   {
    "duration": 16,
    "start_time": "2023-02-14T08:11:55.718Z"
   },
   {
    "duration": 1570,
    "start_time": "2023-02-14T08:13:02.545Z"
   },
   {
    "duration": 1651,
    "start_time": "2023-02-14T08:13:15.498Z"
   },
   {
    "duration": 1658,
    "start_time": "2023-02-14T08:13:25.447Z"
   },
   {
    "duration": 1393,
    "start_time": "2023-02-14T08:17:05.995Z"
   },
   {
    "duration": 1627,
    "start_time": "2023-02-14T08:18:29.635Z"
   },
   {
    "duration": 1458,
    "start_time": "2023-02-14T08:19:10.095Z"
   },
   {
    "duration": 1828,
    "start_time": "2023-02-14T08:19:33.721Z"
   },
   {
    "duration": 1748,
    "start_time": "2023-02-14T08:19:43.415Z"
   },
   {
    "duration": 1629,
    "start_time": "2023-02-14T08:19:56.410Z"
   },
   {
    "duration": 1692,
    "start_time": "2023-02-14T08:22:54.658Z"
   },
   {
    "duration": 367,
    "start_time": "2023-02-14T08:24:02.385Z"
   },
   {
    "duration": 1618,
    "start_time": "2023-02-14T08:24:09.712Z"
   },
   {
    "duration": 1802,
    "start_time": "2023-02-14T08:26:55.804Z"
   },
   {
    "duration": 1737,
    "start_time": "2023-02-14T09:56:32.453Z"
   },
   {
    "duration": 1640,
    "start_time": "2023-02-14T10:01:13.208Z"
   },
   {
    "duration": 2362,
    "start_time": "2023-02-14T10:01:55.911Z"
   },
   {
    "duration": 2473,
    "start_time": "2023-02-14T10:03:12.624Z"
   },
   {
    "duration": 43,
    "start_time": "2023-02-14T10:03:27.985Z"
   },
   {
    "duration": 2481,
    "start_time": "2023-02-14T10:03:43.853Z"
   },
   {
    "duration": 2520,
    "start_time": "2023-02-14T10:05:00.081Z"
   },
   {
    "duration": 7,
    "start_time": "2023-02-14T10:05:47.174Z"
   },
   {
    "duration": 8,
    "start_time": "2023-02-14T10:05:54.745Z"
   },
   {
    "duration": 23,
    "start_time": "2023-02-14T10:06:10.331Z"
   },
   {
    "duration": 26,
    "start_time": "2023-02-14T10:06:32.817Z"
   },
   {
    "duration": 9,
    "start_time": "2023-02-14T10:06:47.292Z"
   },
   {
    "duration": 29,
    "start_time": "2023-02-14T10:06:54.989Z"
   },
   {
    "duration": 7,
    "start_time": "2023-02-14T10:07:10.231Z"
   },
   {
    "duration": 202,
    "start_time": "2023-02-14T10:07:21.182Z"
   },
   {
    "duration": 7,
    "start_time": "2023-02-14T10:07:30.066Z"
   },
   {
    "duration": 220,
    "start_time": "2023-02-14T10:07:49.996Z"
   },
   {
    "duration": 7,
    "start_time": "2023-02-14T10:07:53.217Z"
   },
   {
    "duration": 10,
    "start_time": "2023-02-14T10:08:22.657Z"
   },
   {
    "duration": 261,
    "start_time": "2023-02-14T10:08:56.240Z"
   },
   {
    "duration": 160,
    "start_time": "2023-02-14T10:09:12.789Z"
   },
   {
    "duration": 1344,
    "start_time": "2023-02-14T10:10:09.548Z"
   },
   {
    "duration": 41,
    "start_time": "2023-02-14T10:10:10.893Z"
   },
   {
    "duration": 24,
    "start_time": "2023-02-14T10:10:10.935Z"
   },
   {
    "duration": 35,
    "start_time": "2023-02-14T10:10:10.961Z"
   },
   {
    "duration": 1225,
    "start_time": "2023-02-14T10:10:10.998Z"
   },
   {
    "duration": 5,
    "start_time": "2023-02-14T10:10:12.225Z"
   },
   {
    "duration": 17,
    "start_time": "2023-02-14T10:10:12.232Z"
   },
   {
    "duration": 24,
    "start_time": "2023-02-14T10:10:12.250Z"
   },
   {
    "duration": 61,
    "start_time": "2023-02-14T10:10:12.275Z"
   },
   {
    "duration": 7,
    "start_time": "2023-02-14T10:10:12.338Z"
   },
   {
    "duration": 140,
    "start_time": "2023-02-14T10:10:12.367Z"
   },
   {
    "duration": 2094,
    "start_time": "2023-02-14T10:10:12.509Z"
   },
   {
    "duration": 7,
    "start_time": "2023-02-14T10:10:14.605Z"
   },
   {
    "duration": 16,
    "start_time": "2023-02-14T10:10:14.667Z"
   },
   {
    "duration": 2159,
    "start_time": "2023-02-14T10:10:14.684Z"
   },
   {
    "duration": 24,
    "start_time": "2023-02-14T10:10:16.846Z"
   },
   {
    "duration": 18,
    "start_time": "2023-02-14T10:10:16.873Z"
   },
   {
    "duration": 2381,
    "start_time": "2023-02-14T10:10:16.893Z"
   },
   {
    "duration": 204,
    "start_time": "2023-02-14T10:10:19.276Z"
   },
   {
    "duration": 169,
    "start_time": "2023-02-14T10:10:19.481Z"
   },
   {
    "duration": 18,
    "start_time": "2023-02-14T10:10:19.652Z"
   },
   {
    "duration": 830,
    "start_time": "2023-02-14T10:10:19.671Z"
   },
   {
    "duration": 376,
    "start_time": "2023-02-14T10:10:20.503Z"
   },
   {
    "duration": 918,
    "start_time": "2023-02-14T10:10:20.881Z"
   },
   {
    "duration": 15,
    "start_time": "2023-02-14T10:10:21.801Z"
   },
   {
    "duration": 4,
    "start_time": "2023-02-14T10:10:21.818Z"
   },
   {
    "duration": 1621,
    "start_time": "2023-02-14T10:10:21.823Z"
   },
   {
    "duration": 497,
    "start_time": "2023-02-14T10:10:23.446Z"
   },
   {
    "duration": 1024,
    "start_time": "2023-02-14T10:10:23.944Z"
   },
   {
    "duration": 113,
    "start_time": "2023-02-14T10:10:24.970Z"
   },
   {
    "duration": 1629,
    "start_time": "2023-02-14T10:10:25.086Z"
   },
   {
    "duration": 6,
    "start_time": "2023-02-14T10:10:26.717Z"
   },
   {
    "duration": 15,
    "start_time": "2023-02-14T10:10:26.725Z"
   },
   {
    "duration": 887,
    "start_time": "2023-02-14T10:10:26.741Z"
   },
   {
    "duration": 5,
    "start_time": "2023-02-14T10:10:27.630Z"
   },
   {
    "duration": 34,
    "start_time": "2023-02-14T10:10:27.637Z"
   },
   {
    "duration": 9,
    "start_time": "2023-02-14T10:10:27.673Z"
   },
   {
    "duration": 215,
    "start_time": "2023-02-14T10:10:27.683Z"
   },
   {
    "duration": 6,
    "start_time": "2023-02-14T10:10:27.900Z"
   },
   {
    "duration": 12,
    "start_time": "2023-02-14T10:10:27.907Z"
   },
   {
    "duration": 7,
    "start_time": "2023-02-14T10:10:43.283Z"
   },
   {
    "duration": 112,
    "start_time": "2023-02-14T10:11:07.632Z"
   },
   {
    "duration": 12,
    "start_time": "2023-02-14T10:11:17.452Z"
   },
   {
    "duration": 12,
    "start_time": "2023-02-14T10:11:28.668Z"
   },
   {
    "duration": 15,
    "start_time": "2023-02-14T10:11:34.612Z"
   },
   {
    "duration": 7,
    "start_time": "2023-02-14T10:11:41.015Z"
   },
   {
    "duration": 12,
    "start_time": "2023-02-14T10:16:23.248Z"
   },
   {
    "duration": 15,
    "start_time": "2023-02-14T10:17:16.039Z"
   },
   {
    "duration": 14,
    "start_time": "2023-02-14T10:17:24.943Z"
   },
   {
    "duration": 23,
    "start_time": "2023-02-14T10:17:39.705Z"
   },
   {
    "duration": 51,
    "start_time": "2023-02-14T10:18:07.423Z"
   },
   {
    "duration": 170,
    "start_time": "2023-02-14T10:18:15.922Z"
   },
   {
    "duration": 727,
    "start_time": "2023-02-14T10:19:11.020Z"
   },
   {
    "duration": 196,
    "start_time": "2023-02-14T10:19:24.101Z"
   },
   {
    "duration": 225,
    "start_time": "2023-02-14T10:19:44.405Z"
   },
   {
    "duration": 202,
    "start_time": "2023-02-14T10:20:20.245Z"
   },
   {
    "duration": 366,
    "start_time": "2023-02-14T10:21:18.132Z"
   },
   {
    "duration": 547,
    "start_time": "2023-02-14T10:21:58.330Z"
   },
   {
    "duration": 181,
    "start_time": "2023-02-14T10:22:19.856Z"
   },
   {
    "duration": 183,
    "start_time": "2023-02-14T10:22:48.004Z"
   },
   {
    "duration": 169,
    "start_time": "2023-02-14T10:23:06.887Z"
   },
   {
    "duration": 205,
    "start_time": "2023-02-14T10:23:30.800Z"
   },
   {
    "duration": 212,
    "start_time": "2023-02-14T10:24:31.002Z"
   },
   {
    "duration": 215,
    "start_time": "2023-02-14T10:25:12.245Z"
   },
   {
    "duration": 233,
    "start_time": "2023-02-14T10:25:23.586Z"
   },
   {
    "duration": 212,
    "start_time": "2023-02-14T10:26:56.554Z"
   },
   {
    "duration": 224,
    "start_time": "2023-02-14T10:27:29.245Z"
   },
   {
    "duration": 1409,
    "start_time": "2023-02-14T15:38:28.194Z"
   },
   {
    "duration": 0,
    "start_time": "2023-02-14T15:38:29.606Z"
   },
   {
    "duration": 0,
    "start_time": "2023-02-14T15:38:29.607Z"
   },
   {
    "duration": 0,
    "start_time": "2023-02-14T15:38:29.609Z"
   },
   {
    "duration": 0,
    "start_time": "2023-02-14T15:38:29.610Z"
   },
   {
    "duration": 0,
    "start_time": "2023-02-14T15:38:29.611Z"
   },
   {
    "duration": 0,
    "start_time": "2023-02-14T15:38:29.612Z"
   },
   {
    "duration": 0,
    "start_time": "2023-02-14T15:38:29.613Z"
   },
   {
    "duration": 0,
    "start_time": "2023-02-14T15:38:29.614Z"
   },
   {
    "duration": 0,
    "start_time": "2023-02-14T15:38:29.615Z"
   },
   {
    "duration": 0,
    "start_time": "2023-02-14T15:38:29.616Z"
   },
   {
    "duration": 0,
    "start_time": "2023-02-14T15:38:29.617Z"
   },
   {
    "duration": 0,
    "start_time": "2023-02-14T15:38:29.618Z"
   },
   {
    "duration": 0,
    "start_time": "2023-02-14T15:38:29.619Z"
   },
   {
    "duration": 0,
    "start_time": "2023-02-14T15:38:29.621Z"
   },
   {
    "duration": 0,
    "start_time": "2023-02-14T15:38:29.622Z"
   },
   {
    "duration": 0,
    "start_time": "2023-02-14T15:38:29.623Z"
   },
   {
    "duration": 0,
    "start_time": "2023-02-14T15:38:29.624Z"
   },
   {
    "duration": 0,
    "start_time": "2023-02-14T15:38:29.625Z"
   },
   {
    "duration": 0,
    "start_time": "2023-02-14T15:38:29.626Z"
   },
   {
    "duration": 0,
    "start_time": "2023-02-14T15:38:29.627Z"
   },
   {
    "duration": 0,
    "start_time": "2023-02-14T15:38:29.628Z"
   },
   {
    "duration": 0,
    "start_time": "2023-02-14T15:38:29.629Z"
   },
   {
    "duration": 0,
    "start_time": "2023-02-14T15:38:29.630Z"
   },
   {
    "duration": 0,
    "start_time": "2023-02-14T15:38:29.631Z"
   },
   {
    "duration": 0,
    "start_time": "2023-02-14T15:38:29.632Z"
   },
   {
    "duration": 0,
    "start_time": "2023-02-14T15:38:29.633Z"
   },
   {
    "duration": 0,
    "start_time": "2023-02-14T15:38:29.634Z"
   },
   {
    "duration": 0,
    "start_time": "2023-02-14T15:38:29.635Z"
   },
   {
    "duration": 0,
    "start_time": "2023-02-14T15:38:29.636Z"
   },
   {
    "duration": 0,
    "start_time": "2023-02-14T15:38:29.637Z"
   },
   {
    "duration": 0,
    "start_time": "2023-02-14T15:38:29.638Z"
   },
   {
    "duration": 0,
    "start_time": "2023-02-14T15:38:29.639Z"
   },
   {
    "duration": 0,
    "start_time": "2023-02-14T15:38:29.640Z"
   },
   {
    "duration": 0,
    "start_time": "2023-02-14T15:38:29.692Z"
   },
   {
    "duration": 0,
    "start_time": "2023-02-14T15:38:29.693Z"
   },
   {
    "duration": 0,
    "start_time": "2023-02-14T15:38:29.694Z"
   },
   {
    "duration": 0,
    "start_time": "2023-02-14T15:38:29.695Z"
   },
   {
    "duration": 0,
    "start_time": "2023-02-14T15:38:29.696Z"
   },
   {
    "duration": 0,
    "start_time": "2023-02-14T15:38:29.697Z"
   },
   {
    "duration": 67,
    "start_time": "2023-02-14T15:38:57.880Z"
   },
   {
    "duration": 1196,
    "start_time": "2023-02-14T15:39:06.893Z"
   },
   {
    "duration": 3592,
    "start_time": "2023-02-14T15:39:16.123Z"
   },
   {
    "duration": 411,
    "start_time": "2023-02-14T15:39:28.045Z"
   },
   {
    "duration": 1441,
    "start_time": "2023-02-14T15:39:44.259Z"
   },
   {
    "duration": 158,
    "start_time": "2023-02-14T15:39:45.703Z"
   },
   {
    "duration": 27,
    "start_time": "2023-02-14T15:39:45.863Z"
   },
   {
    "duration": 37,
    "start_time": "2023-02-14T15:39:45.892Z"
   },
   {
    "duration": 1312,
    "start_time": "2023-02-14T15:39:45.930Z"
   },
   {
    "duration": 4,
    "start_time": "2023-02-14T15:39:47.244Z"
   },
   {
    "duration": 51,
    "start_time": "2023-02-14T15:39:47.250Z"
   },
   {
    "duration": 10,
    "start_time": "2023-02-14T15:39:47.302Z"
   },
   {
    "duration": 112,
    "start_time": "2023-02-14T15:39:47.313Z"
   },
   {
    "duration": 6,
    "start_time": "2023-02-14T15:39:47.428Z"
   },
   {
    "duration": 265,
    "start_time": "2023-02-14T15:39:47.436Z"
   },
   {
    "duration": 2410,
    "start_time": "2023-02-14T15:39:47.703Z"
   },
   {
    "duration": 6,
    "start_time": "2023-02-14T15:39:50.115Z"
   },
   {
    "duration": 28,
    "start_time": "2023-02-14T15:39:50.122Z"
   },
   {
    "duration": 1782,
    "start_time": "2023-02-14T15:39:50.152Z"
   },
   {
    "duration": 6,
    "start_time": "2023-02-14T15:39:51.936Z"
   },
   {
    "duration": 23,
    "start_time": "2023-02-14T15:39:51.944Z"
   },
   {
    "duration": 2634,
    "start_time": "2023-02-14T15:39:51.969Z"
   },
   {
    "duration": 239,
    "start_time": "2023-02-14T15:39:54.605Z"
   },
   {
    "duration": 230,
    "start_time": "2023-02-14T15:39:54.846Z"
   },
   {
    "duration": 15,
    "start_time": "2023-02-14T15:39:55.077Z"
   },
   {
    "duration": 881,
    "start_time": "2023-02-14T15:39:55.093Z"
   },
   {
    "duration": 462,
    "start_time": "2023-02-14T15:39:55.976Z"
   },
   {
    "duration": 1043,
    "start_time": "2023-02-14T15:39:56.440Z"
   },
   {
    "duration": 16,
    "start_time": "2023-02-14T15:39:57.492Z"
   },
   {
    "duration": 4,
    "start_time": "2023-02-14T15:39:57.510Z"
   },
   {
    "duration": 1762,
    "start_time": "2023-02-14T15:39:57.515Z"
   },
   {
    "duration": 560,
    "start_time": "2023-02-14T15:39:59.280Z"
   },
   {
    "duration": 954,
    "start_time": "2023-02-14T15:39:59.842Z"
   },
   {
    "duration": 103,
    "start_time": "2023-02-14T15:40:00.798Z"
   },
   {
    "duration": 1920,
    "start_time": "2023-02-14T15:40:00.903Z"
   },
   {
    "duration": 5,
    "start_time": "2023-02-14T15:40:02.825Z"
   },
   {
    "duration": 10,
    "start_time": "2023-02-14T15:40:02.832Z"
   },
   {
    "duration": 999,
    "start_time": "2023-02-14T15:40:02.844Z"
   },
   {
    "duration": 11,
    "start_time": "2023-02-14T15:40:03.845Z"
   },
   {
    "duration": 16,
    "start_time": "2023-02-14T15:40:03.857Z"
   },
   {
    "duration": 24,
    "start_time": "2023-02-14T15:40:03.875Z"
   },
   {
    "duration": 234,
    "start_time": "2023-02-14T15:40:03.900Z"
   },
   {
    "duration": 5,
    "start_time": "2023-02-14T15:40:04.135Z"
   },
   {
    "duration": 13,
    "start_time": "2023-02-14T15:40:04.142Z"
   },
   {
    "duration": 1421,
    "start_time": "2023-02-14T15:44:04.705Z"
   },
   {
    "duration": 1371,
    "start_time": "2023-02-14T15:49:57.098Z"
   },
   {
    "duration": 39,
    "start_time": "2023-02-14T15:49:58.471Z"
   },
   {
    "duration": 25,
    "start_time": "2023-02-14T15:49:58.512Z"
   },
   {
    "duration": 37,
    "start_time": "2023-02-14T15:49:58.539Z"
   },
   {
    "duration": 1167,
    "start_time": "2023-02-14T15:49:58.592Z"
   },
   {
    "duration": 4,
    "start_time": "2023-02-14T15:49:59.761Z"
   },
   {
    "duration": 12,
    "start_time": "2023-02-14T15:49:59.767Z"
   },
   {
    "duration": 9,
    "start_time": "2023-02-14T15:49:59.792Z"
   },
   {
    "duration": 53,
    "start_time": "2023-02-14T15:49:59.802Z"
   },
   {
    "duration": 7,
    "start_time": "2023-02-14T15:49:59.857Z"
   },
   {
    "duration": 136,
    "start_time": "2023-02-14T15:49:59.865Z"
   },
   {
    "duration": 1774,
    "start_time": "2023-02-14T15:50:00.003Z"
   },
   {
    "duration": 5,
    "start_time": "2023-02-14T15:50:01.779Z"
   },
   {
    "duration": 50,
    "start_time": "2023-02-14T15:50:01.786Z"
   },
   {
    "duration": 1846,
    "start_time": "2023-02-14T15:50:01.838Z"
   },
   {
    "duration": 7,
    "start_time": "2023-02-14T15:50:03.686Z"
   },
   {
    "duration": 25,
    "start_time": "2023-02-14T15:50:03.695Z"
   },
   {
    "duration": 2747,
    "start_time": "2023-02-14T15:50:03.722Z"
   },
   {
    "duration": 287,
    "start_time": "2023-02-14T15:50:06.471Z"
   },
   {
    "duration": 224,
    "start_time": "2023-02-14T15:50:06.760Z"
   },
   {
    "duration": 11,
    "start_time": "2023-02-14T15:50:06.986Z"
   },
   {
    "duration": 909,
    "start_time": "2023-02-14T15:50:06.999Z"
   },
   {
    "duration": 449,
    "start_time": "2023-02-14T15:50:07.910Z"
   },
   {
    "duration": 1040,
    "start_time": "2023-02-14T15:50:08.361Z"
   },
   {
    "duration": 17,
    "start_time": "2023-02-14T15:50:09.403Z"
   },
   {
    "duration": 5,
    "start_time": "2023-02-14T15:50:09.422Z"
   },
   {
    "duration": 1831,
    "start_time": "2023-02-14T15:50:09.428Z"
   },
   {
    "duration": 591,
    "start_time": "2023-02-14T15:50:11.263Z"
   },
   {
    "duration": 836,
    "start_time": "2023-02-14T15:50:11.856Z"
   },
   {
    "duration": 21,
    "start_time": "2023-02-14T15:50:12.694Z"
   },
   {
    "duration": 1296,
    "start_time": "2023-02-14T15:50:12.791Z"
   },
   {
    "duration": 6,
    "start_time": "2023-02-14T15:50:14.092Z"
   },
   {
    "duration": 13,
    "start_time": "2023-02-14T15:50:14.100Z"
   },
   {
    "duration": 1008,
    "start_time": "2023-02-14T15:50:14.114Z"
   },
   {
    "duration": 6,
    "start_time": "2023-02-14T15:50:15.124Z"
   },
   {
    "duration": 14,
    "start_time": "2023-02-14T15:50:15.132Z"
   },
   {
    "duration": 9,
    "start_time": "2023-02-14T15:50:15.148Z"
   },
   {
    "duration": 260,
    "start_time": "2023-02-14T15:50:15.159Z"
   },
   {
    "duration": 5,
    "start_time": "2023-02-14T15:50:15.421Z"
   },
   {
    "duration": 13,
    "start_time": "2023-02-14T15:50:15.427Z"
   }
  ],
  "kernelspec": {
   "display_name": "Python 3 (ipykernel)",
   "language": "python",
   "name": "python3"
  },
  "language_info": {
   "codemirror_mode": {
    "name": "ipython",
    "version": 3
   },
   "file_extension": ".py",
   "mimetype": "text/x-python",
   "name": "python",
   "nbconvert_exporter": "python",
   "pygments_lexer": "ipython3",
   "version": "3.8.10"
  },
  "toc": {
   "base_numbering": 1,
   "nav_menu": {},
   "number_sections": true,
   "sideBar": true,
   "skip_h1_title": true,
   "title_cell": "Содержание",
   "title_sidebar": "Содержание",
   "toc_cell": true,
   "toc_position": {
    "height": "calc(100% - 180px)",
    "left": "10px",
    "top": "150px",
    "width": "317.457px"
   },
   "toc_section_display": true,
   "toc_window_display": true
  }
 },
 "nbformat": 4,
 "nbformat_minor": 2
}
