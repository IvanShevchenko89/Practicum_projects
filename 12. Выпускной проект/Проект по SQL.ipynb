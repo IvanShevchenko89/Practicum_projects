{
 "cells": [
  {
   "cell_type": "markdown",
   "metadata": {},
   "source": [
    "# Проект по SQL"
   ]
  },
  {
   "cell_type": "markdown",
   "metadata": {},
   "source": [
    "<b> Заказчик: </b>\n",
    "\n",
    "- Компания, планирующая покупку крупного сервиса для чтения книг по подписке.\n",
    "\n",
    "<b> Предоставленные данные: </b>\n",
    "\n",
    "   - Таблица \"books\" — cодержит данные о книгах;\n",
    "   - Таблица \"authors\" — cодержит данные об авторах;\n",
    "   - Таблица \"publishers\" — cодержит данные об издательствах;\n",
    "   - Таблица \"ratings\" — cодержит данные о пользовательских оценках книг;\n",
    "   - Таблица \"reviews\" — cодержит данные о пользовательских обзорах.\n",
    "\n",
    "<b> Задача исследования: </b>\n",
    "- Анализ предоставленных баз данных, с целью формирования ценностного предложения для новго продукта."
   ]
  },
  {
   "cell_type": "code",
   "execution_count": 2,
   "metadata": {},
   "outputs": [
    {
     "name": "stdout",
     "output_type": "stream",
     "text": [
      "__________________________________________СХЕМА ДАННЫХ__________________________________________\n"
     ]
    },
    {
     "data": {
      "text/html": [
       "<img src=\"https://pictures.s3.yandex.net/resources/scheme_1589269096.png\"/>"
      ],
      "text/plain": [
       "<IPython.core.display.Image object>"
      ]
     },
     "execution_count": 2,
     "metadata": {},
     "output_type": "execute_result"
    }
   ],
   "source": [
    "from IPython.display import Image\n",
    "from IPython.core.display import HTML\n",
    "print('__________________________________________СХЕМА ДАННЫХ__________________________________________')\n",
    "Image(url= \"https://pictures.s3.yandex.net/resources/scheme_1589269096.png\")"
   ]
  },
  {
   "cell_type": "markdown",
   "metadata": {
    "toc": true
   },
   "source": [
    "<h1>Содержание<span class=\"tocSkip\"></span></h1>\n",
    "<div class=\"toc\"><ul class=\"toc-item\"><li><span><a href=\"#Изучение-общей-информации\" data-toc-modified-id=\"Изучение-общей-информации-1\"><span class=\"toc-item-num\">1&nbsp;&nbsp;</span>Изучение общей информации</a></span></li><li><span><a href=\"#Решения-заданий\" data-toc-modified-id=\"Решения-заданий-2\"><span class=\"toc-item-num\">2&nbsp;&nbsp;</span>Решения заданий</a></span><ul class=\"toc-item\"><li><span><a href=\"#Количество-книг,-вышедших-после-1-января-2000-года\" data-toc-modified-id=\"Количество-книг,-вышедших-после-1-января-2000-года-2.1\"><span class=\"toc-item-num\">2.1&nbsp;&nbsp;</span>Количество книг, вышедших после 1 января 2000 года</a></span></li><li><span><a href=\"#Количество-обзоров-и-средняя-оценка-книг\" data-toc-modified-id=\"Количество-обзоров-и-средняя-оценка-книг-2.2\"><span class=\"toc-item-num\">2.2&nbsp;&nbsp;</span>Количество обзоров и средняя оценка книг</a></span></li><li><span><a href=\"#Издательство,-выпустившее-наибольшее-число-книг-толще-50-страниц-(исключение-из-анализа-брошюр)\" data-toc-modified-id=\"Издательство,-выпустившее-наибольшее-число-книг-толще-50-страниц-(исключение-из-анализа-брошюр)-2.3\"><span class=\"toc-item-num\">2.3&nbsp;&nbsp;</span>Издательство, выпустившее наибольшее число книг толще 50 страниц (исключение из анализа брошюр)</a></span></li><li><span><a href=\"#Автор-с-самой-высокой-средней-оценкой-книг-(книги-с-50-и-более-оценками)\" data-toc-modified-id=\"Автор-с-самой-высокой-средней-оценкой-книг-(книги-с-50-и-более-оценками)-2.4\"><span class=\"toc-item-num\">2.4&nbsp;&nbsp;</span>Автор с самой высокой средней оценкой книг (книги с 50 и более оценками)</a></span></li><li><span><a href=\"#Среднее-количество-обзоров-от-пользователей,-поставивших-больше-50-оценок\" data-toc-modified-id=\"Среднее-количество-обзоров-от-пользователей,-поставивших-больше-50-оценок-2.5\"><span class=\"toc-item-num\">2.5&nbsp;&nbsp;</span>Среднее количество обзоров от пользователей, поставивших больше 50 оценок</a></span></li></ul></li><li><span><a href=\"#Вывод\" data-toc-modified-id=\"Вывод-3\"><span class=\"toc-item-num\">3&nbsp;&nbsp;</span>Вывод</a></span></li></ul></div>"
   ]
  },
  {
   "cell_type": "markdown",
   "metadata": {},
   "source": [
    "## Изучение общей информации"
   ]
  },
  {
   "cell_type": "code",
   "execution_count": 2,
   "metadata": {},
   "outputs": [],
   "source": [
    "import pandas as pd\n",
    "from sqlalchemy import create_engine"
   ]
  },
  {
   "cell_type": "code",
   "execution_count": 3,
   "metadata": {},
   "outputs": [],
   "source": [
    "# устанавливаем параметры\n",
    "db_config = {'user': 'praktikum_student', # имя пользователя\n",
    " 'pwd': 'Sdf4$2;d-d30pp', # пароль\n",
    " 'host': 'rc1b-wcoijxj3yxfsf3fs.mdb.yandexcloud.net',\n",
    " 'port': 6432, # порт подключения\n",
    " 'db': 'data-analyst-final-project-db'} # название базы данных\n",
    "connection_string = 'postgresql://{}:{}@{}:{}/{}'.format(db_config['user'],\n",
    " db_config['pwd'],\n",
    " db_config['host'],\n",
    " db_config['port'],\n",
    " db_config['db'])\n",
    "# сохраняем коннектор\n",
    "engine = create_engine(connection_string, connect_args={'sslmode':'require'}) "
   ]
  },
  {
   "cell_type": "code",
   "execution_count": 4,
   "metadata": {},
   "outputs": [],
   "source": [
    "# Создадим функцию для выполнения запросов\n",
    "def request(query):\n",
    "    return pd.io.sql.read_sql(query, con = engine) "
   ]
  },
  {
   "cell_type": "code",
   "execution_count": 5,
   "metadata": {},
   "outputs": [],
   "source": [
    "# Список таблиц\n",
    "table_list = ['books', 'authors', 'publishers', 'ratings', 'reviews']"
   ]
  },
  {
   "cell_type": "code",
   "execution_count": 9,
   "metadata": {
    "scrolled": false
   },
   "outputs": [
    {
     "name": "stdout",
     "output_type": "stream",
     "text": [
      "Таблица \"books\"\n"
     ]
    },
    {
     "data": {
      "text/html": [
       "<div>\n",
       "<style scoped>\n",
       "    .dataframe tbody tr th:only-of-type {\n",
       "        vertical-align: middle;\n",
       "    }\n",
       "\n",
       "    .dataframe tbody tr th {\n",
       "        vertical-align: top;\n",
       "    }\n",
       "\n",
       "    .dataframe thead th {\n",
       "        text-align: right;\n",
       "    }\n",
       "</style>\n",
       "<table border=\"1\" class=\"dataframe\">\n",
       "  <thead>\n",
       "    <tr style=\"text-align: right;\">\n",
       "      <th></th>\n",
       "      <th>book_id</th>\n",
       "      <th>author_id</th>\n",
       "      <th>title</th>\n",
       "      <th>num_pages</th>\n",
       "      <th>publication_date</th>\n",
       "      <th>publisher_id</th>\n",
       "    </tr>\n",
       "  </thead>\n",
       "  <tbody>\n",
       "    <tr>\n",
       "      <th>903</th>\n",
       "      <td>904</td>\n",
       "      <td>565</td>\n",
       "      <td>The Waste Land</td>\n",
       "      <td>320</td>\n",
       "      <td>2000-12-01</td>\n",
       "      <td>322</td>\n",
       "    </tr>\n",
       "    <tr>\n",
       "      <th>135</th>\n",
       "      <td>136</td>\n",
       "      <td>299</td>\n",
       "      <td>Captivating: Unveiling the Mystery of a Woman'...</td>\n",
       "      <td>243</td>\n",
       "      <td>2005-04-05</td>\n",
       "      <td>188</td>\n",
       "    </tr>\n",
       "    <tr>\n",
       "      <th>768</th>\n",
       "      <td>769</td>\n",
       "      <td>359</td>\n",
       "      <td>The Killing Dance (Anita Blake  Vampire Hunter...</td>\n",
       "      <td>368</td>\n",
       "      <td>2006-04-04</td>\n",
       "      <td>47</td>\n",
       "    </tr>\n",
       "    <tr>\n",
       "      <th>561</th>\n",
       "      <td>562</td>\n",
       "      <td>512</td>\n",
       "      <td>Ship of Destiny (Liveship Traders  #3)</td>\n",
       "      <td>789</td>\n",
       "      <td>2001-11-27</td>\n",
       "      <td>280</td>\n",
       "    </tr>\n",
       "    <tr>\n",
       "      <th>401</th>\n",
       "      <td>402</td>\n",
       "      <td>116</td>\n",
       "      <td>Longitude: The True Story of a Lone Genius Who...</td>\n",
       "      <td>192</td>\n",
       "      <td>2005-10-01</td>\n",
       "      <td>324</td>\n",
       "    </tr>\n",
       "  </tbody>\n",
       "</table>\n",
       "</div>"
      ],
      "text/plain": [
       "     book_id  author_id                                              title  \\\n",
       "903      904        565                                     The Waste Land   \n",
       "135      136        299  Captivating: Unveiling the Mystery of a Woman'...   \n",
       "768      769        359  The Killing Dance (Anita Blake  Vampire Hunter...   \n",
       "561      562        512             Ship of Destiny (Liveship Traders  #3)   \n",
       "401      402        116  Longitude: The True Story of a Lone Genius Who...   \n",
       "\n",
       "     num_pages publication_date  publisher_id  \n",
       "903        320       2000-12-01           322  \n",
       "135        243       2005-04-05           188  \n",
       "768        368       2006-04-04            47  \n",
       "561        789       2001-11-27           280  \n",
       "401        192       2005-10-01           324  "
      ]
     },
     "metadata": {},
     "output_type": "display_data"
    },
    {
     "name": "stdout",
     "output_type": "stream",
     "text": [
      "<class 'pandas.core.frame.DataFrame'>\n",
      "RangeIndex: 1000 entries, 0 to 999\n",
      "Data columns (total 6 columns):\n",
      " #   Column            Non-Null Count  Dtype \n",
      "---  ------            --------------  ----- \n",
      " 0   book_id           1000 non-null   int64 \n",
      " 1   author_id         1000 non-null   int64 \n",
      " 2   title             1000 non-null   object\n",
      " 3   num_pages         1000 non-null   int64 \n",
      " 4   publication_date  1000 non-null   object\n",
      " 5   publisher_id      1000 non-null   int64 \n",
      "dtypes: int64(4), object(2)\n",
      "memory usage: 47.0+ KB\n"
     ]
    },
    {
     "data": {
      "text/plain": [
       "None"
      ]
     },
     "metadata": {},
     "output_type": "display_data"
    },
    {
     "name": "stdout",
     "output_type": "stream",
     "text": [
      "-----------------------------------------------------------------------------------------------------\n",
      "\n",
      "Таблица \"authors\"\n"
     ]
    },
    {
     "data": {
      "text/html": [
       "<div>\n",
       "<style scoped>\n",
       "    .dataframe tbody tr th:only-of-type {\n",
       "        vertical-align: middle;\n",
       "    }\n",
       "\n",
       "    .dataframe tbody tr th {\n",
       "        vertical-align: top;\n",
       "    }\n",
       "\n",
       "    .dataframe thead th {\n",
       "        text-align: right;\n",
       "    }\n",
       "</style>\n",
       "<table border=\"1\" class=\"dataframe\">\n",
       "  <thead>\n",
       "    <tr style=\"text-align: right;\">\n",
       "      <th></th>\n",
       "      <th>author_id</th>\n",
       "      <th>author</th>\n",
       "    </tr>\n",
       "  </thead>\n",
       "  <tbody>\n",
       "    <tr>\n",
       "      <th>186</th>\n",
       "      <td>187</td>\n",
       "      <td>Gabriel García Márquez</td>\n",
       "    </tr>\n",
       "    <tr>\n",
       "      <th>274</th>\n",
       "      <td>275</td>\n",
       "      <td>Jean Craighead George</td>\n",
       "    </tr>\n",
       "    <tr>\n",
       "      <th>96</th>\n",
       "      <td>97</td>\n",
       "      <td>Clayton M. Christensen/L.J. Ganser</td>\n",
       "    </tr>\n",
       "    <tr>\n",
       "      <th>607</th>\n",
       "      <td>608</td>\n",
       "      <td>W. Somerset Maugham</td>\n",
       "    </tr>\n",
       "    <tr>\n",
       "      <th>371</th>\n",
       "      <td>372</td>\n",
       "      <td>Lois Lowry</td>\n",
       "    </tr>\n",
       "  </tbody>\n",
       "</table>\n",
       "</div>"
      ],
      "text/plain": [
       "     author_id                              author\n",
       "186        187              Gabriel García Márquez\n",
       "274        275               Jean Craighead George\n",
       "96          97  Clayton M. Christensen/L.J. Ganser\n",
       "607        608                 W. Somerset Maugham\n",
       "371        372                          Lois Lowry"
      ]
     },
     "metadata": {},
     "output_type": "display_data"
    },
    {
     "name": "stdout",
     "output_type": "stream",
     "text": [
      "<class 'pandas.core.frame.DataFrame'>\n",
      "RangeIndex: 636 entries, 0 to 635\n",
      "Data columns (total 2 columns):\n",
      " #   Column     Non-Null Count  Dtype \n",
      "---  ------     --------------  ----- \n",
      " 0   author_id  636 non-null    int64 \n",
      " 1   author     636 non-null    object\n",
      "dtypes: int64(1), object(1)\n",
      "memory usage: 10.1+ KB\n"
     ]
    },
    {
     "data": {
      "text/plain": [
       "None"
      ]
     },
     "metadata": {},
     "output_type": "display_data"
    },
    {
     "name": "stdout",
     "output_type": "stream",
     "text": [
      "-----------------------------------------------------------------------------------------------------\n",
      "\n",
      "Таблица \"publishers\"\n"
     ]
    },
    {
     "data": {
      "text/html": [
       "<div>\n",
       "<style scoped>\n",
       "    .dataframe tbody tr th:only-of-type {\n",
       "        vertical-align: middle;\n",
       "    }\n",
       "\n",
       "    .dataframe tbody tr th {\n",
       "        vertical-align: top;\n",
       "    }\n",
       "\n",
       "    .dataframe thead th {\n",
       "        text-align: right;\n",
       "    }\n",
       "</style>\n",
       "<table border=\"1\" class=\"dataframe\">\n",
       "  <thead>\n",
       "    <tr style=\"text-align: right;\">\n",
       "      <th></th>\n",
       "      <th>publisher_id</th>\n",
       "      <th>publisher</th>\n",
       "    </tr>\n",
       "  </thead>\n",
       "  <tbody>\n",
       "    <tr>\n",
       "      <th>202</th>\n",
       "      <td>203</td>\n",
       "      <td>Oxford University Press</td>\n",
       "    </tr>\n",
       "    <tr>\n",
       "      <th>45</th>\n",
       "      <td>46</td>\n",
       "      <td>Berkley Books</td>\n",
       "    </tr>\n",
       "    <tr>\n",
       "      <th>314</th>\n",
       "      <td>315</td>\n",
       "      <td>Vintage International</td>\n",
       "    </tr>\n",
       "    <tr>\n",
       "      <th>300</th>\n",
       "      <td>301</td>\n",
       "      <td>Turtleback Books</td>\n",
       "    </tr>\n",
       "    <tr>\n",
       "      <th>270</th>\n",
       "      <td>271</td>\n",
       "      <td>Simon &amp; Schuster Paperbacks</td>\n",
       "    </tr>\n",
       "  </tbody>\n",
       "</table>\n",
       "</div>"
      ],
      "text/plain": [
       "     publisher_id                    publisher\n",
       "202           203      Oxford University Press\n",
       "45             46                Berkley Books\n",
       "314           315        Vintage International\n",
       "300           301             Turtleback Books\n",
       "270           271  Simon & Schuster Paperbacks"
      ]
     },
     "metadata": {},
     "output_type": "display_data"
    },
    {
     "name": "stdout",
     "output_type": "stream",
     "text": [
      "<class 'pandas.core.frame.DataFrame'>\n",
      "RangeIndex: 340 entries, 0 to 339\n",
      "Data columns (total 2 columns):\n",
      " #   Column        Non-Null Count  Dtype \n",
      "---  ------        --------------  ----- \n",
      " 0   publisher_id  340 non-null    int64 \n",
      " 1   publisher     340 non-null    object\n",
      "dtypes: int64(1), object(1)\n",
      "memory usage: 5.4+ KB\n"
     ]
    },
    {
     "data": {
      "text/plain": [
       "None"
      ]
     },
     "metadata": {},
     "output_type": "display_data"
    },
    {
     "name": "stdout",
     "output_type": "stream",
     "text": [
      "-----------------------------------------------------------------------------------------------------\n",
      "\n",
      "Таблица \"ratings\"\n"
     ]
    },
    {
     "data": {
      "text/html": [
       "<div>\n",
       "<style scoped>\n",
       "    .dataframe tbody tr th:only-of-type {\n",
       "        vertical-align: middle;\n",
       "    }\n",
       "\n",
       "    .dataframe tbody tr th {\n",
       "        vertical-align: top;\n",
       "    }\n",
       "\n",
       "    .dataframe thead th {\n",
       "        text-align: right;\n",
       "    }\n",
       "</style>\n",
       "<table border=\"1\" class=\"dataframe\">\n",
       "  <thead>\n",
       "    <tr style=\"text-align: right;\">\n",
       "      <th></th>\n",
       "      <th>rating_id</th>\n",
       "      <th>book_id</th>\n",
       "      <th>username</th>\n",
       "      <th>rating</th>\n",
       "    </tr>\n",
       "  </thead>\n",
       "  <tbody>\n",
       "    <tr>\n",
       "      <th>4520</th>\n",
       "      <td>4521</td>\n",
       "      <td>717</td>\n",
       "      <td>tnovak</td>\n",
       "      <td>5</td>\n",
       "    </tr>\n",
       "    <tr>\n",
       "      <th>3839</th>\n",
       "      <td>3840</td>\n",
       "      <td>627</td>\n",
       "      <td>samuel96</td>\n",
       "      <td>3</td>\n",
       "    </tr>\n",
       "    <tr>\n",
       "      <th>6088</th>\n",
       "      <td>6089</td>\n",
       "      <td>948</td>\n",
       "      <td>lorichen</td>\n",
       "      <td>4</td>\n",
       "    </tr>\n",
       "    <tr>\n",
       "      <th>5970</th>\n",
       "      <td>5971</td>\n",
       "      <td>927</td>\n",
       "      <td>paul88</td>\n",
       "      <td>4</td>\n",
       "    </tr>\n",
       "    <tr>\n",
       "      <th>4937</th>\n",
       "      <td>4938</td>\n",
       "      <td>759</td>\n",
       "      <td>jessica49</td>\n",
       "      <td>5</td>\n",
       "    </tr>\n",
       "  </tbody>\n",
       "</table>\n",
       "</div>"
      ],
      "text/plain": [
       "      rating_id  book_id   username  rating\n",
       "4520       4521      717     tnovak       5\n",
       "3839       3840      627   samuel96       3\n",
       "6088       6089      948   lorichen       4\n",
       "5970       5971      927     paul88       4\n",
       "4937       4938      759  jessica49       5"
      ]
     },
     "metadata": {},
     "output_type": "display_data"
    },
    {
     "name": "stdout",
     "output_type": "stream",
     "text": [
      "<class 'pandas.core.frame.DataFrame'>\n",
      "RangeIndex: 6456 entries, 0 to 6455\n",
      "Data columns (total 4 columns):\n",
      " #   Column     Non-Null Count  Dtype \n",
      "---  ------     --------------  ----- \n",
      " 0   rating_id  6456 non-null   int64 \n",
      " 1   book_id    6456 non-null   int64 \n",
      " 2   username   6456 non-null   object\n",
      " 3   rating     6456 non-null   int64 \n",
      "dtypes: int64(3), object(1)\n",
      "memory usage: 201.9+ KB\n"
     ]
    },
    {
     "data": {
      "text/plain": [
       "None"
      ]
     },
     "metadata": {},
     "output_type": "display_data"
    },
    {
     "name": "stdout",
     "output_type": "stream",
     "text": [
      "-----------------------------------------------------------------------------------------------------\n",
      "\n",
      "Таблица \"reviews\"\n"
     ]
    },
    {
     "data": {
      "text/html": [
       "<div>\n",
       "<style scoped>\n",
       "    .dataframe tbody tr th:only-of-type {\n",
       "        vertical-align: middle;\n",
       "    }\n",
       "\n",
       "    .dataframe tbody tr th {\n",
       "        vertical-align: top;\n",
       "    }\n",
       "\n",
       "    .dataframe thead th {\n",
       "        text-align: right;\n",
       "    }\n",
       "</style>\n",
       "<table border=\"1\" class=\"dataframe\">\n",
       "  <thead>\n",
       "    <tr style=\"text-align: right;\">\n",
       "      <th></th>\n",
       "      <th>review_id</th>\n",
       "      <th>book_id</th>\n",
       "      <th>username</th>\n",
       "      <th>text</th>\n",
       "    </tr>\n",
       "  </thead>\n",
       "  <tbody>\n",
       "    <tr>\n",
       "      <th>577</th>\n",
       "      <td>576</td>\n",
       "      <td>211</td>\n",
       "      <td>brandtandrea</td>\n",
       "      <td>Per if moment he theory. Its media nearly firs...</td>\n",
       "    </tr>\n",
       "    <tr>\n",
       "      <th>831</th>\n",
       "      <td>832</td>\n",
       "      <td>304</td>\n",
       "      <td>tnovak</td>\n",
       "      <td>Could nearly discover drive where dog policy. ...</td>\n",
       "    </tr>\n",
       "    <tr>\n",
       "      <th>715</th>\n",
       "      <td>714</td>\n",
       "      <td>265</td>\n",
       "      <td>valenciaanne</td>\n",
       "      <td>Late million lead east leader political. Thoug...</td>\n",
       "    </tr>\n",
       "    <tr>\n",
       "      <th>1656</th>\n",
       "      <td>1655</td>\n",
       "      <td>600</td>\n",
       "      <td>patriciajohnson</td>\n",
       "      <td>Rule Democrat each smile possible politics dis...</td>\n",
       "    </tr>\n",
       "    <tr>\n",
       "      <th>23</th>\n",
       "      <td>24</td>\n",
       "      <td>9</td>\n",
       "      <td>lesliegibbs</td>\n",
       "      <td>This station bad edge rather perform. Senior i...</td>\n",
       "    </tr>\n",
       "  </tbody>\n",
       "</table>\n",
       "</div>"
      ],
      "text/plain": [
       "      review_id  book_id         username  \\\n",
       "577         576      211     brandtandrea   \n",
       "831         832      304           tnovak   \n",
       "715         714      265     valenciaanne   \n",
       "1656       1655      600  patriciajohnson   \n",
       "23           24        9      lesliegibbs   \n",
       "\n",
       "                                                   text  \n",
       "577   Per if moment he theory. Its media nearly firs...  \n",
       "831   Could nearly discover drive where dog policy. ...  \n",
       "715   Late million lead east leader political. Thoug...  \n",
       "1656  Rule Democrat each smile possible politics dis...  \n",
       "23    This station bad edge rather perform. Senior i...  "
      ]
     },
     "metadata": {},
     "output_type": "display_data"
    },
    {
     "name": "stdout",
     "output_type": "stream",
     "text": [
      "<class 'pandas.core.frame.DataFrame'>\n",
      "RangeIndex: 2793 entries, 0 to 2792\n",
      "Data columns (total 4 columns):\n",
      " #   Column     Non-Null Count  Dtype \n",
      "---  ------     --------------  ----- \n",
      " 0   review_id  2793 non-null   int64 \n",
      " 1   book_id    2793 non-null   int64 \n",
      " 2   username   2793 non-null   object\n",
      " 3   text       2793 non-null   object\n",
      "dtypes: int64(2), object(2)\n",
      "memory usage: 87.4+ KB\n"
     ]
    },
    {
     "data": {
      "text/plain": [
       "None"
      ]
     },
     "metadata": {},
     "output_type": "display_data"
    },
    {
     "name": "stdout",
     "output_type": "stream",
     "text": [
      "-----------------------------------------------------------------------------------------------------\n",
      "\n"
     ]
    }
   ],
   "source": [
    "# В цикле прогоним список таблиц, отобразим любые пять строк и информацию о каждой таблице\n",
    "for table in table_list:\n",
    "    print('Таблица \"{}\"'.format(table))\n",
    "    display(request('SELECT * FROM {}'.format(table)).sample(5))\n",
    "    display(request('SELECT * FROM {}'.format(table)).info())\n",
    "    print('-----------------------------------------------------------------------------------------------------')\n",
    "    print()"
   ]
  },
  {
   "cell_type": "markdown",
   "metadata": {},
   "source": [
    "Таблицы с данными просмотрены, информация о них изучена. Можно приступать к выполнению заданий."
   ]
  },
  {
   "cell_type": "markdown",
   "metadata": {},
   "source": [
    "## Решения заданий"
   ]
  },
  {
   "cell_type": "markdown",
   "metadata": {},
   "source": [
    "### Количество книг, вышедших после 1 января 2000 года"
   ]
  },
  {
   "cell_type": "code",
   "execution_count": 7,
   "metadata": {},
   "outputs": [
    {
     "data": {
      "text/html": [
       "<div>\n",
       "<style scoped>\n",
       "    .dataframe tbody tr th:only-of-type {\n",
       "        vertical-align: middle;\n",
       "    }\n",
       "\n",
       "    .dataframe tbody tr th {\n",
       "        vertical-align: top;\n",
       "    }\n",
       "\n",
       "    .dataframe thead th {\n",
       "        text-align: right;\n",
       "    }\n",
       "</style>\n",
       "<table border=\"1\" class=\"dataframe\">\n",
       "  <thead>\n",
       "    <tr style=\"text-align: right;\">\n",
       "      <th></th>\n",
       "      <th>books_published_after_1_january_2000</th>\n",
       "    </tr>\n",
       "  </thead>\n",
       "  <tbody>\n",
       "    <tr>\n",
       "      <th>0</th>\n",
       "      <td>819</td>\n",
       "    </tr>\n",
       "  </tbody>\n",
       "</table>\n",
       "</div>"
      ],
      "text/plain": [
       "   books_published_after_1_january_2000\n",
       "0                                   819"
      ]
     },
     "execution_count": 7,
     "metadata": {},
     "output_type": "execute_result"
    }
   ],
   "source": [
    "request(\n",
    "'''\n",
    "SELECT \n",
    "    COUNT(book_id) AS books_published_after_1_january_2000\n",
    "FROM \n",
    "    books \n",
    "WHERE \n",
    "    CAST(publication_date AS date) > '2000-01-01'\n",
    "'''\n",
    ")"
   ]
  },
  {
   "cell_type": "markdown",
   "metadata": {},
   "source": [
    "819 книг было выпущенно после 1 января 2000 года."
   ]
  },
  {
   "cell_type": "markdown",
   "metadata": {},
   "source": [
    "### Количество обзоров и средняя оценка книг"
   ]
  },
  {
   "cell_type": "code",
   "execution_count": 8,
   "metadata": {},
   "outputs": [
    {
     "data": {
      "text/html": [
       "<div>\n",
       "<style scoped>\n",
       "    .dataframe tbody tr th:only-of-type {\n",
       "        vertical-align: middle;\n",
       "    }\n",
       "\n",
       "    .dataframe tbody tr th {\n",
       "        vertical-align: top;\n",
       "    }\n",
       "\n",
       "    .dataframe thead th {\n",
       "        text-align: right;\n",
       "    }\n",
       "</style>\n",
       "<table border=\"1\" class=\"dataframe\">\n",
       "  <thead>\n",
       "    <tr style=\"text-align: right;\">\n",
       "      <th></th>\n",
       "      <th>title</th>\n",
       "      <th>cnt_reviews</th>\n",
       "      <th>avg_rating</th>\n",
       "    </tr>\n",
       "  </thead>\n",
       "  <tbody>\n",
       "    <tr>\n",
       "      <th>0</th>\n",
       "      <td>The Adventures of Tom Sawyer and Adventures of...</td>\n",
       "      <td>1</td>\n",
       "      <td>5.00</td>\n",
       "    </tr>\n",
       "    <tr>\n",
       "      <th>1</th>\n",
       "      <td>Act of Treason (Mitch Rapp  #9)</td>\n",
       "      <td>2</td>\n",
       "      <td>5.00</td>\n",
       "    </tr>\n",
       "    <tr>\n",
       "      <th>2</th>\n",
       "      <td>School's Out—Forever (Maximum Ride  #2)</td>\n",
       "      <td>3</td>\n",
       "      <td>5.00</td>\n",
       "    </tr>\n",
       "    <tr>\n",
       "      <th>3</th>\n",
       "      <td>Stolen (Women of the Otherworld  #2)</td>\n",
       "      <td>2</td>\n",
       "      <td>5.00</td>\n",
       "    </tr>\n",
       "    <tr>\n",
       "      <th>4</th>\n",
       "      <td>Piercing the Darkness (Darkness  #2)</td>\n",
       "      <td>2</td>\n",
       "      <td>5.00</td>\n",
       "    </tr>\n",
       "    <tr>\n",
       "      <th>...</th>\n",
       "      <td>...</td>\n",
       "      <td>...</td>\n",
       "      <td>...</td>\n",
       "    </tr>\n",
       "    <tr>\n",
       "      <th>995</th>\n",
       "      <td>The World Is Flat: A Brief History of the Twen...</td>\n",
       "      <td>3</td>\n",
       "      <td>2.25</td>\n",
       "    </tr>\n",
       "    <tr>\n",
       "      <th>996</th>\n",
       "      <td>Drowning Ruth</td>\n",
       "      <td>3</td>\n",
       "      <td>2.00</td>\n",
       "    </tr>\n",
       "    <tr>\n",
       "      <th>997</th>\n",
       "      <td>Junky</td>\n",
       "      <td>2</td>\n",
       "      <td>2.00</td>\n",
       "    </tr>\n",
       "    <tr>\n",
       "      <th>998</th>\n",
       "      <td>His Excellency: George Washington</td>\n",
       "      <td>2</td>\n",
       "      <td>2.00</td>\n",
       "    </tr>\n",
       "    <tr>\n",
       "      <th>999</th>\n",
       "      <td>Harvesting the Heart</td>\n",
       "      <td>2</td>\n",
       "      <td>1.50</td>\n",
       "    </tr>\n",
       "  </tbody>\n",
       "</table>\n",
       "<p>1000 rows × 3 columns</p>\n",
       "</div>"
      ],
      "text/plain": [
       "                                                 title  cnt_reviews  \\\n",
       "0    The Adventures of Tom Sawyer and Adventures of...            1   \n",
       "1                      Act of Treason (Mitch Rapp  #9)            2   \n",
       "2              School's Out—Forever (Maximum Ride  #2)            3   \n",
       "3                 Stolen (Women of the Otherworld  #2)            2   \n",
       "4                 Piercing the Darkness (Darkness  #2)            2   \n",
       "..                                                 ...          ...   \n",
       "995  The World Is Flat: A Brief History of the Twen...            3   \n",
       "996                                      Drowning Ruth            3   \n",
       "997                                              Junky            2   \n",
       "998                  His Excellency: George Washington            2   \n",
       "999                               Harvesting the Heart            2   \n",
       "\n",
       "     avg_rating  \n",
       "0          5.00  \n",
       "1          5.00  \n",
       "2          5.00  \n",
       "3          5.00  \n",
       "4          5.00  \n",
       "..          ...  \n",
       "995        2.25  \n",
       "996        2.00  \n",
       "997        2.00  \n",
       "998        2.00  \n",
       "999        1.50  \n",
       "\n",
       "[1000 rows x 3 columns]"
      ]
     },
     "execution_count": 8,
     "metadata": {},
     "output_type": "execute_result"
    }
   ],
   "source": [
    "request(\n",
    "'''\n",
    "SELECT\n",
    "    books.title AS title,\n",
    "    subq.count AS cnt_reviews,\n",
    "    AVG(ratings.rating) AS avg_rating\n",
    "FROM \n",
    "    books\n",
    "JOIN \n",
    "    ratings ON books.book_id = ratings.book_id\n",
    "JOIN (\n",
    "    SELECT\n",
    "        books.book_id,\n",
    "        books.title,\n",
    "    COUNT\n",
    "        (reviews.review_id)\n",
    "    FROM \n",
    "        books\n",
    "    LEFT JOIN \n",
    "        reviews ON books.book_id = reviews.book_id\n",
    "    GROUP BY \n",
    "        books.book_id) AS subq ON books.book_id = subq.book_id\n",
    "    GROUP BY \n",
    "        books.book_id, subq.count\n",
    "    ORDER BY \n",
    "        avg_rating DESC\n",
    "'''\n",
    ")"
   ]
  },
  {
   "cell_type": "markdown",
   "metadata": {},
   "source": [
    "Количество обзоров и средняя оценка для каждой книги подсчитаны. Интересно, чем так не полюбилась книга \"Harvesting the Heart\"?"
   ]
  },
  {
   "cell_type": "markdown",
   "metadata": {},
   "source": [
    "### Издательство, выпустившее наибольшее число книг толще 50 страниц (исключение из анализа брошюр)"
   ]
  },
  {
   "cell_type": "code",
   "execution_count": 9,
   "metadata": {},
   "outputs": [
    {
     "data": {
      "text/html": [
       "<div>\n",
       "<style scoped>\n",
       "    .dataframe tbody tr th:only-of-type {\n",
       "        vertical-align: middle;\n",
       "    }\n",
       "\n",
       "    .dataframe tbody tr th {\n",
       "        vertical-align: top;\n",
       "    }\n",
       "\n",
       "    .dataframe thead th {\n",
       "        text-align: right;\n",
       "    }\n",
       "</style>\n",
       "<table border=\"1\" class=\"dataframe\">\n",
       "  <thead>\n",
       "    <tr style=\"text-align: right;\">\n",
       "      <th></th>\n",
       "      <th>publishing_house</th>\n",
       "      <th>number_of_books</th>\n",
       "    </tr>\n",
       "  </thead>\n",
       "  <tbody>\n",
       "    <tr>\n",
       "      <th>0</th>\n",
       "      <td>Penguin Books</td>\n",
       "      <td>42</td>\n",
       "    </tr>\n",
       "    <tr>\n",
       "      <th>1</th>\n",
       "      <td>Vintage</td>\n",
       "      <td>31</td>\n",
       "    </tr>\n",
       "    <tr>\n",
       "      <th>2</th>\n",
       "      <td>Grand Central Publishing</td>\n",
       "      <td>25</td>\n",
       "    </tr>\n",
       "    <tr>\n",
       "      <th>3</th>\n",
       "      <td>Penguin Classics</td>\n",
       "      <td>24</td>\n",
       "    </tr>\n",
       "    <tr>\n",
       "      <th>4</th>\n",
       "      <td>Ballantine Books</td>\n",
       "      <td>19</td>\n",
       "    </tr>\n",
       "    <tr>\n",
       "      <th>...</th>\n",
       "      <td>...</td>\n",
       "      <td>...</td>\n",
       "    </tr>\n",
       "    <tr>\n",
       "      <th>329</th>\n",
       "      <td>Ballantine Books (NY)</td>\n",
       "      <td>1</td>\n",
       "    </tr>\n",
       "    <tr>\n",
       "      <th>330</th>\n",
       "      <td>Plaza y Janés</td>\n",
       "      <td>1</td>\n",
       "    </tr>\n",
       "    <tr>\n",
       "      <th>331</th>\n",
       "      <td>HarperCollinsPublishers</td>\n",
       "      <td>1</td>\n",
       "    </tr>\n",
       "    <tr>\n",
       "      <th>332</th>\n",
       "      <td>Random House: Modern Library</td>\n",
       "      <td>1</td>\n",
       "    </tr>\n",
       "    <tr>\n",
       "      <th>333</th>\n",
       "      <td>Pan Childrens</td>\n",
       "      <td>1</td>\n",
       "    </tr>\n",
       "  </tbody>\n",
       "</table>\n",
       "<p>334 rows × 2 columns</p>\n",
       "</div>"
      ],
      "text/plain": [
       "                 publishing_house  number_of_books\n",
       "0                   Penguin Books               42\n",
       "1                         Vintage               31\n",
       "2        Grand Central Publishing               25\n",
       "3                Penguin Classics               24\n",
       "4                Ballantine Books               19\n",
       "..                            ...              ...\n",
       "329         Ballantine Books (NY)                1\n",
       "330                 Plaza y Janés                1\n",
       "331       HarperCollinsPublishers                1\n",
       "332  Random House: Modern Library                1\n",
       "333                 Pan Childrens                1\n",
       "\n",
       "[334 rows x 2 columns]"
      ]
     },
     "execution_count": 9,
     "metadata": {},
     "output_type": "execute_result"
    }
   ],
   "source": [
    "request(\n",
    "'''\n",
    "SELECT \n",
    "    publishers.publisher AS publishing_house,\n",
    "    COUNT(books.book_id) AS number_of_books\n",
    "FROM \n",
    "    publishers \n",
    "    JOIN books ON books.publisher_id = publishers.publisher_id\n",
    "WHERE \n",
    "    books.num_pages > 50\n",
    "GROUP BY \n",
    "    publishers.publisher_id\n",
    "ORDER BY \n",
    "    COUNT(books.book_id) DESC\n",
    "'''\n",
    ")"
   ]
  },
  {
   "cell_type": "markdown",
   "metadata": {},
   "source": [
    "Издательством Penguin Books было выпущено 42 книги (объемом больше 50 страниц) и это самый высокий результат среди всех представленных издательств."
   ]
  },
  {
   "cell_type": "markdown",
   "metadata": {},
   "source": [
    "### Автор с самой высокой средней оценкой книг (книги с 50 и более оценками)"
   ]
  },
  {
   "cell_type": "code",
   "execution_count": 10,
   "metadata": {},
   "outputs": [
    {
     "data": {
      "text/html": [
       "<div>\n",
       "<style scoped>\n",
       "    .dataframe tbody tr th:only-of-type {\n",
       "        vertical-align: middle;\n",
       "    }\n",
       "\n",
       "    .dataframe tbody tr th {\n",
       "        vertical-align: top;\n",
       "    }\n",
       "\n",
       "    .dataframe thead th {\n",
       "        text-align: right;\n",
       "    }\n",
       "</style>\n",
       "<table border=\"1\" class=\"dataframe\">\n",
       "  <thead>\n",
       "    <tr style=\"text-align: right;\">\n",
       "      <th></th>\n",
       "      <th>author</th>\n",
       "      <th>avg_rating</th>\n",
       "    </tr>\n",
       "  </thead>\n",
       "  <tbody>\n",
       "    <tr>\n",
       "      <th>0</th>\n",
       "      <td>J.K. Rowling/Mary GrandPré</td>\n",
       "      <td>4.287097</td>\n",
       "    </tr>\n",
       "    <tr>\n",
       "      <th>1</th>\n",
       "      <td>Markus Zusak/Cao Xuân Việt Khương</td>\n",
       "      <td>4.264151</td>\n",
       "    </tr>\n",
       "    <tr>\n",
       "      <th>2</th>\n",
       "      <td>J.R.R. Tolkien</td>\n",
       "      <td>4.246914</td>\n",
       "    </tr>\n",
       "    <tr>\n",
       "      <th>3</th>\n",
       "      <td>Louisa May Alcott</td>\n",
       "      <td>4.192308</td>\n",
       "    </tr>\n",
       "    <tr>\n",
       "      <th>4</th>\n",
       "      <td>Rick Riordan</td>\n",
       "      <td>4.080645</td>\n",
       "    </tr>\n",
       "    <tr>\n",
       "      <th>5</th>\n",
       "      <td>William Golding</td>\n",
       "      <td>3.901408</td>\n",
       "    </tr>\n",
       "    <tr>\n",
       "      <th>6</th>\n",
       "      <td>J.D. Salinger</td>\n",
       "      <td>3.825581</td>\n",
       "    </tr>\n",
       "    <tr>\n",
       "      <th>7</th>\n",
       "      <td>Paulo Coelho/Alan R. Clarke/Özdemir İnce</td>\n",
       "      <td>3.789474</td>\n",
       "    </tr>\n",
       "    <tr>\n",
       "      <th>8</th>\n",
       "      <td>William Shakespeare/Paul Werstine/Barbara A. M...</td>\n",
       "      <td>3.787879</td>\n",
       "    </tr>\n",
       "    <tr>\n",
       "      <th>9</th>\n",
       "      <td>Lois Lowry</td>\n",
       "      <td>3.750000</td>\n",
       "    </tr>\n",
       "    <tr>\n",
       "      <th>10</th>\n",
       "      <td>Dan Brown</td>\n",
       "      <td>3.741259</td>\n",
       "    </tr>\n",
       "    <tr>\n",
       "      <th>11</th>\n",
       "      <td>George Orwell/Boris Grabnar/Peter Škerl</td>\n",
       "      <td>3.729730</td>\n",
       "    </tr>\n",
       "    <tr>\n",
       "      <th>12</th>\n",
       "      <td>Stephenie Meyer</td>\n",
       "      <td>3.662500</td>\n",
       "    </tr>\n",
       "    <tr>\n",
       "      <th>13</th>\n",
       "      <td>John Steinbeck</td>\n",
       "      <td>3.622951</td>\n",
       "    </tr>\n",
       "  </tbody>\n",
       "</table>\n",
       "</div>"
      ],
      "text/plain": [
       "                                               author  avg_rating\n",
       "0                          J.K. Rowling/Mary GrandPré    4.287097\n",
       "1                   Markus Zusak/Cao Xuân Việt Khương    4.264151\n",
       "2                                      J.R.R. Tolkien    4.246914\n",
       "3                                   Louisa May Alcott    4.192308\n",
       "4                                        Rick Riordan    4.080645\n",
       "5                                     William Golding    3.901408\n",
       "6                                       J.D. Salinger    3.825581\n",
       "7            Paulo Coelho/Alan R. Clarke/Özdemir İnce    3.789474\n",
       "8   William Shakespeare/Paul Werstine/Barbara A. M...    3.787879\n",
       "9                                          Lois Lowry    3.750000\n",
       "10                                          Dan Brown    3.741259\n",
       "11            George Orwell/Boris Grabnar/Peter Škerl    3.729730\n",
       "12                                    Stephenie Meyer    3.662500\n",
       "13                                     John Steinbeck    3.622951"
      ]
     },
     "execution_count": 10,
     "metadata": {},
     "output_type": "execute_result"
    }
   ],
   "source": [
    "request(\n",
    "'''\n",
    "SELECT \n",
    "    authors.author,\n",
    "    AVG(ratings.rating) AS avg_rating\n",
    "FROM \n",
    "    ratings\n",
    "    JOIN books ON books.book_id = ratings.book_id\n",
    "    JOIN authors ON books.author_id = authors.author_id\n",
    "WHERE \n",
    "    ratings.book_id IN (\n",
    "    SELECT\n",
    "        ratings.book_id \n",
    "    FROM \n",
    "        ratings\n",
    "    GROUP BY \n",
    "        ratings.book_id\n",
    "    HAVING \n",
    "        COUNT(ratings.book_id) >= 50\n",
    ")\n",
    "GROUP BY \n",
    "    authors.author_id\n",
    "ORDER BY \n",
    "    AVG(ratings.rating) DESC\n",
    "'''\n",
    ")"
   ]
  },
  {
   "cell_type": "markdown",
   "metadata": {},
   "source": [
    "Автор с самой высокой средней оценкой книг - J.K. Rowling (с иллюстрациями Mary GrandPré). Рейтинг знаменитого автора - 4.3"
   ]
  },
  {
   "cell_type": "markdown",
   "metadata": {},
   "source": [
    "### Среднее количество обзоров от пользователей, поставивших больше 50 оценок"
   ]
  },
  {
   "cell_type": "code",
   "execution_count": 11,
   "metadata": {},
   "outputs": [
    {
     "data": {
      "text/html": [
       "<div>\n",
       "<style scoped>\n",
       "    .dataframe tbody tr th:only-of-type {\n",
       "        vertical-align: middle;\n",
       "    }\n",
       "\n",
       "    .dataframe tbody tr th {\n",
       "        vertical-align: top;\n",
       "    }\n",
       "\n",
       "    .dataframe thead th {\n",
       "        text-align: right;\n",
       "    }\n",
       "</style>\n",
       "<table border=\"1\" class=\"dataframe\">\n",
       "  <thead>\n",
       "    <tr style=\"text-align: right;\">\n",
       "      <th></th>\n",
       "      <th>avg_review</th>\n",
       "    </tr>\n",
       "  </thead>\n",
       "  <tbody>\n",
       "    <tr>\n",
       "      <th>0</th>\n",
       "      <td>24.222222</td>\n",
       "    </tr>\n",
       "  </tbody>\n",
       "</table>\n",
       "</div>"
      ],
      "text/plain": [
       "   avg_review\n",
       "0   24.222222"
      ]
     },
     "execution_count": 11,
     "metadata": {},
     "output_type": "execute_result"
    }
   ],
   "source": [
    "request(\n",
    "'''\n",
    "SELECT\n",
    "    AVG(SUBQ2.review_count) AS avg_review\n",
    "FROM (\n",
    "    SELECT \n",
    "        reviews.username,\n",
    "        COUNT(reviews.review_id) AS review_count\n",
    "    FROM \n",
    "        reviews\n",
    "    RIGHT JOIN (\n",
    "        SELECT \n",
    "            ratings.username,\n",
    "            COUNT(ratings.rating_id) AS rating_count\n",
    "        FROM \n",
    "            ratings\n",
    "        GROUP BY \n",
    "            ratings.username\n",
    "        HAVING \n",
    "            COUNT(ratings.rating_id) >= 50) AS SUBQ1 ON SUBQ1.username = reviews.username\n",
    "    GROUP BY reviews.username) AS SUBQ2\n",
    "'''\n",
    ")"
   ]
  },
  {
   "cell_type": "markdown",
   "metadata": {},
   "source": [
    "24 обзора в среднем подготовили пользователи, поставившие больше 50 оценок."
   ]
  },
  {
   "cell_type": "markdown",
   "metadata": {},
   "source": [
    "## Вывод"
   ]
  },
  {
   "cell_type": "markdown",
   "metadata": {},
   "source": [
    "Проведенным исследованием данных, содержащихся в сервисе, установлено:\n",
    " - Сервис содержит 1000 книг: \n",
    "     - большая часть - 819 книг выпущена после 01.01.2000;\n",
    " - Книги написаны 636 авторами: \n",
    "     - самый высокооцененный пользователями автор - Джоан Роулинг (4.3 балла);\n",
    " - Выпускались собранные книги 340 издательствами: \n",
    "     - издательством Penguin Books было выпущено 42 книги (объемом больше 50 страниц) и это самый высокий результат среди всех представленных издательств;\n",
    " - 6456 оценок книг проставлено пользователями: \n",
    "     - самая низкая оценка у книги Harvesting the Heart (1.5 балла);\n",
    " - 2793 обзора подготовлено пользователями \n",
    "     - 24 обзора в среднем подготовили пользователи, поставившие больше 50 оценок."
   ]
  }
 ],
 "metadata": {
  "ExecuteTimeLog": [
   {
    "duration": 893,
    "start_time": "2022-02-01T08:10:57.666Z"
   },
   {
    "duration": 44,
    "start_time": "2022-02-01T08:11:21.747Z"
   },
   {
    "duration": 461,
    "start_time": "2022-02-01T08:11:57.181Z"
   },
   {
    "duration": 105,
    "start_time": "2022-02-01T08:12:37.153Z"
   },
   {
    "duration": 8,
    "start_time": "2022-02-01T08:13:38.644Z"
   },
   {
    "duration": 109,
    "start_time": "2022-02-01T08:34:33.672Z"
   },
   {
    "duration": 345,
    "start_time": "2022-02-01T08:34:45.716Z"
   },
   {
    "duration": 372,
    "start_time": "2022-02-01T08:34:55.517Z"
   },
   {
    "duration": 4,
    "start_time": "2022-02-01T08:34:59.061Z"
   },
   {
    "duration": 354,
    "start_time": "2022-02-01T08:35:01.444Z"
   },
   {
    "duration": 584,
    "start_time": "2022-02-01T08:35:36.241Z"
   },
   {
    "duration": 110,
    "start_time": "2022-02-01T08:36:10.319Z"
   },
   {
    "duration": 344,
    "start_time": "2022-02-01T08:36:23.025Z"
   },
   {
    "duration": 470,
    "start_time": "2022-02-01T08:37:10.948Z"
   },
   {
    "duration": 111,
    "start_time": "2022-02-01T08:39:22.052Z"
   },
   {
    "duration": 112,
    "start_time": "2022-02-01T08:39:30.500Z"
   },
   {
    "duration": 87,
    "start_time": "2022-02-01T08:40:24.519Z"
   },
   {
    "duration": 89,
    "start_time": "2022-02-01T08:41:06.530Z"
   },
   {
    "duration": 88,
    "start_time": "2022-02-01T08:51:18.487Z"
   },
   {
    "duration": 93,
    "start_time": "2022-02-01T08:52:01.445Z"
   },
   {
    "duration": 164,
    "start_time": "2022-02-01T08:52:24.318Z"
   },
   {
    "duration": 160,
    "start_time": "2022-02-01T08:52:38.989Z"
   },
   {
    "duration": 185,
    "start_time": "2022-02-01T08:52:58.651Z"
   },
   {
    "duration": 236,
    "start_time": "2022-02-01T08:53:38.944Z"
   },
   {
    "duration": 3,
    "start_time": "2022-02-01T08:59:23.741Z"
   },
   {
    "duration": 762,
    "start_time": "2022-02-01T08:59:59.075Z"
   },
   {
    "duration": 785,
    "start_time": "2022-02-01T09:00:48.818Z"
   },
   {
    "duration": 751,
    "start_time": "2022-02-01T09:01:43.104Z"
   },
   {
    "duration": 354,
    "start_time": "2022-02-01T09:03:00.840Z"
   },
   {
    "duration": 387,
    "start_time": "2022-02-01T09:03:26.588Z"
   },
   {
    "duration": 311,
    "start_time": "2022-02-01T09:03:37.177Z"
   },
   {
    "duration": 438,
    "start_time": "2022-02-01T09:04:13.922Z"
   },
   {
    "duration": 437,
    "start_time": "2022-02-01T09:04:25.036Z"
   },
   {
    "duration": 1148,
    "start_time": "2022-02-01T09:04:42.699Z"
   },
   {
    "duration": 1124,
    "start_time": "2022-02-01T09:05:32.561Z"
   },
   {
    "duration": 1187,
    "start_time": "2022-02-01T09:06:16.768Z"
   },
   {
    "duration": 1157,
    "start_time": "2022-02-01T09:06:58.355Z"
   },
   {
    "duration": 746,
    "start_time": "2022-02-01T09:08:56.058Z"
   },
   {
    "duration": 9,
    "start_time": "2022-02-01T13:38:40.501Z"
   },
   {
    "duration": 4,
    "start_time": "2022-02-01T13:39:01.578Z"
   },
   {
    "duration": 5,
    "start_time": "2022-02-01T13:48:22.048Z"
   },
   {
    "duration": 5,
    "start_time": "2022-02-01T13:49:20.061Z"
   },
   {
    "duration": 5,
    "start_time": "2022-02-01T13:49:32.007Z"
   },
   {
    "duration": 5,
    "start_time": "2022-02-01T13:49:43.796Z"
   },
   {
    "duration": 5,
    "start_time": "2022-02-01T13:50:02.097Z"
   },
   {
    "duration": 5,
    "start_time": "2022-02-01T13:50:19.087Z"
   },
   {
    "duration": 5,
    "start_time": "2022-02-01T13:50:24.414Z"
   },
   {
    "duration": 5,
    "start_time": "2022-02-01T13:50:31.135Z"
   },
   {
    "duration": 4,
    "start_time": "2022-02-01T13:53:25.844Z"
   },
   {
    "duration": 47,
    "start_time": "2022-02-01T13:53:57.571Z"
   },
   {
    "duration": 5,
    "start_time": "2022-02-01T13:54:15.816Z"
   },
   {
    "duration": 4,
    "start_time": "2022-02-01T13:54:27.981Z"
   },
   {
    "duration": 5,
    "start_time": "2022-02-01T13:55:38.577Z"
   },
   {
    "duration": 195,
    "start_time": "2022-02-01T13:59:36.847Z"
   },
   {
    "duration": 3,
    "start_time": "2022-02-01T13:59:45.164Z"
   },
   {
    "duration": 132,
    "start_time": "2022-02-01T13:59:45.929Z"
   },
   {
    "duration": 11,
    "start_time": "2022-02-01T13:59:56.481Z"
   },
   {
    "duration": 599,
    "start_time": "2022-02-01T13:59:56.493Z"
   },
   {
    "duration": 26,
    "start_time": "2022-02-01T13:59:57.094Z"
   },
   {
    "duration": 3,
    "start_time": "2022-02-01T13:59:57.121Z"
   },
   {
    "duration": 10,
    "start_time": "2022-02-01T13:59:57.125Z"
   },
   {
    "duration": 1057,
    "start_time": "2022-02-01T13:59:57.136Z"
   },
   {
    "duration": 55,
    "start_time": "2022-02-01T14:00:33.394Z"
   },
   {
    "duration": 6,
    "start_time": "2022-02-01T14:00:46.377Z"
   },
   {
    "duration": 58,
    "start_time": "2022-02-01T14:01:25.787Z"
   },
   {
    "duration": 5,
    "start_time": "2022-02-01T14:01:32.348Z"
   },
   {
    "duration": 61,
    "start_time": "2022-02-01T14:01:42.031Z"
   },
   {
    "duration": 6,
    "start_time": "2022-02-01T14:01:52.634Z"
   },
   {
    "duration": 74,
    "start_time": "2022-02-01T14:14:03.950Z"
   },
   {
    "duration": 444,
    "start_time": "2022-02-01T14:15:16.921Z"
   },
   {
    "duration": 350,
    "start_time": "2022-02-01T14:15:36.300Z"
   },
   {
    "duration": 73,
    "start_time": "2022-02-01T14:15:41.428Z"
   },
   {
    "duration": 71,
    "start_time": "2022-02-01T14:16:05.802Z"
   },
   {
    "duration": 73,
    "start_time": "2022-02-01T14:16:23.510Z"
   },
   {
    "duration": 72,
    "start_time": "2022-02-01T14:16:55.236Z"
   },
   {
    "duration": 72,
    "start_time": "2022-02-01T14:17:21.889Z"
   },
   {
    "duration": 73,
    "start_time": "2022-02-01T14:17:49.083Z"
   },
   {
    "duration": 74,
    "start_time": "2022-02-01T14:18:44.424Z"
   },
   {
    "duration": 68,
    "start_time": "2022-02-01T14:26:42.201Z"
   },
   {
    "duration": 794,
    "start_time": "2022-02-01T14:26:56.845Z"
   },
   {
    "duration": 47,
    "start_time": "2022-02-01T14:27:36.742Z"
   },
   {
    "duration": 48,
    "start_time": "2022-02-01T14:27:44.111Z"
   },
   {
    "duration": 71,
    "start_time": "2022-02-01T14:27:56.400Z"
   },
   {
    "duration": 47,
    "start_time": "2022-02-01T14:28:06.531Z"
   },
   {
    "duration": 353,
    "start_time": "2022-02-01T14:28:11.940Z"
   },
   {
    "duration": 384,
    "start_time": "2022-02-01T14:28:18.707Z"
   },
   {
    "duration": 74,
    "start_time": "2022-02-01T14:28:30.666Z"
   },
   {
    "duration": 72,
    "start_time": "2022-02-01T14:28:37.751Z"
   },
   {
    "duration": 144,
    "start_time": "2022-02-01T14:32:34.780Z"
   },
   {
    "duration": 106,
    "start_time": "2022-02-01T14:32:51.554Z"
   },
   {
    "duration": 105,
    "start_time": "2022-02-01T14:35:58.704Z"
   },
   {
    "duration": 352,
    "start_time": "2022-02-01T14:36:26.602Z"
   },
   {
    "duration": 336,
    "start_time": "2022-02-01T14:36:31.196Z"
   },
   {
    "duration": 106,
    "start_time": "2022-02-01T14:36:44.013Z"
   },
   {
    "duration": 385,
    "start_time": "2022-02-01T14:39:05.181Z"
   },
   {
    "duration": 104,
    "start_time": "2022-02-01T14:39:27.199Z"
   },
   {
    "duration": 104,
    "start_time": "2022-02-01T14:42:55.617Z"
   },
   {
    "duration": 375,
    "start_time": "2022-02-01T14:45:03.126Z"
   },
   {
    "duration": 110,
    "start_time": "2022-02-01T14:45:31.161Z"
   },
   {
    "duration": 105,
    "start_time": "2022-02-01T14:55:41.456Z"
   },
   {
    "duration": 404,
    "start_time": "2022-02-01T15:04:12.126Z"
   },
   {
    "duration": 76,
    "start_time": "2022-02-01T15:04:23.660Z"
   },
   {
    "duration": 75,
    "start_time": "2022-02-01T15:05:23.912Z"
   },
   {
    "duration": 75,
    "start_time": "2022-02-01T15:06:14.635Z"
   },
   {
    "duration": 76,
    "start_time": "2022-02-01T15:08:20.834Z"
   },
   {
    "duration": 76,
    "start_time": "2022-02-01T15:13:14.679Z"
   },
   {
    "duration": 78,
    "start_time": "2022-02-01T15:16:36.815Z"
   },
   {
    "duration": 77,
    "start_time": "2022-02-01T15:16:51.897Z"
   },
   {
    "duration": 82,
    "start_time": "2022-02-01T15:17:14.750Z"
   },
   {
    "duration": 78,
    "start_time": "2022-02-01T15:18:15.411Z"
   },
   {
    "duration": 79,
    "start_time": "2022-02-01T15:20:25.179Z"
   },
   {
    "duration": 78,
    "start_time": "2022-02-01T15:20:51.579Z"
   },
   {
    "duration": 909,
    "start_time": "2022-02-01T15:27:17.146Z"
   },
   {
    "duration": 377,
    "start_time": "2022-02-01T15:27:23.377Z"
   },
   {
    "duration": 79,
    "start_time": "2022-02-01T15:28:08.932Z"
   },
   {
    "duration": 986,
    "start_time": "2022-02-01T15:35:09.286Z"
   },
   {
    "duration": 11,
    "start_time": "2022-02-01T15:49:20.190Z"
   },
   {
    "duration": 566,
    "start_time": "2022-02-01T15:49:20.202Z"
   },
   {
    "duration": 26,
    "start_time": "2022-02-01T15:49:20.770Z"
   },
   {
    "duration": 2,
    "start_time": "2022-02-01T15:49:20.798Z"
   },
   {
    "duration": 7,
    "start_time": "2022-02-01T15:49:20.802Z"
   },
   {
    "duration": 1899,
    "start_time": "2022-02-01T15:49:20.811Z"
   },
   {
    "duration": 72,
    "start_time": "2022-02-01T15:49:22.712Z"
   },
   {
    "duration": 87,
    "start_time": "2022-02-01T15:49:22.787Z"
   },
   {
    "duration": 76,
    "start_time": "2022-02-01T15:49:22.875Z"
   },
   {
    "duration": 78,
    "start_time": "2022-02-01T15:49:22.953Z"
   },
   {
    "duration": 75,
    "start_time": "2022-02-01T15:49:23.033Z"
   },
   {
    "duration": 790,
    "start_time": "2022-02-01T15:50:52.783Z"
   },
   {
    "duration": 11,
    "start_time": "2022-02-01T15:51:01.532Z"
   },
   {
    "duration": 652,
    "start_time": "2022-02-01T15:51:01.545Z"
   },
   {
    "duration": 29,
    "start_time": "2022-02-01T15:51:02.199Z"
   },
   {
    "duration": 3,
    "start_time": "2022-02-01T15:51:02.229Z"
   },
   {
    "duration": 9,
    "start_time": "2022-02-01T15:51:02.234Z"
   },
   {
    "duration": 1032,
    "start_time": "2022-02-01T15:51:02.245Z"
   },
   {
    "duration": 71,
    "start_time": "2022-02-01T15:51:03.279Z"
   },
   {
    "duration": 84,
    "start_time": "2022-02-01T15:51:03.352Z"
   },
   {
    "duration": 73,
    "start_time": "2022-02-01T15:51:03.438Z"
   },
   {
    "duration": 74,
    "start_time": "2022-02-01T15:51:03.513Z"
   },
   {
    "duration": 73,
    "start_time": "2022-02-01T15:51:03.589Z"
   },
   {
    "duration": 10,
    "start_time": "2022-02-01T15:51:26.855Z"
   },
   {
    "duration": 611,
    "start_time": "2022-02-01T15:51:26.867Z"
   },
   {
    "duration": 26,
    "start_time": "2022-02-01T15:51:27.480Z"
   },
   {
    "duration": 3,
    "start_time": "2022-02-01T15:51:27.507Z"
   },
   {
    "duration": 5,
    "start_time": "2022-02-01T15:51:27.512Z"
   },
   {
    "duration": 966,
    "start_time": "2022-02-01T15:51:27.519Z"
   },
   {
    "duration": 67,
    "start_time": "2022-02-01T15:51:28.487Z"
   },
   {
    "duration": 78,
    "start_time": "2022-02-01T15:51:28.556Z"
   },
   {
    "duration": 71,
    "start_time": "2022-02-01T15:51:28.636Z"
   },
   {
    "duration": 72,
    "start_time": "2022-02-01T15:51:28.709Z"
   },
   {
    "duration": 70,
    "start_time": "2022-02-01T15:51:28.783Z"
   },
   {
    "duration": 10,
    "start_time": "2022-02-01T15:51:46.307Z"
   },
   {
    "duration": 541,
    "start_time": "2022-02-01T15:51:46.318Z"
   },
   {
    "duration": 25,
    "start_time": "2022-02-01T15:51:46.861Z"
   },
   {
    "duration": 2,
    "start_time": "2022-02-01T15:51:46.888Z"
   },
   {
    "duration": 6,
    "start_time": "2022-02-01T15:51:46.892Z"
   },
   {
    "duration": 999,
    "start_time": "2022-02-01T15:51:46.899Z"
   },
   {
    "duration": 70,
    "start_time": "2022-02-01T15:51:47.900Z"
   },
   {
    "duration": 86,
    "start_time": "2022-02-01T15:51:47.972Z"
   },
   {
    "duration": 73,
    "start_time": "2022-02-01T15:51:48.060Z"
   },
   {
    "duration": 75,
    "start_time": "2022-02-01T15:51:48.136Z"
   },
   {
    "duration": 73,
    "start_time": "2022-02-01T15:51:48.213Z"
   },
   {
    "duration": 105,
    "start_time": "2022-02-01T15:52:10.511Z"
   },
   {
    "duration": 79,
    "start_time": "2022-02-01T15:52:15.320Z"
   },
   {
    "duration": 70,
    "start_time": "2022-02-01T15:52:23.930Z"
   },
   {
    "duration": 761,
    "start_time": "2022-02-01T15:52:28.297Z"
   },
   {
    "duration": 9,
    "start_time": "2022-02-01T15:53:09.559Z"
   },
   {
    "duration": 607,
    "start_time": "2022-02-01T15:53:09.570Z"
   },
   {
    "duration": 26,
    "start_time": "2022-02-01T15:53:10.180Z"
   },
   {
    "duration": 3,
    "start_time": "2022-02-01T15:53:10.208Z"
   },
   {
    "duration": 9,
    "start_time": "2022-02-01T15:53:10.212Z"
   },
   {
    "duration": 1244,
    "start_time": "2022-02-01T15:53:10.223Z"
   },
   {
    "duration": 72,
    "start_time": "2022-02-01T15:53:11.469Z"
   },
   {
    "duration": 85,
    "start_time": "2022-02-01T15:53:11.544Z"
   },
   {
    "duration": 80,
    "start_time": "2022-02-01T15:53:11.632Z"
   },
   {
    "duration": 80,
    "start_time": "2022-02-01T15:53:11.715Z"
   },
   {
    "duration": 75,
    "start_time": "2022-02-01T15:53:11.796Z"
   },
   {
    "duration": 5,
    "start_time": "2022-02-01T15:56:38.397Z"
   },
   {
    "duration": 5,
    "start_time": "2022-02-01T15:57:00.079Z"
   },
   {
    "duration": 10,
    "start_time": "2022-02-01T16:19:45.289Z"
   },
   {
    "duration": 728,
    "start_time": "2022-02-01T16:19:45.300Z"
   },
   {
    "duration": 34,
    "start_time": "2022-02-01T16:19:46.030Z"
   },
   {
    "duration": 3,
    "start_time": "2022-02-01T16:19:46.067Z"
   },
   {
    "duration": 8,
    "start_time": "2022-02-01T16:19:46.071Z"
   },
   {
    "duration": 1087,
    "start_time": "2022-02-01T16:19:46.081Z"
   },
   {
    "duration": 74,
    "start_time": "2022-02-01T16:19:47.170Z"
   },
   {
    "duration": 88,
    "start_time": "2022-02-01T16:19:47.245Z"
   },
   {
    "duration": 79,
    "start_time": "2022-02-01T16:19:47.335Z"
   },
   {
    "duration": 81,
    "start_time": "2022-02-01T16:19:47.415Z"
   },
   {
    "duration": 80,
    "start_time": "2022-02-01T16:19:47.497Z"
   },
   {
    "duration": 4,
    "start_time": "2022-02-01T16:20:22.340Z"
   },
   {
    "duration": 5,
    "start_time": "2022-02-01T16:20:39.966Z"
   },
   {
    "duration": 5,
    "start_time": "2022-02-01T16:20:45.512Z"
   },
   {
    "duration": 11,
    "start_time": "2022-02-01T16:20:51.942Z"
   },
   {
    "duration": 612,
    "start_time": "2022-02-01T16:20:51.955Z"
   },
   {
    "duration": 27,
    "start_time": "2022-02-01T16:20:52.569Z"
   },
   {
    "duration": 3,
    "start_time": "2022-02-01T16:20:52.597Z"
   },
   {
    "duration": 8,
    "start_time": "2022-02-01T16:20:52.601Z"
   },
   {
    "duration": 955,
    "start_time": "2022-02-01T16:20:52.611Z"
   },
   {
    "duration": 66,
    "start_time": "2022-02-01T16:20:53.568Z"
   },
   {
    "duration": 79,
    "start_time": "2022-02-01T16:20:53.636Z"
   },
   {
    "duration": 69,
    "start_time": "2022-02-01T16:20:53.717Z"
   },
   {
    "duration": 70,
    "start_time": "2022-02-01T16:20:53.788Z"
   },
   {
    "duration": 68,
    "start_time": "2022-02-01T16:20:53.860Z"
   },
   {
    "duration": 68,
    "start_time": "2022-02-01T16:23:10.290Z"
   },
   {
    "duration": 68,
    "start_time": "2022-02-01T16:23:19.986Z"
   },
   {
    "duration": 65,
    "start_time": "2022-02-01T16:23:26.852Z"
   },
   {
    "duration": 66,
    "start_time": "2022-02-01T16:23:35.076Z"
   },
   {
    "duration": 66,
    "start_time": "2022-02-01T16:23:40.076Z"
   },
   {
    "duration": 11,
    "start_time": "2022-02-01T16:23:56.597Z"
   },
   {
    "duration": 650,
    "start_time": "2022-02-01T16:23:56.610Z"
   },
   {
    "duration": 32,
    "start_time": "2022-02-01T16:23:57.262Z"
   },
   {
    "duration": 4,
    "start_time": "2022-02-01T16:23:57.296Z"
   },
   {
    "duration": 6,
    "start_time": "2022-02-01T16:23:57.302Z"
   },
   {
    "duration": 978,
    "start_time": "2022-02-01T16:23:57.309Z"
   },
   {
    "duration": 68,
    "start_time": "2022-02-01T16:23:58.289Z"
   },
   {
    "duration": 81,
    "start_time": "2022-02-01T16:23:58.358Z"
   },
   {
    "duration": 74,
    "start_time": "2022-02-01T16:23:58.441Z"
   },
   {
    "duration": 73,
    "start_time": "2022-02-01T16:23:58.517Z"
   },
   {
    "duration": 69,
    "start_time": "2022-02-01T16:23:58.592Z"
   },
   {
    "duration": 11,
    "start_time": "2022-02-01T20:56:47.133Z"
   },
   {
    "duration": 666,
    "start_time": "2022-02-01T20:56:47.146Z"
   },
   {
    "duration": 29,
    "start_time": "2022-02-01T20:56:47.814Z"
   },
   {
    "duration": 3,
    "start_time": "2022-02-01T20:56:47.845Z"
   },
   {
    "duration": 12,
    "start_time": "2022-02-01T20:56:47.850Z"
   },
   {
    "duration": 257,
    "start_time": "2022-02-01T20:56:47.864Z"
   },
   {
    "duration": 12,
    "start_time": "2022-02-01T20:56:48.123Z"
   },
   {
    "duration": 26,
    "start_time": "2022-02-01T20:56:48.136Z"
   },
   {
    "duration": 14,
    "start_time": "2022-02-01T20:56:48.165Z"
   },
   {
    "duration": 24,
    "start_time": "2022-02-01T20:56:48.181Z"
   },
   {
    "duration": 16,
    "start_time": "2022-02-01T20:56:48.207Z"
   },
   {
    "duration": 13,
    "start_time": "2023-02-14T07:53:30.805Z"
   },
   {
    "duration": 522,
    "start_time": "2023-02-14T07:53:30.820Z"
   },
   {
    "duration": 6001,
    "start_time": "2023-02-14T07:53:31.343Z"
   },
   {
    "duration": 2,
    "start_time": "2023-02-14T07:53:37.346Z"
   },
   {
    "duration": 7,
    "start_time": "2023-02-14T07:53:37.350Z"
   },
   {
    "duration": 1018,
    "start_time": "2023-02-14T07:53:37.358Z"
   },
   {
    "duration": 73,
    "start_time": "2023-02-14T07:53:38.377Z"
   },
   {
    "duration": 87,
    "start_time": "2023-02-14T07:53:38.451Z"
   },
   {
    "duration": 77,
    "start_time": "2023-02-14T07:53:38.540Z"
   },
   {
    "duration": 79,
    "start_time": "2023-02-14T07:53:38.619Z"
   },
   {
    "duration": 76,
    "start_time": "2023-02-14T07:53:38.700Z"
   },
   {
    "duration": 887,
    "start_time": "2023-02-14T07:54:29.514Z"
   },
   {
    "duration": 74,
    "start_time": "2023-02-14T07:54:53.544Z"
   },
   {
    "duration": 15,
    "start_time": "2023-02-14T07:55:30.727Z"
   },
   {
    "duration": 549,
    "start_time": "2023-02-14T07:55:30.744Z"
   },
   {
    "duration": 6259,
    "start_time": "2023-02-14T07:55:31.295Z"
   },
   {
    "duration": 4,
    "start_time": "2023-02-14T07:55:37.557Z"
   },
   {
    "duration": 39,
    "start_time": "2023-02-14T07:55:37.563Z"
   },
   {
    "duration": 1133,
    "start_time": "2023-02-14T07:55:37.604Z"
   },
   {
    "duration": 78,
    "start_time": "2023-02-14T07:55:38.739Z"
   },
   {
    "duration": 88,
    "start_time": "2023-02-14T07:55:38.818Z"
   },
   {
    "duration": 83,
    "start_time": "2023-02-14T07:55:38.907Z"
   },
   {
    "duration": 79,
    "start_time": "2023-02-14T07:55:38.992Z"
   },
   {
    "duration": 79,
    "start_time": "2023-02-14T07:55:39.073Z"
   }
  ],
  "kernelspec": {
   "display_name": "Python 3 (ipykernel)",
   "language": "python",
   "name": "python3"
  },
  "language_info": {
   "codemirror_mode": {
    "name": "ipython",
    "version": 3
   },
   "file_extension": ".py",
   "mimetype": "text/x-python",
   "name": "python",
   "nbconvert_exporter": "python",
   "pygments_lexer": "ipython3",
   "version": "3.8.10"
  },
  "toc": {
   "base_numbering": 1,
   "nav_menu": {},
   "number_sections": true,
   "sideBar": true,
   "skip_h1_title": true,
   "title_cell": "Содержание",
   "title_sidebar": "Содержание",
   "toc_cell": true,
   "toc_position": {},
   "toc_section_display": true,
   "toc_window_display": true
  }
 },
 "nbformat": 4,
 "nbformat_minor": 2
}
