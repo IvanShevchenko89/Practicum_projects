{
 "cells": [
  {
   "cell_type": "markdown",
   "metadata": {},
   "source": [
    "# Проектная работа \"Аналитика в авиакомпании\""
   ]
  },
  {
   "cell_type": "markdown",
   "metadata": {},
   "source": [
    "Заказчик — российская авиакомпания «F9», выполняющая внутренние пассажирские авиаперевозки.\n",
    "\n",
    "Цель проекта - изучив базу данных и проанализировав спрос пассажиров на рейсы в различные города России, выяснить предпочтения пользователей, покупающих билеты на те или иные направления."
   ]
  },
  {
   "cell_type": "markdown",
   "metadata": {
    "toc": true
   },
   "source": [
    "<h1>Содержание<span class=\"tocSkip\"></span></h1>\n",
    "<div class=\"toc\"><ul class=\"toc-item\"><li><span><a href=\"#Парсинг-данных\" data-toc-modified-id=\"Парсинг-данных-1\"><span class=\"toc-item-num\">1&nbsp;&nbsp;</span>Парсинг данных</a></span></li><li><span><a href=\"#Изучение-общей-информации-и-проверка-типов-данных\" data-toc-modified-id=\"Изучение-общей-информации-и-проверка-типов-данных-2\"><span class=\"toc-item-num\">2&nbsp;&nbsp;</span>Изучение общей информации и проверка типов данных</a></span></li><li><span><a href=\"#Исследовательский-анализ-и-визуализация-данных\" data-toc-modified-id=\"Исследовательский-анализ-и-визуализация-данных-3\"><span class=\"toc-item-num\">3&nbsp;&nbsp;</span>Исследовательский анализ и визуализация данных</a></span></li><li><span><a href=\"#Общий-вывод\" data-toc-modified-id=\"Общий-вывод-4\"><span class=\"toc-item-num\">4&nbsp;&nbsp;</span>Общий вывод</a></span></li></ul></div>"
   ]
  },
  {
   "cell_type": "markdown",
   "metadata": {},
   "source": [
    "## Парсинг данных"
   ]
  },
  {
   "cell_type": "code",
   "execution_count": 1,
   "metadata": {},
   "outputs": [],
   "source": [
    "import pandas as pd\n",
    "import matplotlib.pyplot as plt\n",
    "import requests\n",
    "from bs4 import BeautifulSoup"
   ]
  },
  {
   "cell_type": "code",
   "execution_count": 2,
   "metadata": {},
   "outputs": [],
   "source": [
    "URL = 'https://code.s3.yandex.net/learning-materials/data-analyst/festival_news/index.html'\n",
    "req = requests.get(URL)\n",
    "soup = BeautifulSoup(req.text, 'lxml')"
   ]
  },
  {
   "cell_type": "code",
   "execution_count": 3,
   "metadata": {},
   "outputs": [],
   "source": [
    "table_head = []\n",
    "for row in soup.find_all('th'):\n",
    "    table_head.append(row.text)\n",
    "\n",
    "table_content = []\n",
    "for row in soup.find_all('tr'): \n",
    "    if not row.find_all('th'): \n",
    "            table_content.append([element.text for element in row.find_all('td')])\n",
    "\n",
    "festivals = pd.DataFrame(table_content, columns = table_head)"
   ]
  },
  {
   "cell_type": "code",
   "execution_count": 4,
   "metadata": {},
   "outputs": [
    {
     "data": {
      "text/html": [
       "<div>\n",
       "<style scoped>\n",
       "    .dataframe tbody tr th:only-of-type {\n",
       "        vertical-align: middle;\n",
       "    }\n",
       "\n",
       "    .dataframe tbody tr th {\n",
       "        vertical-align: top;\n",
       "    }\n",
       "\n",
       "    .dataframe thead th {\n",
       "        text-align: right;\n",
       "    }\n",
       "</style>\n",
       "<table border=\"1\" class=\"dataframe\">\n",
       "  <thead>\n",
       "    <tr style=\"text-align: right;\">\n",
       "      <th></th>\n",
       "      <th>Название фестиваля</th>\n",
       "      <th>Место проведения</th>\n",
       "      <th>Дата проведения</th>\n",
       "    </tr>\n",
       "  </thead>\n",
       "  <tbody>\n",
       "    <tr>\n",
       "      <th>0</th>\n",
       "      <td>Музыкальный фестиваль «Усадьба Jazz»</td>\n",
       "      <td>Екатеринбург</td>\n",
       "      <td>01.07.2018</td>\n",
       "    </tr>\n",
       "    <tr>\n",
       "      <th>1</th>\n",
       "      <td>Фестиваль музыки и технологий Alfa Future People</td>\n",
       "      <td>Нижний Новгород</td>\n",
       "      <td>10.08.2018</td>\n",
       "    </tr>\n",
       "    <tr>\n",
       "      <th>2</th>\n",
       "      <td>Фестиваль еды «О, да! Еда!»</td>\n",
       "      <td>Санкт-Петербург</td>\n",
       "      <td>21.07.2018</td>\n",
       "    </tr>\n",
       "    <tr>\n",
       "      <th>3</th>\n",
       "      <td>Доброфест</td>\n",
       "      <td>Ярославль</td>\n",
       "      <td>29.07.2018</td>\n",
       "    </tr>\n",
       "    <tr>\n",
       "      <th>4</th>\n",
       "      <td>Park Live</td>\n",
       "      <td>Москва</td>\n",
       "      <td>28.07.2018</td>\n",
       "    </tr>\n",
       "    <tr>\n",
       "      <th>5</th>\n",
       "      <td>Пикник Афиши</td>\n",
       "      <td>Москва</td>\n",
       "      <td>04.08.2018</td>\n",
       "    </tr>\n",
       "    <tr>\n",
       "      <th>6</th>\n",
       "      <td>VK FEST</td>\n",
       "      <td>Санкт-Петербург</td>\n",
       "      <td>29.07.2018</td>\n",
       "    </tr>\n",
       "    <tr>\n",
       "      <th>7</th>\n",
       "      <td>Фестиваль «О, да! Еда!»</td>\n",
       "      <td>Иркутск</td>\n",
       "      <td>25.08.2018</td>\n",
       "    </tr>\n",
       "    <tr>\n",
       "      <th>8</th>\n",
       "      <td>Фестиваль «О, да! Еда!»</td>\n",
       "      <td>Владивосток</td>\n",
       "      <td>02.09.2018</td>\n",
       "    </tr>\n",
       "    <tr>\n",
       "      <th>9</th>\n",
       "      <td>Видфест</td>\n",
       "      <td>Москва</td>\n",
       "      <td>08.09.2018</td>\n",
       "    </tr>\n",
       "    <tr>\n",
       "      <th>10</th>\n",
       "      <td>«Нашествие 2018»</td>\n",
       "      <td>Тверь</td>\n",
       "      <td>05.08.2018</td>\n",
       "    </tr>\n",
       "  </tbody>\n",
       "</table>\n",
       "</div>"
      ],
      "text/plain": [
       "                                  Название фестиваля Место проведения  \\\n",
       "0               Музыкальный фестиваль «Усадьба Jazz»     Екатеринбург   \n",
       "1   Фестиваль музыки и технологий Alfa Future People  Нижний Новгород   \n",
       "2                        Фестиваль еды «О, да! Еда!»  Санкт-Петербург   \n",
       "3                                          Доброфест        Ярославль   \n",
       "4                                          Park Live           Москва   \n",
       "5                                       Пикник Афиши           Москва   \n",
       "6                                            VK FEST  Санкт-Петербург   \n",
       "7                            Фестиваль «О, да! Еда!»          Иркутск   \n",
       "8                            Фестиваль «О, да! Еда!»      Владивосток   \n",
       "9                                            Видфест           Москва   \n",
       "10                                  «Нашествие 2018»            Тверь   \n",
       "\n",
       "   Дата проведения  \n",
       "0       01.07.2018  \n",
       "1       10.08.2018  \n",
       "2       21.07.2018  \n",
       "3       29.07.2018  \n",
       "4       28.07.2018  \n",
       "5       04.08.2018  \n",
       "6       29.07.2018  \n",
       "7       25.08.2018  \n",
       "8       02.09.2018  \n",
       "9       08.09.2018  \n",
       "10      05.08.2018  "
      ]
     },
     "execution_count": 4,
     "metadata": {},
     "output_type": "execute_result"
    }
   ],
   "source": [
    "festivals"
   ]
  },
  {
   "cell_type": "markdown",
   "metadata": {},
   "source": [
    "## Изучение общей информации и проверка типов данных"
   ]
  },
  {
   "cell_type": "code",
   "execution_count": 5,
   "metadata": {},
   "outputs": [
    {
     "data": {
      "text/html": [
       "<div>\n",
       "<style scoped>\n",
       "    .dataframe tbody tr th:only-of-type {\n",
       "        vertical-align: middle;\n",
       "    }\n",
       "\n",
       "    .dataframe tbody tr th {\n",
       "        vertical-align: top;\n",
       "    }\n",
       "\n",
       "    .dataframe thead th {\n",
       "        text-align: right;\n",
       "    }\n",
       "</style>\n",
       "<table border=\"1\" class=\"dataframe\">\n",
       "  <thead>\n",
       "    <tr style=\"text-align: right;\">\n",
       "      <th></th>\n",
       "      <th>model</th>\n",
       "      <th>flights_amount</th>\n",
       "    </tr>\n",
       "  </thead>\n",
       "  <tbody>\n",
       "    <tr>\n",
       "      <th>0</th>\n",
       "      <td>Airbus A319-100</td>\n",
       "      <td>607</td>\n",
       "    </tr>\n",
       "    <tr>\n",
       "      <th>1</th>\n",
       "      <td>Airbus A321-200</td>\n",
       "      <td>960</td>\n",
       "    </tr>\n",
       "    <tr>\n",
       "      <th>2</th>\n",
       "      <td>Boeing 737-300</td>\n",
       "      <td>630</td>\n",
       "    </tr>\n",
       "    <tr>\n",
       "      <th>3</th>\n",
       "      <td>Boeing 767-300</td>\n",
       "      <td>600</td>\n",
       "    </tr>\n",
       "    <tr>\n",
       "      <th>4</th>\n",
       "      <td>Boeing 777-300</td>\n",
       "      <td>300</td>\n",
       "    </tr>\n",
       "    <tr>\n",
       "      <th>5</th>\n",
       "      <td>Bombardier CRJ-200</td>\n",
       "      <td>4446</td>\n",
       "    </tr>\n",
       "    <tr>\n",
       "      <th>6</th>\n",
       "      <td>Cessna 208 Caravan</td>\n",
       "      <td>4557</td>\n",
       "    </tr>\n",
       "    <tr>\n",
       "      <th>7</th>\n",
       "      <td>Sukhoi SuperJet-100</td>\n",
       "      <td>4185</td>\n",
       "    </tr>\n",
       "  </tbody>\n",
       "</table>\n",
       "</div>"
      ],
      "text/plain": [
       "                 model  flights_amount\n",
       "0      Airbus A319-100             607\n",
       "1      Airbus A321-200             960\n",
       "2       Boeing 737-300             630\n",
       "3       Boeing 767-300             600\n",
       "4       Boeing 777-300             300\n",
       "5   Bombardier CRJ-200            4446\n",
       "6   Cessna 208 Caravan            4557\n",
       "7  Sukhoi SuperJet-100            4185"
      ]
     },
     "execution_count": 5,
     "metadata": {},
     "output_type": "execute_result"
    }
   ],
   "source": [
    "planes_on_flights = pd.read_csv('/datasets/query_1.csv')\n",
    "planes_on_flights"
   ]
  },
  {
   "cell_type": "code",
   "execution_count": 6,
   "metadata": {},
   "outputs": [
    {
     "name": "stdout",
     "output_type": "stream",
     "text": [
      "<class 'pandas.core.frame.DataFrame'>\n",
      "RangeIndex: 8 entries, 0 to 7\n",
      "Data columns (total 2 columns):\n",
      " #   Column          Non-Null Count  Dtype \n",
      "---  ------          --------------  ----- \n",
      " 0   model           8 non-null      object\n",
      " 1   flights_amount  8 non-null      int64 \n",
      "dtypes: int64(1), object(1)\n",
      "memory usage: 256.0+ bytes\n"
     ]
    }
   ],
   "source": [
    "planes_on_flights.info()"
   ]
  },
  {
   "cell_type": "markdown",
   "metadata": {},
   "source": [
    "В данной таблице содержится информация о 8-ми моделях самолетов и о количестве рейсов для каждой из них, совершенных в сентябре 2018 года. Типы данных соответствуют содержащейся в таблице информации."
   ]
  },
  {
   "cell_type": "code",
   "execution_count": 7,
   "metadata": {},
   "outputs": [
    {
     "data": {
      "text/html": [
       "<div>\n",
       "<style scoped>\n",
       "    .dataframe tbody tr th:only-of-type {\n",
       "        vertical-align: middle;\n",
       "    }\n",
       "\n",
       "    .dataframe tbody tr th {\n",
       "        vertical-align: top;\n",
       "    }\n",
       "\n",
       "    .dataframe thead th {\n",
       "        text-align: right;\n",
       "    }\n",
       "</style>\n",
       "<table border=\"1\" class=\"dataframe\">\n",
       "  <thead>\n",
       "    <tr style=\"text-align: right;\">\n",
       "      <th></th>\n",
       "      <th>city</th>\n",
       "      <th>average_flights</th>\n",
       "    </tr>\n",
       "  </thead>\n",
       "  <tbody>\n",
       "    <tr>\n",
       "      <th>0</th>\n",
       "      <td>Абакан</td>\n",
       "      <td>3.870968</td>\n",
       "    </tr>\n",
       "    <tr>\n",
       "      <th>1</th>\n",
       "      <td>Анадырь</td>\n",
       "      <td>1.000000</td>\n",
       "    </tr>\n",
       "    <tr>\n",
       "      <th>2</th>\n",
       "      <td>Анапа</td>\n",
       "      <td>2.161290</td>\n",
       "    </tr>\n",
       "    <tr>\n",
       "      <th>3</th>\n",
       "      <td>Архангельск</td>\n",
       "      <td>5.354839</td>\n",
       "    </tr>\n",
       "    <tr>\n",
       "      <th>4</th>\n",
       "      <td>Астрахань</td>\n",
       "      <td>2.451613</td>\n",
       "    </tr>\n",
       "    <tr>\n",
       "      <th>...</th>\n",
       "      <td>...</td>\n",
       "      <td>...</td>\n",
       "    </tr>\n",
       "    <tr>\n",
       "      <th>96</th>\n",
       "      <td>Чита</td>\n",
       "      <td>1.580645</td>\n",
       "    </tr>\n",
       "    <tr>\n",
       "      <th>97</th>\n",
       "      <td>Элиста</td>\n",
       "      <td>4.870968</td>\n",
       "    </tr>\n",
       "    <tr>\n",
       "      <th>98</th>\n",
       "      <td>Южно-Сахалинск</td>\n",
       "      <td>4.290323</td>\n",
       "    </tr>\n",
       "    <tr>\n",
       "      <th>99</th>\n",
       "      <td>Якутск</td>\n",
       "      <td>2.741935</td>\n",
       "    </tr>\n",
       "    <tr>\n",
       "      <th>100</th>\n",
       "      <td>Ярославль</td>\n",
       "      <td>1.322581</td>\n",
       "    </tr>\n",
       "  </tbody>\n",
       "</table>\n",
       "<p>101 rows × 2 columns</p>\n",
       "</div>"
      ],
      "text/plain": [
       "               city  average_flights\n",
       "0            Абакан         3.870968\n",
       "1           Анадырь         1.000000\n",
       "2             Анапа         2.161290\n",
       "3       Архангельск         5.354839\n",
       "4         Астрахань         2.451613\n",
       "..              ...              ...\n",
       "96             Чита         1.580645\n",
       "97           Элиста         4.870968\n",
       "98   Южно-Сахалинск         4.290323\n",
       "99           Якутск         2.741935\n",
       "100       Ярославль         1.322581\n",
       "\n",
       "[101 rows x 2 columns]"
      ]
     },
     "execution_count": 7,
     "metadata": {},
     "output_type": "execute_result"
    }
   ],
   "source": [
    "flights_in_city = pd.read_csv('/datasets/query_3.csv')\n",
    "flights_in_city"
   ]
  },
  {
   "cell_type": "code",
   "execution_count": 8,
   "metadata": {},
   "outputs": [
    {
     "name": "stdout",
     "output_type": "stream",
     "text": [
      "<class 'pandas.core.frame.DataFrame'>\n",
      "RangeIndex: 101 entries, 0 to 100\n",
      "Data columns (total 2 columns):\n",
      " #   Column           Non-Null Count  Dtype  \n",
      "---  ------           --------------  -----  \n",
      " 0   city             101 non-null    object \n",
      " 1   average_flights  101 non-null    float64\n",
      "dtypes: float64(1), object(1)\n",
      "memory usage: 1.7+ KB\n"
     ]
    }
   ],
   "source": [
    "flights_in_city.info()"
   ]
  },
  {
   "cell_type": "markdown",
   "metadata": {},
   "source": [
    "В таблице содержится информация о городах в России и среднем количестве рейсов, прибывающих в них за день в августе 2018 года.  Типы данных соответствуют содержащейся в таблице информации."
   ]
  },
  {
   "cell_type": "markdown",
   "metadata": {},
   "source": [
    "## Исследовательский анализ и визуализация данных"
   ]
  },
  {
   "cell_type": "code",
   "execution_count": 9,
   "metadata": {},
   "outputs": [
    {
     "data": {
      "text/html": [
       "<div>\n",
       "<style scoped>\n",
       "    .dataframe tbody tr th:only-of-type {\n",
       "        vertical-align: middle;\n",
       "    }\n",
       "\n",
       "    .dataframe tbody tr th {\n",
       "        vertical-align: top;\n",
       "    }\n",
       "\n",
       "    .dataframe thead th {\n",
       "        text-align: right;\n",
       "    }\n",
       "</style>\n",
       "<table border=\"1\" class=\"dataframe\">\n",
       "  <thead>\n",
       "    <tr style=\"text-align: right;\">\n",
       "      <th></th>\n",
       "      <th>city</th>\n",
       "      <th>average_flights</th>\n",
       "    </tr>\n",
       "  </thead>\n",
       "  <tbody>\n",
       "    <tr>\n",
       "      <th>43</th>\n",
       "      <td>Москва</td>\n",
       "      <td>129.774194</td>\n",
       "    </tr>\n",
       "    <tr>\n",
       "      <th>70</th>\n",
       "      <td>Санкт-Петербург</td>\n",
       "      <td>31.161290</td>\n",
       "    </tr>\n",
       "    <tr>\n",
       "      <th>54</th>\n",
       "      <td>Новосибирск</td>\n",
       "      <td>17.322581</td>\n",
       "    </tr>\n",
       "    <tr>\n",
       "      <th>33</th>\n",
       "      <td>Красноярск</td>\n",
       "      <td>11.580645</td>\n",
       "    </tr>\n",
       "    <tr>\n",
       "      <th>20</th>\n",
       "      <td>Екатеринбург</td>\n",
       "      <td>11.322581</td>\n",
       "    </tr>\n",
       "    <tr>\n",
       "      <th>67</th>\n",
       "      <td>Ростов-на-Дону</td>\n",
       "      <td>10.193548</td>\n",
       "    </tr>\n",
       "    <tr>\n",
       "      <th>63</th>\n",
       "      <td>Пермь</td>\n",
       "      <td>10.129032</td>\n",
       "    </tr>\n",
       "    <tr>\n",
       "      <th>10</th>\n",
       "      <td>Брянск</td>\n",
       "      <td>10.000000</td>\n",
       "    </tr>\n",
       "    <tr>\n",
       "      <th>74</th>\n",
       "      <td>Сочи</td>\n",
       "      <td>9.612903</td>\n",
       "    </tr>\n",
       "    <tr>\n",
       "      <th>84</th>\n",
       "      <td>Ульяновск</td>\n",
       "      <td>9.580645</td>\n",
       "    </tr>\n",
       "  </tbody>\n",
       "</table>\n",
       "</div>"
      ],
      "text/plain": [
       "               city  average_flights\n",
       "43           Москва       129.774194\n",
       "70  Санкт-Петербург        31.161290\n",
       "54      Новосибирск        17.322581\n",
       "33       Красноярск        11.580645\n",
       "20     Екатеринбург        11.322581\n",
       "67   Ростов-на-Дону        10.193548\n",
       "63            Пермь        10.129032\n",
       "10           Брянск        10.000000\n",
       "74             Сочи         9.612903\n",
       "84        Ульяновск         9.580645"
      ]
     },
     "execution_count": 9,
     "metadata": {},
     "output_type": "execute_result"
    }
   ],
   "source": [
    "top_10_city = flights_in_city.sort_values(by='average_flights', ascending=False).head(10)\n",
    "top_10_city"
   ]
  },
  {
   "cell_type": "markdown",
   "metadata": {},
   "source": [
    "Выделяем в отдельную таблицу 10 городов с самым большим количеством принятых рейсов."
   ]
  },
  {
   "cell_type": "code",
   "execution_count": 10,
   "metadata": {},
   "outputs": [
    {
     "data": {
      "image/png": "[encoded data removed]",
      "text/plain": [
       "<Figure size 1080x720 with 1 Axes>"
      ]
     },
     "metadata": {
      "needs_background": "light"
     },
     "output_type": "display_data"
    }
   ],
   "source": [
    "planes_on_flights.sort_values(\n",
    "    by='flights_amount', ascending=True).plot.barh(\n",
    "    x='model', y='flights_amount', grid = True, figsize = (15, 10))\n",
    "plt.title('Модели самолетов и количество рейсов')\n",
    "plt.xlabel('Количество рейсов')\n",
    "plt.ylabel('Модель воздушного судна');"
   ]
  },
  {
   "cell_type": "markdown",
   "metadata": {},
   "source": [
    "Так как мы рассматриваем данные о внутренних авиаперевозках (пусть и в самой большой стране мира), абсолютным преимуществом пользуются ближнемагистральные, узкофюзеляжные модели самолетов, дальность полетов которых составляет от 1000 до 3000 км с пассажировместимостью до 100 человек:\n",
    "1. Cessna 208 Caravan\n",
    "2. Bombardier CRJ-200\n",
    "3. Sukhoi SuperJet-100\n",
    "\n",
    "Логично было бы предположить, что, затрачивая меньшее время на перелет, посадку и проверку пассажиров, погрузку и разгрузку багажа, перечисленные модели самолетов могут совершать большее количество рейсов, чем средне- и дальнемагистральные более пассажировместимые самолеты, что подтверждается показателями графика."
   ]
  },
  {
   "cell_type": "code",
   "execution_count": 11,
   "metadata": {},
   "outputs": [
    {
     "data": {
      "image/png": "[encoded data removed]",
      "text/plain": [
       "<Figure size 1080x2160 with 1 Axes>"
      ]
     },
     "metadata": {
      "needs_background": "light"
     },
     "output_type": "display_data"
    }
   ],
   "source": [
    "flights_in_city.sort_values(\n",
    "    by='average_flights', ascending=True).plot.barh(\n",
    "    x='city', y='average_flights', grid = True, figsize = (15, 30), legend=False)\n",
    "plt.title('Города и количество рейсов')\n",
    "plt.xlabel('Количество рейсов')\n",
    "plt.ylabel('Город');"
   ]
  },
  {
   "cell_type": "markdown",
   "metadata": {},
   "source": [
    "Как и можно было предположить, на Москву - абсолютного лидера по количеству рейсов, приходится почти четверть всех рейсов из представленной таблицы (23.4%). Большой ряд факторов влияет на количество рейсов в том или ином городе. Так как мы имеем очень небольшое количество информации, то о причинах распределения городов на графике можно только предполагать исходя из логики, личных знаний и опыта. Можно предположить, что главными факторами влияющими на количество рейсов являются:\n",
    "\n",
    "1. Количество и качественные характеристики аэропортов\n",
    "2. Количество внешних рейсов\n",
    "3. Населенность города и развитость его инфраструктуры"
   ]
  },
  {
   "cell_type": "code",
   "execution_count": 12,
   "metadata": {},
   "outputs": [
    {
     "data": {
      "image/png": "[encoded data removed]",
      "text/plain": [
       "<Figure size 1080x1080 with 1 Axes>"
      ]
     },
     "metadata": {
      "needs_background": "light"
     },
     "output_type": "display_data"
    }
   ],
   "source": [
    "top_10_city.sort_values(\n",
    "    by='average_flights', ascending=True).plot.barh(\n",
    "    x='city', y='average_flights', grid = True, figsize = (15, 15), legend=False)\n",
    "plt.title('ТОП-10 городов и количество рейсов')\n",
    "plt.xlabel('Количество рейсов')\n",
    "plt.ylabel('Город');"
   ]
  },
  {
   "cell_type": "markdown",
   "metadata": {},
   "source": [
    "Рассматривая более детально 10ку лидеров по количеству рейсов можно обратить внимание, что 7 городов из них являются городами - \"миллионниками\". Исключением здесь являются лишь Брянск, Сочи и Ульяновск. Без дополнительных данных можно только предположить, что рейсы в Брянск пользуются спросом из-за его близкого расположения к границам двух соседних государств. Так как мы брали данные за август 2018 года, попадание Сочи в выборку вполне объяснимо - курортный сезон там с легкостью продлится до конца сентября. Рейсы в Ульяновск возможно оправдываются наличием в области большого количества промышленных предприятий."
   ]
  },
  {
   "cell_type": "markdown",
   "metadata": {},
   "source": [
    "## Общий вывод"
   ]
  },
  {
   "cell_type": "markdown",
   "metadata": {},
   "source": [
    "В данном проекте у нас в наличии имелся очень скромный набор информации. Для более объемного анализа нам очень пригодились бы данные имеющиеся в свободном доступе в сети, такие как технические характеристики представленных моделей самолетов, характеристики аэропортов, а также данные о населении и инфраструктурах рассматриваемых городов.\n",
    "Однако из имеющихся данных можно сделать следующие выводы:\n",
    "\n",
    "1. Проведение фестивалей в городах практически не корррелирует с количеством рейсов (чего нельзя сказать о сезонности)\n",
    "2. Лидерами по количеству рейсов являются небольшие модели самолетов, преодолевающие дистанции до 3000 км(что не говорит об их прибыльности перед более пассажировместимыми судами)\n",
    "3. Города, лидирующие по количеству рейсов, в основном густонаселены, имеют не один аэропорт и инфраструктурно развиты.\n",
    "\n"
   ]
  }
 ],
 "metadata": {
  "ExecuteTimeLog": [
   {
    "duration": 322,
    "start_time": "2021-08-01T14:18:16.748Z"
   },
   {
    "duration": 729,
    "start_time": "2021-08-01T14:18:20.548Z"
   },
   {
    "duration": 18,
    "start_time": "2021-08-01T14:18:21.280Z"
   },
   {
    "duration": 18,
    "start_time": "2021-08-01T14:18:24.492Z"
   },
   {
    "duration": 302,
    "start_time": "2021-08-01T14:19:17.702Z"
   },
   {
    "duration": 19,
    "start_time": "2021-08-01T14:19:20.453Z"
   },
   {
    "duration": 9,
    "start_time": "2021-08-01T14:19:21.087Z"
   },
   {
    "duration": 18,
    "start_time": "2021-08-01T14:21:39.967Z"
   },
   {
    "duration": 14,
    "start_time": "2021-08-01T14:21:45.078Z"
   },
   {
    "duration": 17,
    "start_time": "2021-08-01T14:23:05.944Z"
   },
   {
    "duration": 12,
    "start_time": "2021-08-01T14:24:22.209Z"
   },
   {
    "duration": 724,
    "start_time": "2021-08-01T14:27:37.283Z"
   },
   {
    "duration": 22,
    "start_time": "2021-08-01T14:27:55.923Z"
   },
   {
    "duration": 22,
    "start_time": "2021-08-01T14:28:06.620Z"
   },
   {
    "duration": 293,
    "start_time": "2021-08-01T14:29:32.276Z"
   },
   {
    "duration": 607,
    "start_time": "2021-08-01T14:30:03.220Z"
   },
   {
    "duration": 572,
    "start_time": "2021-08-01T14:31:29.166Z"
   },
   {
    "duration": 14,
    "start_time": "2021-08-01T14:31:59.336Z"
   },
   {
    "duration": 8,
    "start_time": "2021-08-01T14:32:08.212Z"
   },
   {
    "duration": 13,
    "start_time": "2021-08-01T14:32:16.173Z"
   },
   {
    "duration": 14,
    "start_time": "2021-08-01T14:35:26.991Z"
   },
   {
    "duration": 11,
    "start_time": "2021-08-01T14:35:40.887Z"
   },
   {
    "duration": 318,
    "start_time": "2021-08-01T14:36:16.778Z"
   },
   {
    "duration": 615,
    "start_time": "2021-08-01T14:36:36.249Z"
   },
   {
    "duration": 92,
    "start_time": "2021-08-01T14:38:03.617Z"
   },
   {
    "duration": 99,
    "start_time": "2021-08-01T14:38:13.505Z"
   },
   {
    "duration": 282,
    "start_time": "2021-08-01T14:38:16.481Z"
   },
   {
    "duration": 294,
    "start_time": "2021-08-01T14:38:29.034Z"
   },
   {
    "duration": 269,
    "start_time": "2021-08-01T14:39:55.474Z"
   },
   {
    "duration": 5,
    "start_time": "2021-08-01T14:40:06.658Z"
   },
   {
    "duration": 11,
    "start_time": "2021-08-01T14:40:12.954Z"
   },
   {
    "duration": 502,
    "start_time": "2021-08-01T14:40:40.571Z"
   },
   {
    "duration": 11,
    "start_time": "2021-08-01T14:41:10.692Z"
   },
   {
    "duration": 486,
    "start_time": "2021-08-01T14:41:22.580Z"
   },
   {
    "duration": 291,
    "start_time": "2021-08-01T14:41:38.068Z"
   },
   {
    "duration": 662,
    "start_time": "2021-08-01T14:42:02.156Z"
   },
   {
    "duration": 1392,
    "start_time": "2021-08-02T15:13:25.908Z"
   },
   {
    "duration": 4,
    "start_time": "2021-08-02T15:23:53.459Z"
   },
   {
    "duration": 30,
    "start_time": "2021-08-02T15:24:12.752Z"
   },
   {
    "duration": 23,
    "start_time": "2021-08-02T15:25:45.384Z"
   },
   {
    "duration": 30,
    "start_time": "2021-08-02T15:25:57.376Z"
   },
   {
    "duration": 42,
    "start_time": "2021-08-02T15:26:26.466Z"
   },
   {
    "duration": 28,
    "start_time": "2021-08-02T15:27:22.034Z"
   },
   {
    "duration": 27,
    "start_time": "2021-08-02T15:29:04.357Z"
   },
   {
    "duration": 34,
    "start_time": "2021-08-02T15:33:48.724Z"
   },
   {
    "duration": 8,
    "start_time": "2021-08-02T15:47:11.326Z"
   },
   {
    "duration": 7,
    "start_time": "2021-08-02T15:47:20.473Z"
   },
   {
    "duration": 7,
    "start_time": "2021-08-02T15:47:31.929Z"
   },
   {
    "duration": 17,
    "start_time": "2021-08-02T15:48:03.566Z"
   },
   {
    "duration": 442,
    "start_time": "2021-08-02T15:51:23.426Z"
   },
   {
    "duration": 5,
    "start_time": "2021-08-02T15:51:49.519Z"
   },
   {
    "duration": 14,
    "start_time": "2021-08-02T15:51:56.635Z"
   },
   {
    "duration": 5,
    "start_time": "2021-08-02T15:52:06.514Z"
   },
   {
    "duration": 10,
    "start_time": "2021-08-02T15:52:07.417Z"
   },
   {
    "duration": 7,
    "start_time": "2021-08-02T15:52:27.568Z"
   },
   {
    "duration": 11,
    "start_time": "2021-08-02T15:52:28.957Z"
   },
   {
    "duration": 276,
    "start_time": "2021-08-02T15:52:58.887Z"
   },
   {
    "duration": 11,
    "start_time": "2021-08-02T15:53:05.248Z"
   },
   {
    "duration": 7,
    "start_time": "2021-08-02T15:53:11.281Z"
   },
   {
    "duration": 10,
    "start_time": "2021-08-02T15:53:13.647Z"
   },
   {
    "duration": 12,
    "start_time": "2021-08-02T15:55:50.908Z"
   },
   {
    "duration": 506,
    "start_time": "2021-08-02T15:56:06.455Z"
   },
   {
    "duration": 281,
    "start_time": "2021-08-02T15:56:55.172Z"
   },
   {
    "duration": 562,
    "start_time": "2021-08-02T15:57:10.204Z"
   },
   {
    "duration": 495,
    "start_time": "2021-08-02T15:57:46.393Z"
   },
   {
    "duration": 690,
    "start_time": "2021-08-02T15:58:47.352Z"
   },
   {
    "duration": 646,
    "start_time": "2021-08-02T15:59:12.712Z"
   },
   {
    "duration": 12,
    "start_time": "2021-08-02T15:59:36.424Z"
   },
   {
    "duration": 699,
    "start_time": "2021-08-02T16:20:12.243Z"
   },
   {
    "duration": 642,
    "start_time": "2021-08-02T16:21:00.329Z"
   },
   {
    "duration": 541,
    "start_time": "2021-08-02T16:21:35.379Z"
   },
   {
    "duration": 500,
    "start_time": "2021-08-02T16:21:44.527Z"
   },
   {
    "duration": 739,
    "start_time": "2021-08-02T16:28:15.872Z"
   },
   {
    "duration": 2639,
    "start_time": "2021-08-02T16:28:26.748Z"
   },
   {
    "duration": 593,
    "start_time": "2021-08-02T16:28:37.576Z"
   },
   {
    "duration": 2737,
    "start_time": "2021-08-02T16:28:55.892Z"
   },
   {
    "duration": 3129,
    "start_time": "2021-08-02T16:30:04.576Z"
   },
   {
    "duration": 2725,
    "start_time": "2021-08-02T16:30:16.229Z"
   },
   {
    "duration": 2905,
    "start_time": "2021-08-02T16:30:29.110Z"
   },
   {
    "duration": 2936,
    "start_time": "2021-08-02T16:30:43.605Z"
   },
   {
    "duration": 3005,
    "start_time": "2021-08-02T16:31:20.969Z"
   },
   {
    "duration": 698,
    "start_time": "2021-08-02T16:31:26.834Z"
   },
   {
    "duration": 735,
    "start_time": "2021-08-02T16:32:37.503Z"
   },
   {
    "duration": 4215,
    "start_time": "2021-08-02T16:33:55.800Z"
   },
   {
    "duration": 2974,
    "start_time": "2021-08-02T16:34:26.460Z"
   },
   {
    "duration": 481,
    "start_time": "2021-08-02T16:35:09.749Z"
   },
   {
    "duration": 543,
    "start_time": "2021-08-02T16:35:25.499Z"
   },
   {
    "duration": 676,
    "start_time": "2021-08-02T16:36:00.811Z"
   },
   {
    "duration": 801,
    "start_time": "2021-08-02T16:36:30.036Z"
   },
   {
    "duration": 330,
    "start_time": "2021-08-03T12:20:33.756Z"
   },
   {
    "duration": 627,
    "start_time": "2021-08-03T12:20:39.483Z"
   },
   {
    "duration": 19,
    "start_time": "2021-08-03T12:20:40.112Z"
   },
   {
    "duration": 34,
    "start_time": "2021-08-03T12:20:40.133Z"
   },
   {
    "duration": 13,
    "start_time": "2021-08-03T12:20:40.168Z"
   },
   {
    "duration": 316,
    "start_time": "2021-08-03T12:20:40.182Z"
   },
   {
    "duration": 1745,
    "start_time": "2021-08-03T12:20:40.500Z"
   },
   {
    "duration": 455,
    "start_time": "2021-08-03T12:20:42.247Z"
   },
   {
    "duration": 388,
    "start_time": "2021-08-03T12:20:54.608Z"
   },
   {
    "duration": 2877,
    "start_time": "2021-08-03T12:23:30.539Z"
   },
   {
    "duration": 2483,
    "start_time": "2021-08-03T12:23:41.335Z"
   },
   {
    "duration": 2678,
    "start_time": "2021-08-03T12:23:58.496Z"
   },
   {
    "duration": 6271,
    "start_time": "2021-08-03T12:29:13.799Z"
   },
   {
    "duration": 6,
    "start_time": "2021-08-03T12:29:44.185Z"
   },
   {
    "duration": 6,
    "start_time": "2021-08-03T12:30:59.276Z"
   },
   {
    "duration": 8,
    "start_time": "2021-08-03T12:31:18.315Z"
   },
   {
    "duration": 120,
    "start_time": "2021-08-03T16:04:58.198Z"
   },
   {
    "duration": 740,
    "start_time": "2023-02-06T08:42:14.376Z"
   },
   {
    "duration": 88,
    "start_time": "2023-02-06T08:42:15.120Z"
   },
   {
    "duration": 79,
    "start_time": "2023-02-06T08:42:15.210Z"
   },
   {
    "duration": 12,
    "start_time": "2023-02-06T08:42:15.290Z"
   },
   {
    "duration": 219,
    "start_time": "2023-02-06T08:42:15.304Z"
   },
   {
    "duration": 1801,
    "start_time": "2023-02-06T08:42:15.524Z"
   },
   {
    "duration": 234,
    "start_time": "2023-02-06T08:42:17.326Z"
   },
   {
    "duration": 808,
    "start_time": "2023-02-14T18:30:46.864Z"
   },
   {
    "duration": 997,
    "start_time": "2023-02-14T18:35:07.545Z"
   },
   {
    "duration": 47,
    "start_time": "2023-02-14T18:35:08.544Z"
   },
   {
    "duration": 8,
    "start_time": "2023-02-14T18:35:08.593Z"
   },
   {
    "duration": 48,
    "start_time": "2023-02-14T18:35:08.607Z"
   },
   {
    "duration": 99,
    "start_time": "2023-02-14T18:35:08.657Z"
   },
   {
    "duration": 85,
    "start_time": "2023-02-14T18:35:08.758Z"
   },
   {
    "duration": 10,
    "start_time": "2023-02-14T18:35:08.845Z"
   },
   {
    "duration": 271,
    "start_time": "2023-02-14T18:35:08.858Z"
   },
   {
    "duration": 2006,
    "start_time": "2023-02-14T18:35:09.131Z"
   },
   {
    "duration": 306,
    "start_time": "2023-02-14T18:35:11.139Z"
   },
   {
    "duration": 53,
    "start_time": "2023-02-14T18:35:50.587Z"
   },
   {
    "duration": 43,
    "start_time": "2023-02-14T18:35:53.322Z"
   },
   {
    "duration": 31,
    "start_time": "2023-02-14T18:36:06.526Z"
   },
   {
    "duration": 23,
    "start_time": "2023-02-14T18:36:31.248Z"
   },
   {
    "duration": 13,
    "start_time": "2023-02-14T18:36:32.035Z"
   },
   {
    "duration": 8,
    "start_time": "2023-02-14T18:36:41.950Z"
   },
   {
    "duration": 8,
    "start_time": "2023-02-14T18:36:47.773Z"
   },
   {
    "duration": 48,
    "start_time": "2023-02-14T18:36:59.687Z"
   },
   {
    "duration": 29,
    "start_time": "2023-02-14T18:37:15.733Z"
   },
   {
    "duration": 13,
    "start_time": "2023-02-14T18:37:18.426Z"
   },
   {
    "duration": 2021,
    "start_time": "2023-02-14T18:37:57.029Z"
   },
   {
    "duration": 274,
    "start_time": "2023-02-14T18:38:18.539Z"
   },
   {
    "duration": 868,
    "start_time": "2023-02-14T18:39:00.616Z"
   },
   {
    "duration": 84,
    "start_time": "2023-02-14T18:39:01.486Z"
   },
   {
    "duration": 6,
    "start_time": "2023-02-14T18:39:01.572Z"
   },
   {
    "duration": 64,
    "start_time": "2023-02-14T18:39:01.580Z"
   },
   {
    "duration": 28,
    "start_time": "2023-02-14T18:39:01.646Z"
   },
   {
    "duration": 12,
    "start_time": "2023-02-14T18:39:01.676Z"
   },
   {
    "duration": 72,
    "start_time": "2023-02-14T18:39:01.690Z"
   },
   {
    "duration": 10,
    "start_time": "2023-02-14T18:39:01.764Z"
   },
   {
    "duration": 69,
    "start_time": "2023-02-14T18:39:01.776Z"
   },
   {
    "duration": 269,
    "start_time": "2023-02-14T18:39:01.847Z"
   },
   {
    "duration": 2044,
    "start_time": "2023-02-14T18:39:02.118Z"
   },
   {
    "duration": 297,
    "start_time": "2023-02-14T18:39:04.164Z"
   }
  ],
  "kernelspec": {
   "display_name": "Python 3 (ipykernel)",
   "language": "python",
   "name": "python3"
  },
  "language_info": {
   "codemirror_mode": {
    "name": "ipython",
    "version": 3
   },
   "file_extension": ".py",
   "mimetype": "text/x-python",
   "name": "python",
   "nbconvert_exporter": "python",
   "pygments_lexer": "ipython3",
   "version": "3.9.5"
  },
  "toc": {
   "base_numbering": 1,
   "nav_menu": {},
   "number_sections": true,
   "sideBar": true,
   "skip_h1_title": true,
   "title_cell": "Содержание",
   "title_sidebar": "Contents",
   "toc_cell": true,
   "toc_position": {},
   "toc_section_display": true,
   "toc_window_display": true
  }
 },
 "nbformat": 4,
 "nbformat_minor": 2
}
