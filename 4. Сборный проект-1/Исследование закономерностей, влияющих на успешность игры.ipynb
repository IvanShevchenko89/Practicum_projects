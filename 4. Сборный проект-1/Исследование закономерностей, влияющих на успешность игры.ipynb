{
 "cells": [
  {
   "cell_type": "markdown",
   "metadata": {},
   "source": [
    "# Сборный проект \n",
    "# \"Исследование закономерностей, влияющих на успешность игры\"\n",
    "\n",
    "Заказчик - интернет-магазин по продаже игр \"Стримчик\" планирует рекламные кампании на будущий год. \n",
    "\n",
    "Цель исследования - выявить определяющие успешность игры закономерности. Это позволит \"Стримчику\" сделать ставку на потенциально популярный продукт и спланировать рекламные кампании. \n",
    "\n",
    "Для исследования в нашем распоряжении имются исторические данные о продажах игр, оценки пользователей и экспертов, жанры и платформы до 2016 года."
   ]
  },
  {
   "cell_type": "markdown",
   "metadata": {
    "toc": true
   },
   "source": [
    "<h1>Содержание<span class=\"tocSkip\"></span></h1>\n",
    "<div class=\"toc\"><ul class=\"toc-item\"><li><span><a href=\"#Изучение-общей-информации\" data-toc-modified-id=\"Изучение-общей-информации-1\"><span class=\"toc-item-num\">1&nbsp;&nbsp;</span>Изучение общей информации</a></span><ul class=\"toc-item\"><li><span><a href=\"#Вывод\" data-toc-modified-id=\"Вывод-1.1\"><span class=\"toc-item-num\">1.1&nbsp;&nbsp;</span>Вывод</a></span></li></ul></li><li><span><a href=\"#Предобработка-и-добавление-данных\" data-toc-modified-id=\"Предобработка-и-добавление-данных-2\"><span class=\"toc-item-num\">2&nbsp;&nbsp;</span>Предобработка и добавление данных</a></span><ul class=\"toc-item\"><li><span><a href=\"#Вывод\" data-toc-modified-id=\"Вывод-2.1\"><span class=\"toc-item-num\">2.1&nbsp;&nbsp;</span>Вывод</a></span></li></ul></li><li><span><a href=\"#Исследовательский-анализ-и-визуализация-данных\" data-toc-modified-id=\"Исследовательский-анализ-и-визуализация-данных-3\"><span class=\"toc-item-num\">3&nbsp;&nbsp;</span>Исследовательский анализ и визуализация данных</a></span><ul class=\"toc-item\"><li><span><a href=\"#Объемы-производства-игр\" data-toc-modified-id=\"Объемы-производства-игр-3.1\"><span class=\"toc-item-num\">3.1&nbsp;&nbsp;</span>Объемы производства игр</a></span></li><li><span><a href=\"#Объемы-продаж-игр-на-популярных-платформах\" data-toc-modified-id=\"Объемы-продаж-игр-на-популярных-платформах-3.2\"><span class=\"toc-item-num\">3.2&nbsp;&nbsp;</span>Объемы продаж игр на популярных платформах</a></span></li><li><span><a href=\"#Исследовательский-анализ-данных-за-актуальный-период-времени\" data-toc-modified-id=\"Исследовательский-анализ-данных-за-актуальный-период-времени-3.3\"><span class=\"toc-item-num\">3.3&nbsp;&nbsp;</span>Исследовательский анализ данных за актуальный период времени</a></span><ul class=\"toc-item\"><li><span><a href=\"#Исследование-актуальных-игровых-платформ\" data-toc-modified-id=\"Исследование-актуальных-игровых-платформ-3.3.1\"><span class=\"toc-item-num\">3.3.1&nbsp;&nbsp;</span>Исследование актуальных игровых платформ</a></span></li><li><span><a href=\"#Исследование-влияния-отзывов-пользователей-и-критиков-на-продажи\" data-toc-modified-id=\"Исследование-влияния-отзывов-пользователей-и-критиков-на-продажи-3.3.2\"><span class=\"toc-item-num\">3.3.2&nbsp;&nbsp;</span>Исследование влияния отзывов пользователей и критиков на продажи</a></span></li><li><span><a href=\"#Исследование-игр-с-распределением-по-жанрам\" data-toc-modified-id=\"Исследование-игр-с-распределением-по-жанрам-3.3.3\"><span class=\"toc-item-num\">3.3.3&nbsp;&nbsp;</span>Исследование игр с распределением по жанрам</a></span></li></ul></li><li><span><a href=\"#Вывод\" data-toc-modified-id=\"Вывод-3.4\"><span class=\"toc-item-num\">3.4&nbsp;&nbsp;</span>Вывод</a></span></li></ul></li><li><span><a href=\"#Среднестатистический-портрет-пользователя-игровых-платформ\" data-toc-modified-id=\"Среднестатистический-портрет-пользователя-игровых-платформ-4\"><span class=\"toc-item-num\">4&nbsp;&nbsp;</span>Среднестатистический портрет пользователя игровых платформ</a></span><ul class=\"toc-item\"><li><span><a href=\"#Топ-5-игровых-платформ-по-регионам\" data-toc-modified-id=\"Топ-5-игровых-платформ-по-регионам-4.1\"><span class=\"toc-item-num\">4.1&nbsp;&nbsp;</span>Топ-5 игровых платформ по регионам</a></span></li><li><span><a href=\"#Топ-5-игровых-жанров-по-регионам\" data-toc-modified-id=\"Топ-5-игровых-жанров-по-регионам-4.2\"><span class=\"toc-item-num\">4.2&nbsp;&nbsp;</span>Топ-5 игровых жанров по регионам</a></span></li><li><span><a href=\"#Влияение-рейтинга-ESRB-на-продажи-по-регионам\" data-toc-modified-id=\"Влияение-рейтинга-ESRB-на-продажи-по-регионам-4.3\"><span class=\"toc-item-num\">4.3&nbsp;&nbsp;</span>Влияение рейтинга ESRB на продажи по регионам</a></span></li><li><span><a href=\"#Вывод\" data-toc-modified-id=\"Вывод-4.4\"><span class=\"toc-item-num\">4.4&nbsp;&nbsp;</span>Вывод</a></span></li></ul></li><li><span><a href=\"#Проверка-гипотез\" data-toc-modified-id=\"Проверка-гипотез-5\"><span class=\"toc-item-num\">5&nbsp;&nbsp;</span>Проверка гипотез</a></span><ul class=\"toc-item\"><li><span><a href=\"#Гипотеза-1:-&quot;Средние-пользовательские-рейтинги-платформ-Xbox-One-и-PC-одинаковые&quot;.\" data-toc-modified-id=\"Гипотеза-1:-&quot;Средние-пользовательские-рейтинги-платформ-Xbox-One-и-PC-одинаковые&quot;.-5.1\"><span class=\"toc-item-num\">5.1&nbsp;&nbsp;</span>Гипотеза 1: \"Средние пользовательские рейтинги платформ Xbox One и PC одинаковые\".</a></span></li><li><span><a href=\"#Гипотеза-2:-&quot;Средние-пользовательские-рейтинги-жанров-Action-и-Sports-разные&quot;.\" data-toc-modified-id=\"Гипотеза-2:-&quot;Средние-пользовательские-рейтинги-жанров-Action-и-Sports-разные&quot;.-5.2\"><span class=\"toc-item-num\">5.2&nbsp;&nbsp;</span>Гипотеза 2: \"Средние пользовательские рейтинги жанров Action и Sports разные\".</a></span></li><li><span><a href=\"#Вывод\" data-toc-modified-id=\"Вывод-5.3\"><span class=\"toc-item-num\">5.3&nbsp;&nbsp;</span>Вывод</a></span></li></ul></li><li><span><a href=\"#Общий-вывод\" data-toc-modified-id=\"Общий-вывод-6\"><span class=\"toc-item-num\">6&nbsp;&nbsp;</span>Общий вывод</a></span></li></ul></div>"
   ]
  },
  {
   "cell_type": "markdown",
   "metadata": {},
   "source": [
    "## Изучение общей информации"
   ]
  },
  {
   "cell_type": "code",
   "execution_count": 42,
   "metadata": {},
   "outputs": [],
   "source": [
    "import pandas as pd\n",
    "import numpy as np\n",
    "import matplotlib.pyplot as plt\n",
    "from scipy import stats as st\n",
    "from IPython.core.interactiveshell import InteractiveShell\n",
    "InteractiveShell.ast_node_interactivity = \"all\"\n",
    "import warnings\n",
    "warnings.filterwarnings('ignore')"
   ]
  },
  {
   "cell_type": "code",
   "execution_count": 43,
   "metadata": {},
   "outputs": [],
   "source": [
    "data = pd.read_csv('/datasets/games.csv')"
   ]
  },
  {
   "cell_type": "code",
   "execution_count": 44,
   "metadata": {
    "scrolled": false
   },
   "outputs": [
    {
     "data": {
      "text/html": [
       "<div>\n",
       "<style scoped>\n",
       "    .dataframe tbody tr th:only-of-type {\n",
       "        vertical-align: middle;\n",
       "    }\n",
       "\n",
       "    .dataframe tbody tr th {\n",
       "        vertical-align: top;\n",
       "    }\n",
       "\n",
       "    .dataframe thead th {\n",
       "        text-align: right;\n",
       "    }\n",
       "</style>\n",
       "<table border=\"1\" class=\"dataframe\">\n",
       "  <thead>\n",
       "    <tr style=\"text-align: right;\">\n",
       "      <th></th>\n",
       "      <th>Name</th>\n",
       "      <th>Platform</th>\n",
       "      <th>Year_of_Release</th>\n",
       "      <th>Genre</th>\n",
       "      <th>NA_sales</th>\n",
       "      <th>EU_sales</th>\n",
       "      <th>JP_sales</th>\n",
       "      <th>Other_sales</th>\n",
       "      <th>Critic_Score</th>\n",
       "      <th>User_Score</th>\n",
       "      <th>Rating</th>\n",
       "    </tr>\n",
       "  </thead>\n",
       "  <tbody>\n",
       "    <tr>\n",
       "      <th>4561</th>\n",
       "      <td>Super Wagyan Land</td>\n",
       "      <td>SNES</td>\n",
       "      <td>1991.0</td>\n",
       "      <td>Action</td>\n",
       "      <td>0.00</td>\n",
       "      <td>0.00</td>\n",
       "      <td>0.42</td>\n",
       "      <td>0.00</td>\n",
       "      <td>NaN</td>\n",
       "      <td>NaN</td>\n",
       "      <td>NaN</td>\n",
       "    </tr>\n",
       "    <tr>\n",
       "      <th>664</th>\n",
       "      <td>Dead Island</td>\n",
       "      <td>X360</td>\n",
       "      <td>2011.0</td>\n",
       "      <td>Action</td>\n",
       "      <td>1.48</td>\n",
       "      <td>0.69</td>\n",
       "      <td>0.00</td>\n",
       "      <td>0.20</td>\n",
       "      <td>71.0</td>\n",
       "      <td>6.9</td>\n",
       "      <td>M</td>\n",
       "    </tr>\n",
       "    <tr>\n",
       "      <th>9102</th>\n",
       "      <td>Scooby-Doo! Night of 100 Frights</td>\n",
       "      <td>XB</td>\n",
       "      <td>2003.0</td>\n",
       "      <td>Platform</td>\n",
       "      <td>0.11</td>\n",
       "      <td>0.03</td>\n",
       "      <td>0.00</td>\n",
       "      <td>0.01</td>\n",
       "      <td>NaN</td>\n",
       "      <td>NaN</td>\n",
       "      <td>NaN</td>\n",
       "    </tr>\n",
       "    <tr>\n",
       "      <th>3629</th>\n",
       "      <td>Jump Super Stars</td>\n",
       "      <td>DS</td>\n",
       "      <td>2005.0</td>\n",
       "      <td>Fighting</td>\n",
       "      <td>0.00</td>\n",
       "      <td>0.00</td>\n",
       "      <td>0.55</td>\n",
       "      <td>0.00</td>\n",
       "      <td>NaN</td>\n",
       "      <td>NaN</td>\n",
       "      <td>NaN</td>\n",
       "    </tr>\n",
       "    <tr>\n",
       "      <th>11799</th>\n",
       "      <td>Super Ghouls 'n Ghosts</td>\n",
       "      <td>GBA</td>\n",
       "      <td>2002.0</td>\n",
       "      <td>Platform</td>\n",
       "      <td>0.05</td>\n",
       "      <td>0.02</td>\n",
       "      <td>0.00</td>\n",
       "      <td>0.00</td>\n",
       "      <td>78.0</td>\n",
       "      <td>8.8</td>\n",
       "      <td>E</td>\n",
       "    </tr>\n",
       "    <tr>\n",
       "      <th>3057</th>\n",
       "      <td>Dragon Quest Monsters: Caravan Heart</td>\n",
       "      <td>GBA</td>\n",
       "      <td>2003.0</td>\n",
       "      <td>Role-Playing</td>\n",
       "      <td>0.00</td>\n",
       "      <td>0.00</td>\n",
       "      <td>0.64</td>\n",
       "      <td>0.02</td>\n",
       "      <td>NaN</td>\n",
       "      <td>NaN</td>\n",
       "      <td>NaN</td>\n",
       "    </tr>\n",
       "    <tr>\n",
       "      <th>15926</th>\n",
       "      <td>Dream C Club: GoGo</td>\n",
       "      <td>PS3</td>\n",
       "      <td>2014.0</td>\n",
       "      <td>Adventure</td>\n",
       "      <td>0.00</td>\n",
       "      <td>0.00</td>\n",
       "      <td>0.02</td>\n",
       "      <td>0.00</td>\n",
       "      <td>NaN</td>\n",
       "      <td>NaN</td>\n",
       "      <td>NaN</td>\n",
       "    </tr>\n",
       "    <tr>\n",
       "      <th>13259</th>\n",
       "      <td>Plants vs. Zombies: Garden Warfare 2</td>\n",
       "      <td>PC</td>\n",
       "      <td>2016.0</td>\n",
       "      <td>Shooter</td>\n",
       "      <td>0.00</td>\n",
       "      <td>0.04</td>\n",
       "      <td>0.00</td>\n",
       "      <td>0.00</td>\n",
       "      <td>82.0</td>\n",
       "      <td>7.5</td>\n",
       "      <td>E10+</td>\n",
       "    </tr>\n",
       "    <tr>\n",
       "      <th>7817</th>\n",
       "      <td>Inazuma Eleven Strikers 2012 Xtreme</td>\n",
       "      <td>Wii</td>\n",
       "      <td>2011.0</td>\n",
       "      <td>Role-Playing</td>\n",
       "      <td>0.00</td>\n",
       "      <td>0.00</td>\n",
       "      <td>0.19</td>\n",
       "      <td>0.00</td>\n",
       "      <td>NaN</td>\n",
       "      <td>NaN</td>\n",
       "      <td>NaN</td>\n",
       "    </tr>\n",
       "    <tr>\n",
       "      <th>7845</th>\n",
       "      <td>Kenka Banchou 4: Ichinen Sensou</td>\n",
       "      <td>PSP</td>\n",
       "      <td>2010.0</td>\n",
       "      <td>Action</td>\n",
       "      <td>0.00</td>\n",
       "      <td>0.00</td>\n",
       "      <td>0.19</td>\n",
       "      <td>0.00</td>\n",
       "      <td>NaN</td>\n",
       "      <td>NaN</td>\n",
       "      <td>NaN</td>\n",
       "    </tr>\n",
       "  </tbody>\n",
       "</table>\n",
       "</div>"
      ],
      "text/plain": [
       "                                       Name Platform  Year_of_Release  \\\n",
       "4561                      Super Wagyan Land     SNES           1991.0   \n",
       "664                             Dead Island     X360           2011.0   \n",
       "9102       Scooby-Doo! Night of 100 Frights       XB           2003.0   \n",
       "3629                       Jump Super Stars       DS           2005.0   \n",
       "11799                Super Ghouls 'n Ghosts      GBA           2002.0   \n",
       "3057   Dragon Quest Monsters: Caravan Heart      GBA           2003.0   \n",
       "15926                   Dream C Club: GoGo       PS3           2014.0   \n",
       "13259  Plants vs. Zombies: Garden Warfare 2       PC           2016.0   \n",
       "7817    Inazuma Eleven Strikers 2012 Xtreme      Wii           2011.0   \n",
       "7845        Kenka Banchou 4: Ichinen Sensou      PSP           2010.0   \n",
       "\n",
       "              Genre  NA_sales  EU_sales  JP_sales  Other_sales  Critic_Score  \\\n",
       "4561         Action      0.00      0.00      0.42         0.00           NaN   \n",
       "664          Action      1.48      0.69      0.00         0.20          71.0   \n",
       "9102       Platform      0.11      0.03      0.00         0.01           NaN   \n",
       "3629       Fighting      0.00      0.00      0.55         0.00           NaN   \n",
       "11799      Platform      0.05      0.02      0.00         0.00          78.0   \n",
       "3057   Role-Playing      0.00      0.00      0.64         0.02           NaN   \n",
       "15926     Adventure      0.00      0.00      0.02         0.00           NaN   \n",
       "13259       Shooter      0.00      0.04      0.00         0.00          82.0   \n",
       "7817   Role-Playing      0.00      0.00      0.19         0.00           NaN   \n",
       "7845         Action      0.00      0.00      0.19         0.00           NaN   \n",
       "\n",
       "      User_Score Rating  \n",
       "4561         NaN    NaN  \n",
       "664          6.9      M  \n",
       "9102         NaN    NaN  \n",
       "3629         NaN    NaN  \n",
       "11799        8.8      E  \n",
       "3057         NaN    NaN  \n",
       "15926        NaN    NaN  \n",
       "13259        7.5   E10+  \n",
       "7817         NaN    NaN  \n",
       "7845         NaN    NaN  "
      ]
     },
     "execution_count": 44,
     "metadata": {},
     "output_type": "execute_result"
    }
   ],
   "source": [
    "data.sample(10)"
   ]
  },
  {
   "cell_type": "code",
   "execution_count": 45,
   "metadata": {},
   "outputs": [
    {
     "name": "stdout",
     "output_type": "stream",
     "text": [
      "<class 'pandas.core.frame.DataFrame'>\n",
      "RangeIndex: 16715 entries, 0 to 16714\n",
      "Data columns (total 11 columns):\n",
      " #   Column           Non-Null Count  Dtype  \n",
      "---  ------           --------------  -----  \n",
      " 0   Name             16713 non-null  object \n",
      " 1   Platform         16715 non-null  object \n",
      " 2   Year_of_Release  16446 non-null  float64\n",
      " 3   Genre            16713 non-null  object \n",
      " 4   NA_sales         16715 non-null  float64\n",
      " 5   EU_sales         16715 non-null  float64\n",
      " 6   JP_sales         16715 non-null  float64\n",
      " 7   Other_sales      16715 non-null  float64\n",
      " 8   Critic_Score     8137 non-null   float64\n",
      " 9   User_Score       10014 non-null  object \n",
      " 10  Rating           9949 non-null   object \n",
      "dtypes: float64(6), object(5)\n",
      "memory usage: 1.4+ MB\n"
     ]
    }
   ],
   "source": [
    "data.info()"
   ]
  },
  {
   "cell_type": "code",
   "execution_count": 46,
   "metadata": {},
   "outputs": [
    {
     "data": {
      "text/html": [
       "<div>\n",
       "<style scoped>\n",
       "    .dataframe tbody tr th:only-of-type {\n",
       "        vertical-align: middle;\n",
       "    }\n",
       "\n",
       "    .dataframe tbody tr th {\n",
       "        vertical-align: top;\n",
       "    }\n",
       "\n",
       "    .dataframe thead th {\n",
       "        text-align: right;\n",
       "    }\n",
       "</style>\n",
       "<table border=\"1\" class=\"dataframe\">\n",
       "  <thead>\n",
       "    <tr style=\"text-align: right;\">\n",
       "      <th></th>\n",
       "      <th>Year_of_Release</th>\n",
       "      <th>NA_sales</th>\n",
       "      <th>EU_sales</th>\n",
       "      <th>JP_sales</th>\n",
       "      <th>Other_sales</th>\n",
       "      <th>Critic_Score</th>\n",
       "    </tr>\n",
       "  </thead>\n",
       "  <tbody>\n",
       "    <tr>\n",
       "      <th>count</th>\n",
       "      <td>16446.000000</td>\n",
       "      <td>16715.000000</td>\n",
       "      <td>16715.000000</td>\n",
       "      <td>16715.000000</td>\n",
       "      <td>16715.000000</td>\n",
       "      <td>8137.000000</td>\n",
       "    </tr>\n",
       "    <tr>\n",
       "      <th>mean</th>\n",
       "      <td>2006.484616</td>\n",
       "      <td>0.263377</td>\n",
       "      <td>0.145060</td>\n",
       "      <td>0.077617</td>\n",
       "      <td>0.047342</td>\n",
       "      <td>68.967679</td>\n",
       "    </tr>\n",
       "    <tr>\n",
       "      <th>std</th>\n",
       "      <td>5.877050</td>\n",
       "      <td>0.813604</td>\n",
       "      <td>0.503339</td>\n",
       "      <td>0.308853</td>\n",
       "      <td>0.186731</td>\n",
       "      <td>13.938165</td>\n",
       "    </tr>\n",
       "    <tr>\n",
       "      <th>min</th>\n",
       "      <td>1980.000000</td>\n",
       "      <td>0.000000</td>\n",
       "      <td>0.000000</td>\n",
       "      <td>0.000000</td>\n",
       "      <td>0.000000</td>\n",
       "      <td>13.000000</td>\n",
       "    </tr>\n",
       "    <tr>\n",
       "      <th>25%</th>\n",
       "      <td>2003.000000</td>\n",
       "      <td>0.000000</td>\n",
       "      <td>0.000000</td>\n",
       "      <td>0.000000</td>\n",
       "      <td>0.000000</td>\n",
       "      <td>60.000000</td>\n",
       "    </tr>\n",
       "    <tr>\n",
       "      <th>50%</th>\n",
       "      <td>2007.000000</td>\n",
       "      <td>0.080000</td>\n",
       "      <td>0.020000</td>\n",
       "      <td>0.000000</td>\n",
       "      <td>0.010000</td>\n",
       "      <td>71.000000</td>\n",
       "    </tr>\n",
       "    <tr>\n",
       "      <th>75%</th>\n",
       "      <td>2010.000000</td>\n",
       "      <td>0.240000</td>\n",
       "      <td>0.110000</td>\n",
       "      <td>0.040000</td>\n",
       "      <td>0.030000</td>\n",
       "      <td>79.000000</td>\n",
       "    </tr>\n",
       "    <tr>\n",
       "      <th>max</th>\n",
       "      <td>2016.000000</td>\n",
       "      <td>41.360000</td>\n",
       "      <td>28.960000</td>\n",
       "      <td>10.220000</td>\n",
       "      <td>10.570000</td>\n",
       "      <td>98.000000</td>\n",
       "    </tr>\n",
       "  </tbody>\n",
       "</table>\n",
       "</div>"
      ],
      "text/plain": [
       "       Year_of_Release      NA_sales      EU_sales      JP_sales  \\\n",
       "count     16446.000000  16715.000000  16715.000000  16715.000000   \n",
       "mean       2006.484616      0.263377      0.145060      0.077617   \n",
       "std           5.877050      0.813604      0.503339      0.308853   \n",
       "min        1980.000000      0.000000      0.000000      0.000000   \n",
       "25%        2003.000000      0.000000      0.000000      0.000000   \n",
       "50%        2007.000000      0.080000      0.020000      0.000000   \n",
       "75%        2010.000000      0.240000      0.110000      0.040000   \n",
       "max        2016.000000     41.360000     28.960000     10.220000   \n",
       "\n",
       "        Other_sales  Critic_Score  \n",
       "count  16715.000000   8137.000000  \n",
       "mean       0.047342     68.967679  \n",
       "std        0.186731     13.938165  \n",
       "min        0.000000     13.000000  \n",
       "25%        0.000000     60.000000  \n",
       "50%        0.010000     71.000000  \n",
       "75%        0.030000     79.000000  \n",
       "max       10.570000     98.000000  "
      ]
     },
     "execution_count": 46,
     "metadata": {},
     "output_type": "execute_result"
    }
   ],
   "source": [
    "data.describe()"
   ]
  },
  {
   "cell_type": "code",
   "execution_count": 47,
   "metadata": {},
   "outputs": [
    {
     "data": {
      "text/plain": [
       "PS2     2161\n",
       "DS      2151\n",
       "PS3     1331\n",
       "Wii     1320\n",
       "X360    1262\n",
       "PSP     1209\n",
       "PS      1197\n",
       "PC       974\n",
       "XB       824\n",
       "GBA      822\n",
       "GC       556\n",
       "3DS      520\n",
       "PSV      430\n",
       "PS4      392\n",
       "N64      319\n",
       "XOne     247\n",
       "SNES     239\n",
       "SAT      173\n",
       "WiiU     147\n",
       "2600     133\n",
       "NES       98\n",
       "GB        98\n",
       "DC        52\n",
       "GEN       29\n",
       "NG        12\n",
       "SCD        6\n",
       "WS         6\n",
       "3DO        3\n",
       "TG16       2\n",
       "GG         1\n",
       "PCFX       1\n",
       "Name: Platform, dtype: int64"
      ]
     },
     "execution_count": 47,
     "metadata": {},
     "output_type": "execute_result"
    }
   ],
   "source": [
    "data['Platform'].value_counts()"
   ]
  },
  {
   "cell_type": "code",
   "execution_count": 48,
   "metadata": {},
   "outputs": [
    {
     "data": {
      "text/plain": [
       "Action          3369\n",
       "Sports          2348\n",
       "Misc            1750\n",
       "Role-Playing    1498\n",
       "Shooter         1323\n",
       "Adventure       1303\n",
       "Racing          1249\n",
       "Platform         888\n",
       "Simulation       873\n",
       "Fighting         849\n",
       "Strategy         683\n",
       "Puzzle           580\n",
       "Name: Genre, dtype: int64"
      ]
     },
     "execution_count": 48,
     "metadata": {},
     "output_type": "execute_result"
    }
   ],
   "source": [
    "data['Genre'].value_counts()"
   ]
  },
  {
   "cell_type": "code",
   "execution_count": 49,
   "metadata": {},
   "outputs": [
    {
     "data": {
      "text/plain": [
       "E       3990\n",
       "T       2961\n",
       "M       1563\n",
       "E10+    1420\n",
       "EC         8\n",
       "K-A        3\n",
       "RP         3\n",
       "AO         1\n",
       "Name: Rating, dtype: int64"
      ]
     },
     "execution_count": 49,
     "metadata": {},
     "output_type": "execute_result"
    }
   ],
   "source": [
    "data['Rating'].value_counts()"
   ]
  },
  {
   "cell_type": "markdown",
   "metadata": {},
   "source": [
    "### Вывод"
   ]
  },
  {
   "cell_type": "markdown",
   "metadata": {},
   "source": [
    "В данном разделе мы ознакомились с предоставленными для исследования данными. Посмотрели уникальные значения столбцов и их количество. Как было установлено, таблица состоит из 16715 строк и 11 столбцов. В столбцах с оценками пользователей, критиков и возрастном рейтинге имеется значительная часть пропусков."
   ]
  },
  {
   "cell_type": "markdown",
   "metadata": {},
   "source": [
    "## Предобработка и добавление данных"
   ]
  },
  {
   "cell_type": "code",
   "execution_count": 50,
   "metadata": {},
   "outputs": [],
   "source": [
    "data.columns = data.columns.str.lower()"
   ]
  },
  {
   "cell_type": "markdown",
   "metadata": {},
   "source": [
    "Для удобства работы, приведем названия столбцов к нижнему регистру."
   ]
  },
  {
   "cell_type": "code",
   "execution_count": 51,
   "metadata": {},
   "outputs": [],
   "source": [
    "data.dropna(subset = ['name', 'year_of_release'], inplace=True)"
   ]
  },
  {
   "cell_type": "markdown",
   "metadata": {},
   "source": [
    "Удалим незначительную часть данных, в которых имеются пропуски в информации о названии игры и годе ее релиза."
   ]
  },
  {
   "cell_type": "code",
   "execution_count": 52,
   "metadata": {},
   "outputs": [],
   "source": [
    "data['user_score'] = pd.to_numeric(data['user_score'], errors='coerce')"
   ]
  },
  {
   "cell_type": "markdown",
   "metadata": {},
   "source": [
    "Информацию о неопределенной оценке пользователей заменим на пропуски."
   ]
  },
  {
   "cell_type": "code",
   "execution_count": 53,
   "metadata": {},
   "outputs": [],
   "source": [
    "data['year_of_release'] = data['year_of_release'].astype('int')"
   ]
  },
  {
   "cell_type": "markdown",
   "metadata": {},
   "source": [
    "Заменим тип данных в столбце с информацией о годе релиза."
   ]
  },
  {
   "cell_type": "code",
   "execution_count": 54,
   "metadata": {},
   "outputs": [],
   "source": [
    "data['total_sales'] = data['na_sales'] + data['eu_sales'] + data['jp_sales'] + data['other_sales']"
   ]
  },
  {
   "cell_type": "markdown",
   "metadata": {},
   "source": [
    "Посчитаем общие продажи и сохраним результаты в отдельном столбце."
   ]
  },
  {
   "cell_type": "code",
   "execution_count": 55,
   "metadata": {},
   "outputs": [
    {
     "name": "stdout",
     "output_type": "stream",
     "text": [
      "<class 'pandas.core.frame.DataFrame'>\n",
      "Int64Index: 16444 entries, 0 to 16714\n",
      "Data columns (total 12 columns):\n",
      " #   Column           Non-Null Count  Dtype  \n",
      "---  ------           --------------  -----  \n",
      " 0   name             16444 non-null  object \n",
      " 1   platform         16444 non-null  object \n",
      " 2   year_of_release  16444 non-null  int64  \n",
      " 3   genre            16444 non-null  object \n",
      " 4   na_sales         16444 non-null  float64\n",
      " 5   eu_sales         16444 non-null  float64\n",
      " 6   jp_sales         16444 non-null  float64\n",
      " 7   other_sales      16444 non-null  float64\n",
      " 8   critic_score     7983 non-null   float64\n",
      " 9   user_score       7463 non-null   float64\n",
      " 10  rating           9768 non-null   object \n",
      " 11  total_sales      16444 non-null  float64\n",
      "dtypes: float64(7), int64(1), object(4)\n",
      "memory usage: 1.6+ MB\n"
     ]
    }
   ],
   "source": [
    "data.info()"
   ]
  },
  {
   "cell_type": "markdown",
   "metadata": {},
   "source": [
    "### Вывод"
   ]
  },
  {
   "cell_type": "markdown",
   "metadata": {},
   "source": [
    "После обработки данных мы получаем таблицу, состоящую из 16444 строк и 12 столбцов. Имеющиеся пропуски было решено оставить, так  как информацию об оценках сложно предугадать, основываясь на имеющихся данных, а замена такого большого количества пропусков медианными или средними значениями значительно исказит имеющуюся информацию и негативно отразится на результатах исследования."
   ]
  },
  {
   "cell_type": "markdown",
   "metadata": {},
   "source": [
    "## Исследовательский анализ и визуализация данных"
   ]
  },
  {
   "cell_type": "markdown",
   "metadata": {},
   "source": [
    "### Объемы производства игр"
   ]
  },
  {
   "cell_type": "code",
   "execution_count": 56,
   "metadata": {},
   "outputs": [
    {
     "data": {
      "text/plain": [
       "year_of_release\n",
       "1980       9\n",
       "1981      46\n",
       "1982      36\n",
       "1983      17\n",
       "1984      14\n",
       "1985      14\n",
       "1986      21\n",
       "1987      16\n",
       "1988      15\n",
       "1989      17\n",
       "1990      16\n",
       "1991      41\n",
       "1992      43\n",
       "1993      60\n",
       "1994     121\n",
       "1995     219\n",
       "1996     263\n",
       "1997     289\n",
       "1998     379\n",
       "1999     338\n",
       "2000     350\n",
       "2001     482\n",
       "2002     829\n",
       "2003     775\n",
       "2004     762\n",
       "2005     939\n",
       "2006    1006\n",
       "2007    1197\n",
       "2008    1427\n",
       "2009    1426\n",
       "2010    1255\n",
       "2011    1136\n",
       "2012     653\n",
       "2013     544\n",
       "2014     581\n",
       "2015     606\n",
       "2016     502\n",
       "Name: name, dtype: int64"
      ]
     },
     "execution_count": 56,
     "metadata": {},
     "output_type": "execute_result"
    }
   ],
   "source": [
    "games_per_year = data.groupby('year_of_release')['name'].count()\n",
    "games_per_year"
   ]
  },
  {
   "cell_type": "markdown",
   "metadata": {},
   "source": [
    "Посчитаем количество выпущенных игр за каждый год."
   ]
  },
  {
   "cell_type": "code",
   "execution_count": 57,
   "metadata": {
    "scrolled": false
   },
   "outputs": [
    {
     "data": {
      "image/png": "[encoded data removed]",
      "text/plain": [
       "<Figure size 1080x1080 with 1 Axes>"
      ]
     },
     "metadata": {
      "needs_background": "light"
     },
     "output_type": "display_data"
    }
   ],
   "source": [
    "games_per_year.plot.bar(figsize = (15, 15), grid=True, title='Количество выпущенных игр')\n",
    "plt.xlabel('Год выпуска')\n",
    "plt.ylabel('Количество игр');"
   ]
  },
  {
   "cell_type": "markdown",
   "metadata": {},
   "source": [
    "Для наглядности отобразим полученные данные на столбчатой диаграмме. По графику сожно сдлеать следующие выводы:\n",
    "\n",
    "1. В 2002 году, по всей видимости, происходит революция в игростроении, так как объем выпускаемых игр увеличивается почти вдвое и имеет стабильный рост до 2008 года. \n",
    "\n",
    "2. Года с 2006-го по 2011-й являются рекордсменами - выпускается более 1000 игр за год. \n",
    "\n",
    "3. С 2009 года, количество выпускаемых игр идет на спад и к 2016 году возвращается к уровню 2001 года - приблизительно 500 игр за год.\n",
    "\n",
    "Проанализировав график, можно сказать, что для результатов исследования будут необходимы данные за все годы, так как даже в те времена, когда выпускалось ничтожное количество игр в год, могли выходить настоящие хиты, имевшие отличные объемы продаж."
   ]
  },
  {
   "cell_type": "markdown",
   "metadata": {},
   "source": [
    "### Объемы продаж игр на популярных платформах"
   ]
  },
  {
   "cell_type": "code",
   "execution_count": 58,
   "metadata": {
    "scrolled": true
   },
   "outputs": [
    {
     "data": {
      "text/html": [
       "<div>\n",
       "<style scoped>\n",
       "    .dataframe tbody tr th:only-of-type {\n",
       "        vertical-align: middle;\n",
       "    }\n",
       "\n",
       "    .dataframe tbody tr th {\n",
       "        vertical-align: top;\n",
       "    }\n",
       "\n",
       "    .dataframe thead th {\n",
       "        text-align: right;\n",
       "    }\n",
       "</style>\n",
       "<table border=\"1\" class=\"dataframe\">\n",
       "  <thead>\n",
       "    <tr style=\"text-align: right;\">\n",
       "      <th></th>\n",
       "      <th>total_sales</th>\n",
       "    </tr>\n",
       "    <tr>\n",
       "      <th>platform</th>\n",
       "      <th></th>\n",
       "    </tr>\n",
       "  </thead>\n",
       "  <tbody>\n",
       "    <tr>\n",
       "      <th>PS2</th>\n",
       "      <td>1233.56</td>\n",
       "    </tr>\n",
       "    <tr>\n",
       "      <th>X360</th>\n",
       "      <td>961.24</td>\n",
       "    </tr>\n",
       "    <tr>\n",
       "      <th>PS3</th>\n",
       "      <td>931.34</td>\n",
       "    </tr>\n",
       "    <tr>\n",
       "      <th>Wii</th>\n",
       "      <td>891.18</td>\n",
       "    </tr>\n",
       "    <tr>\n",
       "      <th>DS</th>\n",
       "      <td>802.78</td>\n",
       "    </tr>\n",
       "  </tbody>\n",
       "</table>\n",
       "</div>"
      ],
      "text/plain": [
       "          total_sales\n",
       "platform             \n",
       "PS2           1233.56\n",
       "X360           961.24\n",
       "PS3            931.34\n",
       "Wii            891.18\n",
       "DS             802.78"
      ]
     },
     "execution_count": 58,
     "metadata": {},
     "output_type": "execute_result"
    }
   ],
   "source": [
    "top_5_platform = data.pivot_table(\n",
    "    index= 'platform', values= 'total_sales', aggfunc= 'sum').sort_values(\n",
    "    by='total_sales', ascending=False).head(5)\n",
    "top_5_platform"
   ]
  },
  {
   "cell_type": "markdown",
   "metadata": {},
   "source": [
    "Вычислим 5 самых популярных платформ, суммировав объемы продаж игр для них."
   ]
  },
  {
   "cell_type": "code",
   "execution_count": 59,
   "metadata": {},
   "outputs": [
    {
     "name": "stdout",
     "output_type": "stream",
     "text": [
      "Характеристики продаж игр для топ-5 платформ\n",
      "--------------------------------------------\n",
      "platform          DS         PS2         PS3         Wii        X360\n",
      "count      11.000000   12.000000   11.000000   11.000000   12.000000\n",
      "mean       72.980000  102.796667   84.667273   81.016364   80.103333\n",
      "std        61.673155   79.405729   54.637565   79.136330   57.484408\n",
      "min         0.020000    0.450000    3.600000    0.180000    1.520000\n",
      "25%        14.140000   35.977500   34.360000    6.170000   29.045000\n",
      "50%        85.020000   89.705000  107.360000   59.650000   91.995000\n",
      "75%       124.975000  170.900000  124.725000  144.960000  124.032500\n",
      "max       146.940000  211.810000  156.780000  206.970000  170.030000\n"
     ]
    },
    {
     "data": {
      "image/png": "[encoded data removed]",
      "text/plain": [
       "<Figure size 1008x432 with 1 Axes>"
      ]
     },
     "metadata": {
      "needs_background": "light"
     },
     "output_type": "display_data"
    }
   ],
   "source": [
    "print('Характеристики продаж игр для топ-5 платформ')\n",
    "print('--------------------------------------------')\n",
    "sales_on_top5 = data.query('platform in @top_5_platform.index.values').pivot_table(\n",
    "    index= 'year_of_release', columns= 'platform', values= 'total_sales', aggfunc= 'sum')\n",
    "\n",
    "print(sales_on_top5.describe())\n",
    "\n",
    "sales_on_top5.plot(\n",
    "    figsize=(14, 6), grid=True, title='Объемы продаж игр на 5 популярных платформах')\n",
    "plt.xlabel('Год')\n",
    "plt.ylabel('Количество проданных копий'); "
   ]
  },
  {
   "cell_type": "markdown",
   "metadata": {},
   "source": [
    "Как можно увидеть из полученного графика даже на платформах с наибольшими суммарными продажами их объемы начинают падать в среднем через пять лет. Можно предположить, что средний срок существования платформы и выпуска игр для нее - 5 лет."
   ]
  },
  {
   "cell_type": "code",
   "execution_count": 60,
   "metadata": {},
   "outputs": [
    {
     "name": "stdout",
     "output_type": "stream",
     "text": [
      "\n",
      "Медианное значение срока жизни платформы (при минимальном уровне продаж: 16.055 млн.) составляет - 5 лет.\n"
     ]
    }
   ],
   "source": [
    "report_1 = data.groupby(['platform', 'year_of_release']).agg({'total_sales': 'sum'}).reset_index()\n",
    "median_total_sales = report_1['total_sales'].median()\n",
    "report_1 = report_1.query('total_sales > @median_total_sales')\n",
    "report_1 = report_1.groupby(['platform']).agg({'year_of_release': 'nunique'})\n",
    "lifetime = int(report_1.median())\n",
    "print()\n",
    "print('Медианное значение срока жизни платформы (при минимальном уровне продаж: {} млн.) составляет - {} лет.'.format(\n",
    "    median_total_sales, lifetime))"
   ]
  },
  {
   "cell_type": "markdown",
   "metadata": {},
   "source": [
    "Для того, чтобы подтвердить гипотезу о среднем сроке существования платформы - 5 лет, сперва сгруппируем данные по годам и платформам и суммируем общее количество продаж игр на каждую платформу. Вычислим медианное значение объемов продаж игр на каждую платформу, установим его нижним порогом при фильтрации и избавимся от меньших значений(можно предположить, что успешным по продажам был год, когда продавалось игр больше медианного значения). У полученной таблицы посчитаем количество оставшихся лет на каждую платформу и вычислим для него медианное значение."
   ]
  },
  {
   "cell_type": "markdown",
   "metadata": {},
   "source": [
    "### Исследовательский анализ данных за актуальный период времени"
   ]
  },
  {
   "cell_type": "code",
   "execution_count": 61,
   "metadata": {},
   "outputs": [],
   "source": [
    "actual_data = data.query('year_of_release >= 2013')"
   ]
  },
  {
   "cell_type": "markdown",
   "metadata": {},
   "source": [
    "Установим актуальный период для исследования с 2013 по 2016 годы. Сделаем срез и сохраним фрейм в новой переменной actual_data."
   ]
  },
  {
   "cell_type": "code",
   "execution_count": 62,
   "metadata": {},
   "outputs": [
    {
     "name": "stdout",
     "output_type": "stream",
     "text": [
      "<class 'pandas.core.frame.DataFrame'>\n",
      "Int64Index: 2233 entries, 16 to 16714\n",
      "Data columns (total 12 columns):\n",
      " #   Column           Non-Null Count  Dtype  \n",
      "---  ------           --------------  -----  \n",
      " 0   name             2233 non-null   object \n",
      " 1   platform         2233 non-null   object \n",
      " 2   year_of_release  2233 non-null   int64  \n",
      " 3   genre            2233 non-null   object \n",
      " 4   na_sales         2233 non-null   float64\n",
      " 5   eu_sales         2233 non-null   float64\n",
      " 6   jp_sales         2233 non-null   float64\n",
      " 7   other_sales      2233 non-null   float64\n",
      " 8   critic_score     991 non-null    float64\n",
      " 9   user_score       1192 non-null   float64\n",
      " 10  rating           1256 non-null   object \n",
      " 11  total_sales      2233 non-null   float64\n",
      "dtypes: float64(7), int64(1), object(4)\n",
      "memory usage: 226.8+ KB\n"
     ]
    },
    {
     "data": {
      "text/html": [
       "<div>\n",
       "<style scoped>\n",
       "    .dataframe tbody tr th:only-of-type {\n",
       "        vertical-align: middle;\n",
       "    }\n",
       "\n",
       "    .dataframe tbody tr th {\n",
       "        vertical-align: top;\n",
       "    }\n",
       "\n",
       "    .dataframe thead th {\n",
       "        text-align: right;\n",
       "    }\n",
       "</style>\n",
       "<table border=\"1\" class=\"dataframe\">\n",
       "  <thead>\n",
       "    <tr style=\"text-align: right;\">\n",
       "      <th></th>\n",
       "      <th>year_of_release</th>\n",
       "      <th>na_sales</th>\n",
       "      <th>eu_sales</th>\n",
       "      <th>jp_sales</th>\n",
       "      <th>other_sales</th>\n",
       "      <th>critic_score</th>\n",
       "      <th>user_score</th>\n",
       "      <th>total_sales</th>\n",
       "    </tr>\n",
       "  </thead>\n",
       "  <tbody>\n",
       "    <tr>\n",
       "      <th>count</th>\n",
       "      <td>2233.000000</td>\n",
       "      <td>2233.000000</td>\n",
       "      <td>2233.000000</td>\n",
       "      <td>2233.000000</td>\n",
       "      <td>2233.000000</td>\n",
       "      <td>991.000000</td>\n",
       "      <td>1192.000000</td>\n",
       "      <td>2233.000000</td>\n",
       "    </tr>\n",
       "    <tr>\n",
       "      <th>mean</th>\n",
       "      <td>2014.477385</td>\n",
       "      <td>0.196019</td>\n",
       "      <td>0.175652</td>\n",
       "      <td>0.063045</td>\n",
       "      <td>0.053726</td>\n",
       "      <td>72.023209</td>\n",
       "      <td>6.584564</td>\n",
       "      <td>0.488442</td>\n",
       "    </tr>\n",
       "    <tr>\n",
       "      <th>std</th>\n",
       "      <td>1.089439</td>\n",
       "      <td>0.547730</td>\n",
       "      <td>0.512451</td>\n",
       "      <td>0.233997</td>\n",
       "      <td>0.165693</td>\n",
       "      <td>12.841318</td>\n",
       "      <td>1.610413</td>\n",
       "      <td>1.235226</td>\n",
       "    </tr>\n",
       "    <tr>\n",
       "      <th>min</th>\n",
       "      <td>2013.000000</td>\n",
       "      <td>0.000000</td>\n",
       "      <td>0.000000</td>\n",
       "      <td>0.000000</td>\n",
       "      <td>0.000000</td>\n",
       "      <td>13.000000</td>\n",
       "      <td>0.200000</td>\n",
       "      <td>0.010000</td>\n",
       "    </tr>\n",
       "    <tr>\n",
       "      <th>25%</th>\n",
       "      <td>2014.000000</td>\n",
       "      <td>0.000000</td>\n",
       "      <td>0.000000</td>\n",
       "      <td>0.000000</td>\n",
       "      <td>0.000000</td>\n",
       "      <td>66.000000</td>\n",
       "      <td>5.800000</td>\n",
       "      <td>0.030000</td>\n",
       "    </tr>\n",
       "    <tr>\n",
       "      <th>50%</th>\n",
       "      <td>2014.000000</td>\n",
       "      <td>0.020000</td>\n",
       "      <td>0.030000</td>\n",
       "      <td>0.010000</td>\n",
       "      <td>0.010000</td>\n",
       "      <td>74.000000</td>\n",
       "      <td>7.000000</td>\n",
       "      <td>0.110000</td>\n",
       "    </tr>\n",
       "    <tr>\n",
       "      <th>75%</th>\n",
       "      <td>2015.000000</td>\n",
       "      <td>0.150000</td>\n",
       "      <td>0.130000</td>\n",
       "      <td>0.050000</td>\n",
       "      <td>0.040000</td>\n",
       "      <td>81.000000</td>\n",
       "      <td>7.800000</td>\n",
       "      <td>0.400000</td>\n",
       "    </tr>\n",
       "    <tr>\n",
       "      <th>max</th>\n",
       "      <td>2016.000000</td>\n",
       "      <td>9.660000</td>\n",
       "      <td>9.090000</td>\n",
       "      <td>4.350000</td>\n",
       "      <td>3.960000</td>\n",
       "      <td>97.000000</td>\n",
       "      <td>9.300000</td>\n",
       "      <td>21.050000</td>\n",
       "    </tr>\n",
       "  </tbody>\n",
       "</table>\n",
       "</div>"
      ],
      "text/plain": [
       "       year_of_release     na_sales     eu_sales     jp_sales  other_sales  \\\n",
       "count      2233.000000  2233.000000  2233.000000  2233.000000  2233.000000   \n",
       "mean       2014.477385     0.196019     0.175652     0.063045     0.053726   \n",
       "std           1.089439     0.547730     0.512451     0.233997     0.165693   \n",
       "min        2013.000000     0.000000     0.000000     0.000000     0.000000   \n",
       "25%        2014.000000     0.000000     0.000000     0.000000     0.000000   \n",
       "50%        2014.000000     0.020000     0.030000     0.010000     0.010000   \n",
       "75%        2015.000000     0.150000     0.130000     0.050000     0.040000   \n",
       "max        2016.000000     9.660000     9.090000     4.350000     3.960000   \n",
       "\n",
       "       critic_score   user_score  total_sales  \n",
       "count    991.000000  1192.000000  2233.000000  \n",
       "mean      72.023209     6.584564     0.488442  \n",
       "std       12.841318     1.610413     1.235226  \n",
       "min       13.000000     0.200000     0.010000  \n",
       "25%       66.000000     5.800000     0.030000  \n",
       "50%       74.000000     7.000000     0.110000  \n",
       "75%       81.000000     7.800000     0.400000  \n",
       "max       97.000000     9.300000    21.050000  "
      ]
     },
     "execution_count": 62,
     "metadata": {},
     "output_type": "execute_result"
    }
   ],
   "source": [
    "actual_data.info()\n",
    "actual_data.describe()"
   ]
  },
  {
   "cell_type": "markdown",
   "metadata": {},
   "source": [
    "Ознакомимся с полученным actual_data."
   ]
  },
  {
   "cell_type": "markdown",
   "metadata": {},
   "source": [
    "#### Исследование актуальных игровых платформ"
   ]
  },
  {
   "cell_type": "code",
   "execution_count": 63,
   "metadata": {},
   "outputs": [
    {
     "data": {
      "text/html": [
       "<div>\n",
       "<style scoped>\n",
       "    .dataframe tbody tr th:only-of-type {\n",
       "        vertical-align: middle;\n",
       "    }\n",
       "\n",
       "    .dataframe tbody tr th {\n",
       "        vertical-align: top;\n",
       "    }\n",
       "\n",
       "    .dataframe thead th {\n",
       "        text-align: right;\n",
       "    }\n",
       "</style>\n",
       "<table border=\"1\" class=\"dataframe\">\n",
       "  <thead>\n",
       "    <tr style=\"text-align: right;\">\n",
       "      <th></th>\n",
       "      <th>count</th>\n",
       "      <th>sum</th>\n",
       "      <th>mean</th>\n",
       "    </tr>\n",
       "    <tr>\n",
       "      <th>platform</th>\n",
       "      <th></th>\n",
       "      <th></th>\n",
       "      <th></th>\n",
       "    </tr>\n",
       "  </thead>\n",
       "  <tbody>\n",
       "    <tr>\n",
       "      <th>PS4</th>\n",
       "      <td>392</td>\n",
       "      <td>314.14</td>\n",
       "      <td>0.801378</td>\n",
       "    </tr>\n",
       "    <tr>\n",
       "      <th>PSV</th>\n",
       "      <td>358</td>\n",
       "      <td>32.99</td>\n",
       "      <td>0.092151</td>\n",
       "    </tr>\n",
       "    <tr>\n",
       "      <th>PS3</th>\n",
       "      <td>345</td>\n",
       "      <td>181.43</td>\n",
       "      <td>0.525884</td>\n",
       "    </tr>\n",
       "    <tr>\n",
       "      <th>3DS</th>\n",
       "      <td>303</td>\n",
       "      <td>143.25</td>\n",
       "      <td>0.472772</td>\n",
       "    </tr>\n",
       "    <tr>\n",
       "      <th>XOne</th>\n",
       "      <td>247</td>\n",
       "      <td>159.32</td>\n",
       "      <td>0.645020</td>\n",
       "    </tr>\n",
       "    <tr>\n",
       "      <th>PC</th>\n",
       "      <td>189</td>\n",
       "      <td>39.43</td>\n",
       "      <td>0.208624</td>\n",
       "    </tr>\n",
       "    <tr>\n",
       "      <th>X360</th>\n",
       "      <td>186</td>\n",
       "      <td>136.80</td>\n",
       "      <td>0.735484</td>\n",
       "    </tr>\n",
       "    <tr>\n",
       "      <th>WiiU</th>\n",
       "      <td>115</td>\n",
       "      <td>64.63</td>\n",
       "      <td>0.562000</td>\n",
       "    </tr>\n",
       "    <tr>\n",
       "      <th>PSP</th>\n",
       "      <td>67</td>\n",
       "      <td>3.50</td>\n",
       "      <td>0.052239</td>\n",
       "    </tr>\n",
       "    <tr>\n",
       "      <th>Wii</th>\n",
       "      <td>23</td>\n",
       "      <td>13.66</td>\n",
       "      <td>0.593913</td>\n",
       "    </tr>\n",
       "    <tr>\n",
       "      <th>DS</th>\n",
       "      <td>8</td>\n",
       "      <td>1.54</td>\n",
       "      <td>0.192500</td>\n",
       "    </tr>\n",
       "  </tbody>\n",
       "</table>\n",
       "</div>"
      ],
      "text/plain": [
       "          count     sum      mean\n",
       "platform                         \n",
       "PS4         392  314.14  0.801378\n",
       "PSV         358   32.99  0.092151\n",
       "PS3         345  181.43  0.525884\n",
       "3DS         303  143.25  0.472772\n",
       "XOne        247  159.32  0.645020\n",
       "PC          189   39.43  0.208624\n",
       "X360        186  136.80  0.735484\n",
       "WiiU        115   64.63  0.562000\n",
       "PSP          67    3.50  0.052239\n",
       "Wii          23   13.66  0.593913\n",
       "DS            8    1.54  0.192500"
      ]
     },
     "execution_count": 63,
     "metadata": {},
     "output_type": "execute_result"
    }
   ],
   "source": [
    "actual_platform = actual_data.pivot_table(\n",
    "    index= 'platform', values= 'total_sales', aggfunc=['count', 'sum', 'mean'])\n",
    "actual_platform.columns = ['count', 'sum', 'mean']\n",
    "actual_platform = actual_platform.sort_values(\n",
    "    by='count', ascending=False)\n",
    "actual_platform"
   ]
  },
  {
   "cell_type": "markdown",
   "metadata": {},
   "source": [
    "Получим информацию о платформах, игры на которые выпускались в актуальном периоде времени. Также нам будет доступна информация о количестве игр, объемах проданных копий и среднем количестве копий, приходящемся на одну выпущенную игру для данных платформ."
   ]
  },
  {
   "cell_type": "code",
   "execution_count": 64,
   "metadata": {},
   "outputs": [
    {
     "name": "stdout",
     "output_type": "stream",
     "text": [
      "Характеристики продаж игр для актуальных платформ\n",
      "-------------------------------------------------\n",
      "platform        3DS    DS         PC         PS3         PS4       PSP  \\\n",
      "count      4.000000  1.00   4.000000    4.000000    4.000000  3.000000   \n",
      "mean      35.812500  1.54   9.857500   45.357500   78.535000  1.166667   \n",
      "std       18.128338   NaN   3.701102   48.898675   40.567917  1.710010   \n",
      "min       15.140000  1.54   5.250000    3.600000   25.990000  0.120000   \n",
      "25%       24.620000  1.54   7.702500   13.515000   58.435000  0.180000   \n",
      "50%       35.770000  1.54  10.450000   32.290000   84.625000  0.240000   \n",
      "75%       46.962500  1.54  12.605000   64.132500  104.725000  1.690000   \n",
      "max       56.570000  1.54  13.280000  113.250000  118.900000  3.140000   \n",
      "\n",
      "platform        PSV       Wii       WiiU       X360       XOne  \n",
      "count      4.000000  4.000000   4.000000   4.000000   4.000000  \n",
      "mean       8.247500  3.415000  16.157500  34.200000  39.830000  \n",
      "std        3.596205  3.765355   8.129507  38.816131  20.313977  \n",
      "min        4.250000  0.180000   4.600000   1.520000  18.960000  \n",
      "25%        5.750000  0.900000  13.412500   9.350000  24.352500  \n",
      "50%        8.420000  2.445000  19.000000  23.350000  40.110000  \n",
      "75%       10.917500  4.960000  21.745000  48.200000  55.587500  \n",
      "max       11.900000  8.590000  22.030000  88.580000  60.140000  \n"
     ]
    },
    {
     "data": {
      "image/png": "[encoded data removed]",
      "text/plain": [
       "<Figure size 1152x720 with 1 Axes>"
      ]
     },
     "metadata": {
      "needs_background": "light"
     },
     "output_type": "display_data"
    }
   ],
   "source": [
    "print('Характеристики продаж игр для актуальных платформ')\n",
    "print('-------------------------------------------------')\n",
    "sales_on_actual_platform = actual_data.pivot_table(\n",
    "    index= 'year_of_release', columns= 'platform', values= 'total_sales', aggfunc= 'sum')\n",
    "\n",
    "print(sales_on_actual_platform.describe())\n",
    "\n",
    "sales_on_actual_platform.plot(\n",
    "    figsize=(16, 10), grid=True, title='Объемы продаж игр на актуальных платформах')\n",
    "plt.xlabel('Год')\n",
    "plt.ylabel('Количество проданных копий'); "
   ]
  },
  {
   "cell_type": "markdown",
   "metadata": {},
   "source": [
    "Среди платформ в рассматриваемом периоде можно выделить пять лидеров по продажам - PS4, PS3, XOne, 3DS, X360. Однако, при этом, на графике можно заметить, что продажи игр на всех рассматриваемых платформах имеют тенденцию к снижению. Возможно только продажи игр на PS4 окажутся рентабельными, но придерживаясь общей тенденции, также будут стремительно снижаться. Относительно стабильными могут показаться продажи игр на PC и PCV, однако их показатели очень низки и сохраняются на уровне 10-8 млн. проданных копий в рассматриваемом периоде."
   ]
  },
  {
   "cell_type": "code",
   "execution_count": 65,
   "metadata": {
    "scrolled": false
   },
   "outputs": [
    {
     "name": "stdout",
     "output_type": "stream",
     "text": [
      "Характеристи продаж игр с разбивкой на платформы\n",
      "-------------------------------------------------\n",
      "          count      mean       std   min     25%    50%     75%    max\n",
      "platform                                                               \n",
      "3DS       303.0  0.472772  1.381347  0.01  0.0400  0.090  0.2800  14.60\n",
      "DS          8.0  0.192500  0.172026  0.03  0.0675  0.150  0.2525   0.51\n",
      "PC        189.0  0.208624  0.352304  0.01  0.0300  0.080  0.2300   3.05\n",
      "PS3       345.0  0.525884  1.451939  0.01  0.0400  0.150  0.5100  21.05\n",
      "PS4       392.0  0.801378  1.609456  0.01  0.0600  0.200  0.7300  14.63\n",
      "PSP        67.0  0.052239  0.059768  0.01  0.0150  0.020  0.0700   0.24\n",
      "PSV       358.0  0.092151  0.153816  0.01  0.0200  0.040  0.1100   1.96\n",
      "Wii        23.0  0.593913  0.915432  0.01  0.0450  0.180  0.7550   3.58\n",
      "WiiU      115.0  0.562000  1.038778  0.01  0.0600  0.200  0.5950   7.09\n",
      "X360      186.0  0.735484  1.663275  0.01  0.0800  0.265  0.7950  16.27\n",
      "XOne      247.0  0.645020  1.036139  0.01  0.0600  0.220  0.6850   7.39\n"
     ]
    },
    {
     "data": {
      "image/png": "[encoded data removed]",
      "text/plain": [
       "<Figure size 1152x720 with 1 Axes>"
      ]
     },
     "metadata": {
      "needs_background": "light"
     },
     "output_type": "display_data"
    }
   ],
   "source": [
    "print('Характеристи продаж игр с разбивкой на платформы')\n",
    "print('-------------------------------------------------')\n",
    "print(actual_data.pivot_table(index='name', columns='platform', values='total_sales').describe().T)\n",
    "\n",
    "actual_data.boxplot('total_sales', by='platform', figsize=(16, 10))\n",
    "plt.title('Глобальные продажи игр на актуальных платформах')\n",
    "plt.xlabel('Платформа')\n",
    "plt.ylabel('Количество проданных копий')\n",
    "plt.ylim(0,6);"
   ]
  },
  {
   "cell_type": "markdown",
   "metadata": {},
   "source": [
    "Из полученного графика можно сделать следующие выводы:\n",
    "1. 75% игр на представленные платформы не достигают отметки в 0.8 млн проданных копий.\n",
    "2. Самые высокие медианные значения объемов продаж имют платформы X360, XOne, PS4 и WiiU, что может говорить о стабильности продаж игр для этих платформ.\n",
    "3. Суммарные объемы продаж в основном зависят от количества выпущенных игр на платформу."
   ]
  },
  {
   "cell_type": "code",
   "execution_count": 66,
   "metadata": {},
   "outputs": [
    {
     "data": {
      "text/plain": [
       "0.7443167975591413"
      ]
     },
     "execution_count": 66,
     "metadata": {},
     "output_type": "execute_result"
    }
   ],
   "source": [
    "actual_platform['count'].corr(actual_platform['sum'])"
   ]
  },
  {
   "cell_type": "markdown",
   "metadata": {},
   "source": [
    "В подтверждение взаимосвязи между количеством выпущенных игр и объемами их продаж вычисляем уровень корреляции - 0.74."
   ]
  },
  {
   "cell_type": "markdown",
   "metadata": {},
   "source": [
    "#### Исследование влияния отзывов пользователей и критиков на продажи"
   ]
  },
  {
   "cell_type": "code",
   "execution_count": 67,
   "metadata": {},
   "outputs": [
    {
     "name": "stdout",
     "output_type": "stream",
     "text": [
      "Корреляция рассматриваемых параметров: -0.03\n"
     ]
    },
    {
     "data": {
      "image/png": "[encoded data removed]",
      "text/plain": [
       "<Figure size 1152x720 with 1 Axes>"
      ]
     },
     "metadata": {
      "needs_background": "light"
     },
     "output_type": "display_data"
    }
   ],
   "source": [
    "actual_data.query('platform == \"PS4\"').plot(\n",
    "    x='user_score', y='total_sales', kind='scatter', grid=True, figsize=(16,10), \n",
    "    title='Соотношение объемов продаж и пользовательского рейтинга игр для PS4')\n",
    "plt.xlabel('Пользовательский рейтинг')\n",
    "plt.ylabel('Объемы продаж')\n",
    "corr_sales_to_user_score = actual_data.query(\n",
    "    'platform == \"PS4\"')['user_score'].corr(\n",
    "    actual_data.query('platform == \"PS4\"')['total_sales'])\n",
    "print('Корреляция рассматриваемых параметров: {:.2f}'.format(corr_sales_to_user_score));"
   ]
  },
  {
   "cell_type": "markdown",
   "metadata": {},
   "source": [
    "Корреляция в - 0.03 и диаграмма рассеяния сообщают нам, что объемы продаж игр на PS4 совершенно не зависят от пользовательского рейтинга."
   ]
  },
  {
   "cell_type": "code",
   "execution_count": 68,
   "metadata": {},
   "outputs": [
    {
     "name": "stdout",
     "output_type": "stream",
     "text": [
      "Корреляция рассматриваемых параметров: 0.41\n"
     ]
    },
    {
     "data": {
      "image/png": "[encoded data removed]",
      "text/plain": [
       "<Figure size 1152x720 with 1 Axes>"
      ]
     },
     "metadata": {
      "needs_background": "light"
     },
     "output_type": "display_data"
    }
   ],
   "source": [
    "actual_data.query('platform == \"PS4\"').plot(\n",
    "    x='critic_score', y='total_sales', kind='scatter', grid=True, figsize=(16,10), \n",
    "    title='Соотношение объемов продаж и оценок критиков игр для PS4')\n",
    "plt.xlabel('Оценки критиков')\n",
    "plt.ylabel('Объемы продаж')\n",
    "corr_sales_to_critic_score = actual_data.query(\n",
    "    'platform == \"PS4\"')['critic_score'].corr(\n",
    "    actual_data.query('platform == \"PS4\"')['total_sales'])\n",
    "print('Корреляция рассматриваемых параметров: {:.2f}'.format(corr_sales_to_critic_score));"
   ]
  },
  {
   "cell_type": "markdown",
   "metadata": {},
   "source": [
    "В отличие от пользовательского рейтинга, на данной диаграмме можно заметить, что самые продаваемые игры, как правило, имеют хорошие оценки критиков. Несмотря на это, большое количество игр с хорошим рейтингом и невысокими объемами продаж, а также корреляция в 0.41 говорят нам о слабой взаимосвязи рассматриваемых параметров. "
   ]
  },
  {
   "cell_type": "code",
   "execution_count": 69,
   "metadata": {},
   "outputs": [
    {
     "name": "stdout",
     "output_type": "stream",
     "text": [
      "Корреляция рассматриваемых параметров: -0.00\n"
     ]
    },
    {
     "data": {
      "image/png": "[encoded data removed]",
      "text/plain": [
       "<Figure size 1152x720 with 1 Axes>"
      ]
     },
     "metadata": {
      "needs_background": "light"
     },
     "output_type": "display_data"
    }
   ],
   "source": [
    "actual_data.query('platform != \"PS4\"').plot(\n",
    "    x='user_score', y='total_sales', kind='scatter', grid=True, figsize=(16,10), \n",
    "    title='Соотношение объемов продаж и пользовательского рейтинга игр для актуальных платформ')\n",
    "plt.xlabel('Пользовательский рейтинг')\n",
    "plt.ylabel('Объемы продаж')\n",
    "corr_sales_to_user_score_all = actual_data.query(\n",
    "    'platform != \"PS4\"')['user_score'].corr(\n",
    "    actual_data.query('platform != \"PS4\"')['total_sales'])\n",
    "print('Корреляция рассматриваемых параметров: {:.2f}'.format(corr_sales_to_user_score_all));"
   ]
  },
  {
   "cell_type": "code",
   "execution_count": 70,
   "metadata": {},
   "outputs": [
    {
     "name": "stdout",
     "output_type": "stream",
     "text": [
      "Корреляция рассматриваемых параметров: 0.28\n"
     ]
    },
    {
     "data": {
      "image/png": "[encoded data removed]",
      "text/plain": [
       "<Figure size 1152x720 with 1 Axes>"
      ]
     },
     "metadata": {
      "needs_background": "light"
     },
     "output_type": "display_data"
    }
   ],
   "source": [
    "actual_data.query('platform != \"PS4\"').plot(\n",
    "    x='critic_score', y='total_sales', kind='scatter', grid=True, figsize=(16,10), \n",
    "    title='Соотношение объемов продаж и оценок критиков игр для PS4')\n",
    "plt.xlabel('Оценки критиков')\n",
    "plt.ylabel('Объемы продаж')\n",
    "corr_sales_to_critic_score_all = actual_data.query(\n",
    "    'platform != \"PS4\"')['critic_score'].corr(\n",
    "    actual_data.query('platform != \"PS4\"')['total_sales'])\n",
    "print('Корреляция рассматриваемых параметров: {:.2f}'.format(corr_sales_to_critic_score_all));"
   ]
  },
  {
   "cell_type": "markdown",
   "metadata": {},
   "source": [
    "Зависимость объемов продаж и оценок критиков/пользователей для популярной PS4 и других платформ практически одинакова, о чем сообщают низкие показатели корреляции и разбросанные по всей диаграмме рассеяния показатели рассматриваемых параметров."
   ]
  },
  {
   "cell_type": "markdown",
   "metadata": {},
   "source": [
    "#### Исследование игр с распределением по жанрам"
   ]
  },
  {
   "cell_type": "code",
   "execution_count": 71,
   "metadata": {},
   "outputs": [
    {
     "data": {
      "text/html": [
       "<div>\n",
       "<style scoped>\n",
       "    .dataframe tbody tr th:only-of-type {\n",
       "        vertical-align: middle;\n",
       "    }\n",
       "\n",
       "    .dataframe tbody tr th {\n",
       "        vertical-align: top;\n",
       "    }\n",
       "\n",
       "    .dataframe thead th {\n",
       "        text-align: right;\n",
       "    }\n",
       "</style>\n",
       "<table border=\"1\" class=\"dataframe\">\n",
       "  <thead>\n",
       "    <tr style=\"text-align: right;\">\n",
       "      <th></th>\n",
       "      <th>Количество игр</th>\n",
       "      <th>Объемы продаж</th>\n",
       "      <th>Среднее значение</th>\n",
       "    </tr>\n",
       "    <tr>\n",
       "      <th>genre</th>\n",
       "      <th></th>\n",
       "      <th></th>\n",
       "      <th></th>\n",
       "    </tr>\n",
       "  </thead>\n",
       "  <tbody>\n",
       "    <tr>\n",
       "      <th>Action</th>\n",
       "      <td>766</td>\n",
       "      <td>321.87</td>\n",
       "      <td>0.420196</td>\n",
       "    </tr>\n",
       "    <tr>\n",
       "      <th>Role-Playing</th>\n",
       "      <td>292</td>\n",
       "      <td>145.89</td>\n",
       "      <td>0.499623</td>\n",
       "    </tr>\n",
       "    <tr>\n",
       "      <th>Adventure</th>\n",
       "      <td>245</td>\n",
       "      <td>23.64</td>\n",
       "      <td>0.096490</td>\n",
       "    </tr>\n",
       "    <tr>\n",
       "      <th>Sports</th>\n",
       "      <td>214</td>\n",
       "      <td>150.65</td>\n",
       "      <td>0.703972</td>\n",
       "    </tr>\n",
       "    <tr>\n",
       "      <th>Shooter</th>\n",
       "      <td>187</td>\n",
       "      <td>232.98</td>\n",
       "      <td>1.245882</td>\n",
       "    </tr>\n",
       "    <tr>\n",
       "      <th>Misc</th>\n",
       "      <td>155</td>\n",
       "      <td>62.82</td>\n",
       "      <td>0.405290</td>\n",
       "    </tr>\n",
       "    <tr>\n",
       "      <th>Racing</th>\n",
       "      <td>85</td>\n",
       "      <td>39.89</td>\n",
       "      <td>0.469294</td>\n",
       "    </tr>\n",
       "    <tr>\n",
       "      <th>Fighting</th>\n",
       "      <td>80</td>\n",
       "      <td>35.31</td>\n",
       "      <td>0.441375</td>\n",
       "    </tr>\n",
       "    <tr>\n",
       "      <th>Platform</th>\n",
       "      <td>74</td>\n",
       "      <td>42.63</td>\n",
       "      <td>0.576081</td>\n",
       "    </tr>\n",
       "    <tr>\n",
       "      <th>Simulation</th>\n",
       "      <td>62</td>\n",
       "      <td>21.76</td>\n",
       "      <td>0.350968</td>\n",
       "    </tr>\n",
       "    <tr>\n",
       "      <th>Strategy</th>\n",
       "      <td>56</td>\n",
       "      <td>10.08</td>\n",
       "      <td>0.180000</td>\n",
       "    </tr>\n",
       "    <tr>\n",
       "      <th>Puzzle</th>\n",
       "      <td>17</td>\n",
       "      <td>3.17</td>\n",
       "      <td>0.186471</td>\n",
       "    </tr>\n",
       "  </tbody>\n",
       "</table>\n",
       "</div>"
      ],
      "text/plain": [
       "              Количество игр  Объемы продаж  Среднее значение\n",
       "genre                                                        \n",
       "Action                   766         321.87          0.420196\n",
       "Role-Playing             292         145.89          0.499623\n",
       "Adventure                245          23.64          0.096490\n",
       "Sports                   214         150.65          0.703972\n",
       "Shooter                  187         232.98          1.245882\n",
       "Misc                     155          62.82          0.405290\n",
       "Racing                    85          39.89          0.469294\n",
       "Fighting                  80          35.31          0.441375\n",
       "Platform                  74          42.63          0.576081\n",
       "Simulation                62          21.76          0.350968\n",
       "Strategy                  56          10.08          0.180000\n",
       "Puzzle                    17           3.17          0.186471"
      ]
     },
     "execution_count": 71,
     "metadata": {},
     "output_type": "execute_result"
    },
    {
     "name": "stdout",
     "output_type": "stream",
     "text": [
      "------------------------------------------------\n",
      "Корреляция количества и объемов продаж игр: 0.84\n"
     ]
    }
   ],
   "source": [
    "actual_genre = actual_data.pivot_table(index= 'genre', values= 'total_sales', aggfunc=['count', 'sum', 'mean'])\n",
    "actual_genre.columns = ['Количество игр', 'Объемы продаж', 'Среднее значение']\n",
    "actual_genre.sort_values(by='Количество игр', ascending=False)\n",
    "\n",
    "corr_actual_genre = actual_genre['Количество игр'].corr(actual_genre['Объемы продаж'])\n",
    "print('------------------------------------------------')\n",
    "print('Корреляция количества и объемов продаж игр: {:.2f}'.format(corr_actual_genre))"
   ]
  },
  {
   "cell_type": "code",
   "execution_count": 72,
   "metadata": {},
   "outputs": [
    {
     "data": {
      "image/png": "[encoded data removed]",
      "text/plain": [
       "<Figure size 1080x1080 with 1 Axes>"
      ]
     },
     "metadata": {
      "needs_background": "light"
     },
     "output_type": "display_data"
    }
   ],
   "source": [
    "actual_genre[['Количество игр', 'Объемы продаж']].sort_values(\n",
    "    by='Количество игр', ascending=True).plot.barh(\n",
    "    figsize = (15, 15), grid=True, title='Распределение по жанрам');"
   ]
  },
  {
   "cell_type": "markdown",
   "metadata": {},
   "source": [
    "Проанализировав данные, распределенные по жанрам, можно сказать следующее:\n",
    "1. Зависимость объемов продаж от количества выпускаемых игры высока.\n",
    "2. Тройка лидеров продаж среди жанров выглядит следующим образом: 1.\"Action\", 2.\"Shooter\", 3.\"Sports\".\n",
    "3. Несмотря на лидерство в продажах, жанр \"Action\" в среднем имеет 420 тыс. копий на одну выпущенную игру, чего не скажешь про жанр \"Shooter\", где на одну выпущенную игру в среднем приходится 1.25 млн. копий.\n",
    "4. Абсолютным антилидером по продажам является жанр \"Adventure\" с 96 тыс. копий на одну выпущенную игру."
   ]
  },
  {
   "cell_type": "markdown",
   "metadata": {},
   "source": [
    "### Вывод"
   ]
  },
  {
   "cell_type": "markdown",
   "metadata": {},
   "source": [
    "Проведя исследовательский анализ данных можно прийти к следующим выводам:\n",
    "- Рынок игростроения переживает кризис, показатели стремятся к уровню 2001 года по выпуску новых игр. Возможно основные потоки производства и продаж игр перебериаются на смартфоны, те самые устройства, которые есть почти у каждого человека, в отличие от специальных игровых платформ. Можно предположить, что анализ рынка игр для смартфонов принесет свои плоды.\n",
    "- Из оставшихся игровых платформ, только PS4 находится в заключительной стадии цикла \"жизни платформы\" и в следующем году продажи игр на нее еще принесут прибыль. В то же время мы увидели, что новая платформа имеет тенденции к резкому росту объемов продаж игр для нее, поэтому, чтобы \"оставаться на плаву\", возникает необходимость постоянного мониторинга рынка производителей игровых консолей.\n",
    "- Объемы продаж игр практически всегда зависимы от количества выпущенных игр на ту или иную платформу.\n",
    "- Как ни странно, оценки критиков и пользователей практически не влияют на объемы продаж. По всей видимости, оценки появляются позже основных объемов продаж, обеспеченных качественными рекламными кампаниями.\n",
    "- Жанр Shooter является лидером по проданным копиям на одну выпущенную игру, чего не скажешь про жанр Adventure, с его самыми низкими продажами."
   ]
  },
  {
   "cell_type": "markdown",
   "metadata": {},
   "source": [
    "## Среднестатистический портрет пользователя игровых платформ"
   ]
  },
  {
   "cell_type": "code",
   "execution_count": 73,
   "metadata": {},
   "outputs": [],
   "source": [
    "# Функция для создания таблицы Топ-5 платформ\n",
    "def top_5_platforms(column):\n",
    "    top_5_platforms = actual_data.pivot_table(\n",
    "    index= 'platform', values= column, aggfunc= 'sum').sort_values(\n",
    "    by=column, ascending=False).head(5);\n",
    "    print(top_5_platforms)\n",
    "\n",
    "# Функция для создания таблицы Топ-5 жанров\n",
    "def top_5_genres(column):\n",
    "    top_5_genres = actual_data.pivot_table(\n",
    "    index= 'genre', values= column, aggfunc= 'sum').sort_values(\n",
    "    by=column, ascending=False).head(5)\n",
    "    print(top_5_genres)"
   ]
  },
  {
   "cell_type": "markdown",
   "metadata": {},
   "source": [
    "### Топ-5 игровых платформ по регионам"
   ]
  },
  {
   "cell_type": "code",
   "execution_count": 74,
   "metadata": {},
   "outputs": [
    {
     "name": "stdout",
     "output_type": "stream",
     "text": [
      "ТОП-5 игровых платформ в Северной Америке\n",
      "-----------------------------------------\n",
      "          na_sales\n",
      "platform          \n",
      "PS4         108.74\n",
      "XOne         93.12\n",
      "X360         81.66\n",
      "PS3          63.50\n",
      "3DS          38.20\n",
      "\n",
      "ТОП-5 игровых платформ в Европе\n",
      "-----------------------------------------\n",
      "          eu_sales\n",
      "platform          \n",
      "PS4         141.09\n",
      "PS3          67.81\n",
      "XOne         51.59\n",
      "X360         42.52\n",
      "3DS          30.96\n",
      "\n",
      "ТОП-5 игровых платформ в Японии\n",
      "-----------------------------------------\n",
      "          jp_sales\n",
      "platform          \n",
      "3DS          67.81\n",
      "PS3          23.35\n",
      "PSV          18.59\n",
      "PS4          15.96\n",
      "WiiU         10.88\n"
     ]
    },
    {
     "data": {
      "image/png": "[encoded data removed]",
      "text/plain": [
       "<Figure size 1080x360 with 3 Axes>"
      ]
     },
     "metadata": {
      "needs_background": "light"
     },
     "output_type": "display_data"
    }
   ],
   "source": [
    "print('ТОП-5 игровых платформ в Северной Америке')\n",
    "print('-----------------------------------------')\n",
    "top_5_platforms('na_sales')\n",
    "print()\n",
    "print('ТОП-5 игровых платформ в Европе')\n",
    "print('-----------------------------------------')\n",
    "top_5_platforms('eu_sales')\n",
    "print()\n",
    "print('ТОП-5 игровых платформ в Японии')\n",
    "print('-----------------------------------------')\n",
    "top_5_platforms('jp_sales')\n",
    "\n",
    "regs = ['na_sales','eu_sales','jp_sales']\n",
    "\n",
    "fig, axes = plt.subplots(1,3,figsize=(15,5))\n",
    "\n",
    "for r,ax in zip(regs,axes.flat):\n",
    "    top_5_platforms = actual_data.pivot_table(\n",
    "        index= 'platform', values=r, aggfunc= 'sum').sort_values(\n",
    "        by=r, ascending=False).head(5);\n",
    "    _ = (top_5_platforms.plot(kind='bar', grid=True, title=r,ax=ax))"
   ]
  },
  {
   "cell_type": "markdown",
   "metadata": {},
   "source": [
    "Несмотря на то, что PS4 является игровой платформой произведенной Японией, настоящее признание она получила в Европе, где игроки с большим отрывом от других игровых платформ предпочитают покупать игры именно на нее. В самой же Японии значительная часть игр приобретается на мобильную игровую платформу 3DS, возможно с темпами жизни в этой стране, игроков там значительно меньше и удобнее им пользоваться мобильными игровыми устройствами. В Североамериканском регионе между платформами более умеренное распределение - от лидера PS4 с небольшим отрывом отстают местные XOne и X360."
   ]
  },
  {
   "cell_type": "markdown",
   "metadata": {},
   "source": [
    "### Топ-5 игровых жанров по регионам"
   ]
  },
  {
   "cell_type": "code",
   "execution_count": 75,
   "metadata": {},
   "outputs": [
    {
     "name": "stdout",
     "output_type": "stream",
     "text": [
      "ТОП-5 игровых жанров в Северной Америке\n",
      "-----------------------------------------\n",
      "              na_sales\n",
      "genre                 \n",
      "Action          126.05\n",
      "Shooter         109.74\n",
      "Sports           65.27\n",
      "Role-Playing     46.40\n",
      "Misc             27.49\n",
      "\n",
      "ТОП-5 игровых жанров в Европе\n",
      "-----------------------------------------\n",
      "              eu_sales\n",
      "genre                 \n",
      "Action          118.13\n",
      "Shooter          87.86\n",
      "Sports           60.52\n",
      "Role-Playing     36.97\n",
      "Racing           20.19\n",
      "\n",
      "ТОП-5 игровых жанров в Японии\n",
      "-----------------------------------------\n",
      "              jp_sales\n",
      "genre                 \n",
      "Role-Playing     51.04\n",
      "Action           40.49\n",
      "Misc              9.20\n",
      "Fighting          7.65\n",
      "Shooter           6.61\n"
     ]
    },
    {
     "data": {
      "image/png": "[encoded data removed]",
      "text/plain": [
       "<Figure size 1080x360 with 3 Axes>"
      ]
     },
     "metadata": {
      "needs_background": "light"
     },
     "output_type": "display_data"
    }
   ],
   "source": [
    "print('ТОП-5 игровых жанров в Северной Америке')\n",
    "print('-----------------------------------------')\n",
    "top_5_genres('na_sales')\n",
    "print()\n",
    "print('ТОП-5 игровых жанров в Европе')\n",
    "print('-----------------------------------------')\n",
    "top_5_genres('eu_sales')\n",
    "print()\n",
    "print('ТОП-5 игровых жанров в Японии')\n",
    "print('-----------------------------------------')\n",
    "top_5_genres('jp_sales')\n",
    "\n",
    "regs = ['na_sales','eu_sales','jp_sales']\n",
    "\n",
    "fig, axes = plt.subplots(1,3,figsize=(15,5))\n",
    "\n",
    "for r,ax in zip(regs,axes.flat):\n",
    "    top_5_genres = actual_data.pivot_table(\n",
    "        index= 'genre', values=r, aggfunc= 'sum').sort_values(\n",
    "        by=r, ascending=False).head(5);\n",
    "    _ = (top_5_genres.plot(kind='bar', grid=True, title=r,ax=ax))"
   ]
  },
  {
   "cell_type": "markdown",
   "metadata": {},
   "source": [
    "Если в выборе игрового жанра пользователи Северной Америки и Европы солидарны - тройку лидеров у них составляют Action, Shooter и Sports практически с равными значениями, то в Японии большим предпочтением пользуются Role-Playing игры. В целом, жанр Action занимает ключевые позиции во всех регионах и, скорее всего, является самых доходным для производителей игр."
   ]
  },
  {
   "cell_type": "markdown",
   "metadata": {},
   "source": [
    "### Влияение рейтинга ESRB на продажи по регионам"
   ]
  },
  {
   "cell_type": "code",
   "execution_count": 76,
   "metadata": {},
   "outputs": [],
   "source": [
    "actual_data['rating'] = actual_data['rating'].fillna('RP')"
   ]
  },
  {
   "cell_type": "code",
   "execution_count": 77,
   "metadata": {},
   "outputs": [
    {
     "data": {
      "text/html": [
       "<div>\n",
       "<style scoped>\n",
       "    .dataframe tbody tr th:only-of-type {\n",
       "        vertical-align: middle;\n",
       "    }\n",
       "\n",
       "    .dataframe tbody tr th {\n",
       "        vertical-align: top;\n",
       "    }\n",
       "\n",
       "    .dataframe thead tr th {\n",
       "        text-align: left;\n",
       "    }\n",
       "\n",
       "    .dataframe thead tr:last-of-type th {\n",
       "        text-align: right;\n",
       "    }\n",
       "</style>\n",
       "<table border=\"1\" class=\"dataframe\">\n",
       "  <thead>\n",
       "    <tr>\n",
       "      <th></th>\n",
       "      <th colspan=\"3\" halign=\"left\">mean</th>\n",
       "    </tr>\n",
       "    <tr>\n",
       "      <th></th>\n",
       "      <th>eu_sales</th>\n",
       "      <th>jp_sales</th>\n",
       "      <th>na_sales</th>\n",
       "    </tr>\n",
       "    <tr>\n",
       "      <th>rating</th>\n",
       "      <th></th>\n",
       "      <th></th>\n",
       "      <th></th>\n",
       "    </tr>\n",
       "  </thead>\n",
       "  <tbody>\n",
       "    <tr>\n",
       "      <th>E</th>\n",
       "      <td>0.276026</td>\n",
       "      <td>0.050132</td>\n",
       "      <td>0.261755</td>\n",
       "    </tr>\n",
       "    <tr>\n",
       "      <th>E10+</th>\n",
       "      <td>0.169405</td>\n",
       "      <td>0.023373</td>\n",
       "      <td>0.215238</td>\n",
       "    </tr>\n",
       "    <tr>\n",
       "      <th>M</th>\n",
       "      <td>0.393821</td>\n",
       "      <td>0.038238</td>\n",
       "      <td>0.447724</td>\n",
       "    </tr>\n",
       "    <tr>\n",
       "      <th>RP</th>\n",
       "      <td>0.080768</td>\n",
       "      <td>0.087052</td>\n",
       "      <td>0.091525</td>\n",
       "    </tr>\n",
       "    <tr>\n",
       "      <th>T</th>\n",
       "      <td>0.125976</td>\n",
       "      <td>0.061832</td>\n",
       "      <td>0.149520</td>\n",
       "    </tr>\n",
       "  </tbody>\n",
       "</table>\n",
       "</div>"
      ],
      "text/plain": [
       "            mean                    \n",
       "        eu_sales  jp_sales  na_sales\n",
       "rating                              \n",
       "E       0.276026  0.050132  0.261755\n",
       "E10+    0.169405  0.023373  0.215238\n",
       "M       0.393821  0.038238  0.447724\n",
       "RP      0.080768  0.087052  0.091525\n",
       "T       0.125976  0.061832  0.149520"
      ]
     },
     "execution_count": 77,
     "metadata": {},
     "output_type": "execute_result"
    }
   ],
   "source": [
    "ESRB = actual_data.pivot_table(\n",
    "    index= 'rating', \n",
    "    values= ['na_sales', 'eu_sales', 'jp_sales'], \n",
    "    aggfunc= ['mean'])\n",
    "ESRB"
   ]
  },
  {
   "cell_type": "code",
   "execution_count": 78,
   "metadata": {},
   "outputs": [
    {
     "data": {
      "image/png": "[encoded data removed]",
      "text/plain": [
       "<Figure size 864x432 with 1 Axes>"
      ]
     },
     "metadata": {
      "needs_background": "light"
     },
     "output_type": "display_data"
    }
   ],
   "source": [
    "ESRB.plot(kind=\"bar\", stacked=False, grid=True, figsize=(12, 6), \n",
    "          title='Объем продаж игр с разделением по рейтингам в разных регионах');"
   ]
  },
  {
   "cell_type": "markdown",
   "metadata": {},
   "source": [
    "Как уже было установленно ранее, в Японии играют меньше и во всех возрастных категориях практически поровну. Объемы продаж по всем возрастным категоориям в Европе и Северной Америке практически одинаковы, можно предположить, что значительная часть игроков в этих регионах более возрастная и чаще приобретает игры с рейтингом М (+17). В целом, по полученным данным ответить на вопрос, влияет ли рейтинг ESRB на продажи в отдельных регионах сложно, так как мы не знаем, о строгости контроля и соблюдении требований ESRB в разных странах этих регионов. При условии строгого соблюдения рейтинговых правил, мы лишь можем судить о возрастном распределении игроков по регионам."
   ]
  },
  {
   "cell_type": "markdown",
   "metadata": {},
   "source": [
    "### Вывод"
   ]
  },
  {
   "cell_type": "markdown",
   "metadata": {},
   "source": [
    "Исследовав актуальные данные о предпочтениях игроков в отдельных регионах можно сделать выводы:\n",
    "1. Среднестатистический игрок Европы и Северной Америки во многом схож:\n",
    " - в основном он старше 17 лет;\n",
    " - предпочитает играть на PS4;\n",
    " - отдает преимущество играм в жанрах Action и Shooter.\n",
    "_______________________________________________________________________________________________\n",
    "2. Японский среднестатистический игрок, в силу сложившегося в стране менталитета, сильно отличающегося от европейского и североамериканского, имеет следующие характеристики:\n",
    " - игрвет в игры всех возрастных групп одинаково;\n",
    " - предпочитает мобильную игровую платформу 3DS;\n",
    " - любит играть в Role-Playing игры.\n",
    " "
   ]
  },
  {
   "cell_type": "markdown",
   "metadata": {},
   "source": [
    "## Проверка гипотез"
   ]
  },
  {
   "cell_type": "markdown",
   "metadata": {},
   "source": [
    "### Гипотеза 1: \"Средние пользовательские рейтинги платформ Xbox One и PC одинаковые\"."
   ]
  },
  {
   "cell_type": "markdown",
   "metadata": {},
   "source": [
    "H₀ - Средние пользовательские рейтинги платформ Xbox One и PC одинаковы.\n",
    "\n",
    "H₁ - Средние пользовательские рейтинги платформ Xbox One и PC различаются."
   ]
  },
  {
   "cell_type": "code",
   "execution_count": 79,
   "metadata": {},
   "outputs": [],
   "source": [
    "xone_user_score = actual_data.query('platform == \"XOne\" and user_score > 0')['user_score']\n",
    "pc_user_score = actual_data.query('platform == \"PC\" and user_score > 0')['user_score']"
   ]
  },
  {
   "cell_type": "code",
   "execution_count": 80,
   "metadata": {},
   "outputs": [
    {
     "name": "stdout",
     "output_type": "stream",
     "text": [
      "Средний пользовательский рейтинг Xbox One: 6.5\n",
      "Средний пользовательский рейтинг PC: 6.3\n",
      "\n",
      "p-значение: 0.14012658403611647\n",
      "\n",
      "Не получилось отвергнуть нулевую гипотезу\n"
     ]
    }
   ],
   "source": [
    "alpha = 0.05 # стандартный критический уровень статистической значимости\n",
    "results = st.ttest_ind(xone_user_score, pc_user_score, equal_var=True)\n",
    "\n",
    "print('Средний пользовательский рейтинг Xbox One: {:.1f}'.format(xone_user_score.mean()))\n",
    "print('Средний пользовательский рейтинг PC: {:.1f}'.format(pc_user_score.mean()))\n",
    "print()\n",
    "print('p-значение: {}'.format(results.pvalue))\n",
    "print()\n",
    "if results.pvalue < alpha:\n",
    "    print(\"Отвергаем нулевую гипотезу\")\n",
    "else:\n",
    "    print(\"Не получилось отвергнуть нулевую гипотезу\")"
   ]
  },
  {
   "cell_type": "markdown",
   "metadata": {},
   "source": [
    "p-значение больше критического уровня статистической значимости, что говорит нам о равенстве двух совокупностей, в связи с чем нулевую гипотезу опровергнуть не получается. Средние пользовательские рейтинги платформ Xbox One и PC одинаковые."
   ]
  },
  {
   "cell_type": "markdown",
   "metadata": {},
   "source": [
    "### Гипотеза 2: \"Средние пользовательские рейтинги жанров Action и Sports разные\"."
   ]
  },
  {
   "cell_type": "markdown",
   "metadata": {},
   "source": [
    "H₀ - Средние пользовательские рейтинги жанров Action и Sports одинаковые.\n",
    "\n",
    "H₁ - Средние пользовательские рейтинги жанров Action и Sports разные."
   ]
  },
  {
   "cell_type": "code",
   "execution_count": 81,
   "metadata": {},
   "outputs": [],
   "source": [
    "action_user_score = actual_data.query('genre == \"Action\" and user_score > 0')['user_score']\n",
    "sports_user_score = actual_data.query('genre == \"Sports\" and user_score > 0')['user_score']"
   ]
  },
  {
   "cell_type": "code",
   "execution_count": 82,
   "metadata": {},
   "outputs": [
    {
     "name": "stdout",
     "output_type": "stream",
     "text": [
      "Средний пользовательский рейтинг жанра Action: 6.8\n",
      "Средний пользовательский рейтинг жанра Sports: 5.2\n",
      "\n",
      "p-значение: 1.0517832389140023e-27\n",
      "\n",
      "Отвергаем нулевую гипотезу\n"
     ]
    }
   ],
   "source": [
    "alpha = 0.05 # стандартный критический уровень статистической значимости\n",
    "results = st.ttest_ind(action_user_score, sports_user_score, equal_var=True)\n",
    "\n",
    "print('Средний пользовательский рейтинг жанра Action: {:.1f}'.format(action_user_score.mean()))\n",
    "print('Средний пользовательский рейтинг жанра Sports: {:.1f}'.format(sports_user_score.mean()))\n",
    "print()\n",
    "print('p-значение: {}'.format(results.pvalue))\n",
    "print()\n",
    "if results.pvalue < alpha:\n",
    "    print(\"Отвергаем нулевую гипотезу\")\n",
    "else:\n",
    "    print(\"Не получилось отвергнуть нулевую гипотезу\")"
   ]
  },
  {
   "cell_type": "markdown",
   "metadata": {},
   "source": [
    "p-значение значительно меньше критического уровня статистической значимости, что говорит нам о неравенстве двух совокупностей, в связи с чем, отвергаем нулевую гипотезу. Средние пользовательские рейтинги жанров Action и Sports разные."
   ]
  },
  {
   "cell_type": "markdown",
   "metadata": {},
   "source": [
    "### Вывод"
   ]
  },
  {
   "cell_type": "markdown",
   "metadata": {},
   "source": [
    "Проверив выдвинутые гипотезы, делаем следующие выводы:\n",
    "- Средние пользовательские рейтинги платформ Xbox One и PC одинаковы;\n",
    "- Средние пользовательские рейтинги жанров Action и Sports разные."
   ]
  },
  {
   "cell_type": "markdown",
   "metadata": {},
   "source": [
    "## Общий вывод"
   ]
  },
  {
   "cell_type": "markdown",
   "metadata": {},
   "source": [
    "Подводя итог исследования можно сказать, что закономерности, влияющие на успешность игры, отличаются в зависимости от региона продаж. Учитывая, что рынки Северной Америки и Европы схожи по многим показателям, можно выделить две основные группы:\n",
    "\n",
    "   1. Европа и Северная Америка:\n",
    "        - Жанр Action самый продаваемый, Shooter самый окупаемый;\n",
    "        - Игры с возрастным рейтингом М самые продаваемые;\n",
    "        - Предпочитаемая игровая платформа - PS4.\n",
    "   2. Япония:\n",
    "        - Продажи игр в этом регионе крайне низки в сравнении с Европой и Северной Америкой;\n",
    "        - Игры в жанре Role-Playing самые востребованные;\n",
    "        - Возрастной рейтинг в основном не влияет на продажи в этой стране;\n",
    "        - Подавляющая часть игр продается на мобильную игровую платформу 3DS.\n",
    "\n",
    "______________________________________________________________________________________________\n",
    "Касательно общих наблюдений и тенденций, можно выделить следующие:\n",
    "\n",
    "   1. Показатели производства новых игр для игровых платформ идут на спад и достигают уровня 2001 года;\n",
    "   2. Зависимость объемов продаж от оценок критиков и пользователей практически отсутствует;\n",
    "   3. Показатели продаж для всех актуальных платформ падают, в настоящий момент нет ни одной игровой платформы, продажи игр для котрой, показывали бы рост.\n",
    "   \n",
    "______________________________________________________________________________________________\n",
    "Исходя из вышеизложенного можно дать следующие рекомендации бизнесу:\n",
    "\n",
    "   1. Необходимо осуществлять мониторинг рынка производства новых игровых платформ. Учитывая, что в настоящий момент все актуальные платформы находятся на закате своего жизненного цикла, можно предположить, что в ближайшее время состоится выход новой и перспективной игровой платформы.\n",
    "   2. Игровая индустрия не заключается лишь в продажах игр на игровые платформы. С учетом активного развития технических характеристик смартфонов, их доступностью и практичностью, следует обратить внимание на рынок производства игр для Android и iOS."
   ]
  }
 ],
 "metadata": {
  "ExecuteTimeLog": [
   {
    "duration": 295,
    "start_time": "2021-07-08T16:11:25.473Z"
   },
   {
    "duration": 1333,
    "start_time": "2021-07-08T16:11:29.895Z"
   },
   {
    "duration": 49,
    "start_time": "2021-07-08T16:11:31.774Z"
   },
   {
    "duration": 35,
    "start_time": "2021-07-08T16:11:36.759Z"
   },
   {
    "duration": 446,
    "start_time": "2021-07-08T16:12:27.415Z"
   },
   {
    "duration": 6098,
    "start_time": "2021-07-08T16:12:32.405Z"
   },
   {
    "duration": 11,
    "start_time": "2021-07-08T16:12:50.496Z"
   },
   {
    "duration": 10,
    "start_time": "2021-07-08T16:13:45.141Z"
   },
   {
    "duration": 15,
    "start_time": "2021-07-08T16:18:59.678Z"
   },
   {
    "duration": 11,
    "start_time": "2021-07-08T16:19:33.989Z"
   },
   {
    "duration": 7,
    "start_time": "2021-07-08T16:19:45.099Z"
   },
   {
    "duration": 26,
    "start_time": "2021-07-08T16:20:05.406Z"
   },
   {
    "duration": 33,
    "start_time": "2021-07-08T16:31:15.109Z"
   },
   {
    "duration": 9,
    "start_time": "2021-07-08T16:32:11.443Z"
   },
   {
    "duration": 7,
    "start_time": "2021-07-08T16:32:23.207Z"
   },
   {
    "duration": 24,
    "start_time": "2021-07-08T16:32:56.660Z"
   },
   {
    "duration": 7,
    "start_time": "2021-07-08T16:33:45.091Z"
   },
   {
    "duration": 31,
    "start_time": "2021-07-08T16:34:18.451Z"
   },
   {
    "duration": 7,
    "start_time": "2021-07-08T16:36:53.264Z"
   },
   {
    "duration": 44,
    "start_time": "2021-07-08T16:37:30.965Z"
   },
   {
    "duration": 308,
    "start_time": "2021-07-09T10:02:07.318Z"
   },
   {
    "duration": 1430,
    "start_time": "2021-07-09T10:02:12.986Z"
   },
   {
    "duration": 51,
    "start_time": "2021-07-09T10:02:14.418Z"
   },
   {
    "duration": 33,
    "start_time": "2021-07-09T10:02:14.472Z"
   },
   {
    "duration": 24,
    "start_time": "2021-07-09T10:02:14.507Z"
   },
   {
    "duration": 27,
    "start_time": "2021-07-09T10:02:14.533Z"
   },
   {
    "duration": 25,
    "start_time": "2021-07-09T10:02:14.563Z"
   },
   {
    "duration": 52,
    "start_time": "2021-07-09T10:02:14.591Z"
   },
   {
    "duration": 47,
    "start_time": "2021-07-09T10:02:28.520Z"
   },
   {
    "duration": 33,
    "start_time": "2021-07-09T10:03:06.353Z"
   },
   {
    "duration": 21,
    "start_time": "2021-07-09T10:03:27.657Z"
   },
   {
    "duration": 312,
    "start_time": "2021-07-09T10:05:49.218Z"
   },
   {
    "duration": 256,
    "start_time": "2021-07-09T10:08:37.267Z"
   },
   {
    "duration": 5,
    "start_time": "2021-07-09T10:08:49.790Z"
   },
   {
    "duration": 259,
    "start_time": "2021-07-09T10:08:57.995Z"
   },
   {
    "duration": 9,
    "start_time": "2021-07-09T10:09:22.598Z"
   },
   {
    "duration": 295,
    "start_time": "2021-07-09T10:09:35.055Z"
   },
   {
    "duration": 288,
    "start_time": "2021-07-09T10:09:52.686Z"
   },
   {
    "duration": 18,
    "start_time": "2021-07-09T10:10:02.830Z"
   },
   {
    "duration": 13,
    "start_time": "2021-07-09T10:18:30.993Z"
   },
   {
    "duration": 9,
    "start_time": "2021-07-09T10:20:52.155Z"
   },
   {
    "duration": 6,
    "start_time": "2021-07-09T10:21:06.156Z"
   },
   {
    "duration": 15,
    "start_time": "2021-07-09T10:21:09.650Z"
   },
   {
    "duration": 273,
    "start_time": "2021-07-09T10:21:21.954Z"
   },
   {
    "duration": 4,
    "start_time": "2021-07-09T10:21:32.140Z"
   },
   {
    "duration": 16,
    "start_time": "2021-07-09T10:24:02.771Z"
   },
   {
    "duration": 10,
    "start_time": "2021-07-09T10:24:15.768Z"
   },
   {
    "duration": 10,
    "start_time": "2021-07-09T10:24:20.549Z"
   },
   {
    "duration": 1305,
    "start_time": "2021-07-09T10:24:45.907Z"
   },
   {
    "duration": 49,
    "start_time": "2021-07-09T10:24:47.214Z"
   },
   {
    "duration": 27,
    "start_time": "2021-07-09T10:24:47.266Z"
   },
   {
    "duration": 13,
    "start_time": "2021-07-09T10:24:47.295Z"
   },
   {
    "duration": 25,
    "start_time": "2021-07-09T10:24:47.310Z"
   },
   {
    "duration": 5955,
    "start_time": "2021-07-09T10:24:47.353Z"
   },
   {
    "duration": 1773,
    "start_time": "2021-07-09T10:24:51.537Z"
   },
   {
    "duration": 1768,
    "start_time": "2021-07-09T10:24:51.544Z"
   },
   {
    "duration": 1767,
    "start_time": "2021-07-09T10:24:51.546Z"
   },
   {
    "duration": 1767,
    "start_time": "2021-07-09T10:24:51.548Z"
   },
   {
    "duration": 13,
    "start_time": "2021-07-09T10:24:54.651Z"
   },
   {
    "duration": 5,
    "start_time": "2021-07-09T10:25:10.609Z"
   },
   {
    "duration": 12,
    "start_time": "2021-07-09T10:25:16.479Z"
   },
   {
    "duration": 14,
    "start_time": "2021-07-09T10:25:19.202Z"
   },
   {
    "duration": 4,
    "start_time": "2021-07-09T10:25:26.182Z"
   },
   {
    "duration": 66,
    "start_time": "2021-07-09T10:25:26.189Z"
   },
   {
    "duration": 24,
    "start_time": "2021-07-09T10:25:26.258Z"
   },
   {
    "duration": 20,
    "start_time": "2021-07-09T10:25:26.284Z"
   },
   {
    "duration": 38,
    "start_time": "2021-07-09T10:25:26.306Z"
   },
   {
    "duration": 6527,
    "start_time": "2021-07-09T10:25:26.347Z"
   },
   {
    "duration": 1757,
    "start_time": "2021-07-09T10:25:31.121Z"
   },
   {
    "duration": 1756,
    "start_time": "2021-07-09T10:25:31.124Z"
   },
   {
    "duration": 1754,
    "start_time": "2021-07-09T10:25:31.127Z"
   },
   {
    "duration": 1754,
    "start_time": "2021-07-09T10:25:31.129Z"
   },
   {
    "duration": 6348,
    "start_time": "2021-07-09T10:25:42.555Z"
   },
   {
    "duration": 1773,
    "start_time": "2021-07-09T10:25:47.132Z"
   },
   {
    "duration": 1773,
    "start_time": "2021-07-09T10:25:47.134Z"
   },
   {
    "duration": 1771,
    "start_time": "2021-07-09T10:25:47.137Z"
   },
   {
    "duration": 4,
    "start_time": "2021-07-09T10:25:58.299Z"
   },
   {
    "duration": 9,
    "start_time": "2021-07-09T10:26:01.906Z"
   },
   {
    "duration": 7,
    "start_time": "2021-07-09T10:26:05.410Z"
   },
   {
    "duration": 12,
    "start_time": "2021-07-09T10:26:25.843Z"
   },
   {
    "duration": 5,
    "start_time": "2021-07-09T10:26:29.010Z"
   },
   {
    "duration": 14,
    "start_time": "2021-07-09T10:26:37.034Z"
   },
   {
    "duration": 13,
    "start_time": "2021-07-09T10:26:54.907Z"
   },
   {
    "duration": 11,
    "start_time": "2021-07-09T10:27:09.227Z"
   },
   {
    "duration": 13,
    "start_time": "2021-07-09T10:27:15.907Z"
   },
   {
    "duration": 29,
    "start_time": "2021-07-09T10:27:33.916Z"
   },
   {
    "duration": 12,
    "start_time": "2021-07-09T10:28:03.238Z"
   },
   {
    "duration": 9,
    "start_time": "2021-07-09T10:30:24.260Z"
   },
   {
    "duration": 14,
    "start_time": "2021-07-09T10:30:28.044Z"
   },
   {
    "duration": 16,
    "start_time": "2021-07-09T10:30:55.622Z"
   },
   {
    "duration": 13,
    "start_time": "2021-07-09T10:31:03.765Z"
   },
   {
    "duration": 245,
    "start_time": "2021-07-09T10:33:19.791Z"
   },
   {
    "duration": 1299,
    "start_time": "2021-07-09T10:33:40.397Z"
   },
   {
    "duration": 50,
    "start_time": "2021-07-09T10:33:41.699Z"
   },
   {
    "duration": 27,
    "start_time": "2021-07-09T10:33:41.752Z"
   },
   {
    "duration": 8,
    "start_time": "2021-07-09T10:33:41.782Z"
   },
   {
    "duration": 12,
    "start_time": "2021-07-09T10:33:41.792Z"
   },
   {
    "duration": 9,
    "start_time": "2021-07-09T10:33:41.806Z"
   },
   {
    "duration": 399,
    "start_time": "2021-07-09T10:33:41.817Z"
   },
   {
    "duration": 1770,
    "start_time": "2021-07-09T10:33:40.448Z"
   },
   {
    "duration": 17,
    "start_time": "2021-07-09T10:33:59.718Z"
   },
   {
    "duration": 263,
    "start_time": "2021-07-09T10:34:10.311Z"
   },
   {
    "duration": 259,
    "start_time": "2021-07-09T10:34:31.112Z"
   },
   {
    "duration": 250,
    "start_time": "2021-07-09T10:34:58.495Z"
   },
   {
    "duration": 28,
    "start_time": "2021-07-09T10:35:05.847Z"
   },
   {
    "duration": 20,
    "start_time": "2021-07-09T10:35:29.817Z"
   },
   {
    "duration": 10,
    "start_time": "2021-07-09T10:35:40.061Z"
   },
   {
    "duration": 20,
    "start_time": "2021-07-09T10:35:42.304Z"
   },
   {
    "duration": 259,
    "start_time": "2021-07-09T10:36:44.716Z"
   },
   {
    "duration": 271,
    "start_time": "2021-07-09T10:37:04.577Z"
   },
   {
    "duration": 7,
    "start_time": "2021-07-09T10:37:14.434Z"
   },
   {
    "duration": 15,
    "start_time": "2021-07-09T10:37:23.153Z"
   },
   {
    "duration": 1436,
    "start_time": "2021-07-09T10:37:34.182Z"
   },
   {
    "duration": 50,
    "start_time": "2021-07-09T10:37:35.621Z"
   },
   {
    "duration": 26,
    "start_time": "2021-07-09T10:37:35.674Z"
   },
   {
    "duration": 4,
    "start_time": "2021-07-09T10:37:35.703Z"
   },
   {
    "duration": 10,
    "start_time": "2021-07-09T10:37:35.710Z"
   },
   {
    "duration": 34,
    "start_time": "2021-07-09T10:37:35.722Z"
   },
   {
    "duration": 10,
    "start_time": "2021-07-09T10:37:35.759Z"
   },
   {
    "duration": 26,
    "start_time": "2021-07-09T10:37:35.773Z"
   },
   {
    "duration": 28,
    "start_time": "2021-07-09T10:37:50.240Z"
   },
   {
    "duration": 12,
    "start_time": "2021-07-09T10:37:56.913Z"
   },
   {
    "duration": 10,
    "start_time": "2021-07-09T10:42:16.895Z"
   },
   {
    "duration": 8,
    "start_time": "2021-07-09T10:42:19.734Z"
   },
   {
    "duration": 1439,
    "start_time": "2021-07-09T10:42:29.176Z"
   },
   {
    "duration": 50,
    "start_time": "2021-07-09T10:42:30.617Z"
   },
   {
    "duration": 27,
    "start_time": "2021-07-09T10:42:30.670Z"
   },
   {
    "duration": 11,
    "start_time": "2021-07-09T10:42:30.699Z"
   },
   {
    "duration": 30,
    "start_time": "2021-07-09T10:42:30.713Z"
   },
   {
    "duration": 36,
    "start_time": "2021-07-09T10:42:30.745Z"
   },
   {
    "duration": 36,
    "start_time": "2021-07-09T10:42:30.784Z"
   },
   {
    "duration": 23,
    "start_time": "2021-07-09T10:42:30.823Z"
   },
   {
    "duration": 13,
    "start_time": "2021-07-09T10:42:54.114Z"
   },
   {
    "duration": 1378,
    "start_time": "2021-07-09T10:43:00.490Z"
   },
   {
    "duration": 51,
    "start_time": "2021-07-09T10:43:01.872Z"
   },
   {
    "duration": 15,
    "start_time": "2021-07-09T10:43:01.926Z"
   },
   {
    "duration": 35,
    "start_time": "2021-07-09T10:43:01.944Z"
   },
   {
    "duration": 3,
    "start_time": "2021-07-09T10:43:01.982Z"
   },
   {
    "duration": 16,
    "start_time": "2021-07-09T10:43:01.988Z"
   },
   {
    "duration": 33,
    "start_time": "2021-07-09T10:43:02.006Z"
   },
   {
    "duration": 24,
    "start_time": "2021-07-09T10:43:02.044Z"
   },
   {
    "duration": 30,
    "start_time": "2021-07-09T10:43:02.071Z"
   },
   {
    "duration": 5,
    "start_time": "2021-07-09T10:44:28.047Z"
   },
   {
    "duration": 14,
    "start_time": "2021-07-09T10:44:30.848Z"
   },
   {
    "duration": 28,
    "start_time": "2021-07-09T10:44:38.136Z"
   },
   {
    "duration": 1110,
    "start_time": "2021-07-11T10:57:26.448Z"
   },
   {
    "duration": 1505,
    "start_time": "2021-07-11T10:57:31.460Z"
   },
   {
    "duration": 52,
    "start_time": "2021-07-11T10:57:32.969Z"
   },
   {
    "duration": 28,
    "start_time": "2021-07-11T10:57:33.025Z"
   },
   {
    "duration": 37,
    "start_time": "2021-07-11T10:57:33.057Z"
   },
   {
    "duration": 45,
    "start_time": "2021-07-11T10:57:33.098Z"
   },
   {
    "duration": 5,
    "start_time": "2021-07-11T10:57:33.147Z"
   },
   {
    "duration": 13,
    "start_time": "2021-07-11T10:57:33.187Z"
   },
   {
    "duration": 10,
    "start_time": "2021-07-11T10:57:33.205Z"
   },
   {
    "duration": 396,
    "start_time": "2021-07-11T10:57:33.218Z"
   },
   {
    "duration": 42,
    "start_time": "2021-07-11T10:57:33.575Z"
   },
   {
    "duration": 42,
    "start_time": "2021-07-11T10:57:33.577Z"
   },
   {
    "duration": 322,
    "start_time": "2021-07-11T10:58:20.113Z"
   },
   {
    "duration": 16,
    "start_time": "2021-07-11T10:58:40.041Z"
   },
   {
    "duration": 5,
    "start_time": "2021-07-11T10:58:43.393Z"
   },
   {
    "duration": 7,
    "start_time": "2021-07-11T11:00:08.937Z"
   },
   {
    "duration": 10,
    "start_time": "2021-07-11T11:00:29.421Z"
   },
   {
    "duration": 10,
    "start_time": "2021-07-11T11:01:14.349Z"
   },
   {
    "duration": 6,
    "start_time": "2021-07-11T11:37:29.266Z"
   },
   {
    "duration": 6,
    "start_time": "2021-07-11T11:41:11.630Z"
   },
   {
    "duration": 14,
    "start_time": "2021-07-11T11:41:14.480Z"
   },
   {
    "duration": 356,
    "start_time": "2021-07-11T11:42:53.385Z"
   },
   {
    "duration": 297,
    "start_time": "2021-07-11T11:43:08.171Z"
   },
   {
    "duration": 362,
    "start_time": "2021-07-11T11:43:17.979Z"
   },
   {
    "duration": 366,
    "start_time": "2021-07-11T11:43:35.449Z"
   },
   {
    "duration": 560,
    "start_time": "2021-07-11T11:43:42.353Z"
   },
   {
    "duration": 946,
    "start_time": "2021-07-11T11:44:35.974Z"
   },
   {
    "duration": 736,
    "start_time": "2021-07-11T11:44:44.452Z"
   },
   {
    "duration": 678,
    "start_time": "2021-07-11T11:44:51.394Z"
   },
   {
    "duration": 318,
    "start_time": "2021-07-11T11:47:06.749Z"
   },
   {
    "duration": 355,
    "start_time": "2021-07-11T11:48:11.853Z"
   },
   {
    "duration": 28,
    "start_time": "2021-07-11T11:48:51.485Z"
   },
   {
    "duration": 30,
    "start_time": "2021-07-11T11:48:57.274Z"
   },
   {
    "duration": 14,
    "start_time": "2021-07-11T11:49:06.454Z"
   },
   {
    "duration": 27,
    "start_time": "2021-07-11T11:49:52.045Z"
   },
   {
    "duration": 7,
    "start_time": "2021-07-11T11:54:49.895Z"
   },
   {
    "duration": 7,
    "start_time": "2021-07-11T11:54:55.358Z"
   },
   {
    "duration": 11,
    "start_time": "2021-07-11T11:55:02.842Z"
   },
   {
    "duration": 17,
    "start_time": "2021-07-11T11:57:16.234Z"
   },
   {
    "duration": 28,
    "start_time": "2021-07-11T11:57:56.596Z"
   },
   {
    "duration": 16,
    "start_time": "2021-07-11T12:00:25.220Z"
   },
   {
    "duration": 33,
    "start_time": "2021-07-11T12:00:27.629Z"
   },
   {
    "duration": 15,
    "start_time": "2021-07-11T12:03:36.759Z"
   },
   {
    "duration": 554,
    "start_time": "2021-07-11T12:07:00.495Z"
   },
   {
    "duration": 477,
    "start_time": "2021-07-11T12:09:22.889Z"
   },
   {
    "duration": 546,
    "start_time": "2021-07-11T12:09:39.899Z"
   },
   {
    "duration": 5,
    "start_time": "2021-07-11T12:11:40.219Z"
   },
   {
    "duration": 492,
    "start_time": "2021-07-11T12:11:44.538Z"
   },
   {
    "duration": 110,
    "start_time": "2021-07-11T12:13:09.644Z"
   },
   {
    "duration": 9,
    "start_time": "2021-07-11T12:13:13.467Z"
   },
   {
    "duration": 1005,
    "start_time": "2021-07-11T12:14:37.437Z"
   },
   {
    "duration": 8,
    "start_time": "2021-07-11T12:14:51.446Z"
   },
   {
    "duration": 330,
    "start_time": "2021-07-11T12:16:51.518Z"
   },
   {
    "duration": 43,
    "start_time": "2021-07-11T12:17:24.886Z"
   },
   {
    "duration": 335,
    "start_time": "2021-07-11T12:17:32.120Z"
   },
   {
    "duration": 12,
    "start_time": "2021-07-11T12:18:17.903Z"
   },
   {
    "duration": 23,
    "start_time": "2021-07-11T12:18:29.633Z"
   },
   {
    "duration": 28,
    "start_time": "2021-07-11T12:20:07.646Z"
   },
   {
    "duration": 20,
    "start_time": "2021-07-11T12:20:22.217Z"
   },
   {
    "duration": 103,
    "start_time": "2021-07-11T12:20:42.248Z"
   },
   {
    "duration": 327,
    "start_time": "2021-07-11T12:21:04.330Z"
   },
   {
    "duration": 20,
    "start_time": "2021-07-11T12:22:04.801Z"
   },
   {
    "duration": 21,
    "start_time": "2021-07-11T12:22:18.684Z"
   },
   {
    "duration": 22,
    "start_time": "2021-07-11T12:22:57.082Z"
   },
   {
    "duration": 12,
    "start_time": "2021-07-11T12:24:22.011Z"
   },
   {
    "duration": 12,
    "start_time": "2021-07-11T12:24:27.076Z"
   },
   {
    "duration": 320,
    "start_time": "2021-07-11T12:25:26.723Z"
   },
   {
    "duration": 321,
    "start_time": "2021-07-11T12:26:07.030Z"
   },
   {
    "duration": 896,
    "start_time": "2021-07-11T12:26:43.541Z"
   },
   {
    "duration": 911,
    "start_time": "2021-07-11T12:26:56.092Z"
   },
   {
    "duration": 450,
    "start_time": "2021-07-11T12:27:30.246Z"
   },
   {
    "duration": 22,
    "start_time": "2021-07-11T12:27:49.213Z"
   },
   {
    "duration": 501,
    "start_time": "2021-07-11T12:28:08.742Z"
   },
   {
    "duration": 13159,
    "start_time": "2021-07-11T12:28:52.708Z"
   },
   {
    "duration": 6,
    "start_time": "2021-07-11T12:29:50.630Z"
   },
   {
    "duration": 33,
    "start_time": "2021-07-11T12:29:59.462Z"
   },
   {
    "duration": 354,
    "start_time": "2021-07-11T12:32:16.667Z"
   },
   {
    "duration": 52,
    "start_time": "2021-07-11T12:32:30.048Z"
   },
   {
    "duration": 9,
    "start_time": "2021-07-11T12:33:55.820Z"
   },
   {
    "duration": 438,
    "start_time": "2021-07-11T12:34:19.300Z"
   },
   {
    "duration": 553,
    "start_time": "2021-07-11T12:34:52.425Z"
   },
   {
    "duration": 470,
    "start_time": "2021-07-11T12:35:04.721Z"
   },
   {
    "duration": 558,
    "start_time": "2021-07-11T12:35:19.125Z"
   },
   {
    "duration": 27,
    "start_time": "2021-07-11T12:35:55.130Z"
   },
   {
    "duration": 452,
    "start_time": "2021-07-11T12:40:44.365Z"
   },
   {
    "duration": 439,
    "start_time": "2021-07-11T12:41:07.285Z"
   },
   {
    "duration": 422,
    "start_time": "2021-07-11T12:41:43.968Z"
   },
   {
    "duration": 35,
    "start_time": "2021-07-11T12:45:15.962Z"
   },
   {
    "duration": 374,
    "start_time": "2021-07-11T12:45:38.866Z"
   },
   {
    "duration": 984,
    "start_time": "2021-07-11T12:45:52.247Z"
   },
   {
    "duration": 34,
    "start_time": "2021-07-11T12:46:08.771Z"
   },
   {
    "duration": 306,
    "start_time": "2021-07-14T08:07:26.120Z"
   },
   {
    "duration": 1321,
    "start_time": "2021-07-14T08:07:33.353Z"
   },
   {
    "duration": 46,
    "start_time": "2021-07-14T08:07:34.676Z"
   },
   {
    "duration": 32,
    "start_time": "2021-07-14T08:07:34.725Z"
   },
   {
    "duration": 13,
    "start_time": "2021-07-14T08:07:34.760Z"
   },
   {
    "duration": 40,
    "start_time": "2021-07-14T08:07:34.776Z"
   },
   {
    "duration": 6099,
    "start_time": "2021-07-14T08:07:34.819Z"
   },
   {
    "duration": 4443,
    "start_time": "2021-07-14T08:07:36.478Z"
   },
   {
    "duration": 4430,
    "start_time": "2021-07-14T08:07:36.492Z"
   },
   {
    "duration": 4421,
    "start_time": "2021-07-14T08:07:36.503Z"
   },
   {
    "duration": 4418,
    "start_time": "2021-07-14T08:07:36.507Z"
   },
   {
    "duration": 4414,
    "start_time": "2021-07-14T08:07:36.512Z"
   },
   {
    "duration": 4413,
    "start_time": "2021-07-14T08:07:36.515Z"
   },
   {
    "duration": 4409,
    "start_time": "2021-07-14T08:07:36.520Z"
   },
   {
    "duration": 4407,
    "start_time": "2021-07-14T08:07:36.523Z"
   },
   {
    "duration": 4405,
    "start_time": "2021-07-14T08:07:36.526Z"
   },
   {
    "duration": 4402,
    "start_time": "2021-07-14T08:07:36.531Z"
   },
   {
    "duration": 4399,
    "start_time": "2021-07-14T08:07:36.535Z"
   },
   {
    "duration": 9,
    "start_time": "2021-07-14T08:08:07.833Z"
   },
   {
    "duration": 10,
    "start_time": "2021-07-14T08:08:20.744Z"
   },
   {
    "duration": 4,
    "start_time": "2021-07-14T08:08:24.376Z"
   },
   {
    "duration": 10,
    "start_time": "2021-07-14T08:08:34.656Z"
   },
   {
    "duration": 274,
    "start_time": "2021-07-14T08:08:42.872Z"
   },
   {
    "duration": 9,
    "start_time": "2021-07-14T08:08:50.953Z"
   },
   {
    "duration": 12,
    "start_time": "2021-07-14T08:08:53.928Z"
   },
   {
    "duration": 8,
    "start_time": "2021-07-14T08:08:57.123Z"
   },
   {
    "duration": 11,
    "start_time": "2021-07-14T08:09:00.577Z"
   },
   {
    "duration": 5,
    "start_time": "2021-07-14T08:09:06.622Z"
   },
   {
    "duration": 14,
    "start_time": "2021-07-14T08:09:11.480Z"
   },
   {
    "duration": 490,
    "start_time": "2021-07-14T08:09:48.666Z"
   },
   {
    "duration": 618,
    "start_time": "2021-07-14T08:11:09.666Z"
   },
   {
    "duration": 662,
    "start_time": "2021-07-14T08:11:51.907Z"
   },
   {
    "duration": 778,
    "start_time": "2021-07-14T08:11:57.243Z"
   },
   {
    "duration": 840,
    "start_time": "2021-07-14T08:12:22.887Z"
   },
   {
    "duration": 879,
    "start_time": "2021-07-14T08:13:10.476Z"
   },
   {
    "duration": 845,
    "start_time": "2021-07-14T08:13:46.172Z"
   },
   {
    "duration": 886,
    "start_time": "2021-07-14T08:14:40.375Z"
   },
   {
    "duration": 815,
    "start_time": "2021-07-14T08:14:48.702Z"
   },
   {
    "duration": 826,
    "start_time": "2021-07-14T08:14:58.621Z"
   },
   {
    "duration": 941,
    "start_time": "2021-07-14T08:15:07.532Z"
   },
   {
    "duration": 812,
    "start_time": "2021-07-14T08:15:16.116Z"
   },
   {
    "duration": 889,
    "start_time": "2021-07-14T08:15:28.356Z"
   },
   {
    "duration": 495,
    "start_time": "2021-07-14T08:15:40.500Z"
   },
   {
    "duration": 405,
    "start_time": "2021-07-14T08:15:47.997Z"
   },
   {
    "duration": 871,
    "start_time": "2021-07-14T08:16:57.407Z"
   },
   {
    "duration": 824,
    "start_time": "2021-07-14T08:17:05.726Z"
   },
   {
    "duration": 898,
    "start_time": "2021-07-14T08:17:14.677Z"
   },
   {
    "duration": 801,
    "start_time": "2021-07-14T08:17:27.670Z"
   },
   {
    "duration": 889,
    "start_time": "2021-07-14T08:17:46.242Z"
   },
   {
    "duration": 905,
    "start_time": "2021-07-14T08:18:01.482Z"
   },
   {
    "duration": 945,
    "start_time": "2021-07-14T08:18:49.047Z"
   },
   {
    "duration": 11,
    "start_time": "2021-07-14T08:18:55.071Z"
   },
   {
    "duration": 12,
    "start_time": "2021-07-14T08:19:02.223Z"
   },
   {
    "duration": 938,
    "start_time": "2021-07-14T08:25:32.267Z"
   },
   {
    "duration": 1340,
    "start_time": "2021-07-14T08:25:55.868Z"
   },
   {
    "duration": 975,
    "start_time": "2021-07-14T08:26:07.956Z"
   },
   {
    "duration": 958,
    "start_time": "2021-07-14T08:26:23.668Z"
   },
   {
    "duration": 907,
    "start_time": "2021-07-14T08:26:27.340Z"
   },
   {
    "duration": 878,
    "start_time": "2021-07-14T08:26:32.708Z"
   },
   {
    "duration": 878,
    "start_time": "2021-07-14T08:26:36.356Z"
   },
   {
    "duration": 5,
    "start_time": "2021-07-14T08:34:01.096Z"
   },
   {
    "duration": 681,
    "start_time": "2021-07-14T08:34:05.592Z"
   },
   {
    "duration": 31,
    "start_time": "2021-07-14T08:34:20.737Z"
   },
   {
    "duration": 5,
    "start_time": "2021-07-14T08:34:36.216Z"
   },
   {
    "duration": 30,
    "start_time": "2021-07-14T08:34:39.277Z"
   },
   {
    "duration": 1320,
    "start_time": "2021-07-14T08:35:15.591Z"
   },
   {
    "duration": 56,
    "start_time": "2021-07-14T08:35:16.917Z"
   },
   {
    "duration": 26,
    "start_time": "2021-07-14T08:35:16.976Z"
   },
   {
    "duration": 24,
    "start_time": "2021-07-14T08:35:17.005Z"
   },
   {
    "duration": 63,
    "start_time": "2021-07-14T08:35:17.031Z"
   },
   {
    "duration": 10,
    "start_time": "2021-07-14T08:35:17.097Z"
   },
   {
    "duration": 16,
    "start_time": "2021-07-14T08:35:17.111Z"
   },
   {
    "duration": 28,
    "start_time": "2021-07-14T08:35:17.131Z"
   },
   {
    "duration": 20,
    "start_time": "2021-07-14T08:35:17.162Z"
   },
   {
    "duration": 12,
    "start_time": "2021-07-14T08:35:17.186Z"
   },
   {
    "duration": 13,
    "start_time": "2021-07-14T08:35:17.201Z"
   },
   {
    "duration": 9,
    "start_time": "2021-07-14T08:35:17.217Z"
   },
   {
    "duration": 44,
    "start_time": "2021-07-14T08:35:17.264Z"
   },
   {
    "duration": 575,
    "start_time": "2021-07-14T08:35:17.311Z"
   },
   {
    "duration": 11,
    "start_time": "2021-07-14T08:35:17.888Z"
   },
   {
    "duration": 921,
    "start_time": "2021-07-14T08:35:17.901Z"
   },
   {
    "duration": 534,
    "start_time": "2021-07-14T08:36:36.940Z"
   },
   {
    "duration": 6872,
    "start_time": "2021-07-14T08:37:03.615Z"
   },
   {
    "duration": 6350,
    "start_time": "2021-07-14T08:37:19.230Z"
   },
   {
    "duration": 374,
    "start_time": "2021-07-14T08:40:34.635Z"
   },
   {
    "duration": 1438,
    "start_time": "2021-07-14T08:40:41.604Z"
   },
   {
    "duration": 52,
    "start_time": "2021-07-14T08:40:43.045Z"
   },
   {
    "duration": 27,
    "start_time": "2021-07-14T08:40:43.101Z"
   },
   {
    "duration": 41,
    "start_time": "2021-07-14T08:40:43.131Z"
   },
   {
    "duration": 43,
    "start_time": "2021-07-14T08:40:43.175Z"
   },
   {
    "duration": 37,
    "start_time": "2021-07-14T08:40:43.221Z"
   },
   {
    "duration": 1285,
    "start_time": "2021-07-14T08:45:51.911Z"
   },
   {
    "duration": 45,
    "start_time": "2021-07-14T08:45:53.199Z"
   },
   {
    "duration": 25,
    "start_time": "2021-07-14T08:45:53.247Z"
   },
   {
    "duration": 16,
    "start_time": "2021-07-14T08:45:53.275Z"
   },
   {
    "duration": 71,
    "start_time": "2021-07-14T08:45:53.293Z"
   },
   {
    "duration": 10,
    "start_time": "2021-07-14T08:45:53.367Z"
   },
   {
    "duration": 14,
    "start_time": "2021-07-14T08:45:53.379Z"
   },
   {
    "duration": 1346,
    "start_time": "2021-07-14T08:51:34.250Z"
   },
   {
    "duration": 46,
    "start_time": "2021-07-14T08:51:35.599Z"
   },
   {
    "duration": 36,
    "start_time": "2021-07-14T08:51:35.648Z"
   },
   {
    "duration": 14,
    "start_time": "2021-07-14T08:51:35.687Z"
   },
   {
    "duration": 73,
    "start_time": "2021-07-14T08:51:35.704Z"
   },
   {
    "duration": 11,
    "start_time": "2021-07-14T08:51:35.780Z"
   },
   {
    "duration": 11,
    "start_time": "2021-07-14T08:51:35.793Z"
   },
   {
    "duration": 9,
    "start_time": "2021-07-14T08:51:35.808Z"
   },
   {
    "duration": 38,
    "start_time": "2021-07-14T08:51:35.820Z"
   },
   {
    "duration": 16,
    "start_time": "2021-07-14T08:51:35.861Z"
   },
   {
    "duration": 9,
    "start_time": "2021-07-14T08:51:35.880Z"
   },
   {
    "duration": 15,
    "start_time": "2021-07-14T08:51:35.892Z"
   },
   {
    "duration": 10,
    "start_time": "2021-07-14T08:51:35.910Z"
   },
   {
    "duration": 60,
    "start_time": "2021-07-14T08:51:35.922Z"
   },
   {
    "duration": 292,
    "start_time": "2021-07-14T08:51:35.984Z"
   },
   {
    "duration": 529,
    "start_time": "2021-07-14T08:51:36.278Z"
   },
   {
    "duration": 10,
    "start_time": "2021-07-14T08:51:36.810Z"
   },
   {
    "duration": 875,
    "start_time": "2021-07-14T08:51:36.823Z"
   },
   {
    "duration": 268,
    "start_time": "2021-07-14T08:51:57.549Z"
   },
   {
    "duration": 409,
    "start_time": "2021-07-14T08:52:13.082Z"
   },
   {
    "duration": 525,
    "start_time": "2021-07-14T08:52:19.434Z"
   },
   {
    "duration": 455,
    "start_time": "2021-07-14T08:52:24.162Z"
   },
   {
    "duration": 24,
    "start_time": "2021-07-14T09:02:47.171Z"
   },
   {
    "duration": 6,
    "start_time": "2021-07-14T09:03:17.522Z"
   },
   {
    "duration": 23,
    "start_time": "2021-07-14T09:03:24.860Z"
   },
   {
    "duration": 19,
    "start_time": "2021-07-14T09:03:39.080Z"
   },
   {
    "duration": 21,
    "start_time": "2021-07-14T09:05:57.290Z"
   },
   {
    "duration": 25,
    "start_time": "2021-07-14T09:06:08.170Z"
   },
   {
    "duration": 29,
    "start_time": "2021-07-14T09:07:16.426Z"
   },
   {
    "duration": 25,
    "start_time": "2021-07-14T09:07:35.648Z"
   },
   {
    "duration": 425,
    "start_time": "2021-07-14T09:09:25.671Z"
   },
   {
    "duration": 281,
    "start_time": "2021-07-14T09:09:47.833Z"
   },
   {
    "duration": 21,
    "start_time": "2021-07-14T09:10:07.028Z"
   },
   {
    "duration": 14,
    "start_time": "2021-07-14T09:12:30.647Z"
   },
   {
    "duration": 16,
    "start_time": "2021-07-14T09:12:47.142Z"
   },
   {
    "duration": 22,
    "start_time": "2021-07-14T09:12:57.070Z"
   },
   {
    "duration": 283,
    "start_time": "2021-07-14T09:18:31.497Z"
   },
   {
    "duration": 257,
    "start_time": "2021-07-14T09:18:48.017Z"
   },
   {
    "duration": 371,
    "start_time": "2021-07-14T09:21:26.083Z"
   },
   {
    "duration": 308,
    "start_time": "2021-07-14T09:21:41.132Z"
   },
   {
    "duration": 327,
    "start_time": "2021-07-14T09:21:58.084Z"
   },
   {
    "duration": 30,
    "start_time": "2021-07-14T09:22:08.132Z"
   },
   {
    "duration": 60,
    "start_time": "2021-07-14T09:22:31.724Z"
   },
   {
    "duration": 713,
    "start_time": "2021-07-14T09:22:57.696Z"
   },
   {
    "duration": 267,
    "start_time": "2021-07-14T09:23:53.358Z"
   },
   {
    "duration": 87,
    "start_time": "2021-07-14T09:24:11.453Z"
   },
   {
    "duration": 21,
    "start_time": "2021-07-14T09:24:22.204Z"
   },
   {
    "duration": 342,
    "start_time": "2021-07-14T09:24:39.453Z"
   },
   {
    "duration": 60,
    "start_time": "2021-07-14T09:24:48.861Z"
   },
   {
    "duration": 11,
    "start_time": "2021-07-14T09:27:47.809Z"
   },
   {
    "duration": 22,
    "start_time": "2021-07-14T09:27:56.320Z"
   },
   {
    "duration": 23,
    "start_time": "2021-07-14T09:29:08.723Z"
   },
   {
    "duration": 74,
    "start_time": "2021-07-14T09:31:58.335Z"
   },
   {
    "duration": 272,
    "start_time": "2021-07-14T09:33:00.444Z"
   },
   {
    "duration": 67,
    "start_time": "2021-07-14T09:33:07.589Z"
   },
   {
    "duration": 22,
    "start_time": "2021-07-14T09:35:03.535Z"
   },
   {
    "duration": 14,
    "start_time": "2021-07-14T09:38:30.010Z"
   },
   {
    "duration": 22,
    "start_time": "2021-07-14T09:38:36.658Z"
   },
   {
    "duration": 19,
    "start_time": "2021-07-14T09:39:26.515Z"
   },
   {
    "duration": 17,
    "start_time": "2021-07-14T09:40:15.419Z"
   },
   {
    "duration": 19,
    "start_time": "2021-07-14T09:40:33.299Z"
   },
   {
    "duration": 265,
    "start_time": "2021-07-14T09:41:01.023Z"
   },
   {
    "duration": 289,
    "start_time": "2021-07-14T09:43:03.453Z"
   },
   {
    "duration": 15,
    "start_time": "2021-07-14T09:43:38.563Z"
   },
   {
    "duration": 48,
    "start_time": "2021-07-14T09:43:48.166Z"
   },
   {
    "duration": 274,
    "start_time": "2021-07-14T09:45:23.368Z"
   },
   {
    "duration": 66,
    "start_time": "2021-07-14T09:45:44.027Z"
   },
   {
    "duration": 872,
    "start_time": "2021-07-14T09:46:21.506Z"
   },
   {
    "duration": 76,
    "start_time": "2021-07-14T09:47:28.065Z"
   },
   {
    "duration": 337,
    "start_time": "2021-07-14T09:47:38.256Z"
   },
   {
    "duration": 480,
    "start_time": "2021-07-14T09:48:50.480Z"
   },
   {
    "duration": 448,
    "start_time": "2021-07-14T09:49:00.049Z"
   },
   {
    "duration": 428,
    "start_time": "2021-07-14T09:49:10.641Z"
   },
   {
    "duration": 528,
    "start_time": "2021-07-14T09:49:29.178Z"
   },
   {
    "duration": 464,
    "start_time": "2021-07-14T09:50:29.722Z"
   },
   {
    "duration": 423,
    "start_time": "2021-07-14T09:50:42.473Z"
   },
   {
    "duration": 23,
    "start_time": "2021-07-14T09:52:05.115Z"
   },
   {
    "duration": 83,
    "start_time": "2021-07-14T09:52:09.268Z"
   },
   {
    "duration": 643,
    "start_time": "2021-07-14T09:52:14.570Z"
   },
   {
    "duration": 20,
    "start_time": "2021-07-14T09:53:43.637Z"
   },
   {
    "duration": 449,
    "start_time": "2021-07-14T09:53:46.728Z"
   },
   {
    "duration": 465,
    "start_time": "2021-07-14T09:56:28.900Z"
   },
   {
    "duration": 468,
    "start_time": "2021-07-14T09:58:04.620Z"
   },
   {
    "duration": 518,
    "start_time": "2021-07-14T10:42:21.869Z"
   },
   {
    "duration": 53,
    "start_time": "2021-07-14T10:42:36.295Z"
   },
   {
    "duration": 480,
    "start_time": "2021-07-14T10:43:33.176Z"
   },
   {
    "duration": 493,
    "start_time": "2021-07-14T10:43:39.847Z"
   },
   {
    "duration": 456,
    "start_time": "2021-07-14T10:43:45.099Z"
   },
   {
    "duration": 4,
    "start_time": "2021-07-14T10:44:04.672Z"
   },
   {
    "duration": 466,
    "start_time": "2021-07-14T10:44:58.720Z"
   },
   {
    "duration": 89,
    "start_time": "2021-07-14T10:50:56.219Z"
   },
   {
    "duration": 10,
    "start_time": "2021-07-14T10:51:04.267Z"
   },
   {
    "duration": 29,
    "start_time": "2021-07-14T10:52:17.948Z"
   },
   {
    "duration": 15,
    "start_time": "2021-07-14T10:53:28.381Z"
   },
   {
    "duration": 52,
    "start_time": "2021-07-14T10:53:39.789Z"
   },
   {
    "duration": 32,
    "start_time": "2021-07-14T10:55:50.762Z"
   },
   {
    "duration": 31,
    "start_time": "2021-07-14T10:56:25.567Z"
   },
   {
    "duration": 21,
    "start_time": "2021-07-14T11:00:16.626Z"
   },
   {
    "duration": 25,
    "start_time": "2021-07-14T11:01:26.834Z"
   },
   {
    "duration": 24,
    "start_time": "2021-07-14T11:02:12.090Z"
   },
   {
    "duration": 22,
    "start_time": "2021-07-14T11:04:23.609Z"
   },
   {
    "duration": 22,
    "start_time": "2021-07-14T11:05:06.276Z"
   },
   {
    "duration": 21,
    "start_time": "2021-07-14T11:05:24.779Z"
   },
   {
    "duration": 21,
    "start_time": "2021-07-14T11:05:35.595Z"
   },
   {
    "duration": 11,
    "start_time": "2021-07-14T11:10:41.480Z"
   },
   {
    "duration": 20,
    "start_time": "2021-07-14T11:10:50.608Z"
   },
   {
    "duration": 14,
    "start_time": "2021-07-14T11:11:34.203Z"
   },
   {
    "duration": 7,
    "start_time": "2021-07-14T11:11:52.936Z"
   },
   {
    "duration": 7,
    "start_time": "2021-07-14T11:12:03.209Z"
   },
   {
    "duration": 8,
    "start_time": "2021-07-14T11:12:05.841Z"
   },
   {
    "duration": 291,
    "start_time": "2021-07-14T11:12:37.872Z"
   },
   {
    "duration": 332,
    "start_time": "2021-07-14T11:12:51.572Z"
   },
   {
    "duration": 7,
    "start_time": "2021-07-14T11:13:01.976Z"
   },
   {
    "duration": 9,
    "start_time": "2021-07-14T11:13:04.638Z"
   },
   {
    "duration": 20,
    "start_time": "2021-07-14T11:13:09.875Z"
   },
   {
    "duration": 27,
    "start_time": "2021-07-14T11:13:12.284Z"
   },
   {
    "duration": 20,
    "start_time": "2021-07-14T11:15:16.268Z"
   },
   {
    "duration": 19,
    "start_time": "2021-07-14T11:15:39.771Z"
   },
   {
    "duration": 10,
    "start_time": "2021-07-14T11:16:25.716Z"
   },
   {
    "duration": 7,
    "start_time": "2021-07-14T11:16:43.004Z"
   },
   {
    "duration": 104,
    "start_time": "2021-07-14T11:16:44.379Z"
   },
   {
    "duration": 10,
    "start_time": "2021-07-14T11:16:51.684Z"
   },
   {
    "duration": 14,
    "start_time": "2021-07-14T11:16:56.813Z"
   },
   {
    "duration": 9,
    "start_time": "2021-07-14T11:16:59.675Z"
   },
   {
    "duration": 8,
    "start_time": "2021-07-14T11:17:01.716Z"
   },
   {
    "duration": 8,
    "start_time": "2021-07-14T11:17:03.611Z"
   },
   {
    "duration": 21,
    "start_time": "2021-07-14T11:18:12.274Z"
   },
   {
    "duration": 20,
    "start_time": "2021-07-14T11:18:33.924Z"
   },
   {
    "duration": 21,
    "start_time": "2021-07-14T11:18:58.868Z"
   },
   {
    "duration": 21,
    "start_time": "2021-07-14T11:19:32.581Z"
   },
   {
    "duration": 25,
    "start_time": "2021-07-14T11:25:10.366Z"
   },
   {
    "duration": 21,
    "start_time": "2021-07-14T11:34:20.182Z"
   },
   {
    "duration": 29,
    "start_time": "2021-07-14T11:35:24.231Z"
   },
   {
    "duration": 21,
    "start_time": "2021-07-14T11:35:48.398Z"
   },
   {
    "duration": 29,
    "start_time": "2021-07-14T11:36:31.534Z"
   },
   {
    "duration": 28,
    "start_time": "2021-07-14T11:39:11.673Z"
   },
   {
    "duration": 452,
    "start_time": "2021-07-14T11:44:08.517Z"
   },
   {
    "duration": 8,
    "start_time": "2021-07-14T11:44:25.890Z"
   },
   {
    "duration": 30,
    "start_time": "2021-07-14T11:44:33.324Z"
   },
   {
    "duration": 14,
    "start_time": "2021-07-14T11:44:47.113Z"
   },
   {
    "duration": 273,
    "start_time": "2021-07-14T12:02:24.231Z"
   },
   {
    "duration": 53,
    "start_time": "2021-07-14T12:02:33.663Z"
   },
   {
    "duration": 9,
    "start_time": "2021-07-14T12:03:44.490Z"
   },
   {
    "duration": 696,
    "start_time": "2021-07-14T12:11:32.781Z"
   },
   {
    "duration": 607,
    "start_time": "2021-07-14T12:12:18.311Z"
   },
   {
    "duration": 670,
    "start_time": "2021-07-14T12:13:13.338Z"
   },
   {
    "duration": 318,
    "start_time": "2021-07-14T12:14:20.271Z"
   },
   {
    "duration": 317,
    "start_time": "2021-07-14T12:14:32.446Z"
   },
   {
    "duration": 1193,
    "start_time": "2021-07-14T12:14:53.775Z"
   },
   {
    "duration": 684,
    "start_time": "2021-07-14T12:16:03.567Z"
   },
   {
    "duration": 264,
    "start_time": "2021-07-14T12:17:14.627Z"
   },
   {
    "duration": 343,
    "start_time": "2021-07-14T12:17:27.064Z"
   },
   {
    "duration": 419,
    "start_time": "2021-07-14T12:18:07.240Z"
   },
   {
    "duration": 402,
    "start_time": "2021-07-14T12:20:07.833Z"
   },
   {
    "duration": 412,
    "start_time": "2021-07-14T12:27:00.981Z"
   },
   {
    "duration": 500,
    "start_time": "2021-07-14T12:27:49.342Z"
   },
   {
    "duration": 231,
    "start_time": "2021-07-14T12:28:04.702Z"
   },
   {
    "duration": 407,
    "start_time": "2021-07-14T12:28:14.653Z"
   },
   {
    "duration": 559,
    "start_time": "2021-07-14T12:38:24.821Z"
   },
   {
    "duration": 22,
    "start_time": "2021-07-14T12:42:21.608Z"
   },
   {
    "duration": 288,
    "start_time": "2021-07-14T12:44:22.927Z"
   },
   {
    "duration": 21,
    "start_time": "2021-07-14T12:44:35.982Z"
   },
   {
    "duration": 281,
    "start_time": "2021-07-14T12:44:59.221Z"
   },
   {
    "duration": 622,
    "start_time": "2021-07-14T12:45:25.228Z"
   },
   {
    "duration": 301,
    "start_time": "2021-07-14T12:46:51.961Z"
   },
   {
    "duration": 612,
    "start_time": "2021-07-14T12:48:43.483Z"
   },
   {
    "duration": 590,
    "start_time": "2021-07-14T12:50:42.035Z"
   },
   {
    "duration": 12,
    "start_time": "2021-07-14T12:50:56.557Z"
   },
   {
    "duration": 21,
    "start_time": "2021-07-14T13:25:34.623Z"
   },
   {
    "duration": 21,
    "start_time": "2021-07-14T13:27:23.171Z"
   },
   {
    "duration": 682,
    "start_time": "2021-07-14T13:28:04.970Z"
   },
   {
    "duration": 7,
    "start_time": "2021-07-14T13:43:34.684Z"
   },
   {
    "duration": 7,
    "start_time": "2021-07-14T13:43:38.940Z"
   },
   {
    "duration": 7,
    "start_time": "2021-07-14T13:43:52.546Z"
   },
   {
    "duration": 11,
    "start_time": "2021-07-14T13:44:10.526Z"
   },
   {
    "duration": 9,
    "start_time": "2021-07-14T13:59:28.014Z"
   },
   {
    "duration": 22,
    "start_time": "2021-07-14T13:59:35.726Z"
   },
   {
    "duration": 698,
    "start_time": "2021-07-14T13:59:46.029Z"
   },
   {
    "duration": 9,
    "start_time": "2021-07-14T14:17:33.072Z"
   },
   {
    "duration": 21,
    "start_time": "2021-07-14T14:17:45.292Z"
   },
   {
    "duration": 748,
    "start_time": "2021-07-14T14:17:55.382Z"
   },
   {
    "duration": 19,
    "start_time": "2021-07-14T14:31:57.471Z"
   },
   {
    "duration": 304,
    "start_time": "2021-07-14T14:32:10.744Z"
   },
   {
    "duration": 690,
    "start_time": "2021-07-14T14:40:08.571Z"
   },
   {
    "duration": 18,
    "start_time": "2021-07-14T14:40:33.839Z"
   },
   {
    "duration": 20,
    "start_time": "2021-07-14T14:40:42.708Z"
   },
   {
    "duration": 618,
    "start_time": "2021-07-14T14:44:25.767Z"
   },
   {
    "duration": 494,
    "start_time": "2021-07-14T14:45:13.783Z"
   },
   {
    "duration": 470,
    "start_time": "2021-07-14T14:45:37.239Z"
   },
   {
    "duration": 631,
    "start_time": "2021-07-14T14:46:01.992Z"
   },
   {
    "duration": 736,
    "start_time": "2021-07-14T14:46:47.888Z"
   },
   {
    "duration": 815,
    "start_time": "2021-07-14T18:26:37.290Z"
   },
   {
    "duration": 85,
    "start_time": "2021-07-14T18:27:31.701Z"
   },
   {
    "duration": 738,
    "start_time": "2021-07-14T18:27:39.649Z"
   },
   {
    "duration": 714,
    "start_time": "2021-07-14T18:28:32.214Z"
   },
   {
    "duration": 845,
    "start_time": "2021-07-14T18:30:04.694Z"
   },
   {
    "duration": 723,
    "start_time": "2021-07-14T18:30:13.590Z"
   },
   {
    "duration": 722,
    "start_time": "2021-07-14T18:30:23.119Z"
   },
   {
    "duration": 715,
    "start_time": "2021-07-14T18:30:31.262Z"
   },
   {
    "duration": 974,
    "start_time": "2021-07-14T18:30:42.624Z"
   },
   {
    "duration": 54,
    "start_time": "2021-07-14T18:53:34.037Z"
   },
   {
    "duration": 34,
    "start_time": "2021-07-14T18:53:56.320Z"
   },
   {
    "duration": 26,
    "start_time": "2021-07-14T18:57:04.974Z"
   },
   {
    "duration": 23,
    "start_time": "2021-07-14T18:57:32.960Z"
   },
   {
    "duration": 24,
    "start_time": "2021-07-14T18:57:52.808Z"
   },
   {
    "duration": 757,
    "start_time": "2021-07-14T19:08:51.039Z"
   },
   {
    "duration": 792,
    "start_time": "2021-07-14T19:17:27.066Z"
   },
   {
    "duration": 775,
    "start_time": "2021-07-14T19:18:08.685Z"
   },
   {
    "duration": 25,
    "start_time": "2021-07-14T19:20:25.562Z"
   },
   {
    "duration": 25,
    "start_time": "2021-07-14T19:21:41.159Z"
   },
   {
    "duration": 775,
    "start_time": "2021-07-14T19:23:10.055Z"
   },
   {
    "duration": 777,
    "start_time": "2021-07-14T19:24:41.008Z"
   },
   {
    "duration": 23,
    "start_time": "2021-07-14T19:26:55.395Z"
   },
   {
    "duration": 854,
    "start_time": "2021-07-14T19:27:31.539Z"
   },
   {
    "duration": 18,
    "start_time": "2021-07-14T19:28:54.492Z"
   },
   {
    "duration": 916,
    "start_time": "2021-07-14T19:29:57.930Z"
   },
   {
    "duration": 250,
    "start_time": "2021-07-14T19:30:46.268Z"
   },
   {
    "duration": 711,
    "start_time": "2021-07-14T19:31:28.500Z"
   },
   {
    "duration": 20,
    "start_time": "2021-07-14T19:31:57.677Z"
   },
   {
    "duration": 770,
    "start_time": "2021-07-14T19:32:39.412Z"
   },
   {
    "duration": 903,
    "start_time": "2021-07-14T19:33:36.444Z"
   },
   {
    "duration": 730,
    "start_time": "2021-07-14T19:35:58.917Z"
   },
   {
    "duration": 796,
    "start_time": "2021-07-14T19:36:46.454Z"
   },
   {
    "duration": 738,
    "start_time": "2021-07-14T19:37:04.062Z"
   },
   {
    "duration": 932,
    "start_time": "2021-07-14T19:39:21.911Z"
   },
   {
    "duration": 20,
    "start_time": "2021-07-14T19:39:56.928Z"
   },
   {
    "duration": 20,
    "start_time": "2021-07-14T19:40:29.536Z"
   },
   {
    "duration": 394,
    "start_time": "2021-07-14T19:40:49.905Z"
   },
   {
    "duration": 299,
    "start_time": "2021-07-14T19:40:59.352Z"
   },
   {
    "duration": 26,
    "start_time": "2021-07-14T19:41:27.641Z"
   },
   {
    "duration": 19,
    "start_time": "2021-07-14T19:41:51.528Z"
   },
   {
    "duration": 82,
    "start_time": "2021-07-14T19:42:08.554Z"
   },
   {
    "duration": 407,
    "start_time": "2021-07-14T19:42:14.337Z"
   },
   {
    "duration": 28,
    "start_time": "2021-07-14T19:42:27.481Z"
   },
   {
    "duration": 40,
    "start_time": "2021-07-14T19:43:00.849Z"
   },
   {
    "duration": 77,
    "start_time": "2021-07-14T19:43:29.546Z"
   },
   {
    "duration": 835,
    "start_time": "2021-07-14T19:46:39.486Z"
   },
   {
    "duration": 818,
    "start_time": "2021-07-14T19:46:48.380Z"
   },
   {
    "duration": 825,
    "start_time": "2021-07-14T19:47:12.660Z"
   },
   {
    "duration": 4,
    "start_time": "2021-07-14T19:49:30.738Z"
   },
   {
    "duration": 903,
    "start_time": "2021-07-14T19:49:40.094Z"
   },
   {
    "duration": 916,
    "start_time": "2021-07-14T19:59:35.524Z"
   },
   {
    "duration": 774,
    "start_time": "2021-07-14T19:59:50.744Z"
   },
   {
    "duration": 794,
    "start_time": "2021-07-14T20:00:31.564Z"
   },
   {
    "duration": 782,
    "start_time": "2021-07-14T20:06:38.042Z"
   },
   {
    "duration": 787,
    "start_time": "2021-07-14T20:07:12.154Z"
   },
   {
    "duration": 812,
    "start_time": "2021-07-14T20:08:18.122Z"
   },
   {
    "duration": 21,
    "start_time": "2021-07-14T20:26:14.567Z"
   },
   {
    "duration": 18,
    "start_time": "2021-07-14T20:29:38.370Z"
   },
   {
    "duration": 15,
    "start_time": "2021-07-14T20:30:34.419Z"
   },
   {
    "duration": 24,
    "start_time": "2021-07-14T20:31:03.697Z"
   },
   {
    "duration": 266,
    "start_time": "2021-07-14T20:31:33.003Z"
   },
   {
    "duration": 276,
    "start_time": "2021-07-14T20:34:16.099Z"
   },
   {
    "duration": 262,
    "start_time": "2021-07-14T20:34:23.676Z"
   },
   {
    "duration": 23,
    "start_time": "2021-07-14T20:34:44.203Z"
   },
   {
    "duration": 11,
    "start_time": "2021-07-14T20:34:59.406Z"
   },
   {
    "duration": 11,
    "start_time": "2021-07-14T20:35:15.651Z"
   },
   {
    "duration": 280,
    "start_time": "2021-07-14T20:35:52.093Z"
   },
   {
    "duration": 21,
    "start_time": "2021-07-14T20:36:11.152Z"
   },
   {
    "duration": 36,
    "start_time": "2021-07-14T20:36:36.148Z"
   },
   {
    "duration": 24,
    "start_time": "2021-07-14T20:38:00.247Z"
   },
   {
    "duration": 30,
    "start_time": "2021-07-14T20:38:08.528Z"
   },
   {
    "duration": 11,
    "start_time": "2021-07-14T20:38:14.046Z"
   },
   {
    "duration": 6,
    "start_time": "2021-07-14T20:41:10.344Z"
   },
   {
    "duration": 7455,
    "start_time": "2021-07-14T20:42:18.282Z"
   },
   {
    "duration": 8055,
    "start_time": "2021-07-14T20:42:35.562Z"
   },
   {
    "duration": 22,
    "start_time": "2021-07-14T20:42:53.986Z"
   },
   {
    "duration": 86,
    "start_time": "2021-07-14T20:45:14.039Z"
   },
   {
    "duration": 31,
    "start_time": "2021-07-14T20:45:24.705Z"
   },
   {
    "duration": 7,
    "start_time": "2021-07-14T20:47:12.779Z"
   },
   {
    "duration": 321,
    "start_time": "2021-07-14T20:52:40.076Z"
   },
   {
    "duration": 32,
    "start_time": "2021-07-14T20:52:48.567Z"
   },
   {
    "duration": 20,
    "start_time": "2021-07-14T20:55:11.426Z"
   },
   {
    "duration": 686,
    "start_time": "2021-07-14T21:15:14.002Z"
   },
   {
    "duration": 671,
    "start_time": "2021-07-14T21:15:20.263Z"
   },
   {
    "duration": 663,
    "start_time": "2021-07-14T21:16:02.884Z"
   },
   {
    "duration": 858,
    "start_time": "2021-07-14T21:16:57.374Z"
   },
   {
    "duration": 646,
    "start_time": "2021-07-14T21:17:48.512Z"
   },
   {
    "duration": 909,
    "start_time": "2021-07-14T21:19:01.893Z"
   },
   {
    "duration": 629,
    "start_time": "2021-07-14T21:19:25.967Z"
   },
   {
    "duration": 783,
    "start_time": "2021-07-14T21:19:42.078Z"
   },
   {
    "duration": 720,
    "start_time": "2021-07-14T21:21:00.831Z"
   },
   {
    "duration": 733,
    "start_time": "2021-07-14T21:21:09.039Z"
   },
   {
    "duration": 691,
    "start_time": "2021-07-14T21:21:57.615Z"
   },
   {
    "duration": 138,
    "start_time": "2021-07-14T21:25:56.019Z"
   },
   {
    "duration": 712,
    "start_time": "2021-07-14T21:26:06.787Z"
   },
   {
    "duration": 658,
    "start_time": "2021-07-14T21:26:52.564Z"
   },
   {
    "duration": 615,
    "start_time": "2021-07-14T21:37:42.699Z"
   },
   {
    "duration": 695,
    "start_time": "2021-07-14T21:38:28.216Z"
   },
   {
    "duration": 677,
    "start_time": "2021-07-14T21:38:57.607Z"
   },
   {
    "duration": 660,
    "start_time": "2021-07-14T21:39:18.256Z"
   },
   {
    "duration": 672,
    "start_time": "2021-07-14T21:40:03.041Z"
   },
   {
    "duration": 660,
    "start_time": "2021-07-14T21:40:41.857Z"
   },
   {
    "duration": 626,
    "start_time": "2021-07-14T21:41:10.074Z"
   },
   {
    "duration": 655,
    "start_time": "2021-07-14T21:42:57.480Z"
   },
   {
    "duration": 11,
    "start_time": "2021-07-14T21:52:54.888Z"
   },
   {
    "duration": 32,
    "start_time": "2021-07-14T21:54:40.077Z"
   },
   {
    "duration": 731,
    "start_time": "2021-07-14T21:57:17.828Z"
   },
   {
    "duration": 38,
    "start_time": "2021-07-14T21:58:11.084Z"
   },
   {
    "duration": 647,
    "start_time": "2021-07-14T22:02:09.871Z"
   },
   {
    "duration": 808,
    "start_time": "2021-07-14T22:03:22.688Z"
   },
   {
    "duration": 644,
    "start_time": "2021-07-14T22:04:26.953Z"
   },
   {
    "duration": 26,
    "start_time": "2021-07-14T22:07:42.798Z"
   },
   {
    "duration": 28,
    "start_time": "2021-07-14T22:08:12.899Z"
   },
   {
    "duration": 35,
    "start_time": "2021-07-14T22:08:22.071Z"
   },
   {
    "duration": 26,
    "start_time": "2021-07-14T22:08:45.202Z"
   },
   {
    "duration": 31,
    "start_time": "2021-07-14T22:08:54.346Z"
   },
   {
    "duration": 6,
    "start_time": "2021-07-14T22:09:08.508Z"
   },
   {
    "duration": 697,
    "start_time": "2021-07-14T22:10:25.861Z"
   },
   {
    "duration": 720,
    "start_time": "2021-07-14T22:10:59.564Z"
   },
   {
    "duration": 715,
    "start_time": "2021-07-14T22:11:34.556Z"
   },
   {
    "duration": 90,
    "start_time": "2021-07-14T22:12:09.711Z"
   },
   {
    "duration": 769,
    "start_time": "2021-07-14T22:12:17.215Z"
   },
   {
    "duration": 421,
    "start_time": "2021-07-14T22:13:04.777Z"
   },
   {
    "duration": 31,
    "start_time": "2021-07-14T22:13:30.547Z"
   },
   {
    "duration": 35,
    "start_time": "2021-07-14T22:14:54.142Z"
   },
   {
    "duration": 78,
    "start_time": "2021-07-14T22:15:26.664Z"
   },
   {
    "duration": 33,
    "start_time": "2021-07-14T22:15:37.382Z"
   },
   {
    "duration": 32,
    "start_time": "2021-07-14T22:15:50.583Z"
   },
   {
    "duration": 801,
    "start_time": "2021-07-14T22:16:09.384Z"
   },
   {
    "duration": 700,
    "start_time": "2021-07-14T22:17:48.121Z"
   },
   {
    "duration": 692,
    "start_time": "2021-07-14T22:17:58.128Z"
   },
   {
    "duration": 86,
    "start_time": "2021-07-14T22:21:01.060Z"
   },
   {
    "duration": 35,
    "start_time": "2021-07-14T22:39:38.057Z"
   },
   {
    "duration": 42,
    "start_time": "2021-07-14T22:40:02.400Z"
   },
   {
    "duration": 765,
    "start_time": "2021-07-14T22:42:31.778Z"
   },
   {
    "duration": 1350,
    "start_time": "2021-07-15T07:03:13.777Z"
   },
   {
    "duration": 48,
    "start_time": "2021-07-15T07:03:15.129Z"
   },
   {
    "duration": 28,
    "start_time": "2021-07-15T07:03:15.179Z"
   },
   {
    "duration": 17,
    "start_time": "2021-07-15T07:03:15.210Z"
   },
   {
    "duration": 68,
    "start_time": "2021-07-15T07:03:15.230Z"
   },
   {
    "duration": 9,
    "start_time": "2021-07-15T07:03:15.300Z"
   },
   {
    "duration": 13,
    "start_time": "2021-07-15T07:03:15.312Z"
   },
   {
    "duration": 37,
    "start_time": "2021-07-15T07:03:15.329Z"
   },
   {
    "duration": 8647,
    "start_time": "2021-07-15T07:03:15.368Z"
   },
   {
    "duration": 1868,
    "start_time": "2021-07-15T07:03:22.151Z"
   },
   {
    "duration": 1866,
    "start_time": "2021-07-15T07:03:22.155Z"
   },
   {
    "duration": 1865,
    "start_time": "2021-07-15T07:03:22.158Z"
   },
   {
    "duration": 1864,
    "start_time": "2021-07-15T07:03:22.162Z"
   },
   {
    "duration": 1863,
    "start_time": "2021-07-15T07:03:22.164Z"
   },
   {
    "duration": 1862,
    "start_time": "2021-07-15T07:03:22.167Z"
   },
   {
    "duration": 1861,
    "start_time": "2021-07-15T07:03:22.170Z"
   },
   {
    "duration": 1859,
    "start_time": "2021-07-15T07:03:22.174Z"
   },
   {
    "duration": 1855,
    "start_time": "2021-07-15T07:03:22.180Z"
   },
   {
    "duration": 1850,
    "start_time": "2021-07-15T07:03:22.187Z"
   },
   {
    "duration": 1850,
    "start_time": "2021-07-15T07:03:22.189Z"
   },
   {
    "duration": 1848,
    "start_time": "2021-07-15T07:03:22.193Z"
   },
   {
    "duration": 1847,
    "start_time": "2021-07-15T07:03:22.196Z"
   },
   {
    "duration": 1846,
    "start_time": "2021-07-15T07:03:22.199Z"
   },
   {
    "duration": 1845,
    "start_time": "2021-07-15T07:03:22.202Z"
   },
   {
    "duration": 1844,
    "start_time": "2021-07-15T07:03:22.205Z"
   },
   {
    "duration": 1842,
    "start_time": "2021-07-15T07:03:22.209Z"
   },
   {
    "duration": 1842,
    "start_time": "2021-07-15T07:03:22.211Z"
   },
   {
    "duration": 1837,
    "start_time": "2021-07-15T07:03:22.218Z"
   },
   {
    "duration": 1835,
    "start_time": "2021-07-15T07:03:22.221Z"
   },
   {
    "duration": 1834,
    "start_time": "2021-07-15T07:03:22.224Z"
   },
   {
    "duration": 1834,
    "start_time": "2021-07-15T07:03:22.227Z"
   },
   {
    "duration": 1832,
    "start_time": "2021-07-15T07:03:22.230Z"
   },
   {
    "duration": 1832,
    "start_time": "2021-07-15T07:03:22.232Z"
   },
   {
    "duration": 364,
    "start_time": "2021-07-15T07:04:39.864Z"
   },
   {
    "duration": 4,
    "start_time": "2021-07-15T07:04:59.846Z"
   },
   {
    "duration": 34,
    "start_time": "2021-07-15T07:05:04.925Z"
   },
   {
    "duration": 354,
    "start_time": "2021-07-15T07:06:33.306Z"
   },
   {
    "duration": 334,
    "start_time": "2021-07-15T07:06:52.393Z"
   },
   {
    "duration": 12,
    "start_time": "2021-07-15T07:07:01.616Z"
   },
   {
    "duration": 9,
    "start_time": "2021-07-15T07:07:03.039Z"
   },
   {
    "duration": 8,
    "start_time": "2021-07-15T07:07:06.882Z"
   },
   {
    "duration": 6,
    "start_time": "2021-07-15T07:07:10.232Z"
   },
   {
    "duration": 328,
    "start_time": "2021-07-15T07:07:11.951Z"
   },
   {
    "duration": 14,
    "start_time": "2021-07-15T07:07:21.793Z"
   },
   {
    "duration": 14,
    "start_time": "2021-07-15T07:08:09.317Z"
   },
   {
    "duration": 9,
    "start_time": "2021-07-15T07:08:35.677Z"
   },
   {
    "duration": 47,
    "start_time": "2021-07-15T07:08:35.689Z"
   },
   {
    "duration": 31,
    "start_time": "2021-07-15T07:08:35.739Z"
   },
   {
    "duration": 15,
    "start_time": "2021-07-15T07:08:35.773Z"
   },
   {
    "duration": 72,
    "start_time": "2021-07-15T07:08:35.790Z"
   },
   {
    "duration": 9,
    "start_time": "2021-07-15T07:08:35.864Z"
   },
   {
    "duration": 14,
    "start_time": "2021-07-15T07:08:35.876Z"
   },
   {
    "duration": 18,
    "start_time": "2021-07-15T07:08:35.893Z"
   },
   {
    "duration": 10034,
    "start_time": "2021-07-15T07:08:35.914Z"
   },
   {
    "duration": 1944,
    "start_time": "2021-07-15T07:08:44.009Z"
   },
   {
    "duration": 1917,
    "start_time": "2021-07-15T07:08:44.038Z"
   },
   {
    "duration": 1902,
    "start_time": "2021-07-15T07:08:44.055Z"
   },
   {
    "duration": 1889,
    "start_time": "2021-07-15T07:08:44.069Z"
   },
   {
    "duration": 1874,
    "start_time": "2021-07-15T07:08:44.086Z"
   },
   {
    "duration": 1859,
    "start_time": "2021-07-15T07:08:44.102Z"
   },
   {
    "duration": 1849,
    "start_time": "2021-07-15T07:08:44.116Z"
   },
   {
    "duration": 1838,
    "start_time": "2021-07-15T07:08:44.129Z"
   },
   {
    "duration": 1834,
    "start_time": "2021-07-15T07:08:44.134Z"
   },
   {
    "duration": 1819,
    "start_time": "2021-07-15T07:08:44.150Z"
   },
   {
    "duration": 1808,
    "start_time": "2021-07-15T07:08:44.162Z"
   },
   {
    "duration": 1796,
    "start_time": "2021-07-15T07:08:44.176Z"
   },
   {
    "duration": 1794,
    "start_time": "2021-07-15T07:08:44.179Z"
   },
   {
    "duration": 1780,
    "start_time": "2021-07-15T07:08:44.194Z"
   },
   {
    "duration": 1776,
    "start_time": "2021-07-15T07:08:44.199Z"
   },
   {
    "duration": 1772,
    "start_time": "2021-07-15T07:08:44.205Z"
   },
   {
    "duration": 1770,
    "start_time": "2021-07-15T07:08:44.208Z"
   },
   {
    "duration": 1769,
    "start_time": "2021-07-15T07:08:44.211Z"
   },
   {
    "duration": 1765,
    "start_time": "2021-07-15T07:08:44.216Z"
   },
   {
    "duration": 1762,
    "start_time": "2021-07-15T07:08:44.220Z"
   },
   {
    "duration": 1761,
    "start_time": "2021-07-15T07:08:44.223Z"
   },
   {
    "duration": 1759,
    "start_time": "2021-07-15T07:08:44.226Z"
   },
   {
    "duration": 1758,
    "start_time": "2021-07-15T07:08:44.229Z"
   },
   {
    "duration": 1752,
    "start_time": "2021-07-15T07:08:44.236Z"
   },
   {
    "duration": 8211,
    "start_time": "2021-07-15T07:08:55.370Z"
   },
   {
    "duration": 7816,
    "start_time": "2021-07-15T07:09:25.273Z"
   },
   {
    "duration": 1943,
    "start_time": "2021-07-15T07:09:31.148Z"
   },
   {
    "duration": 8004,
    "start_time": "2021-07-15T07:11:40.283Z"
   },
   {
    "duration": 1960,
    "start_time": "2021-07-15T07:11:46.332Z"
   },
   {
    "duration": 43,
    "start_time": "2021-07-15T07:12:22.604Z"
   },
   {
    "duration": 1333,
    "start_time": "2021-07-15T07:12:38.193Z"
   },
   {
    "duration": 48,
    "start_time": "2021-07-15T07:12:39.529Z"
   },
   {
    "duration": 27,
    "start_time": "2021-07-15T07:12:39.580Z"
   },
   {
    "duration": 14,
    "start_time": "2021-07-15T07:12:39.609Z"
   },
   {
    "duration": 73,
    "start_time": "2021-07-15T07:12:39.626Z"
   },
   {
    "duration": 10,
    "start_time": "2021-07-15T07:12:39.701Z"
   },
   {
    "duration": 17,
    "start_time": "2021-07-15T07:12:39.713Z"
   },
   {
    "duration": 11,
    "start_time": "2021-07-15T07:12:39.763Z"
   },
   {
    "duration": 8634,
    "start_time": "2021-07-15T07:12:39.777Z"
   },
   {
    "duration": 1973,
    "start_time": "2021-07-15T07:12:46.441Z"
   },
   {
    "duration": 1969,
    "start_time": "2021-07-15T07:12:46.447Z"
   },
   {
    "duration": 1965,
    "start_time": "2021-07-15T07:12:46.452Z"
   },
   {
    "duration": 1960,
    "start_time": "2021-07-15T07:12:46.459Z"
   },
   {
    "duration": 1955,
    "start_time": "2021-07-15T07:12:46.466Z"
   },
   {
    "duration": 1953,
    "start_time": "2021-07-15T07:12:46.470Z"
   },
   {
    "duration": 1948,
    "start_time": "2021-07-15T07:12:46.477Z"
   },
   {
    "duration": 1946,
    "start_time": "2021-07-15T07:12:46.481Z"
   },
   {
    "duration": 1943,
    "start_time": "2021-07-15T07:12:46.485Z"
   },
   {
    "duration": 1942,
    "start_time": "2021-07-15T07:12:46.488Z"
   },
   {
    "duration": 1940,
    "start_time": "2021-07-15T07:12:46.492Z"
   },
   {
    "duration": 1939,
    "start_time": "2021-07-15T07:12:46.495Z"
   },
   {
    "duration": 1938,
    "start_time": "2021-07-15T07:12:46.497Z"
   },
   {
    "duration": 1937,
    "start_time": "2021-07-15T07:12:46.500Z"
   },
   {
    "duration": 1935,
    "start_time": "2021-07-15T07:12:46.503Z"
   },
   {
    "duration": 1932,
    "start_time": "2021-07-15T07:12:46.508Z"
   },
   {
    "duration": 1930,
    "start_time": "2021-07-15T07:12:46.511Z"
   },
   {
    "duration": 1928,
    "start_time": "2021-07-15T07:12:46.514Z"
   },
   {
    "duration": 1928,
    "start_time": "2021-07-15T07:12:46.516Z"
   },
   {
    "duration": 1918,
    "start_time": "2021-07-15T07:12:46.527Z"
   },
   {
    "duration": 1916,
    "start_time": "2021-07-15T07:12:46.531Z"
   },
   {
    "duration": 1913,
    "start_time": "2021-07-15T07:12:46.535Z"
   },
   {
    "duration": 1923,
    "start_time": "2021-07-15T07:12:46.538Z"
   },
   {
    "duration": 1922,
    "start_time": "2021-07-15T07:12:46.541Z"
   },
   {
    "duration": 387,
    "start_time": "2021-07-15T07:13:07.641Z"
   },
   {
    "duration": 8240,
    "start_time": "2021-07-15T07:20:20.366Z"
   },
   {
    "duration": 8289,
    "start_time": "2021-07-15T07:21:06.206Z"
   },
   {
    "duration": 1972,
    "start_time": "2021-07-15T07:21:12.525Z"
   },
   {
    "duration": 28,
    "start_time": "2021-07-15T07:21:21.737Z"
   },
   {
    "duration": 1443,
    "start_time": "2021-07-15T07:22:28.843Z"
   },
   {
    "duration": 52,
    "start_time": "2021-07-15T07:22:30.289Z"
   },
   {
    "duration": 39,
    "start_time": "2021-07-15T07:22:30.344Z"
   },
   {
    "duration": 17,
    "start_time": "2021-07-15T07:22:30.387Z"
   },
   {
    "duration": 69,
    "start_time": "2021-07-15T07:22:30.407Z"
   },
   {
    "duration": 9,
    "start_time": "2021-07-15T07:22:30.478Z"
   },
   {
    "duration": 26,
    "start_time": "2021-07-15T07:22:30.490Z"
   },
   {
    "duration": 25,
    "start_time": "2021-07-15T07:22:30.519Z"
   },
   {
    "duration": 1377,
    "start_time": "2021-07-15T07:26:37.951Z"
   },
   {
    "duration": 48,
    "start_time": "2021-07-15T07:26:39.330Z"
   },
   {
    "duration": 26,
    "start_time": "2021-07-15T07:26:39.381Z"
   },
   {
    "duration": 23,
    "start_time": "2021-07-15T07:26:39.409Z"
   },
   {
    "duration": 66,
    "start_time": "2021-07-15T07:26:39.434Z"
   },
   {
    "duration": 9,
    "start_time": "2021-07-15T07:26:39.503Z"
   },
   {
    "duration": 18,
    "start_time": "2021-07-15T07:26:39.514Z"
   },
   {
    "duration": 35,
    "start_time": "2021-07-15T07:26:39.536Z"
   },
   {
    "duration": 144006,
    "start_time": "2021-07-15T07:26:39.574Z"
   },
   {
    "duration": 52,
    "start_time": "2021-07-15T07:29:04.011Z"
   },
   {
    "duration": 870,
    "start_time": "2021-07-15T07:29:04.066Z"
   },
   {
    "duration": 33,
    "start_time": "2021-07-15T07:29:04.938Z"
   },
   {
    "duration": 531,
    "start_time": "2021-07-15T07:29:04.973Z"
   },
   {
    "duration": 21,
    "start_time": "2021-07-15T07:29:05.506Z"
   },
   {
    "duration": 7,
    "start_time": "2021-07-15T07:29:05.529Z"
   },
   {
    "duration": 53,
    "start_time": "2021-07-15T07:29:05.566Z"
   },
   {
    "duration": 51,
    "start_time": "2021-07-15T07:29:05.621Z"
   },
   {
    "duration": 754,
    "start_time": "2021-07-15T07:29:05.674Z"
   },
   {
    "duration": 870,
    "start_time": "2021-07-15T07:29:06.430Z"
   },
   {
    "duration": 6,
    "start_time": "2021-07-15T07:29:07.302Z"
   },
   {
    "duration": 756,
    "start_time": "2021-07-15T07:29:07.311Z"
   },
   {
    "duration": 726,
    "start_time": "2021-07-15T07:29:08.070Z"
   },
   {
    "duration": 717,
    "start_time": "2021-07-15T07:29:08.799Z"
   },
   {
    "duration": 720,
    "start_time": "2021-07-15T07:29:09.519Z"
   },
   {
    "duration": 58,
    "start_time": "2021-07-15T07:29:10.242Z"
   },
   {
    "duration": 824,
    "start_time": "2021-07-15T07:29:10.303Z"
   },
   {
    "duration": 12221,
    "start_time": "2021-07-15T07:29:11.130Z"
   },
   {
    "duration": 1947,
    "start_time": "2021-07-15T07:29:21.406Z"
   },
   {
    "duration": 1925,
    "start_time": "2021-07-15T07:29:21.430Z"
   },
   {
    "duration": 1921,
    "start_time": "2021-07-15T07:29:21.435Z"
   },
   {
    "duration": 1904,
    "start_time": "2021-07-15T07:29:21.454Z"
   },
   {
    "duration": 1901,
    "start_time": "2021-07-15T07:29:21.458Z"
   },
   {
    "duration": 1899,
    "start_time": "2021-07-15T07:29:21.461Z"
   },
   {
    "duration": 4,
    "start_time": "2021-07-15T07:29:54.856Z"
   },
   {
    "duration": 8503,
    "start_time": "2021-07-15T07:30:05.362Z"
   },
   {
    "duration": 274,
    "start_time": "2021-07-15T07:30:27.528Z"
   },
   {
    "duration": 14,
    "start_time": "2021-07-15T07:32:55.690Z"
   },
   {
    "duration": 146575,
    "start_time": "2021-07-15T07:33:27.426Z"
   },
   {
    "duration": 12,
    "start_time": "2021-07-15T07:42:32.512Z"
   },
   {
    "duration": 16,
    "start_time": "2021-07-15T07:42:58.544Z"
   },
   {
    "duration": 30,
    "start_time": "2021-07-15T07:43:46.832Z"
   },
   {
    "duration": 18,
    "start_time": "2021-07-15T07:44:23.841Z"
   },
   {
    "duration": 883,
    "start_time": "2021-07-15T07:45:47.968Z"
   },
   {
    "duration": 872,
    "start_time": "2021-07-15T07:47:05.985Z"
   },
   {
    "duration": 12,
    "start_time": "2021-07-15T07:48:18.399Z"
   },
   {
    "duration": 36,
    "start_time": "2021-07-15T07:48:27.995Z"
   },
   {
    "duration": 17,
    "start_time": "2021-07-15T07:48:57.680Z"
   },
   {
    "duration": 43,
    "start_time": "2021-07-15T07:49:18.449Z"
   },
   {
    "duration": 1966,
    "start_time": "2021-07-15T07:56:01.147Z"
   },
   {
    "duration": 60,
    "start_time": "2021-07-15T07:56:03.116Z"
   },
   {
    "duration": 30,
    "start_time": "2021-07-15T07:56:03.180Z"
   },
   {
    "duration": 19,
    "start_time": "2021-07-15T07:56:03.214Z"
   },
   {
    "duration": 65,
    "start_time": "2021-07-15T07:56:03.236Z"
   },
   {
    "duration": 10,
    "start_time": "2021-07-15T07:56:03.304Z"
   },
   {
    "duration": 14,
    "start_time": "2021-07-15T07:56:03.317Z"
   },
   {
    "duration": 10,
    "start_time": "2021-07-15T07:56:03.365Z"
   },
   {
    "duration": 12,
    "start_time": "2021-07-15T07:56:03.380Z"
   },
   {
    "duration": 36,
    "start_time": "2021-07-15T07:56:03.394Z"
   },
   {
    "duration": 13,
    "start_time": "2021-07-15T07:56:03.432Z"
   },
   {
    "duration": 25,
    "start_time": "2021-07-15T07:56:03.447Z"
   },
   {
    "duration": 60,
    "start_time": "2021-07-15T07:56:03.475Z"
   },
   {
    "duration": 464,
    "start_time": "2021-07-15T07:57:17.868Z"
   },
   {
    "duration": 406,
    "start_time": "2021-07-15T07:57:25.008Z"
   },
   {
    "duration": 1449,
    "start_time": "2021-07-15T07:57:29.634Z"
   },
   {
    "duration": 50,
    "start_time": "2021-07-15T07:57:31.086Z"
   },
   {
    "duration": 38,
    "start_time": "2021-07-15T07:57:31.139Z"
   },
   {
    "duration": 45,
    "start_time": "2021-07-15T07:57:31.180Z"
   },
   {
    "duration": 67,
    "start_time": "2021-07-15T07:57:31.228Z"
   },
   {
    "duration": 10,
    "start_time": "2021-07-15T07:57:31.298Z"
   },
   {
    "duration": 76,
    "start_time": "2021-07-15T07:57:31.311Z"
   },
   {
    "duration": 22,
    "start_time": "2021-07-15T07:57:31.391Z"
   },
   {
    "duration": 34,
    "start_time": "2021-07-15T07:57:31.416Z"
   },
   {
    "duration": 39,
    "start_time": "2021-07-15T07:57:31.452Z"
   },
   {
    "duration": 21,
    "start_time": "2021-07-15T07:57:31.494Z"
   },
   {
    "duration": 22,
    "start_time": "2021-07-15T07:57:31.519Z"
   },
   {
    "duration": 23,
    "start_time": "2021-07-15T07:57:31.545Z"
   },
   {
    "duration": 32,
    "start_time": "2021-07-15T07:57:31.571Z"
   },
   {
    "duration": 61,
    "start_time": "2021-07-15T07:57:31.607Z"
   },
   {
    "duration": 10,
    "start_time": "2021-07-15T07:57:31.671Z"
   },
   {
    "duration": 1255,
    "start_time": "2021-07-15T07:57:31.684Z"
   },
   {
    "duration": 30,
    "start_time": "2021-07-15T07:57:32.941Z"
   },
   {
    "duration": 589,
    "start_time": "2021-07-15T07:57:32.973Z"
   },
   {
    "duration": 28,
    "start_time": "2021-07-15T07:57:33.564Z"
   },
   {
    "duration": 10,
    "start_time": "2021-07-15T07:57:33.595Z"
   },
   {
    "duration": 119,
    "start_time": "2021-07-15T07:57:33.608Z"
   },
   {
    "duration": 58,
    "start_time": "2021-07-15T07:57:33.733Z"
   },
   {
    "duration": 847,
    "start_time": "2021-07-15T07:57:33.793Z"
   },
   {
    "duration": 869,
    "start_time": "2021-07-15T07:57:34.642Z"
   },
   {
    "duration": 9,
    "start_time": "2021-07-15T07:57:35.515Z"
   },
   {
    "duration": 739,
    "start_time": "2021-07-15T07:57:35.526Z"
   },
   {
    "duration": 697,
    "start_time": "2021-07-15T07:57:36.268Z"
   },
   {
    "duration": 678,
    "start_time": "2021-07-15T07:57:36.968Z"
   },
   {
    "duration": 770,
    "start_time": "2021-07-15T07:57:37.649Z"
   },
   {
    "duration": 57,
    "start_time": "2021-07-15T07:57:38.421Z"
   },
   {
    "duration": 841,
    "start_time": "2021-07-15T07:57:38.481Z"
   },
   {
    "duration": 13,
    "start_time": "2021-07-15T07:58:55.681Z"
   },
   {
    "duration": 31,
    "start_time": "2021-07-15T08:02:19.309Z"
   },
   {
    "duration": 32,
    "start_time": "2021-07-15T08:02:37.292Z"
   },
   {
    "duration": 452,
    "start_time": "2021-07-15T08:02:57.403Z"
   },
   {
    "duration": 39,
    "start_time": "2021-07-15T08:03:31.043Z"
   },
   {
    "duration": 12,
    "start_time": "2021-07-15T08:04:57.396Z"
   },
   {
    "duration": 41,
    "start_time": "2021-07-15T08:05:07.085Z"
   },
   {
    "duration": 13,
    "start_time": "2021-07-15T08:05:44.198Z"
   },
   {
    "duration": 519,
    "start_time": "2021-07-15T08:21:08.396Z"
   },
   {
    "duration": 542,
    "start_time": "2021-07-15T08:21:16.182Z"
   },
   {
    "duration": 23,
    "start_time": "2021-07-15T08:22:07.046Z"
   },
   {
    "duration": 105,
    "start_time": "2021-07-15T08:27:00.730Z"
   },
   {
    "duration": 40,
    "start_time": "2021-07-15T08:27:39.789Z"
   },
   {
    "duration": 769,
    "start_time": "2021-07-15T08:32:33.582Z"
   },
   {
    "duration": 42,
    "start_time": "2021-07-15T09:09:08.606Z"
   },
   {
    "duration": 47,
    "start_time": "2021-07-15T09:09:30.854Z"
   },
   {
    "duration": 46,
    "start_time": "2021-07-15T09:09:38.918Z"
   },
   {
    "duration": 59,
    "start_time": "2021-07-15T09:09:45.495Z"
   },
   {
    "duration": 731,
    "start_time": "2021-07-15T09:11:00.975Z"
   },
   {
    "duration": 682,
    "start_time": "2021-07-15T09:11:31.438Z"
   },
   {
    "duration": 782,
    "start_time": "2021-07-15T09:12:13.982Z"
   },
   {
    "duration": 8825,
    "start_time": "2021-07-15T09:12:43.384Z"
   },
   {
    "duration": 804,
    "start_time": "2021-07-15T09:13:12.591Z"
   },
   {
    "duration": 879,
    "start_time": "2021-07-15T09:13:19.559Z"
   },
   {
    "duration": 9200,
    "start_time": "2021-07-15T09:14:27.729Z"
   },
   {
    "duration": 367,
    "start_time": "2021-07-15T09:14:54.290Z"
   },
   {
    "duration": 8124,
    "start_time": "2021-07-15T09:15:08.241Z"
   },
   {
    "duration": 777,
    "start_time": "2021-07-15T09:15:30.867Z"
   },
   {
    "duration": 1190,
    "start_time": "2021-07-15T09:15:46.024Z"
   },
   {
    "duration": 46,
    "start_time": "2021-07-15T09:59:38.663Z"
   },
   {
    "duration": 19,
    "start_time": "2021-07-15T10:00:09.997Z"
   },
   {
    "duration": 14,
    "start_time": "2021-07-15T10:03:04.234Z"
   },
   {
    "duration": 363,
    "start_time": "2021-07-15T10:10:30.157Z"
   },
   {
    "duration": 575,
    "start_time": "2021-07-15T10:10:41.107Z"
   },
   {
    "duration": 356,
    "start_time": "2021-07-15T10:11:06.021Z"
   },
   {
    "duration": 23,
    "start_time": "2021-07-15T10:11:14.915Z"
   },
   {
    "duration": 22,
    "start_time": "2021-07-15T10:11:36.388Z"
   },
   {
    "duration": 21,
    "start_time": "2021-07-15T10:11:56.157Z"
   },
   {
    "duration": 21,
    "start_time": "2021-07-15T10:12:16.828Z"
   },
   {
    "duration": 300,
    "start_time": "2021-07-15T10:15:23.990Z"
   },
   {
    "duration": 295,
    "start_time": "2021-07-15T10:15:31.648Z"
   },
   {
    "duration": 346,
    "start_time": "2021-07-15T10:16:23.214Z"
   },
   {
    "duration": 328,
    "start_time": "2021-07-15T10:21:42.832Z"
   },
   {
    "duration": 105,
    "start_time": "2021-07-15T10:22:25.292Z"
   },
   {
    "duration": 5,
    "start_time": "2021-07-15T10:25:31.539Z"
   },
   {
    "duration": 16,
    "start_time": "2021-07-15T10:25:39.885Z"
   },
   {
    "duration": 17,
    "start_time": "2021-07-15T10:27:05.292Z"
   },
   {
    "duration": 25,
    "start_time": "2021-07-15T10:27:12.525Z"
   },
   {
    "duration": 310,
    "start_time": "2021-07-15T10:30:04.358Z"
   },
   {
    "duration": 697,
    "start_time": "2021-07-15T10:30:47.671Z"
   },
   {
    "duration": 5,
    "start_time": "2021-07-15T10:31:52.056Z"
   },
   {
    "duration": 25,
    "start_time": "2021-07-15T10:31:59.015Z"
   },
   {
    "duration": 5,
    "start_time": "2021-07-15T10:32:40.057Z"
   },
   {
    "duration": 21,
    "start_time": "2021-07-15T10:32:41.519Z"
   },
   {
    "duration": 21,
    "start_time": "2021-07-15T10:32:47.642Z"
   },
   {
    "duration": 5,
    "start_time": "2021-07-15T10:34:46.970Z"
   },
   {
    "duration": 53,
    "start_time": "2021-07-15T10:37:52.533Z"
   },
   {
    "duration": 39,
    "start_time": "2021-07-15T10:39:41.476Z"
   },
   {
    "duration": 15,
    "start_time": "2021-07-15T10:39:50.278Z"
   },
   {
    "duration": 15,
    "start_time": "2021-07-15T10:40:15.350Z"
   },
   {
    "duration": 6,
    "start_time": "2021-07-15T10:40:30.043Z"
   },
   {
    "duration": 39,
    "start_time": "2021-07-15T10:40:32.357Z"
   },
   {
    "duration": 15,
    "start_time": "2021-07-15T10:40:34.925Z"
   },
   {
    "duration": 37,
    "start_time": "2021-07-15T10:41:24.254Z"
   },
   {
    "duration": 15,
    "start_time": "2021-07-15T10:41:27.951Z"
   },
   {
    "duration": 37,
    "start_time": "2021-07-15T10:42:41.151Z"
   },
   {
    "duration": 5,
    "start_time": "2021-07-15T10:43:18.703Z"
   },
   {
    "duration": 43,
    "start_time": "2021-07-15T10:43:18.748Z"
   },
   {
    "duration": 46,
    "start_time": "2021-07-15T10:44:31.263Z"
   },
   {
    "duration": 45,
    "start_time": "2021-07-15T10:45:43.936Z"
   },
   {
    "duration": 679,
    "start_time": "2021-07-15T10:46:32.143Z"
   },
   {
    "duration": 666,
    "start_time": "2021-07-15T10:47:10.729Z"
   },
   {
    "duration": 635,
    "start_time": "2021-07-15T10:47:21.363Z"
   },
   {
    "duration": 756,
    "start_time": "2021-07-15T10:47:47.587Z"
   },
   {
    "duration": 929,
    "start_time": "2021-07-15T10:48:04.121Z"
   },
   {
    "duration": 5,
    "start_time": "2021-07-15T10:48:21.457Z"
   },
   {
    "duration": 24,
    "start_time": "2021-07-15T10:48:26.538Z"
   },
   {
    "duration": 44,
    "start_time": "2021-07-15T10:48:32.682Z"
   },
   {
    "duration": 57,
    "start_time": "2021-07-15T10:49:29.351Z"
   },
   {
    "duration": 8,
    "start_time": "2021-07-15T10:50:38.587Z"
   },
   {
    "duration": 43,
    "start_time": "2021-07-15T10:50:40.716Z"
   },
   {
    "duration": 44,
    "start_time": "2021-07-15T10:50:43.514Z"
   },
   {
    "duration": 327,
    "start_time": "2021-07-15T11:02:28.459Z"
   },
   {
    "duration": 30,
    "start_time": "2021-07-15T11:02:57.179Z"
   },
   {
    "duration": 40,
    "start_time": "2021-07-15T11:03:17.003Z"
   },
   {
    "duration": 8008,
    "start_time": "2021-07-15T11:03:54.422Z"
   },
   {
    "duration": 8,
    "start_time": "2021-07-15T11:04:16.260Z"
   },
   {
    "duration": 805,
    "start_time": "2021-07-15T11:07:28.971Z"
   },
   {
    "duration": 20,
    "start_time": "2021-07-15T11:07:48.263Z"
   },
   {
    "duration": 24,
    "start_time": "2021-07-15T11:08:45.480Z"
   },
   {
    "duration": 5,
    "start_time": "2021-07-15T11:09:58.710Z"
   },
   {
    "duration": 43,
    "start_time": "2021-07-15T11:10:04.111Z"
   },
   {
    "duration": 5,
    "start_time": "2021-07-15T11:10:38.343Z"
   },
   {
    "duration": 44,
    "start_time": "2021-07-15T11:10:43.336Z"
   },
   {
    "duration": 23,
    "start_time": "2021-07-15T11:16:52.516Z"
   },
   {
    "duration": 20,
    "start_time": "2021-07-15T11:19:27.797Z"
   },
   {
    "duration": 38,
    "start_time": "2021-07-15T11:20:33.284Z"
   },
   {
    "duration": 48,
    "start_time": "2021-07-15T11:21:17.199Z"
   },
   {
    "duration": 26,
    "start_time": "2021-07-15T11:23:25.480Z"
   },
   {
    "duration": 25,
    "start_time": "2021-07-15T11:24:18.937Z"
   },
   {
    "duration": 712,
    "start_time": "2021-07-15T11:24:29.520Z"
   },
   {
    "duration": 681,
    "start_time": "2021-07-15T11:26:26.097Z"
   },
   {
    "duration": 16,
    "start_time": "2021-07-15T11:32:32.765Z"
   },
   {
    "duration": 682,
    "start_time": "2021-07-15T11:32:35.156Z"
   },
   {
    "duration": 661,
    "start_time": "2021-07-15T11:32:39.268Z"
   },
   {
    "duration": 293,
    "start_time": "2021-07-15T11:33:45.510Z"
   },
   {
    "duration": 293,
    "start_time": "2021-07-15T11:34:21.875Z"
   },
   {
    "duration": 25,
    "start_time": "2021-07-15T11:35:23.022Z"
   },
   {
    "duration": 447,
    "start_time": "2021-07-15T11:36:54.768Z"
   },
   {
    "duration": 263,
    "start_time": "2021-07-15T11:38:47.442Z"
   },
   {
    "duration": 7,
    "start_time": "2021-07-15T11:39:48.945Z"
   },
   {
    "duration": 946,
    "start_time": "2021-07-15T11:39:51.898Z"
   },
   {
    "duration": 6,
    "start_time": "2021-07-15T11:40:39.716Z"
   },
   {
    "duration": 6,
    "start_time": "2021-07-15T11:41:46.146Z"
   },
   {
    "duration": 858,
    "start_time": "2021-07-15T11:41:49.579Z"
   },
   {
    "duration": 6,
    "start_time": "2021-07-15T11:42:32.676Z"
   },
   {
    "duration": 198,
    "start_time": "2021-07-15T11:45:13.069Z"
   },
   {
    "duration": 119,
    "start_time": "2021-07-15T11:46:42.070Z"
   },
   {
    "duration": 579,
    "start_time": "2021-07-15T11:47:15.686Z"
   },
   {
    "duration": 115,
    "start_time": "2021-07-15T11:47:28.295Z"
   },
   {
    "duration": 6,
    "start_time": "2021-07-15T11:47:33.086Z"
   },
   {
    "duration": 708,
    "start_time": "2021-07-15T11:47:36.578Z"
   },
   {
    "duration": 914,
    "start_time": "2021-07-15T11:48:06.479Z"
   },
   {
    "duration": 7,
    "start_time": "2021-07-15T11:48:41.056Z"
   },
   {
    "duration": 8,
    "start_time": "2021-07-15T11:48:51.318Z"
   },
   {
    "duration": 61,
    "start_time": "2021-07-15T11:48:53.319Z"
   },
   {
    "duration": 8,
    "start_time": "2021-07-15T11:49:20.820Z"
   },
   {
    "duration": 843,
    "start_time": "2021-07-15T11:49:25.447Z"
   },
   {
    "duration": 6,
    "start_time": "2021-07-15T11:52:27.361Z"
   },
   {
    "duration": 844,
    "start_time": "2021-07-15T11:52:31.449Z"
   },
   {
    "duration": 854,
    "start_time": "2021-07-15T11:52:35.458Z"
   },
   {
    "duration": 980,
    "start_time": "2021-07-16T06:57:44.634Z"
   },
   {
    "duration": 38,
    "start_time": "2021-07-16T06:57:45.615Z"
   },
   {
    "duration": 18,
    "start_time": "2021-07-16T06:57:45.654Z"
   },
   {
    "duration": 15,
    "start_time": "2021-07-16T06:57:45.674Z"
   },
   {
    "duration": 27,
    "start_time": "2021-07-16T06:57:45.691Z"
   },
   {
    "duration": 7,
    "start_time": "2021-07-16T06:57:45.719Z"
   },
   {
    "duration": 8,
    "start_time": "2021-07-16T06:57:45.727Z"
   },
   {
    "duration": 6,
    "start_time": "2021-07-16T06:57:45.738Z"
   },
   {
    "duration": 5,
    "start_time": "2021-07-16T06:57:45.745Z"
   },
   {
    "duration": 37,
    "start_time": "2021-07-16T06:57:45.752Z"
   },
   {
    "duration": 6,
    "start_time": "2021-07-16T06:57:45.790Z"
   },
   {
    "duration": 7,
    "start_time": "2021-07-16T06:57:45.797Z"
   },
   {
    "duration": 6,
    "start_time": "2021-07-16T06:57:45.806Z"
   },
   {
    "duration": 10,
    "start_time": "2021-07-16T06:57:45.813Z"
   },
   {
    "duration": 6,
    "start_time": "2021-07-16T06:57:45.825Z"
   },
   {
    "duration": 565,
    "start_time": "2021-07-16T06:57:45.832Z"
   },
   {
    "duration": 14,
    "start_time": "2021-07-16T06:57:46.398Z"
   },
   {
    "duration": 323,
    "start_time": "2021-07-16T06:57:46.414Z"
   },
   {
    "duration": 15,
    "start_time": "2021-07-16T06:57:46.738Z"
   },
   {
    "duration": 5,
    "start_time": "2021-07-16T06:57:46.754Z"
   },
   {
    "duration": 51,
    "start_time": "2021-07-16T06:57:46.761Z"
   },
   {
    "duration": 26,
    "start_time": "2021-07-16T06:57:46.813Z"
   },
   {
    "duration": 474,
    "start_time": "2021-07-16T06:57:46.841Z"
   },
   {
    "duration": 504,
    "start_time": "2021-07-16T06:57:47.317Z"
   },
   {
    "duration": 5,
    "start_time": "2021-07-16T06:57:47.822Z"
   },
   {
    "duration": 433,
    "start_time": "2021-07-16T06:57:47.829Z"
   },
   {
    "duration": 491,
    "start_time": "2021-07-16T06:57:48.263Z"
   },
   {
    "duration": 479,
    "start_time": "2021-07-16T06:57:48.756Z"
   },
   {
    "duration": 505,
    "start_time": "2021-07-16T06:57:49.237Z"
   },
   {
    "duration": 27,
    "start_time": "2021-07-16T06:57:49.744Z"
   },
   {
    "duration": 454,
    "start_time": "2021-07-16T06:57:49.772Z"
   },
   {
    "duration": 4,
    "start_time": "2021-07-16T06:57:50.228Z"
   },
   {
    "duration": 488,
    "start_time": "2021-07-16T06:57:50.234Z"
   },
   {
    "duration": 506,
    "start_time": "2021-07-16T06:57:50.723Z"
   },
   {
    "duration": 16,
    "start_time": "2021-07-16T06:57:51.231Z"
   },
   {
    "duration": 183,
    "start_time": "2021-07-16T06:57:51.248Z"
   },
   {
    "duration": 162,
    "start_time": "2021-07-16T06:57:51.433Z"
   },
   {
    "duration": 175,
    "start_time": "2021-07-16T07:17:51.888Z"
   },
   {
    "duration": 214,
    "start_time": "2021-07-16T07:19:10.634Z"
   },
   {
    "duration": 252,
    "start_time": "2021-07-16T07:19:17.818Z"
   },
   {
    "duration": 285,
    "start_time": "2021-07-16T07:19:26.629Z"
   },
   {
    "duration": 224,
    "start_time": "2021-07-16T07:20:55.660Z"
   },
   {
    "duration": 221,
    "start_time": "2021-07-16T07:22:13.169Z"
   },
   {
    "duration": 232,
    "start_time": "2021-07-16T07:22:17.380Z"
   },
   {
    "duration": 7,
    "start_time": "2021-07-16T08:06:45.845Z"
   },
   {
    "duration": 6,
    "start_time": "2021-07-16T08:06:51.139Z"
   },
   {
    "duration": 6,
    "start_time": "2021-07-16T08:06:59.377Z"
   },
   {
    "duration": 6,
    "start_time": "2021-07-16T08:08:41.730Z"
   },
   {
    "duration": 9,
    "start_time": "2021-07-16T08:11:48.957Z"
   },
   {
    "duration": 6,
    "start_time": "2021-07-16T08:11:57.130Z"
   },
   {
    "duration": 7,
    "start_time": "2021-07-16T08:12:12.067Z"
   },
   {
    "duration": 7,
    "start_time": "2021-07-16T08:12:37.419Z"
   },
   {
    "duration": 6,
    "start_time": "2021-07-16T08:28:33.461Z"
   },
   {
    "duration": 10,
    "start_time": "2021-07-16T08:35:25.818Z"
   },
   {
    "duration": 5,
    "start_time": "2021-07-16T08:35:34.115Z"
   },
   {
    "duration": 5,
    "start_time": "2021-07-16T08:35:42.478Z"
   },
   {
    "duration": 6,
    "start_time": "2021-07-16T08:36:50.277Z"
   },
   {
    "duration": 5,
    "start_time": "2021-07-16T08:42:51.636Z"
   },
   {
    "duration": 6,
    "start_time": "2021-07-16T08:43:00.678Z"
   },
   {
    "duration": 6,
    "start_time": "2021-07-16T10:11:20.884Z"
   },
   {
    "duration": 359,
    "start_time": "2021-07-16T10:12:14.813Z"
   },
   {
    "duration": 12,
    "start_time": "2021-07-16T10:13:08.757Z"
   },
   {
    "duration": 466,
    "start_time": "2021-07-16T10:16:52.263Z"
   },
   {
    "duration": 977,
    "start_time": "2021-07-16T21:37:22.586Z"
   },
   {
    "duration": 35,
    "start_time": "2021-07-16T21:37:23.565Z"
   },
   {
    "duration": 15,
    "start_time": "2021-07-16T21:37:23.601Z"
   },
   {
    "duration": 8,
    "start_time": "2021-07-16T21:37:23.618Z"
   },
   {
    "duration": 23,
    "start_time": "2021-07-16T21:37:23.628Z"
   },
   {
    "duration": 6,
    "start_time": "2021-07-16T21:37:23.652Z"
   },
   {
    "duration": 7,
    "start_time": "2021-07-16T21:37:23.659Z"
   },
   {
    "duration": 5,
    "start_time": "2021-07-16T21:37:23.691Z"
   },
   {
    "duration": 4,
    "start_time": "2021-07-16T21:37:23.698Z"
   },
   {
    "duration": 9,
    "start_time": "2021-07-16T21:37:23.704Z"
   },
   {
    "duration": 5,
    "start_time": "2021-07-16T21:37:23.714Z"
   },
   {
    "duration": 6,
    "start_time": "2021-07-16T21:37:23.720Z"
   },
   {
    "duration": 10,
    "start_time": "2021-07-16T21:37:23.727Z"
   },
   {
    "duration": 9,
    "start_time": "2021-07-16T21:37:23.738Z"
   },
   {
    "duration": 6,
    "start_time": "2021-07-16T21:37:23.748Z"
   },
   {
    "duration": 495,
    "start_time": "2021-07-16T21:37:23.755Z"
   },
   {
    "duration": 13,
    "start_time": "2021-07-16T21:37:24.252Z"
   },
   {
    "duration": 288,
    "start_time": "2021-07-16T21:37:24.266Z"
   },
   {
    "duration": 13,
    "start_time": "2021-07-16T21:37:24.556Z"
   },
   {
    "duration": 1135,
    "start_time": "2021-07-16T21:37:24.570Z"
   },
   {
    "duration": 5,
    "start_time": "2021-07-16T21:37:25.707Z"
   },
   {
    "duration": 89,
    "start_time": "2021-07-16T21:37:25.713Z"
   },
   {
    "duration": 23,
    "start_time": "2021-07-16T21:37:25.805Z"
   },
   {
    "duration": 412,
    "start_time": "2021-07-16T21:37:25.829Z"
   },
   {
    "duration": 477,
    "start_time": "2021-07-16T21:37:26.242Z"
   },
   {
    "duration": 4,
    "start_time": "2021-07-16T21:37:26.720Z"
   },
   {
    "duration": 412,
    "start_time": "2021-07-16T21:37:26.726Z"
   },
   {
    "duration": 415,
    "start_time": "2021-07-16T21:37:27.140Z"
   },
   {
    "duration": 445,
    "start_time": "2021-07-16T21:37:27.556Z"
   },
   {
    "duration": 424,
    "start_time": "2021-07-16T21:37:28.002Z"
   },
   {
    "duration": 24,
    "start_time": "2021-07-16T21:37:28.428Z"
   },
   {
    "duration": 407,
    "start_time": "2021-07-16T21:37:28.454Z"
   },
   {
    "duration": 4,
    "start_time": "2021-07-16T21:37:28.862Z"
   },
   {
    "duration": 429,
    "start_time": "2021-07-16T21:37:28.868Z"
   },
   {
    "duration": 434,
    "start_time": "2021-07-16T21:37:29.299Z"
   },
   {
    "duration": 15,
    "start_time": "2021-07-16T21:37:29.735Z"
   },
   {
    "duration": 221,
    "start_time": "2021-07-16T21:37:29.751Z"
   },
   {
    "duration": 8,
    "start_time": "2021-07-16T21:37:29.973Z"
   },
   {
    "duration": 6,
    "start_time": "2021-07-16T21:37:29.991Z"
   },
   {
    "duration": 11,
    "start_time": "2021-07-16T21:37:29.998Z"
   },
   {
    "duration": 9,
    "start_time": "2021-07-16T21:37:30.010Z"
   },
   {
    "duration": 386,
    "start_time": "2021-07-16T21:38:17.764Z"
   },
   {
    "duration": 390,
    "start_time": "2021-07-16T21:38:39.811Z"
   },
   {
    "duration": 238,
    "start_time": "2021-07-16T21:39:11.517Z"
   },
   {
    "duration": 77,
    "start_time": "2021-07-16T21:44:28.624Z"
   },
   {
    "duration": 1368,
    "start_time": "2021-07-17T07:04:18.541Z"
   },
   {
    "duration": 49,
    "start_time": "2021-07-17T07:04:19.912Z"
   },
   {
    "duration": 28,
    "start_time": "2021-07-17T07:04:19.964Z"
   },
   {
    "duration": 14,
    "start_time": "2021-07-17T07:04:19.995Z"
   },
   {
    "duration": 72,
    "start_time": "2021-07-17T07:04:20.011Z"
   },
   {
    "duration": 10,
    "start_time": "2021-07-17T07:04:20.085Z"
   },
   {
    "duration": 15,
    "start_time": "2021-07-17T07:04:20.097Z"
   },
   {
    "duration": 14,
    "start_time": "2021-07-17T07:04:20.115Z"
   },
   {
    "duration": 4,
    "start_time": "2021-07-17T07:04:20.156Z"
   },
   {
    "duration": 14,
    "start_time": "2021-07-17T07:04:20.162Z"
   },
   {
    "duration": 9,
    "start_time": "2021-07-17T07:04:20.179Z"
   },
   {
    "duration": 8,
    "start_time": "2021-07-17T07:04:20.190Z"
   },
   {
    "duration": 11,
    "start_time": "2021-07-17T07:04:20.201Z"
   },
   {
    "duration": 47,
    "start_time": "2021-07-17T07:04:20.214Z"
   },
   {
    "duration": 9,
    "start_time": "2021-07-17T07:04:20.264Z"
   },
   {
    "duration": 879,
    "start_time": "2021-07-17T07:04:20.275Z"
   },
   {
    "duration": 20,
    "start_time": "2021-07-17T07:04:21.157Z"
   },
   {
    "duration": 529,
    "start_time": "2021-07-17T07:04:21.180Z"
   },
   {
    "duration": 21,
    "start_time": "2021-07-17T07:04:21.712Z"
   },
   {
    "duration": 1749,
    "start_time": "2021-07-17T07:04:21.735Z"
   },
   {
    "duration": 10,
    "start_time": "2021-07-17T07:04:23.487Z"
   },
   {
    "duration": 107,
    "start_time": "2021-07-17T07:04:23.500Z"
   },
   {
    "duration": 68,
    "start_time": "2021-07-17T07:04:23.612Z"
   },
   {
    "duration": 776,
    "start_time": "2021-07-17T07:04:23.683Z"
   },
   {
    "duration": 866,
    "start_time": "2021-07-17T07:04:24.462Z"
   },
   {
    "duration": 6,
    "start_time": "2021-07-17T07:04:25.330Z"
   },
   {
    "duration": 676,
    "start_time": "2021-07-17T07:04:25.338Z"
   },
   {
    "duration": 687,
    "start_time": "2021-07-17T07:04:26.017Z"
   },
   {
    "duration": 688,
    "start_time": "2021-07-17T07:04:26.706Z"
   },
   {
    "duration": 669,
    "start_time": "2021-07-17T07:04:27.397Z"
   },
   {
    "duration": 43,
    "start_time": "2021-07-17T07:04:28.068Z"
   },
   {
    "duration": 771,
    "start_time": "2021-07-17T07:04:28.114Z"
   },
   {
    "duration": 6,
    "start_time": "2021-07-17T07:04:28.888Z"
   },
   {
    "duration": 814,
    "start_time": "2021-07-17T07:04:28.896Z"
   },
   {
    "duration": 845,
    "start_time": "2021-07-17T07:04:29.712Z"
   },
   {
    "duration": 26,
    "start_time": "2021-07-17T07:04:30.559Z"
   },
   {
    "duration": 430,
    "start_time": "2021-07-17T07:04:30.587Z"
   },
   {
    "duration": 13,
    "start_time": "2021-07-17T07:04:31.019Z"
   },
   {
    "duration": 32,
    "start_time": "2021-07-17T07:04:31.035Z"
   },
   {
    "duration": 34,
    "start_time": "2021-07-17T07:04:31.069Z"
   },
   {
    "duration": 27,
    "start_time": "2021-07-17T07:04:31.106Z"
   },
   {
    "duration": 329,
    "start_time": "2021-07-18T06:52:32.963Z"
   },
   {
    "duration": 1375,
    "start_time": "2021-07-18T06:52:41.047Z"
   },
   {
    "duration": 50,
    "start_time": "2021-07-18T06:52:42.425Z"
   },
   {
    "duration": 26,
    "start_time": "2021-07-18T06:52:42.478Z"
   },
   {
    "duration": 34,
    "start_time": "2021-07-18T06:52:42.507Z"
   },
   {
    "duration": 62,
    "start_time": "2021-07-18T06:52:42.544Z"
   },
   {
    "duration": 10,
    "start_time": "2021-07-18T06:52:42.608Z"
   },
   {
    "duration": 34,
    "start_time": "2021-07-18T06:52:42.620Z"
   },
   {
    "duration": 28,
    "start_time": "2021-07-18T06:52:42.658Z"
   },
   {
    "duration": 23,
    "start_time": "2021-07-18T06:52:42.689Z"
   },
   {
    "duration": 39,
    "start_time": "2021-07-18T06:52:42.714Z"
   },
   {
    "duration": 32,
    "start_time": "2021-07-18T06:52:42.755Z"
   },
   {
    "duration": 37,
    "start_time": "2021-07-18T06:52:42.790Z"
   },
   {
    "duration": 33,
    "start_time": "2021-07-18T06:52:42.829Z"
   },
   {
    "duration": 25,
    "start_time": "2021-07-18T06:52:42.864Z"
   },
   {
    "duration": 30,
    "start_time": "2021-07-18T06:52:42.891Z"
   },
   {
    "duration": 15,
    "start_time": "2021-07-18T06:52:42.924Z"
   },
   {
    "duration": 865,
    "start_time": "2021-07-18T06:52:42.942Z"
   },
   {
    "duration": 21,
    "start_time": "2021-07-18T06:52:43.809Z"
   },
   {
    "duration": 551,
    "start_time": "2021-07-18T06:52:43.832Z"
   },
   {
    "duration": 21,
    "start_time": "2021-07-18T06:52:44.385Z"
   },
   {
    "duration": 1760,
    "start_time": "2021-07-18T06:52:44.409Z"
   },
   {
    "duration": 8,
    "start_time": "2021-07-18T06:52:46.171Z"
   },
   {
    "duration": 91,
    "start_time": "2021-07-18T06:52:46.184Z"
   },
   {
    "duration": 40,
    "start_time": "2021-07-18T06:52:46.278Z"
   },
   {
    "duration": 751,
    "start_time": "2021-07-18T06:52:46.321Z"
   },
   {
    "duration": 812,
    "start_time": "2021-07-18T06:52:47.074Z"
   },
   {
    "duration": 6,
    "start_time": "2021-07-18T06:52:47.889Z"
   },
   {
    "duration": 700,
    "start_time": "2021-07-18T06:52:47.898Z"
   },
   {
    "duration": 706,
    "start_time": "2021-07-18T06:52:48.600Z"
   },
   {
    "duration": 686,
    "start_time": "2021-07-18T06:52:49.309Z"
   },
   {
    "duration": 682,
    "start_time": "2021-07-18T06:52:49.997Z"
   },
   {
    "duration": 42,
    "start_time": "2021-07-18T06:52:50.681Z"
   },
   {
    "duration": 740,
    "start_time": "2021-07-18T06:52:50.725Z"
   },
   {
    "duration": 6,
    "start_time": "2021-07-18T06:52:51.468Z"
   },
   {
    "duration": 793,
    "start_time": "2021-07-18T06:52:51.477Z"
   },
   {
    "duration": 803,
    "start_time": "2021-07-18T06:52:52.273Z"
   },
   {
    "duration": 23,
    "start_time": "2021-07-18T06:52:53.078Z"
   },
   {
    "duration": 401,
    "start_time": "2021-07-18T06:52:53.104Z"
   },
   {
    "duration": 12,
    "start_time": "2021-07-18T06:52:53.507Z"
   },
   {
    "duration": 10,
    "start_time": "2021-07-18T06:52:53.522Z"
   },
   {
    "duration": 12,
    "start_time": "2021-07-18T06:52:53.555Z"
   },
   {
    "duration": 17,
    "start_time": "2021-07-18T06:52:53.569Z"
   },
   {
    "duration": 12,
    "start_time": "2021-07-18T06:53:10.975Z"
   },
   {
    "duration": 7,
    "start_time": "2021-07-18T07:55:13.986Z"
   },
   {
    "duration": 8,
    "start_time": "2021-07-18T07:55:24.055Z"
   },
   {
    "duration": 7,
    "start_time": "2021-07-18T07:55:32.716Z"
   },
   {
    "duration": 7,
    "start_time": "2021-07-18T07:55:47.311Z"
   },
   {
    "duration": 7,
    "start_time": "2021-07-18T07:56:05.238Z"
   },
   {
    "duration": 6,
    "start_time": "2021-07-18T07:56:13.247Z"
   },
   {
    "duration": 8,
    "start_time": "2021-07-18T07:56:59.767Z"
   },
   {
    "duration": 24,
    "start_time": "2021-07-18T07:57:08.359Z"
   },
   {
    "duration": 6,
    "start_time": "2021-07-18T07:57:56.767Z"
   },
   {
    "duration": 25,
    "start_time": "2021-07-18T07:57:59.246Z"
   },
   {
    "duration": 551,
    "start_time": "2021-07-18T07:58:11.559Z"
   },
   {
    "duration": 126,
    "start_time": "2021-07-18T21:27:27.003Z"
   },
   {
    "duration": 1372,
    "start_time": "2021-07-18T21:27:38.152Z"
   },
   {
    "duration": 55,
    "start_time": "2021-07-18T21:27:39.526Z"
   },
   {
    "duration": 25,
    "start_time": "2021-07-18T21:27:39.584Z"
   },
   {
    "duration": 15,
    "start_time": "2021-07-18T21:27:39.612Z"
   },
   {
    "duration": 69,
    "start_time": "2021-07-18T21:27:39.629Z"
   },
   {
    "duration": 10,
    "start_time": "2021-07-18T21:27:39.700Z"
   },
   {
    "duration": 18,
    "start_time": "2021-07-18T21:27:39.712Z"
   },
   {
    "duration": 10,
    "start_time": "2021-07-18T21:27:39.763Z"
   },
   {
    "duration": 5,
    "start_time": "2021-07-18T21:27:39.776Z"
   },
   {
    "duration": 19,
    "start_time": "2021-07-18T21:27:39.783Z"
   },
   {
    "duration": 15,
    "start_time": "2021-07-18T21:27:39.805Z"
   },
   {
    "duration": 42,
    "start_time": "2021-07-18T21:27:39.823Z"
   },
   {
    "duration": 9,
    "start_time": "2021-07-18T21:27:39.867Z"
   },
   {
    "duration": 17,
    "start_time": "2021-07-18T21:27:39.879Z"
   },
   {
    "duration": 9,
    "start_time": "2021-07-18T21:27:39.899Z"
   },
   {
    "duration": 936,
    "start_time": "2021-07-18T21:27:39.911Z"
   },
   {
    "duration": 32,
    "start_time": "2021-07-18T21:27:40.849Z"
   },
   {
    "duration": 547,
    "start_time": "2021-07-18T21:27:40.884Z"
   },
   {
    "duration": 34,
    "start_time": "2021-07-18T21:27:41.434Z"
   },
   {
    "duration": 1743,
    "start_time": "2021-07-18T21:27:41.471Z"
   },
   {
    "duration": 49,
    "start_time": "2021-07-18T21:27:43.217Z"
   },
   {
    "duration": 50,
    "start_time": "2021-07-18T21:27:43.269Z"
   },
   {
    "duration": 72,
    "start_time": "2021-07-18T21:27:43.325Z"
   },
   {
    "duration": 782,
    "start_time": "2021-07-18T21:27:43.400Z"
   },
   {
    "duration": 853,
    "start_time": "2021-07-18T21:27:44.184Z"
   },
   {
    "duration": 6,
    "start_time": "2021-07-18T21:27:45.040Z"
   },
   {
    "duration": 537,
    "start_time": "2021-07-18T21:27:45.062Z"
   },
   {
    "duration": 5501,
    "start_time": "2021-07-18T21:27:40.101Z"
   },
   {
    "duration": 5500,
    "start_time": "2021-07-18T21:27:40.104Z"
   },
   {
    "duration": 5499,
    "start_time": "2021-07-18T21:27:40.106Z"
   },
   {
    "duration": 5498,
    "start_time": "2021-07-18T21:27:40.109Z"
   },
   {
    "duration": 5497,
    "start_time": "2021-07-18T21:27:40.111Z"
   },
   {
    "duration": 5496,
    "start_time": "2021-07-18T21:27:40.114Z"
   },
   {
    "duration": 5495,
    "start_time": "2021-07-18T21:27:40.117Z"
   },
   {
    "duration": 5493,
    "start_time": "2021-07-18T21:27:40.121Z"
   },
   {
    "duration": 5490,
    "start_time": "2021-07-18T21:27:40.125Z"
   },
   {
    "duration": 5489,
    "start_time": "2021-07-18T21:27:40.128Z"
   },
   {
    "duration": 5488,
    "start_time": "2021-07-18T21:27:40.131Z"
   },
   {
    "duration": 5485,
    "start_time": "2021-07-18T21:27:40.135Z"
   },
   {
    "duration": 5480,
    "start_time": "2021-07-18T21:27:40.142Z"
   },
   {
    "duration": 5478,
    "start_time": "2021-07-18T21:27:40.146Z"
   },
   {
    "duration": 5476,
    "start_time": "2021-07-18T21:27:40.149Z"
   },
   {
    "duration": 5475,
    "start_time": "2021-07-18T21:27:40.152Z"
   },
   {
    "duration": 5,
    "start_time": "2021-07-18T21:30:06.965Z"
   },
   {
    "duration": 52,
    "start_time": "2021-07-18T21:30:06.973Z"
   },
   {
    "duration": 44,
    "start_time": "2021-07-18T21:30:07.028Z"
   },
   {
    "duration": 21,
    "start_time": "2021-07-18T21:30:07.075Z"
   },
   {
    "duration": 73,
    "start_time": "2021-07-18T21:30:07.100Z"
   },
   {
    "duration": 10,
    "start_time": "2021-07-18T21:30:07.176Z"
   },
   {
    "duration": 15,
    "start_time": "2021-07-18T21:30:07.188Z"
   },
   {
    "duration": 13,
    "start_time": "2021-07-18T21:30:07.209Z"
   },
   {
    "duration": 41,
    "start_time": "2021-07-18T21:30:07.226Z"
   },
   {
    "duration": 16,
    "start_time": "2021-07-18T21:30:07.270Z"
   },
   {
    "duration": 17,
    "start_time": "2021-07-18T21:30:07.290Z"
   },
   {
    "duration": 8,
    "start_time": "2021-07-18T21:30:07.310Z"
   },
   {
    "duration": 40,
    "start_time": "2021-07-18T21:30:07.321Z"
   },
   {
    "duration": 20,
    "start_time": "2021-07-18T21:30:07.365Z"
   },
   {
    "duration": 12,
    "start_time": "2021-07-18T21:30:07.389Z"
   },
   {
    "duration": 921,
    "start_time": "2021-07-18T21:30:07.404Z"
   },
   {
    "duration": 39,
    "start_time": "2021-07-18T21:30:08.327Z"
   },
   {
    "duration": 548,
    "start_time": "2021-07-18T21:30:08.369Z"
   },
   {
    "duration": 43,
    "start_time": "2021-07-18T21:30:08.919Z"
   },
   {
    "duration": 616,
    "start_time": "2021-07-18T21:30:08.964Z"
   },
   {
    "duration": 8,
    "start_time": "2021-07-18T21:30:09.582Z"
   },
   {
    "duration": 94,
    "start_time": "2021-07-18T21:30:09.593Z"
   },
   {
    "duration": 42,
    "start_time": "2021-07-18T21:30:09.692Z"
   },
   {
    "duration": 776,
    "start_time": "2021-07-18T21:30:09.761Z"
   },
   {
    "duration": 858,
    "start_time": "2021-07-18T21:30:10.540Z"
   },
   {
    "duration": 7,
    "start_time": "2021-07-18T21:30:11.401Z"
   },
   {
    "duration": 726,
    "start_time": "2021-07-18T21:30:11.410Z"
   },
   {
    "duration": 732,
    "start_time": "2021-07-18T21:30:12.138Z"
   },
   {
    "duration": 679,
    "start_time": "2021-07-18T21:30:12.873Z"
   },
   {
    "duration": 660,
    "start_time": "2021-07-18T21:30:13.561Z"
   },
   {
    "duration": 61,
    "start_time": "2021-07-18T21:30:14.224Z"
   },
   {
    "duration": 780,
    "start_time": "2021-07-18T21:30:14.287Z"
   },
   {
    "duration": 7,
    "start_time": "2021-07-18T21:30:15.069Z"
   },
   {
    "duration": 971,
    "start_time": "2021-07-18T21:30:15.078Z"
   },
   {
    "duration": 377,
    "start_time": "2021-07-18T21:30:16.052Z"
   },
   {
    "duration": 5472,
    "start_time": "2021-07-18T21:30:10.959Z"
   },
   {
    "duration": 5471,
    "start_time": "2021-07-18T21:30:10.962Z"
   },
   {
    "duration": 5470,
    "start_time": "2021-07-18T21:30:10.964Z"
   },
   {
    "duration": 5465,
    "start_time": "2021-07-18T21:30:10.971Z"
   },
   {
    "duration": 5465,
    "start_time": "2021-07-18T21:30:10.973Z"
   },
   {
    "duration": 5463,
    "start_time": "2021-07-18T21:30:10.976Z"
   },
   {
    "duration": 5463,
    "start_time": "2021-07-18T21:30:10.978Z"
   },
   {
    "duration": 5462,
    "start_time": "2021-07-18T21:30:10.980Z"
   },
   {
    "duration": 361,
    "start_time": "2021-07-18T21:30:30.607Z"
   },
   {
    "duration": 322,
    "start_time": "2021-07-18T21:30:40.181Z"
   },
   {
    "duration": 272,
    "start_time": "2021-07-18T21:30:48.556Z"
   },
   {
    "duration": 779,
    "start_time": "2021-07-18T21:32:12.627Z"
   },
   {
    "duration": 817,
    "start_time": "2021-07-18T21:32:19.226Z"
   },
   {
    "duration": 971,
    "start_time": "2021-07-18T21:32:26.428Z"
   },
   {
    "duration": 701,
    "start_time": "2021-07-18T21:32:34.676Z"
   },
   {
    "duration": 704,
    "start_time": "2021-07-18T21:32:40.136Z"
   },
   {
    "duration": 749,
    "start_time": "2021-07-18T21:32:47.682Z"
   },
   {
    "duration": 102,
    "start_time": "2021-07-18T21:35:41.013Z"
   },
   {
    "duration": 113,
    "start_time": "2021-07-18T21:38:28.232Z"
   },
   {
    "duration": 452,
    "start_time": "2021-07-19T05:37:29.580Z"
   },
   {
    "duration": 1367,
    "start_time": "2021-08-11T19:12:36.355Z"
   },
   {
    "duration": 45,
    "start_time": "2021-08-11T19:12:37.725Z"
   },
   {
    "duration": 26,
    "start_time": "2021-08-11T19:12:37.773Z"
   },
   {
    "duration": 16,
    "start_time": "2021-08-11T19:12:37.802Z"
   },
   {
    "duration": 66,
    "start_time": "2021-08-11T19:12:37.820Z"
   },
   {
    "duration": 9,
    "start_time": "2021-08-11T19:12:37.888Z"
   },
   {
    "duration": 11,
    "start_time": "2021-08-11T19:12:37.899Z"
   },
   {
    "duration": 8,
    "start_time": "2021-08-11T19:12:37.913Z"
   },
   {
    "duration": 4,
    "start_time": "2021-08-11T19:12:37.925Z"
   },
   {
    "duration": 44,
    "start_time": "2021-08-11T19:12:37.932Z"
   },
   {
    "duration": 12,
    "start_time": "2021-08-11T19:12:37.978Z"
   },
   {
    "duration": 7,
    "start_time": "2021-08-11T19:12:37.992Z"
   },
   {
    "duration": 9,
    "start_time": "2021-08-11T19:12:38.001Z"
   },
   {
    "duration": 15,
    "start_time": "2021-08-11T19:12:38.013Z"
   },
   {
    "duration": 10,
    "start_time": "2021-08-11T19:12:38.066Z"
   },
   {
    "duration": 874,
    "start_time": "2021-08-11T19:12:38.079Z"
   },
   {
    "duration": 29,
    "start_time": "2021-08-11T19:12:38.955Z"
   },
   {
    "duration": 520,
    "start_time": "2021-08-11T19:12:38.987Z"
   },
   {
    "duration": 21,
    "start_time": "2021-08-11T19:12:39.509Z"
   },
   {
    "duration": 1678,
    "start_time": "2021-08-11T19:12:39.533Z"
   },
   {
    "duration": 59,
    "start_time": "2021-08-11T19:12:41.214Z"
   },
   {
    "duration": 55,
    "start_time": "2021-08-11T19:12:41.276Z"
   },
   {
    "duration": 73,
    "start_time": "2021-08-11T19:12:41.334Z"
   },
   {
    "duration": 781,
    "start_time": "2021-08-11T19:12:41.410Z"
   },
   {
    "duration": 843,
    "start_time": "2021-08-11T19:12:42.193Z"
   },
   {
    "duration": 6,
    "start_time": "2021-08-11T19:12:43.039Z"
   },
   {
    "duration": 703,
    "start_time": "2021-08-11T19:12:43.067Z"
   },
   {
    "duration": 700,
    "start_time": "2021-08-11T19:12:43.773Z"
   },
   {
    "duration": 657,
    "start_time": "2021-08-11T19:12:44.476Z"
   },
   {
    "duration": 680,
    "start_time": "2021-08-11T19:12:45.135Z"
   },
   {
    "duration": 61,
    "start_time": "2021-08-11T19:12:45.818Z"
   },
   {
    "duration": 759,
    "start_time": "2021-08-11T19:12:45.881Z"
   },
   {
    "duration": 6,
    "start_time": "2021-08-11T19:12:46.642Z"
   },
   {
    "duration": 829,
    "start_time": "2021-08-11T19:12:46.666Z"
   },
   {
    "duration": 736,
    "start_time": "2021-08-11T19:12:47.497Z"
   },
   {
    "duration": 953,
    "start_time": "2021-08-11T19:12:48.236Z"
   },
   {
    "duration": 5,
    "start_time": "2021-08-11T19:12:49.192Z"
   },
   {
    "duration": 25,
    "start_time": "2021-08-11T19:12:49.199Z"
   },
   {
    "duration": 429,
    "start_time": "2021-08-11T19:12:49.227Z"
   },
   {
    "duration": 17,
    "start_time": "2021-08-11T19:12:49.658Z"
   },
   {
    "duration": 9,
    "start_time": "2021-08-11T19:12:49.677Z"
   },
   {
    "duration": 17,
    "start_time": "2021-08-11T19:12:49.688Z"
   },
   {
    "duration": 9,
    "start_time": "2021-08-11T19:12:49.707Z"
   },
   {
    "duration": 645,
    "start_time": "2021-08-11T19:12:58.614Z"
   },
   {
    "duration": 659,
    "start_time": "2021-08-11T19:13:52.912Z"
   },
   {
    "duration": 737,
    "start_time": "2021-08-11T19:14:26.780Z"
   },
   {
    "duration": 1312,
    "start_time": "2021-08-19T12:37:03.006Z"
   },
   {
    "duration": 48,
    "start_time": "2021-08-19T12:37:04.321Z"
   },
   {
    "duration": 26,
    "start_time": "2021-08-19T12:37:04.373Z"
   },
   {
    "duration": 16,
    "start_time": "2021-08-19T12:37:04.403Z"
   },
   {
    "duration": 68,
    "start_time": "2021-08-19T12:37:04.421Z"
   },
   {
    "duration": 9,
    "start_time": "2021-08-19T12:37:04.491Z"
   },
   {
    "duration": 14,
    "start_time": "2021-08-19T12:37:04.502Z"
   },
   {
    "duration": 9,
    "start_time": "2021-08-19T12:37:04.520Z"
   },
   {
    "duration": 3,
    "start_time": "2021-08-19T12:37:04.558Z"
   },
   {
    "duration": 16,
    "start_time": "2021-08-19T12:37:04.565Z"
   },
   {
    "duration": 14,
    "start_time": "2021-08-19T12:37:04.584Z"
   },
   {
    "duration": 8,
    "start_time": "2021-08-19T12:37:04.600Z"
   },
   {
    "duration": 46,
    "start_time": "2021-08-19T12:37:04.611Z"
   },
   {
    "duration": 17,
    "start_time": "2021-08-19T12:37:04.659Z"
   },
   {
    "duration": 11,
    "start_time": "2021-08-19T12:37:04.679Z"
   },
   {
    "duration": 769,
    "start_time": "2021-08-19T12:37:04.692Z"
   },
   {
    "duration": 21,
    "start_time": "2021-08-19T12:37:05.464Z"
   },
   {
    "duration": 532,
    "start_time": "2021-08-19T12:37:05.488Z"
   },
   {
    "duration": 37,
    "start_time": "2021-08-19T12:37:06.022Z"
   },
   {
    "duration": 1630,
    "start_time": "2021-08-19T12:37:06.062Z"
   },
   {
    "duration": 63,
    "start_time": "2021-08-19T12:37:07.694Z"
   },
   {
    "duration": 53,
    "start_time": "2021-08-19T12:37:07.760Z"
   },
   {
    "duration": 64,
    "start_time": "2021-08-19T12:37:07.818Z"
   },
   {
    "duration": 745,
    "start_time": "2021-08-19T12:37:07.884Z"
   },
   {
    "duration": 812,
    "start_time": "2021-08-19T12:37:08.631Z"
   },
   {
    "duration": 13,
    "start_time": "2021-08-19T12:37:09.445Z"
   },
   {
    "duration": 656,
    "start_time": "2021-08-19T12:37:09.460Z"
   },
   {
    "duration": 731,
    "start_time": "2021-08-19T12:37:10.118Z"
   },
   {
    "duration": 669,
    "start_time": "2021-08-19T12:37:10.852Z"
   },
   {
    "duration": 694,
    "start_time": "2021-08-19T12:37:11.523Z"
   },
   {
    "duration": 56,
    "start_time": "2021-08-19T12:37:12.220Z"
   },
   {
    "duration": 736,
    "start_time": "2021-08-19T12:37:12.279Z"
   },
   {
    "duration": 8,
    "start_time": "2021-08-19T12:37:13.018Z"
   },
   {
    "duration": 783,
    "start_time": "2021-08-19T12:37:13.028Z"
   },
   {
    "duration": 733,
    "start_time": "2021-08-19T12:37:13.813Z"
   },
   {
    "duration": 815,
    "start_time": "2021-08-19T12:37:14.556Z"
   },
   {
    "duration": 5,
    "start_time": "2021-08-19T12:37:15.373Z"
   },
   {
    "duration": 26,
    "start_time": "2021-08-19T12:37:15.381Z"
   },
   {
    "duration": 417,
    "start_time": "2021-08-19T12:37:15.410Z"
   },
   {
    "duration": 13,
    "start_time": "2021-08-19T12:37:15.829Z"
   },
   {
    "duration": 19,
    "start_time": "2021-08-19T12:37:15.857Z"
   },
   {
    "duration": 29,
    "start_time": "2021-08-19T12:37:15.879Z"
   },
   {
    "duration": 21,
    "start_time": "2021-08-19T12:37:15.911Z"
   },
   {
    "duration": 882,
    "start_time": "2021-08-19T12:37:38.017Z"
   },
   {
    "duration": 497,
    "start_time": "2021-08-19T12:37:48.730Z"
   },
   {
    "duration": 294,
    "start_time": "2021-08-19T12:38:39.836Z"
   },
   {
    "duration": 863,
    "start_time": "2021-08-19T12:38:57.550Z"
   },
   {
    "duration": 850,
    "start_time": "2021-08-19T12:39:14.031Z"
   },
   {
    "duration": 40,
    "start_time": "2021-08-19T13:58:04.995Z"
   },
   {
    "duration": 722,
    "start_time": "2021-08-19T13:58:11.434Z"
   },
   {
    "duration": 45,
    "start_time": "2021-08-19T13:59:10.964Z"
   },
   {
    "duration": 1356,
    "start_time": "2021-12-14T11:25:15.720Z"
   },
   {
    "duration": 47,
    "start_time": "2021-12-14T11:25:17.079Z"
   },
   {
    "duration": 29,
    "start_time": "2021-12-14T11:25:17.130Z"
   },
   {
    "duration": 14,
    "start_time": "2021-12-14T11:25:17.161Z"
   },
   {
    "duration": 70,
    "start_time": "2021-12-14T11:25:17.177Z"
   },
   {
    "duration": 9,
    "start_time": "2021-12-14T11:25:17.249Z"
   },
   {
    "duration": 12,
    "start_time": "2021-12-14T11:25:17.260Z"
   },
   {
    "duration": 10,
    "start_time": "2021-12-14T11:25:17.275Z"
   },
   {
    "duration": 39,
    "start_time": "2021-12-14T11:25:17.288Z"
   },
   {
    "duration": 21,
    "start_time": "2021-12-14T11:25:17.330Z"
   },
   {
    "duration": 12,
    "start_time": "2021-12-14T11:25:17.353Z"
   },
   {
    "duration": 5,
    "start_time": "2021-12-14T11:25:17.367Z"
   },
   {
    "duration": 8,
    "start_time": "2021-12-14T11:25:17.374Z"
   },
   {
    "duration": 51,
    "start_time": "2021-12-14T11:25:17.384Z"
   },
   {
    "duration": 10,
    "start_time": "2021-12-14T11:25:17.438Z"
   },
   {
    "duration": 904,
    "start_time": "2021-12-14T11:25:17.450Z"
   },
   {
    "duration": 20,
    "start_time": "2021-12-14T11:25:18.356Z"
   },
   {
    "duration": 554,
    "start_time": "2021-12-14T11:25:18.379Z"
   },
   {
    "duration": 21,
    "start_time": "2021-12-14T11:25:18.936Z"
   },
   {
    "duration": 1687,
    "start_time": "2021-12-14T11:25:18.960Z"
   },
   {
    "duration": 8,
    "start_time": "2021-12-14T11:25:20.649Z"
   },
   {
    "duration": 124,
    "start_time": "2021-12-14T11:25:20.659Z"
   },
   {
    "duration": 65,
    "start_time": "2021-12-14T11:25:20.788Z"
   },
   {
    "duration": 782,
    "start_time": "2021-12-14T11:25:20.857Z"
   },
   {
    "duration": 886,
    "start_time": "2021-12-14T11:25:21.642Z"
   },
   {
    "duration": 9,
    "start_time": "2021-12-14T11:25:22.531Z"
   },
   {
    "duration": 687,
    "start_time": "2021-12-14T11:25:22.543Z"
   },
   {
    "duration": 702,
    "start_time": "2021-12-14T11:25:23.233Z"
   },
   {
    "duration": 676,
    "start_time": "2021-12-14T11:25:23.938Z"
   },
   {
    "duration": 712,
    "start_time": "2021-12-14T11:25:24.616Z"
   },
   {
    "duration": 50,
    "start_time": "2021-12-14T11:25:25.332Z"
   },
   {
    "duration": 777,
    "start_time": "2021-12-14T11:25:25.384Z"
   },
   {
    "duration": 7,
    "start_time": "2021-12-14T11:25:26.163Z"
   },
   {
    "duration": 832,
    "start_time": "2021-12-14T11:25:26.172Z"
   },
   {
    "duration": 765,
    "start_time": "2021-12-14T11:25:27.006Z"
   },
   {
    "duration": 989,
    "start_time": "2021-12-14T11:25:27.774Z"
   },
   {
    "duration": 4,
    "start_time": "2021-12-14T11:25:28.766Z"
   },
   {
    "duration": 25,
    "start_time": "2021-12-14T11:25:28.772Z"
   },
   {
    "duration": 442,
    "start_time": "2021-12-14T11:25:28.799Z"
   },
   {
    "duration": 13,
    "start_time": "2021-12-14T11:25:29.243Z"
   },
   {
    "duration": 10,
    "start_time": "2021-12-14T11:25:29.259Z"
   },
   {
    "duration": 12,
    "start_time": "2021-12-14T11:25:29.271Z"
   },
   {
    "duration": 42,
    "start_time": "2021-12-14T11:25:29.286Z"
   },
   {
    "duration": 968,
    "start_time": "2021-12-23T07:13:15.847Z"
   },
   {
    "duration": 37,
    "start_time": "2021-12-23T07:13:16.817Z"
   },
   {
    "duration": 19,
    "start_time": "2021-12-23T07:13:16.856Z"
   },
   {
    "duration": 17,
    "start_time": "2021-12-23T07:13:16.877Z"
   },
   {
    "duration": 31,
    "start_time": "2021-12-23T07:13:16.896Z"
   },
   {
    "duration": 7,
    "start_time": "2021-12-23T07:13:16.929Z"
   },
   {
    "duration": 10,
    "start_time": "2021-12-23T07:13:16.938Z"
   },
   {
    "duration": 7,
    "start_time": "2021-12-23T07:13:16.951Z"
   },
   {
    "duration": 34,
    "start_time": "2021-12-23T07:13:16.959Z"
   },
   {
    "duration": 10,
    "start_time": "2021-12-23T07:13:16.995Z"
   },
   {
    "duration": 7,
    "start_time": "2021-12-23T07:13:17.007Z"
   },
   {
    "duration": 6,
    "start_time": "2021-12-23T07:13:17.015Z"
   },
   {
    "duration": 7,
    "start_time": "2021-12-23T07:13:17.023Z"
   },
   {
    "duration": 9,
    "start_time": "2021-12-23T07:13:17.031Z"
   },
   {
    "duration": 5,
    "start_time": "2021-12-23T07:13:17.042Z"
   },
   {
    "duration": 564,
    "start_time": "2021-12-23T07:13:17.049Z"
   },
   {
    "duration": 15,
    "start_time": "2021-12-23T07:13:17.615Z"
   },
   {
    "duration": 347,
    "start_time": "2021-12-23T07:13:17.632Z"
   },
   {
    "duration": 22,
    "start_time": "2021-12-23T07:13:17.980Z"
   },
   {
    "duration": 1101,
    "start_time": "2021-12-23T07:13:18.003Z"
   },
   {
    "duration": 6,
    "start_time": "2021-12-23T07:13:19.106Z"
   },
   {
    "duration": 93,
    "start_time": "2021-12-23T07:13:19.113Z"
   },
   {
    "duration": 26,
    "start_time": "2021-12-23T07:13:19.209Z"
   },
   {
    "duration": 505,
    "start_time": "2021-12-23T07:13:19.237Z"
   },
   {
    "duration": 540,
    "start_time": "2021-12-23T07:13:19.744Z"
   },
   {
    "duration": 9,
    "start_time": "2021-12-23T07:13:20.285Z"
   },
   {
    "duration": 503,
    "start_time": "2021-12-23T07:13:20.296Z"
   },
   {
    "duration": 494,
    "start_time": "2021-12-23T07:13:20.801Z"
   },
   {
    "duration": 465,
    "start_time": "2021-12-23T07:13:21.296Z"
   },
   {
    "duration": 483,
    "start_time": "2021-12-23T07:13:21.762Z"
   },
   {
    "duration": 30,
    "start_time": "2021-12-23T07:13:22.247Z"
   },
   {
    "duration": 492,
    "start_time": "2021-12-23T07:13:22.292Z"
   },
   {
    "duration": 8,
    "start_time": "2021-12-23T07:13:22.785Z"
   },
   {
    "duration": 501,
    "start_time": "2021-12-23T07:13:22.794Z"
   },
   {
    "duration": 464,
    "start_time": "2021-12-23T07:13:23.297Z"
   },
   {
    "duration": 656,
    "start_time": "2021-12-23T07:13:23.762Z"
   },
   {
    "duration": 4,
    "start_time": "2021-12-23T07:13:24.420Z"
   },
   {
    "duration": 19,
    "start_time": "2021-12-23T07:13:24.425Z"
   },
   {
    "duration": 267,
    "start_time": "2021-12-23T07:13:24.445Z"
   },
   {
    "duration": 9,
    "start_time": "2021-12-23T07:13:24.713Z"
   },
   {
    "duration": 7,
    "start_time": "2021-12-23T07:13:24.724Z"
   },
   {
    "duration": 10,
    "start_time": "2021-12-23T07:13:24.733Z"
   },
   {
    "duration": 7,
    "start_time": "2021-12-23T07:13:24.745Z"
   },
   {
    "duration": 1090,
    "start_time": "2022-12-26T10:24:48.447Z"
   },
   {
    "duration": 113,
    "start_time": "2022-12-26T10:24:49.539Z"
   },
   {
    "duration": 22,
    "start_time": "2022-12-26T10:24:49.653Z"
   },
   {
    "duration": 14,
    "start_time": "2022-12-26T10:24:49.677Z"
   },
   {
    "duration": 39,
    "start_time": "2022-12-26T10:24:49.693Z"
   },
   {
    "duration": 9,
    "start_time": "2022-12-26T10:24:49.736Z"
   },
   {
    "duration": 17,
    "start_time": "2022-12-26T10:24:49.748Z"
   },
   {
    "duration": 15,
    "start_time": "2022-12-26T10:24:49.767Z"
   },
   {
    "duration": 16,
    "start_time": "2022-12-26T10:24:49.783Z"
   },
   {
    "duration": 9,
    "start_time": "2022-12-26T10:24:49.802Z"
   },
   {
    "duration": 6,
    "start_time": "2022-12-26T10:24:49.813Z"
   },
   {
    "duration": 34,
    "start_time": "2022-12-26T10:24:49.821Z"
   },
   {
    "duration": 8,
    "start_time": "2022-12-26T10:24:49.856Z"
   },
   {
    "duration": 15,
    "start_time": "2022-12-26T10:24:49.866Z"
   },
   {
    "duration": 6,
    "start_time": "2022-12-26T10:24:49.883Z"
   },
   {
    "duration": 398,
    "start_time": "2022-12-26T10:24:49.891Z"
   },
   {
    "duration": 13,
    "start_time": "2022-12-26T10:24:50.291Z"
   },
   {
    "duration": 295,
    "start_time": "2022-12-26T10:24:50.306Z"
   },
   {
    "duration": 28,
    "start_time": "2022-12-26T10:24:50.603Z"
   },
   {
    "duration": 430,
    "start_time": "2022-12-26T10:24:50.639Z"
   },
   {
    "duration": 7,
    "start_time": "2022-12-26T10:24:51.070Z"
   },
   {
    "duration": 90,
    "start_time": "2022-12-26T10:24:51.078Z"
   },
   {
    "duration": 69,
    "start_time": "2022-12-26T10:24:51.169Z"
   },
   {
    "duration": 403,
    "start_time": "2022-12-26T10:24:51.241Z"
   },
   {
    "duration": 422,
    "start_time": "2022-12-26T10:24:51.649Z"
   },
   {
    "duration": 5,
    "start_time": "2022-12-26T10:24:52.073Z"
   },
   {
    "duration": 235,
    "start_time": "2022-12-26T10:24:52.079Z"
   },
   {
    "duration": 234,
    "start_time": "2022-12-26T10:24:52.322Z"
   },
   {
    "duration": 228,
    "start_time": "2022-12-26T10:24:52.559Z"
   },
   {
    "duration": 225,
    "start_time": "2022-12-26T10:24:52.788Z"
   },
   {
    "duration": 52,
    "start_time": "2022-12-26T10:24:53.015Z"
   },
   {
    "duration": 307,
    "start_time": "2022-12-26T10:24:53.069Z"
   },
   {
    "duration": 4,
    "start_time": "2022-12-26T10:24:53.378Z"
   },
   {
    "duration": 434,
    "start_time": "2022-12-26T10:24:53.383Z"
   },
   {
    "duration": 388,
    "start_time": "2022-12-26T10:24:53.824Z"
   },
   {
    "duration": 553,
    "start_time": "2022-12-26T10:24:54.213Z"
   },
   {
    "duration": 4,
    "start_time": "2022-12-26T10:24:54.770Z"
   },
   {
    "duration": 37,
    "start_time": "2022-12-26T10:24:54.775Z"
   },
   {
    "duration": 207,
    "start_time": "2022-12-26T10:24:54.814Z"
   },
   {
    "duration": 20,
    "start_time": "2022-12-26T10:24:55.025Z"
   },
   {
    "duration": 18,
    "start_time": "2022-12-26T10:24:55.047Z"
   },
   {
    "duration": 17,
    "start_time": "2022-12-26T10:24:55.066Z"
   },
   {
    "duration": 42,
    "start_time": "2022-12-26T10:24:55.084Z"
   },
   {
    "duration": 1019,
    "start_time": "2023-02-04T06:51:24.789Z"
   },
   {
    "duration": 91,
    "start_time": "2023-02-04T06:51:25.810Z"
   },
   {
    "duration": 23,
    "start_time": "2023-02-04T06:51:25.903Z"
   },
   {
    "duration": 16,
    "start_time": "2023-02-04T06:51:25.928Z"
   },
   {
    "duration": 30,
    "start_time": "2023-02-04T06:51:25.946Z"
   },
   {
    "duration": 6,
    "start_time": "2023-02-04T06:51:25.978Z"
   },
   {
    "duration": 9,
    "start_time": "2023-02-04T06:51:25.985Z"
   },
   {
    "duration": 12,
    "start_time": "2023-02-04T06:51:25.996Z"
   },
   {
    "duration": 8,
    "start_time": "2023-02-04T06:51:26.009Z"
   },
   {
    "duration": 9,
    "start_time": "2023-02-04T06:51:26.039Z"
   },
   {
    "duration": 9,
    "start_time": "2023-02-04T06:51:26.050Z"
   },
   {
    "duration": 10,
    "start_time": "2023-02-04T06:51:26.060Z"
   },
   {
    "duration": 5,
    "start_time": "2023-02-04T06:51:26.072Z"
   },
   {
    "duration": 13,
    "start_time": "2023-02-04T06:51:26.078Z"
   },
   {
    "duration": 5,
    "start_time": "2023-02-04T06:51:26.093Z"
   },
   {
    "duration": 441,
    "start_time": "2023-02-04T06:51:26.100Z"
   },
   {
    "duration": 15,
    "start_time": "2023-02-04T06:51:26.543Z"
   },
   {
    "duration": 258,
    "start_time": "2023-02-04T06:51:26.560Z"
   },
   {
    "duration": 26,
    "start_time": "2023-02-04T06:51:26.820Z"
   },
   {
    "duration": 352,
    "start_time": "2023-02-04T06:51:26.848Z"
   },
   {
    "duration": 8,
    "start_time": "2023-02-04T06:51:27.236Z"
   },
   {
    "duration": 43,
    "start_time": "2023-02-04T06:51:27.246Z"
   },
   {
    "duration": 26,
    "start_time": "2023-02-04T06:51:27.337Z"
   },
   {
    "duration": 345,
    "start_time": "2023-02-04T06:51:27.365Z"
   },
   {
    "duration": 378,
    "start_time": "2023-02-04T06:51:27.711Z"
   },
   {
    "duration": 4,
    "start_time": "2023-02-04T06:51:28.091Z"
   },
   {
    "duration": 214,
    "start_time": "2023-02-04T06:51:28.097Z"
   },
   {
    "duration": 210,
    "start_time": "2023-02-04T06:51:28.315Z"
   },
   {
    "duration": 183,
    "start_time": "2023-02-04T06:51:28.527Z"
   },
   {
    "duration": 175,
    "start_time": "2023-02-04T06:51:28.712Z"
   },
   {
    "duration": 30,
    "start_time": "2023-02-04T06:51:28.889Z"
   },
   {
    "duration": 276,
    "start_time": "2023-02-04T06:51:28.920Z"
   },
   {
    "duration": 4,
    "start_time": "2023-02-04T06:51:29.197Z"
   },
   {
    "duration": 386,
    "start_time": "2023-02-04T06:51:29.203Z"
   },
   {
    "duration": 381,
    "start_time": "2023-02-04T06:51:29.591Z"
   },
   {
    "duration": 534,
    "start_time": "2023-02-04T06:51:29.974Z"
   },
   {
    "duration": 4,
    "start_time": "2023-02-04T06:51:30.510Z"
   },
   {
    "duration": 30,
    "start_time": "2023-02-04T06:51:30.516Z"
   },
   {
    "duration": 192,
    "start_time": "2023-02-04T06:51:30.547Z"
   },
   {
    "duration": 8,
    "start_time": "2023-02-04T06:51:30.740Z"
   },
   {
    "duration": 16,
    "start_time": "2023-02-04T06:51:30.750Z"
   },
   {
    "duration": 20,
    "start_time": "2023-02-04T06:51:30.767Z"
   },
   {
    "duration": 12,
    "start_time": "2023-02-04T06:51:30.789Z"
   },
   {
    "duration": 351,
    "start_time": "2023-02-04T06:58:43.213Z"
   },
   {
    "duration": 351,
    "start_time": "2023-02-04T06:59:59.915Z"
   },
   {
    "duration": 14,
    "start_time": "2023-02-04T07:00:19.867Z"
   },
   {
    "duration": 51,
    "start_time": "2023-02-05T08:53:16.464Z"
   },
   {
    "duration": 4,
    "start_time": "2023-02-05T08:53:29.536Z"
   },
   {
    "duration": 10,
    "start_time": "2023-02-05T08:53:33.182Z"
   },
   {
    "duration": 1188,
    "start_time": "2023-02-05T08:53:41.907Z"
   },
   {
    "duration": 202,
    "start_time": "2023-02-05T08:53:43.097Z"
   },
   {
    "duration": 23,
    "start_time": "2023-02-05T08:53:43.301Z"
   },
   {
    "duration": 15,
    "start_time": "2023-02-05T08:53:43.325Z"
   },
   {
    "duration": 25,
    "start_time": "2023-02-05T08:53:43.342Z"
   },
   {
    "duration": 7,
    "start_time": "2023-02-05T08:53:43.369Z"
   },
   {
    "duration": 12,
    "start_time": "2023-02-05T08:53:43.378Z"
   },
   {
    "duration": 13,
    "start_time": "2023-02-05T08:53:43.392Z"
   },
   {
    "duration": 6,
    "start_time": "2023-02-05T08:53:43.407Z"
   },
   {
    "duration": 15,
    "start_time": "2023-02-05T08:53:43.415Z"
   },
   {
    "duration": 17,
    "start_time": "2023-02-05T08:53:43.432Z"
   },
   {
    "duration": 13,
    "start_time": "2023-02-05T08:53:43.451Z"
   },
   {
    "duration": 26,
    "start_time": "2023-02-05T08:53:43.466Z"
   },
   {
    "duration": 29,
    "start_time": "2023-02-05T08:53:43.497Z"
   },
   {
    "duration": 8,
    "start_time": "2023-02-05T08:53:43.528Z"
   },
   {
    "duration": 429,
    "start_time": "2023-02-05T08:53:43.538Z"
   },
   {
    "duration": 14,
    "start_time": "2023-02-05T08:53:43.969Z"
   },
   {
    "duration": 246,
    "start_time": "2023-02-05T08:53:43.985Z"
   },
   {
    "duration": 19,
    "start_time": "2023-02-05T08:53:44.232Z"
   },
   {
    "duration": 6,
    "start_time": "2023-02-05T08:53:44.252Z"
   },
   {
    "duration": 45,
    "start_time": "2023-02-05T08:53:44.259Z"
   },
   {
    "duration": 23,
    "start_time": "2023-02-05T08:53:44.306Z"
   },
   {
    "duration": 344,
    "start_time": "2023-02-05T08:53:44.348Z"
   },
   {
    "duration": 314,
    "start_time": "2023-02-05T08:53:44.694Z"
   },
   {
    "duration": 6,
    "start_time": "2023-02-05T08:53:45.010Z"
   },
   {
    "duration": 215,
    "start_time": "2023-02-05T08:53:45.018Z"
   },
   {
    "duration": 224,
    "start_time": "2023-02-05T08:53:45.234Z"
   },
   {
    "duration": 210,
    "start_time": "2023-02-05T08:53:45.460Z"
   },
   {
    "duration": 260,
    "start_time": "2023-02-05T08:53:45.672Z"
   },
   {
    "duration": 40,
    "start_time": "2023-02-05T08:53:45.934Z"
   },
   {
    "duration": 286,
    "start_time": "2023-02-05T08:53:45.976Z"
   },
   {
    "duration": 6,
    "start_time": "2023-02-05T08:53:46.264Z"
   },
   {
    "duration": 767,
    "start_time": "2023-02-05T08:53:46.272Z"
   },
   {
    "duration": 344,
    "start_time": "2023-02-05T08:53:47.041Z"
   },
   {
    "duration": 406,
    "start_time": "2023-02-05T08:53:47.388Z"
   },
   {
    "duration": 3,
    "start_time": "2023-02-05T08:53:47.796Z"
   },
   {
    "duration": 26,
    "start_time": "2023-02-05T08:53:47.801Z"
   },
   {
    "duration": 200,
    "start_time": "2023-02-05T08:53:47.829Z"
   },
   {
    "duration": 9,
    "start_time": "2023-02-05T08:53:48.031Z"
   },
   {
    "duration": 13,
    "start_time": "2023-02-05T08:53:48.048Z"
   },
   {
    "duration": 13,
    "start_time": "2023-02-05T08:53:48.064Z"
   },
   {
    "duration": 19,
    "start_time": "2023-02-05T08:53:48.078Z"
   },
   {
    "duration": 4,
    "start_time": "2023-02-05T08:54:22.463Z"
   },
   {
    "duration": 431,
    "start_time": "2023-02-05T08:54:24.593Z"
   },
   {
    "duration": 71,
    "start_time": "2023-02-05T08:59:29.784Z"
   },
   {
    "duration": 6,
    "start_time": "2023-02-05T08:59:48.602Z"
   },
   {
    "duration": 38,
    "start_time": "2023-02-05T08:59:51.105Z"
   },
   {
    "duration": 38,
    "start_time": "2023-02-05T09:00:06.793Z"
   },
   {
    "duration": 1248,
    "start_time": "2023-02-06T06:10:43.302Z"
   },
   {
    "duration": 102,
    "start_time": "2023-02-06T06:10:44.551Z"
   },
   {
    "duration": 20,
    "start_time": "2023-02-06T06:10:44.654Z"
   },
   {
    "duration": 12,
    "start_time": "2023-02-06T06:10:44.676Z"
   },
   {
    "duration": 28,
    "start_time": "2023-02-06T06:10:44.690Z"
   },
   {
    "duration": 6,
    "start_time": "2023-02-06T06:10:44.720Z"
   },
   {
    "duration": 13,
    "start_time": "2023-02-06T06:10:44.727Z"
   },
   {
    "duration": 7,
    "start_time": "2023-02-06T06:10:44.741Z"
   },
   {
    "duration": 6,
    "start_time": "2023-02-06T06:10:44.749Z"
   },
   {
    "duration": 10,
    "start_time": "2023-02-06T06:10:44.757Z"
   },
   {
    "duration": 10,
    "start_time": "2023-02-06T06:10:44.769Z"
   },
   {
    "duration": 4,
    "start_time": "2023-02-06T06:10:44.781Z"
   },
   {
    "duration": 6,
    "start_time": "2023-02-06T06:10:44.786Z"
   },
   {
    "duration": 27,
    "start_time": "2023-02-06T06:10:44.793Z"
   },
   {
    "duration": 5,
    "start_time": "2023-02-06T06:10:44.822Z"
   },
   {
    "duration": 412,
    "start_time": "2023-02-06T06:10:44.829Z"
   },
   {
    "duration": 15,
    "start_time": "2023-02-06T06:10:45.243Z"
   },
   {
    "duration": 250,
    "start_time": "2023-02-06T06:10:45.260Z"
   },
   {
    "duration": 19,
    "start_time": "2023-02-06T06:10:45.512Z"
   },
   {
    "duration": 4,
    "start_time": "2023-02-06T06:10:45.533Z"
   },
   {
    "duration": 35,
    "start_time": "2023-02-06T06:10:45.538Z"
   },
   {
    "duration": 47,
    "start_time": "2023-02-06T06:10:45.575Z"
   },
   {
    "duration": 372,
    "start_time": "2023-02-06T06:10:45.624Z"
   },
   {
    "duration": 321,
    "start_time": "2023-02-06T06:10:45.998Z"
   },
   {
    "duration": 4,
    "start_time": "2023-02-06T06:10:46.321Z"
   },
   {
    "duration": 399,
    "start_time": "2023-02-06T06:10:46.326Z"
   },
   {
    "duration": 266,
    "start_time": "2023-02-06T06:10:46.727Z"
   },
   {
    "duration": 205,
    "start_time": "2023-02-06T06:10:46.997Z"
   },
   {
    "duration": 258,
    "start_time": "2023-02-06T06:10:47.204Z"
   },
   {
    "duration": 35,
    "start_time": "2023-02-06T06:10:47.463Z"
   },
   {
    "duration": 285,
    "start_time": "2023-02-06T06:10:47.510Z"
   },
   {
    "duration": 5,
    "start_time": "2023-02-06T06:10:47.796Z"
   },
   {
    "duration": 227,
    "start_time": "2023-02-06T06:10:47.809Z"
   },
   {
    "duration": 0,
    "start_time": "2023-02-06T06:10:48.038Z"
   },
   {
    "duration": 0,
    "start_time": "2023-02-06T06:10:48.040Z"
   },
   {
    "duration": 0,
    "start_time": "2023-02-06T06:10:48.041Z"
   },
   {
    "duration": 0,
    "start_time": "2023-02-06T06:10:48.042Z"
   },
   {
    "duration": 0,
    "start_time": "2023-02-06T06:10:48.043Z"
   },
   {
    "duration": 0,
    "start_time": "2023-02-06T06:10:48.044Z"
   },
   {
    "duration": 0,
    "start_time": "2023-02-06T06:10:48.045Z"
   },
   {
    "duration": 0,
    "start_time": "2023-02-06T06:10:48.046Z"
   },
   {
    "duration": 0,
    "start_time": "2023-02-06T06:10:48.047Z"
   },
   {
    "duration": 385,
    "start_time": "2023-02-06T06:11:22.725Z"
   },
   {
    "duration": 738,
    "start_time": "2023-02-06T06:24:51.466Z"
   },
   {
    "duration": 4,
    "start_time": "2023-02-06T06:25:08.197Z"
   },
   {
    "duration": 296,
    "start_time": "2023-02-06T06:25:13.350Z"
   },
   {
    "duration": 16,
    "start_time": "2023-02-06T06:25:37.308Z"
   },
   {
    "duration": 4,
    "start_time": "2023-02-06T06:25:54.139Z"
   },
   {
    "duration": 401,
    "start_time": "2023-02-06T06:25:57.369Z"
   },
   {
    "duration": 473,
    "start_time": "2023-02-06T06:26:07.465Z"
   },
   {
    "duration": 15,
    "start_time": "2023-02-06T06:26:36.753Z"
   },
   {
    "duration": 4,
    "start_time": "2023-02-06T06:26:42.511Z"
   },
   {
    "duration": 274,
    "start_time": "2023-02-06T06:26:46.884Z"
   },
   {
    "duration": 392,
    "start_time": "2023-02-06T06:27:22.026Z"
   },
   {
    "duration": 289,
    "start_time": "2023-02-06T06:27:51.357Z"
   },
   {
    "duration": 387,
    "start_time": "2023-02-06T06:28:55.082Z"
   },
   {
    "duration": 13,
    "start_time": "2023-02-06T06:31:06.042Z"
   },
   {
    "duration": 5,
    "start_time": "2023-02-06T06:31:12.467Z"
   },
   {
    "duration": 39,
    "start_time": "2023-02-06T06:31:16.866Z"
   },
   {
    "duration": 319,
    "start_time": "2023-02-06T06:32:11.530Z"
   },
   {
    "duration": 11,
    "start_time": "2023-02-06T06:32:26.934Z"
   },
   {
    "duration": 4,
    "start_time": "2023-02-06T06:32:32.775Z"
   },
   {
    "duration": 427,
    "start_time": "2023-02-06T06:32:36.905Z"
   },
   {
    "duration": 13,
    "start_time": "2023-02-06T06:32:52.072Z"
   },
   {
    "duration": 12,
    "start_time": "2023-02-06T06:33:33.078Z"
   },
   {
    "duration": 399,
    "start_time": "2023-02-06T06:33:37.683Z"
   },
   {
    "duration": 6,
    "start_time": "2023-02-06T06:33:42.414Z"
   },
   {
    "duration": 418,
    "start_time": "2023-02-06T06:33:45.772Z"
   },
   {
    "duration": 1235,
    "start_time": "2023-02-06T06:34:44.129Z"
   },
   {
    "duration": 59,
    "start_time": "2023-02-06T06:34:45.367Z"
   },
   {
    "duration": 31,
    "start_time": "2023-02-06T06:34:45.429Z"
   },
   {
    "duration": 15,
    "start_time": "2023-02-06T06:34:45.463Z"
   },
   {
    "duration": 47,
    "start_time": "2023-02-06T06:34:45.479Z"
   },
   {
    "duration": 10,
    "start_time": "2023-02-06T06:34:45.528Z"
   },
   {
    "duration": 11,
    "start_time": "2023-02-06T06:34:45.540Z"
   },
   {
    "duration": 12,
    "start_time": "2023-02-06T06:34:45.552Z"
   },
   {
    "duration": 14,
    "start_time": "2023-02-06T06:34:45.566Z"
   },
   {
    "duration": 27,
    "start_time": "2023-02-06T06:34:45.583Z"
   },
   {
    "duration": 13,
    "start_time": "2023-02-06T06:34:45.612Z"
   },
   {
    "duration": 15,
    "start_time": "2023-02-06T06:34:45.627Z"
   },
   {
    "duration": 10,
    "start_time": "2023-02-06T06:34:45.644Z"
   },
   {
    "duration": 19,
    "start_time": "2023-02-06T06:34:45.656Z"
   },
   {
    "duration": 7,
    "start_time": "2023-02-06T06:34:45.677Z"
   },
   {
    "duration": 471,
    "start_time": "2023-02-06T06:34:45.686Z"
   },
   {
    "duration": 21,
    "start_time": "2023-02-06T06:34:46.159Z"
   },
   {
    "duration": 316,
    "start_time": "2023-02-06T06:34:46.182Z"
   },
   {
    "duration": 33,
    "start_time": "2023-02-06T06:34:46.500Z"
   },
   {
    "duration": 36,
    "start_time": "2023-02-06T06:34:46.535Z"
   },
   {
    "duration": 53,
    "start_time": "2023-02-06T06:34:46.573Z"
   },
   {
    "duration": 57,
    "start_time": "2023-02-06T06:34:46.628Z"
   },
   {
    "duration": 510,
    "start_time": "2023-02-06T06:34:46.686Z"
   },
   {
    "duration": 454,
    "start_time": "2023-02-06T06:34:47.198Z"
   },
   {
    "duration": 6,
    "start_time": "2023-02-06T06:34:47.653Z"
   },
   {
    "duration": 271,
    "start_time": "2023-02-06T06:34:47.660Z"
   },
   {
    "duration": 276,
    "start_time": "2023-02-06T06:34:47.934Z"
   },
   {
    "duration": 226,
    "start_time": "2023-02-06T06:34:48.214Z"
   },
   {
    "duration": 319,
    "start_time": "2023-02-06T06:34:48.442Z"
   },
   {
    "duration": 49,
    "start_time": "2023-02-06T06:34:48.762Z"
   },
   {
    "duration": 314,
    "start_time": "2023-02-06T06:34:48.814Z"
   },
   {
    "duration": 9,
    "start_time": "2023-02-06T06:34:49.133Z"
   },
   {
    "duration": 477,
    "start_time": "2023-02-06T06:34:49.144Z"
   },
   {
    "duration": 450,
    "start_time": "2023-02-06T06:34:49.623Z"
   },
   {
    "duration": 3,
    "start_time": "2023-02-06T06:34:50.075Z"
   },
   {
    "duration": 37,
    "start_time": "2023-02-06T06:34:50.080Z"
   },
   {
    "duration": 263,
    "start_time": "2023-02-06T06:34:50.119Z"
   },
   {
    "duration": 12,
    "start_time": "2023-02-06T06:34:50.385Z"
   },
   {
    "duration": 15,
    "start_time": "2023-02-06T06:34:50.398Z"
   },
   {
    "duration": 28,
    "start_time": "2023-02-06T06:34:50.415Z"
   },
   {
    "duration": 11,
    "start_time": "2023-02-06T06:34:50.445Z"
   },
   {
    "duration": 7,
    "start_time": "2023-02-06T06:37:00.971Z"
   },
   {
    "duration": 8,
    "start_time": "2023-02-06T06:37:14.508Z"
   },
   {
    "duration": 1279,
    "start_time": "2023-02-06T06:38:56.429Z"
   },
   {
    "duration": 65,
    "start_time": "2023-02-06T06:38:57.710Z"
   },
   {
    "duration": 30,
    "start_time": "2023-02-06T06:38:57.777Z"
   },
   {
    "duration": 27,
    "start_time": "2023-02-06T06:38:57.809Z"
   },
   {
    "duration": 35,
    "start_time": "2023-02-06T06:38:57.839Z"
   },
   {
    "duration": 8,
    "start_time": "2023-02-06T06:38:57.876Z"
   },
   {
    "duration": 30,
    "start_time": "2023-02-06T06:38:57.886Z"
   },
   {
    "duration": 27,
    "start_time": "2023-02-06T06:38:57.918Z"
   },
   {
    "duration": 8,
    "start_time": "2023-02-06T06:38:57.946Z"
   },
   {
    "duration": 11,
    "start_time": "2023-02-06T06:38:57.956Z"
   },
   {
    "duration": 13,
    "start_time": "2023-02-06T06:38:57.969Z"
   },
   {
    "duration": 6,
    "start_time": "2023-02-06T06:38:57.983Z"
   },
   {
    "duration": 6,
    "start_time": "2023-02-06T06:38:58.009Z"
   },
   {
    "duration": 16,
    "start_time": "2023-02-06T06:38:58.019Z"
   },
   {
    "duration": 8,
    "start_time": "2023-02-06T06:38:58.037Z"
   },
   {
    "duration": 440,
    "start_time": "2023-02-06T06:38:58.047Z"
   },
   {
    "duration": 29,
    "start_time": "2023-02-06T06:38:58.489Z"
   },
   {
    "duration": 269,
    "start_time": "2023-02-06T06:38:58.520Z"
   },
   {
    "duration": 42,
    "start_time": "2023-02-06T06:38:58.792Z"
   },
   {
    "duration": 18,
    "start_time": "2023-02-06T06:38:58.836Z"
   },
   {
    "duration": 62,
    "start_time": "2023-02-06T06:38:58.858Z"
   },
   {
    "duration": 34,
    "start_time": "2023-02-06T06:38:58.922Z"
   },
   {
    "duration": 472,
    "start_time": "2023-02-06T06:38:58.958Z"
   },
   {
    "duration": 451,
    "start_time": "2023-02-06T06:38:59.432Z"
   },
   {
    "duration": 6,
    "start_time": "2023-02-06T06:38:59.885Z"
   },
   {
    "duration": 275,
    "start_time": "2023-02-06T06:38:59.894Z"
   },
   {
    "duration": 286,
    "start_time": "2023-02-06T06:39:00.171Z"
   },
   {
    "duration": 226,
    "start_time": "2023-02-06T06:39:00.459Z"
   },
   {
    "duration": 380,
    "start_time": "2023-02-06T06:39:00.686Z"
   },
   {
    "duration": 65,
    "start_time": "2023-02-06T06:39:01.069Z"
   },
   {
    "duration": 335,
    "start_time": "2023-02-06T06:39:01.137Z"
   },
   {
    "duration": 6,
    "start_time": "2023-02-06T06:39:01.474Z"
   },
   {
    "duration": 445,
    "start_time": "2023-02-06T06:39:01.482Z"
   },
   {
    "duration": 431,
    "start_time": "2023-02-06T06:39:01.929Z"
   },
   {
    "duration": 5,
    "start_time": "2023-02-06T06:39:02.362Z"
   },
   {
    "duration": 33,
    "start_time": "2023-02-06T06:39:02.369Z"
   },
   {
    "duration": 203,
    "start_time": "2023-02-06T06:39:02.404Z"
   },
   {
    "duration": 11,
    "start_time": "2023-02-06T06:39:02.609Z"
   },
   {
    "duration": 18,
    "start_time": "2023-02-06T06:39:02.624Z"
   },
   {
    "duration": 13,
    "start_time": "2023-02-06T06:39:02.644Z"
   },
   {
    "duration": 26,
    "start_time": "2023-02-06T06:39:02.662Z"
   },
   {
    "duration": 1127,
    "start_time": "2023-02-14T17:59:32.653Z"
   },
   {
    "duration": 107,
    "start_time": "2023-02-14T17:59:33.782Z"
   },
   {
    "duration": 26,
    "start_time": "2023-02-14T17:59:33.890Z"
   },
   {
    "duration": 22,
    "start_time": "2023-02-14T17:59:33.918Z"
   },
   {
    "duration": 40,
    "start_time": "2023-02-14T17:59:33.941Z"
   },
   {
    "duration": 24,
    "start_time": "2023-02-14T17:59:33.983Z"
   },
   {
    "duration": 30,
    "start_time": "2023-02-14T17:59:34.010Z"
   },
   {
    "duration": 25,
    "start_time": "2023-02-14T17:59:34.042Z"
   },
   {
    "duration": 37,
    "start_time": "2023-02-14T17:59:34.069Z"
   },
   {
    "duration": 31,
    "start_time": "2023-02-14T17:59:34.109Z"
   },
   {
    "duration": 36,
    "start_time": "2023-02-14T17:59:34.143Z"
   },
   {
    "duration": 11,
    "start_time": "2023-02-14T17:59:34.182Z"
   },
   {
    "duration": 34,
    "start_time": "2023-02-14T17:59:34.195Z"
   },
   {
    "duration": 37,
    "start_time": "2023-02-14T17:59:34.231Z"
   },
   {
    "duration": 19,
    "start_time": "2023-02-14T17:59:34.271Z"
   },
   {
    "duration": 499,
    "start_time": "2023-02-14T17:59:34.293Z"
   },
   {
    "duration": 25,
    "start_time": "2023-02-14T17:59:34.801Z"
   },
   {
    "duration": 574,
    "start_time": "2023-02-14T17:59:34.828Z"
   },
   {
    "duration": 20,
    "start_time": "2023-02-14T17:59:35.410Z"
   },
   {
    "duration": 7,
    "start_time": "2023-02-14T17:59:35.432Z"
   },
   {
    "duration": 161,
    "start_time": "2023-02-14T17:59:35.441Z"
   },
   {
    "duration": 32,
    "start_time": "2023-02-14T17:59:35.609Z"
   },
   {
    "duration": 874,
    "start_time": "2023-02-14T17:59:35.643Z"
   },
   {
    "duration": 811,
    "start_time": "2023-02-14T17:59:36.520Z"
   },
   {
    "duration": 7,
    "start_time": "2023-02-14T17:59:37.333Z"
   },
   {
    "duration": 275,
    "start_time": "2023-02-14T17:59:37.342Z"
   },
   {
    "duration": 257,
    "start_time": "2023-02-14T17:59:37.619Z"
   },
   {
    "duration": 253,
    "start_time": "2023-02-14T17:59:37.880Z"
   },
   {
    "duration": 326,
    "start_time": "2023-02-14T17:59:38.135Z"
   },
   {
    "duration": 60,
    "start_time": "2023-02-14T17:59:38.463Z"
   },
   {
    "duration": 361,
    "start_time": "2023-02-14T17:59:38.525Z"
   },
   {
    "duration": 15,
    "start_time": "2023-02-14T17:59:38.888Z"
   },
   {
    "duration": 459,
    "start_time": "2023-02-14T17:59:38.905Z"
   },
   {
    "duration": 425,
    "start_time": "2023-02-14T17:59:39.365Z"
   },
   {
    "duration": 11,
    "start_time": "2023-02-14T17:59:39.791Z"
   },
   {
    "duration": 57,
    "start_time": "2023-02-14T17:59:39.807Z"
   },
   {
    "duration": 218,
    "start_time": "2023-02-14T17:59:39.866Z"
   },
   {
    "duration": 17,
    "start_time": "2023-02-14T17:59:40.086Z"
   },
   {
    "duration": 29,
    "start_time": "2023-02-14T17:59:40.105Z"
   },
   {
    "duration": 15,
    "start_time": "2023-02-14T17:59:40.135Z"
   },
   {
    "duration": 10,
    "start_time": "2023-02-14T17:59:40.152Z"
   },
   {
    "duration": 47,
    "start_time": "2023-02-14T18:02:11.885Z"
   },
   {
    "duration": 57,
    "start_time": "2023-02-14T18:02:24.368Z"
   },
   {
    "duration": 49,
    "start_time": "2023-02-14T18:02:33.832Z"
   },
   {
    "duration": 347,
    "start_time": "2023-02-14T18:03:33.614Z"
   },
   {
    "duration": 422,
    "start_time": "2023-02-14T18:03:37.885Z"
   },
   {
    "duration": 471,
    "start_time": "2023-02-14T18:03:46.786Z"
   },
   {
    "duration": 11,
    "start_time": "2023-02-14T18:06:48.858Z"
   },
   {
    "duration": 17,
    "start_time": "2023-02-14T18:07:21.698Z"
   },
   {
    "duration": 10,
    "start_time": "2023-02-14T18:09:11.112Z"
   },
   {
    "duration": 17,
    "start_time": "2023-02-14T18:09:26.925Z"
   },
   {
    "duration": 18,
    "start_time": "2023-02-14T18:09:38.280Z"
   },
   {
    "duration": 39,
    "start_time": "2023-02-14T18:10:48.476Z"
   },
   {
    "duration": 32,
    "start_time": "2023-02-14T18:11:03.501Z"
   },
   {
    "duration": 324,
    "start_time": "2023-02-14T18:11:08.168Z"
   },
   {
    "duration": 74,
    "start_time": "2023-02-14T18:11:43.129Z"
   },
   {
    "duration": 277,
    "start_time": "2023-02-14T18:11:48.819Z"
   },
   {
    "duration": 306,
    "start_time": "2023-02-14T18:11:55.633Z"
   },
   {
    "duration": 100,
    "start_time": "2023-02-14T18:14:25.445Z"
   },
   {
    "duration": 10,
    "start_time": "2023-02-14T18:14:34.607Z"
   },
   {
    "duration": 520,
    "start_time": "2023-02-14T18:14:36.833Z"
   },
   {
    "duration": 501,
    "start_time": "2023-02-14T18:14:59.990Z"
   },
   {
    "duration": 1139,
    "start_time": "2023-02-14T18:15:57.633Z"
   },
   {
    "duration": 54,
    "start_time": "2023-02-14T18:15:58.774Z"
   },
   {
    "duration": 22,
    "start_time": "2023-02-14T18:15:58.830Z"
   },
   {
    "duration": 15,
    "start_time": "2023-02-14T18:15:58.854Z"
   },
   {
    "duration": 58,
    "start_time": "2023-02-14T18:15:58.871Z"
   },
   {
    "duration": 8,
    "start_time": "2023-02-14T18:15:58.930Z"
   },
   {
    "duration": 9,
    "start_time": "2023-02-14T18:15:58.940Z"
   },
   {
    "duration": 15,
    "start_time": "2023-02-14T18:15:58.951Z"
   },
   {
    "duration": 8,
    "start_time": "2023-02-14T18:15:58.968Z"
   },
   {
    "duration": 14,
    "start_time": "2023-02-14T18:15:59.005Z"
   },
   {
    "duration": 16,
    "start_time": "2023-02-14T18:15:59.021Z"
   },
   {
    "duration": 7,
    "start_time": "2023-02-14T18:15:59.039Z"
   },
   {
    "duration": 7,
    "start_time": "2023-02-14T18:15:59.048Z"
   },
   {
    "duration": 22,
    "start_time": "2023-02-14T18:15:59.056Z"
   },
   {
    "duration": 7,
    "start_time": "2023-02-14T18:15:59.080Z"
   },
   {
    "duration": 448,
    "start_time": "2023-02-14T18:15:59.099Z"
   },
   {
    "duration": 18,
    "start_time": "2023-02-14T18:15:59.549Z"
   },
   {
    "duration": 281,
    "start_time": "2023-02-14T18:15:59.570Z"
   },
   {
    "duration": 19,
    "start_time": "2023-02-14T18:15:59.853Z"
   },
   {
    "duration": 26,
    "start_time": "2023-02-14T18:15:59.874Z"
   },
   {
    "duration": 44,
    "start_time": "2023-02-14T18:15:59.908Z"
   },
   {
    "duration": 38,
    "start_time": "2023-02-14T18:15:59.953Z"
   },
   {
    "duration": 372,
    "start_time": "2023-02-14T18:15:59.992Z"
   },
   {
    "duration": 413,
    "start_time": "2023-02-14T18:16:00.365Z"
   },
   {
    "duration": 6,
    "start_time": "2023-02-14T18:16:00.780Z"
   },
   {
    "duration": 266,
    "start_time": "2023-02-14T18:16:00.798Z"
   },
   {
    "duration": 254,
    "start_time": "2023-02-14T18:16:01.067Z"
   },
   {
    "duration": 243,
    "start_time": "2023-02-14T18:16:01.327Z"
   },
   {
    "duration": 318,
    "start_time": "2023-02-14T18:16:01.572Z"
   },
   {
    "duration": 56,
    "start_time": "2023-02-14T18:16:01.899Z"
   },
   {
    "duration": 355,
    "start_time": "2023-02-14T18:16:01.957Z"
   },
   {
    "duration": 9,
    "start_time": "2023-02-14T18:16:02.313Z"
   },
   {
    "duration": 527,
    "start_time": "2023-02-14T18:16:02.328Z"
   },
   {
    "duration": 507,
    "start_time": "2023-02-14T18:16:02.856Z"
   },
   {
    "duration": 5,
    "start_time": "2023-02-14T18:16:03.365Z"
   },
   {
    "duration": 41,
    "start_time": "2023-02-14T18:16:03.372Z"
   },
   {
    "duration": 245,
    "start_time": "2023-02-14T18:16:03.415Z"
   },
   {
    "duration": 10,
    "start_time": "2023-02-14T18:16:03.661Z"
   },
   {
    "duration": 7,
    "start_time": "2023-02-14T18:16:03.673Z"
   },
   {
    "duration": 16,
    "start_time": "2023-02-14T18:16:03.699Z"
   },
   {
    "duration": 21,
    "start_time": "2023-02-14T18:16:03.722Z"
   },
   {
    "duration": 4,
    "start_time": "2023-02-14T18:16:55.558Z"
   },
   {
    "duration": 59,
    "start_time": "2023-02-14T18:16:55.564Z"
   },
   {
    "duration": 34,
    "start_time": "2023-02-14T18:16:55.625Z"
   },
   {
    "duration": 26,
    "start_time": "2023-02-14T18:16:55.661Z"
   },
   {
    "duration": 40,
    "start_time": "2023-02-14T18:16:55.690Z"
   },
   {
    "duration": 13,
    "start_time": "2023-02-14T18:16:55.732Z"
   },
   {
    "duration": 11,
    "start_time": "2023-02-14T18:16:55.748Z"
   },
   {
    "duration": 14,
    "start_time": "2023-02-14T18:16:55.761Z"
   },
   {
    "duration": 7,
    "start_time": "2023-02-14T18:16:55.777Z"
   },
   {
    "duration": 40,
    "start_time": "2023-02-14T18:16:55.805Z"
   },
   {
    "duration": 9,
    "start_time": "2023-02-14T18:16:55.848Z"
   },
   {
    "duration": 7,
    "start_time": "2023-02-14T18:16:55.859Z"
   },
   {
    "duration": 7,
    "start_time": "2023-02-14T18:16:55.869Z"
   },
   {
    "duration": 16,
    "start_time": "2023-02-14T18:16:55.878Z"
   },
   {
    "duration": 15,
    "start_time": "2023-02-14T18:16:55.896Z"
   },
   {
    "duration": 444,
    "start_time": "2023-02-14T18:16:55.915Z"
   },
   {
    "duration": 19,
    "start_time": "2023-02-14T18:16:56.361Z"
   },
   {
    "duration": 317,
    "start_time": "2023-02-14T18:16:56.382Z"
   },
   {
    "duration": 27,
    "start_time": "2023-02-14T18:16:56.700Z"
   },
   {
    "duration": 59,
    "start_time": "2023-02-14T18:16:56.729Z"
   },
   {
    "duration": 54,
    "start_time": "2023-02-14T18:16:56.790Z"
   },
   {
    "duration": 28,
    "start_time": "2023-02-14T18:16:56.846Z"
   },
   {
    "duration": 413,
    "start_time": "2023-02-14T18:16:56.877Z"
   },
   {
    "duration": 503,
    "start_time": "2023-02-14T18:16:57.292Z"
   },
   {
    "duration": 5,
    "start_time": "2023-02-14T18:16:57.799Z"
   },
   {
    "duration": 277,
    "start_time": "2023-02-14T18:16:57.806Z"
   },
   {
    "duration": 254,
    "start_time": "2023-02-14T18:16:58.085Z"
   },
   {
    "duration": 228,
    "start_time": "2023-02-14T18:16:58.341Z"
   },
   {
    "duration": 241,
    "start_time": "2023-02-14T18:16:58.573Z"
   },
   {
    "duration": 37,
    "start_time": "2023-02-14T18:16:58.816Z"
   },
   {
    "duration": 320,
    "start_time": "2023-02-14T18:16:58.855Z"
   },
   {
    "duration": 5,
    "start_time": "2023-02-14T18:16:59.176Z"
   },
   {
    "duration": 487,
    "start_time": "2023-02-14T18:16:59.183Z"
   },
   {
    "duration": 473,
    "start_time": "2023-02-14T18:16:59.671Z"
   },
   {
    "duration": 4,
    "start_time": "2023-02-14T18:17:00.146Z"
   },
   {
    "duration": 28,
    "start_time": "2023-02-14T18:17:00.151Z"
   },
   {
    "duration": 369,
    "start_time": "2023-02-14T18:17:00.180Z"
   },
   {
    "duration": 10,
    "start_time": "2023-02-14T18:17:00.551Z"
   },
   {
    "duration": 19,
    "start_time": "2023-02-14T18:17:00.563Z"
   },
   {
    "duration": 70,
    "start_time": "2023-02-14T18:17:00.584Z"
   },
   {
    "duration": 22,
    "start_time": "2023-02-14T18:17:00.656Z"
   }
  ],
  "kernelspec": {
   "display_name": "Python 3 (ipykernel)",
   "language": "python",
   "name": "python3"
  },
  "language_info": {
   "codemirror_mode": {
    "name": "ipython",
    "version": 3
   },
   "file_extension": ".py",
   "mimetype": "text/x-python",
   "name": "python",
   "nbconvert_exporter": "python",
   "pygments_lexer": "ipython3",
   "version": "3.9.5"
  },
  "toc": {
   "base_numbering": 1,
   "nav_menu": {},
   "number_sections": true,
   "sideBar": true,
   "skip_h1_title": true,
   "title_cell": "Содержание",
   "title_sidebar": "Contents",
   "toc_cell": true,
   "toc_position": {
    "height": "278.16px",
    "left": "1139.84px",
    "top": "157.926px",
    "width": "445.998px"
   },
   "toc_section_display": true,
   "toc_window_display": true
  }
 },
 "nbformat": 4,
 "nbformat_minor": 2
}
