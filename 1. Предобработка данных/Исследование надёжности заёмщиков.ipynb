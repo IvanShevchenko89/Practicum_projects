{
 "cells": [
  {
   "cell_type": "markdown",
   "metadata": {},
   "source": [
    "# Исследование надёжности заёмщиков\n",
    "\n",
    "Заказчик — кредитный отдел банка. Нужно разобраться, влияет ли семейное положение и количество детей клиента на факт погашения кредита в срок. Входные данные от банка — статистика о платёжеспособности клиентов.\n",
    "\n",
    "Результаты исследования будут учтены при построении модели **кредитного скоринга** — специальной системы, которая оценивает способность потенциального заёмщика вернуть кредит банку."
   ]
  },
  {
   "cell_type": "markdown",
   "metadata": {
    "toc": true
   },
   "source": [
    "<h1>Содержание<span class=\"tocSkip\"></span></h1>\n",
    "<div class=\"toc\"><ul class=\"toc-item\"><li><span><a href=\"#Изучение-общей-информации\" data-toc-modified-id=\"Изучение-общей-информации-1\"><span class=\"toc-item-num\">1&nbsp;&nbsp;</span>Изучение общей информации</a></span></li><li><span><a href=\"#Предобработка-данных\" data-toc-modified-id=\"Предобработка-данных-2\"><span class=\"toc-item-num\">2&nbsp;&nbsp;</span>Предобработка данных</a></span><ul class=\"toc-item\"><li><span><a href=\"#Обработка-пропусков\" data-toc-modified-id=\"Обработка-пропусков-2.1\"><span class=\"toc-item-num\">2.1&nbsp;&nbsp;</span>Обработка пропусков</a></span></li><li><span><a href=\"#Замена-типа-данных\" data-toc-modified-id=\"Замена-типа-данных-2.2\"><span class=\"toc-item-num\">2.2&nbsp;&nbsp;</span>Замена типа данных</a></span></li><li><span><a href=\"#Обработка-дубликатов\" data-toc-modified-id=\"Обработка-дубликатов-2.3\"><span class=\"toc-item-num\">2.3&nbsp;&nbsp;</span>Обработка дубликатов</a></span></li><li><span><a href=\"#Лемматизация\" data-toc-modified-id=\"Лемматизация-2.4\"><span class=\"toc-item-num\">2.4&nbsp;&nbsp;</span>Лемматизация</a></span></li><li><span><a href=\"#Категоризация-данных\" data-toc-modified-id=\"Категоризация-данных-2.5\"><span class=\"toc-item-num\">2.5&nbsp;&nbsp;</span>Категоризация данных</a></span></li></ul></li><li><span><a href=\"#Ответы-на-вопросы,-поставленные-перед-исследованием\" data-toc-modified-id=\"Ответы-на-вопросы,-поставленные-перед-исследованием-3\"><span class=\"toc-item-num\">3&nbsp;&nbsp;</span>Ответы на вопросы, поставленные перед исследованием</a></span><ul class=\"toc-item\"><li><span><a href=\"#Есть-ли-зависимость-между-наличием-детей-и-возвратом-кредита-в-срок?\" data-toc-modified-id=\"Есть-ли-зависимость-между-наличием-детей-и-возвратом-кредита-в-срок?-3.1\"><span class=\"toc-item-num\">3.1&nbsp;&nbsp;</span>Есть ли зависимость между наличием детей и возвратом кредита в срок?</a></span></li><li><span><a href=\"#Есть-ли-зависимость-между-семейным-положением-и-возвратом-кредита-в-срок?\" data-toc-modified-id=\"Есть-ли-зависимость-между-семейным-положением-и-возвратом-кредита-в-срок?-3.2\"><span class=\"toc-item-num\">3.2&nbsp;&nbsp;</span>Есть ли зависимость между семейным положением и возвратом кредита в срок?</a></span></li><li><span><a href=\"#Есть-ли-зависимость-между-уровнем-дохода-и-возвратом-кредита-в-срок?\" data-toc-modified-id=\"Есть-ли-зависимость-между-уровнем-дохода-и-возвратом-кредита-в-срок?-3.3\"><span class=\"toc-item-num\">3.3&nbsp;&nbsp;</span>Есть ли зависимость между уровнем дохода и возвратом кредита в срок?</a></span></li><li><span><a href=\"#Как-разные-цели-кредита-влияют-на-его-возврат-в-срок?\" data-toc-modified-id=\"Как-разные-цели-кредита-влияют-на-его-возврат-в-срок?-3.4\"><span class=\"toc-item-num\">3.4&nbsp;&nbsp;</span>Как разные цели кредита влияют на его возврат в срок?</a></span></li></ul></li><li><span><a href=\"#Общий-вывод\" data-toc-modified-id=\"Общий-вывод-4\"><span class=\"toc-item-num\">4&nbsp;&nbsp;</span>Общий вывод</a></span></li></ul></div>"
   ]
  },
  {
   "cell_type": "markdown",
   "metadata": {},
   "source": [
    "## Изучение общей информации"
   ]
  },
  {
   "cell_type": "code",
   "execution_count": 1,
   "metadata": {},
   "outputs": [],
   "source": [
    "import pandas as pd"
   ]
  },
  {
   "cell_type": "code",
   "execution_count": 2,
   "metadata": {},
   "outputs": [
    {
     "name": "stdout",
     "output_type": "stream",
     "text": [
      "<class 'pandas.core.frame.DataFrame'>\n",
      "RangeIndex: 21525 entries, 0 to 21524\n",
      "Data columns (total 12 columns):\n",
      " #   Column            Non-Null Count  Dtype  \n",
      "---  ------            --------------  -----  \n",
      " 0   children          21525 non-null  int64  \n",
      " 1   days_employed     19351 non-null  float64\n",
      " 2   dob_years         21525 non-null  int64  \n",
      " 3   education         21525 non-null  object \n",
      " 4   education_id      21525 non-null  int64  \n",
      " 5   family_status     21525 non-null  object \n",
      " 6   family_status_id  21525 non-null  int64  \n",
      " 7   gender            21525 non-null  object \n",
      " 8   income_type       21525 non-null  object \n",
      " 9   debt              21525 non-null  int64  \n",
      " 10  total_income      19351 non-null  float64\n",
      " 11  purpose           21525 non-null  object \n",
      "dtypes: float64(2), int64(5), object(5)\n",
      "memory usage: 2.0+ MB\n"
     ]
    },
    {
     "data": {
      "text/html": [
       "<div>\n",
       "<style scoped>\n",
       "    .dataframe tbody tr th:only-of-type {\n",
       "        vertical-align: middle;\n",
       "    }\n",
       "\n",
       "    .dataframe tbody tr th {\n",
       "        vertical-align: top;\n",
       "    }\n",
       "\n",
       "    .dataframe thead th {\n",
       "        text-align: right;\n",
       "    }\n",
       "</style>\n",
       "<table border=\"1\" class=\"dataframe\">\n",
       "  <thead>\n",
       "    <tr style=\"text-align: right;\">\n",
       "      <th></th>\n",
       "      <th>children</th>\n",
       "      <th>days_employed</th>\n",
       "      <th>dob_years</th>\n",
       "      <th>education_id</th>\n",
       "      <th>family_status_id</th>\n",
       "      <th>debt</th>\n",
       "      <th>total_income</th>\n",
       "    </tr>\n",
       "  </thead>\n",
       "  <tbody>\n",
       "    <tr>\n",
       "      <th>count</th>\n",
       "      <td>21525.000000</td>\n",
       "      <td>19351.000000</td>\n",
       "      <td>21525.000000</td>\n",
       "      <td>21525.000000</td>\n",
       "      <td>21525.000000</td>\n",
       "      <td>21525.000000</td>\n",
       "      <td>1.935100e+04</td>\n",
       "    </tr>\n",
       "    <tr>\n",
       "      <th>mean</th>\n",
       "      <td>0.538908</td>\n",
       "      <td>63046.497661</td>\n",
       "      <td>43.293380</td>\n",
       "      <td>0.817236</td>\n",
       "      <td>0.972544</td>\n",
       "      <td>0.080883</td>\n",
       "      <td>1.674223e+05</td>\n",
       "    </tr>\n",
       "    <tr>\n",
       "      <th>std</th>\n",
       "      <td>1.381587</td>\n",
       "      <td>140827.311974</td>\n",
       "      <td>12.574584</td>\n",
       "      <td>0.548138</td>\n",
       "      <td>1.420324</td>\n",
       "      <td>0.272661</td>\n",
       "      <td>1.029716e+05</td>\n",
       "    </tr>\n",
       "    <tr>\n",
       "      <th>min</th>\n",
       "      <td>-1.000000</td>\n",
       "      <td>-18388.949901</td>\n",
       "      <td>0.000000</td>\n",
       "      <td>0.000000</td>\n",
       "      <td>0.000000</td>\n",
       "      <td>0.000000</td>\n",
       "      <td>2.066726e+04</td>\n",
       "    </tr>\n",
       "    <tr>\n",
       "      <th>25%</th>\n",
       "      <td>0.000000</td>\n",
       "      <td>-2747.423625</td>\n",
       "      <td>33.000000</td>\n",
       "      <td>1.000000</td>\n",
       "      <td>0.000000</td>\n",
       "      <td>0.000000</td>\n",
       "      <td>1.030532e+05</td>\n",
       "    </tr>\n",
       "    <tr>\n",
       "      <th>50%</th>\n",
       "      <td>0.000000</td>\n",
       "      <td>-1203.369529</td>\n",
       "      <td>42.000000</td>\n",
       "      <td>1.000000</td>\n",
       "      <td>0.000000</td>\n",
       "      <td>0.000000</td>\n",
       "      <td>1.450179e+05</td>\n",
       "    </tr>\n",
       "    <tr>\n",
       "      <th>75%</th>\n",
       "      <td>1.000000</td>\n",
       "      <td>-291.095954</td>\n",
       "      <td>53.000000</td>\n",
       "      <td>1.000000</td>\n",
       "      <td>1.000000</td>\n",
       "      <td>0.000000</td>\n",
       "      <td>2.034351e+05</td>\n",
       "    </tr>\n",
       "    <tr>\n",
       "      <th>max</th>\n",
       "      <td>20.000000</td>\n",
       "      <td>401755.400475</td>\n",
       "      <td>75.000000</td>\n",
       "      <td>4.000000</td>\n",
       "      <td>4.000000</td>\n",
       "      <td>1.000000</td>\n",
       "      <td>2.265604e+06</td>\n",
       "    </tr>\n",
       "  </tbody>\n",
       "</table>\n",
       "</div>"
      ],
      "text/plain": [
       "           children  days_employed     dob_years  education_id  \\\n",
       "count  21525.000000   19351.000000  21525.000000  21525.000000   \n",
       "mean       0.538908   63046.497661     43.293380      0.817236   \n",
       "std        1.381587  140827.311974     12.574584      0.548138   \n",
       "min       -1.000000  -18388.949901      0.000000      0.000000   \n",
       "25%        0.000000   -2747.423625     33.000000      1.000000   \n",
       "50%        0.000000   -1203.369529     42.000000      1.000000   \n",
       "75%        1.000000    -291.095954     53.000000      1.000000   \n",
       "max       20.000000  401755.400475     75.000000      4.000000   \n",
       "\n",
       "       family_status_id          debt  total_income  \n",
       "count      21525.000000  21525.000000  1.935100e+04  \n",
       "mean           0.972544      0.080883  1.674223e+05  \n",
       "std            1.420324      0.272661  1.029716e+05  \n",
       "min            0.000000      0.000000  2.066726e+04  \n",
       "25%            0.000000      0.000000  1.030532e+05  \n",
       "50%            0.000000      0.000000  1.450179e+05  \n",
       "75%            1.000000      0.000000  2.034351e+05  \n",
       "max            4.000000      1.000000  2.265604e+06  "
      ]
     },
     "execution_count": 2,
     "metadata": {},
     "output_type": "execute_result"
    }
   ],
   "source": [
    "data = pd.read_csv('/datasets/data.csv')\n",
    "data.info()\n",
    "data.describe()"
   ]
  },
  {
   "cell_type": "code",
   "execution_count": 3,
   "metadata": {},
   "outputs": [
    {
     "data": {
      "text/html": [
       "<div>\n",
       "<style scoped>\n",
       "    .dataframe tbody tr th:only-of-type {\n",
       "        vertical-align: middle;\n",
       "    }\n",
       "\n",
       "    .dataframe tbody tr th {\n",
       "        vertical-align: top;\n",
       "    }\n",
       "\n",
       "    .dataframe thead th {\n",
       "        text-align: right;\n",
       "    }\n",
       "</style>\n",
       "<table border=\"1\" class=\"dataframe\">\n",
       "  <thead>\n",
       "    <tr style=\"text-align: right;\">\n",
       "      <th></th>\n",
       "      <th>children</th>\n",
       "      <th>days_employed</th>\n",
       "      <th>dob_years</th>\n",
       "      <th>education</th>\n",
       "      <th>education_id</th>\n",
       "      <th>family_status</th>\n",
       "      <th>family_status_id</th>\n",
       "      <th>gender</th>\n",
       "      <th>income_type</th>\n",
       "      <th>debt</th>\n",
       "      <th>total_income</th>\n",
       "      <th>purpose</th>\n",
       "    </tr>\n",
       "  </thead>\n",
       "  <tbody>\n",
       "    <tr>\n",
       "      <th>0</th>\n",
       "      <td>1</td>\n",
       "      <td>-8437.673028</td>\n",
       "      <td>42</td>\n",
       "      <td>высшее</td>\n",
       "      <td>0</td>\n",
       "      <td>женат / замужем</td>\n",
       "      <td>0</td>\n",
       "      <td>F</td>\n",
       "      <td>сотрудник</td>\n",
       "      <td>0</td>\n",
       "      <td>253875.639453</td>\n",
       "      <td>покупка жилья</td>\n",
       "    </tr>\n",
       "    <tr>\n",
       "      <th>1</th>\n",
       "      <td>1</td>\n",
       "      <td>-4024.803754</td>\n",
       "      <td>36</td>\n",
       "      <td>среднее</td>\n",
       "      <td>1</td>\n",
       "      <td>женат / замужем</td>\n",
       "      <td>0</td>\n",
       "      <td>F</td>\n",
       "      <td>сотрудник</td>\n",
       "      <td>0</td>\n",
       "      <td>112080.014102</td>\n",
       "      <td>приобретение автомобиля</td>\n",
       "    </tr>\n",
       "    <tr>\n",
       "      <th>2</th>\n",
       "      <td>0</td>\n",
       "      <td>-5623.422610</td>\n",
       "      <td>33</td>\n",
       "      <td>Среднее</td>\n",
       "      <td>1</td>\n",
       "      <td>женат / замужем</td>\n",
       "      <td>0</td>\n",
       "      <td>M</td>\n",
       "      <td>сотрудник</td>\n",
       "      <td>0</td>\n",
       "      <td>145885.952297</td>\n",
       "      <td>покупка жилья</td>\n",
       "    </tr>\n",
       "    <tr>\n",
       "      <th>3</th>\n",
       "      <td>3</td>\n",
       "      <td>-4124.747207</td>\n",
       "      <td>32</td>\n",
       "      <td>среднее</td>\n",
       "      <td>1</td>\n",
       "      <td>женат / замужем</td>\n",
       "      <td>0</td>\n",
       "      <td>M</td>\n",
       "      <td>сотрудник</td>\n",
       "      <td>0</td>\n",
       "      <td>267628.550329</td>\n",
       "      <td>дополнительное образование</td>\n",
       "    </tr>\n",
       "    <tr>\n",
       "      <th>4</th>\n",
       "      <td>0</td>\n",
       "      <td>340266.072047</td>\n",
       "      <td>53</td>\n",
       "      <td>среднее</td>\n",
       "      <td>1</td>\n",
       "      <td>гражданский брак</td>\n",
       "      <td>1</td>\n",
       "      <td>F</td>\n",
       "      <td>пенсионер</td>\n",
       "      <td>0</td>\n",
       "      <td>158616.077870</td>\n",
       "      <td>сыграть свадьбу</td>\n",
       "    </tr>\n",
       "  </tbody>\n",
       "</table>\n",
       "</div>"
      ],
      "text/plain": [
       "   children  days_employed  dob_years education  education_id  \\\n",
       "0         1   -8437.673028         42    высшее             0   \n",
       "1         1   -4024.803754         36   среднее             1   \n",
       "2         0   -5623.422610         33   Среднее             1   \n",
       "3         3   -4124.747207         32   среднее             1   \n",
       "4         0  340266.072047         53   среднее             1   \n",
       "\n",
       "      family_status  family_status_id gender income_type  debt   total_income  \\\n",
       "0   женат / замужем                 0      F   сотрудник     0  253875.639453   \n",
       "1   женат / замужем                 0      F   сотрудник     0  112080.014102   \n",
       "2   женат / замужем                 0      M   сотрудник     0  145885.952297   \n",
       "3   женат / замужем                 0      M   сотрудник     0  267628.550329   \n",
       "4  гражданский брак                 1      F   пенсионер     0  158616.077870   \n",
       "\n",
       "                      purpose  \n",
       "0               покупка жилья  \n",
       "1     приобретение автомобиля  \n",
       "2               покупка жилья  \n",
       "3  дополнительное образование  \n",
       "4             сыграть свадьбу  "
      ]
     },
     "execution_count": 3,
     "metadata": {},
     "output_type": "execute_result"
    }
   ],
   "source": [
    "data.head()"
   ]
  },
  {
   "cell_type": "code",
   "execution_count": 4,
   "metadata": {},
   "outputs": [
    {
     "data": {
      "text/html": [
       "<div>\n",
       "<style scoped>\n",
       "    .dataframe tbody tr th:only-of-type {\n",
       "        vertical-align: middle;\n",
       "    }\n",
       "\n",
       "    .dataframe tbody tr th {\n",
       "        vertical-align: top;\n",
       "    }\n",
       "\n",
       "    .dataframe thead th {\n",
       "        text-align: right;\n",
       "    }\n",
       "</style>\n",
       "<table border=\"1\" class=\"dataframe\">\n",
       "  <thead>\n",
       "    <tr style=\"text-align: right;\">\n",
       "      <th></th>\n",
       "      <th>children</th>\n",
       "      <th>days_employed</th>\n",
       "      <th>dob_years</th>\n",
       "      <th>education</th>\n",
       "      <th>education_id</th>\n",
       "      <th>family_status</th>\n",
       "      <th>family_status_id</th>\n",
       "      <th>gender</th>\n",
       "      <th>income_type</th>\n",
       "      <th>debt</th>\n",
       "      <th>total_income</th>\n",
       "      <th>purpose</th>\n",
       "    </tr>\n",
       "  </thead>\n",
       "  <tbody>\n",
       "    <tr>\n",
       "      <th>21520</th>\n",
       "      <td>1</td>\n",
       "      <td>-4529.316663</td>\n",
       "      <td>43</td>\n",
       "      <td>среднее</td>\n",
       "      <td>1</td>\n",
       "      <td>гражданский брак</td>\n",
       "      <td>1</td>\n",
       "      <td>F</td>\n",
       "      <td>компаньон</td>\n",
       "      <td>0</td>\n",
       "      <td>224791.862382</td>\n",
       "      <td>операции с жильем</td>\n",
       "    </tr>\n",
       "    <tr>\n",
       "      <th>21521</th>\n",
       "      <td>0</td>\n",
       "      <td>343937.404131</td>\n",
       "      <td>67</td>\n",
       "      <td>среднее</td>\n",
       "      <td>1</td>\n",
       "      <td>женат / замужем</td>\n",
       "      <td>0</td>\n",
       "      <td>F</td>\n",
       "      <td>пенсионер</td>\n",
       "      <td>0</td>\n",
       "      <td>155999.806512</td>\n",
       "      <td>сделка с автомобилем</td>\n",
       "    </tr>\n",
       "    <tr>\n",
       "      <th>21522</th>\n",
       "      <td>1</td>\n",
       "      <td>-2113.346888</td>\n",
       "      <td>38</td>\n",
       "      <td>среднее</td>\n",
       "      <td>1</td>\n",
       "      <td>гражданский брак</td>\n",
       "      <td>1</td>\n",
       "      <td>M</td>\n",
       "      <td>сотрудник</td>\n",
       "      <td>1</td>\n",
       "      <td>89672.561153</td>\n",
       "      <td>недвижимость</td>\n",
       "    </tr>\n",
       "    <tr>\n",
       "      <th>21523</th>\n",
       "      <td>3</td>\n",
       "      <td>-3112.481705</td>\n",
       "      <td>38</td>\n",
       "      <td>среднее</td>\n",
       "      <td>1</td>\n",
       "      <td>женат / замужем</td>\n",
       "      <td>0</td>\n",
       "      <td>M</td>\n",
       "      <td>сотрудник</td>\n",
       "      <td>1</td>\n",
       "      <td>244093.050500</td>\n",
       "      <td>на покупку своего автомобиля</td>\n",
       "    </tr>\n",
       "    <tr>\n",
       "      <th>21524</th>\n",
       "      <td>2</td>\n",
       "      <td>-1984.507589</td>\n",
       "      <td>40</td>\n",
       "      <td>среднее</td>\n",
       "      <td>1</td>\n",
       "      <td>женат / замужем</td>\n",
       "      <td>0</td>\n",
       "      <td>F</td>\n",
       "      <td>сотрудник</td>\n",
       "      <td>0</td>\n",
       "      <td>82047.418899</td>\n",
       "      <td>на покупку автомобиля</td>\n",
       "    </tr>\n",
       "  </tbody>\n",
       "</table>\n",
       "</div>"
      ],
      "text/plain": [
       "       children  days_employed  dob_years education  education_id  \\\n",
       "21520         1   -4529.316663         43   среднее             1   \n",
       "21521         0  343937.404131         67   среднее             1   \n",
       "21522         1   -2113.346888         38   среднее             1   \n",
       "21523         3   -3112.481705         38   среднее             1   \n",
       "21524         2   -1984.507589         40   среднее             1   \n",
       "\n",
       "          family_status  family_status_id gender income_type  debt  \\\n",
       "21520  гражданский брак                 1      F   компаньон     0   \n",
       "21521   женат / замужем                 0      F   пенсионер     0   \n",
       "21522  гражданский брак                 1      M   сотрудник     1   \n",
       "21523   женат / замужем                 0      M   сотрудник     1   \n",
       "21524   женат / замужем                 0      F   сотрудник     0   \n",
       "\n",
       "        total_income                       purpose  \n",
       "21520  224791.862382             операции с жильем  \n",
       "21521  155999.806512          сделка с автомобилем  \n",
       "21522   89672.561153                  недвижимость  \n",
       "21523  244093.050500  на покупку своего автомобиля  \n",
       "21524   82047.418899         на покупку автомобиля  "
      ]
     },
     "execution_count": 4,
     "metadata": {},
     "output_type": "execute_result"
    }
   ],
   "source": [
    "data.tail()"
   ]
  },
  {
   "cell_type": "code",
   "execution_count": 5,
   "metadata": {},
   "outputs": [
    {
     "data": {
      "text/plain": [
       "Index(['children', 'days_employed', 'dob_years', 'education', 'education_id',\n",
       "       'family_status', 'family_status_id', 'gender', 'income_type', 'debt',\n",
       "       'total_income', 'purpose'],\n",
       "      dtype='object')"
      ]
     },
     "execution_count": 5,
     "metadata": {},
     "output_type": "execute_result"
    }
   ],
   "source": [
    "data.columns"
   ]
  },
  {
   "cell_type": "markdown",
   "metadata": {},
   "source": [
    "С задаными названиями столбцов работать удобно. Исправления здесь излишни."
   ]
  },
  {
   "cell_type": "code",
   "execution_count": 6,
   "metadata": {},
   "outputs": [
    {
     "data": {
      "text/plain": [
       "array([ 1,  0,  3,  2, -1,  4, 20,  5])"
      ]
     },
     "execution_count": 6,
     "metadata": {},
     "output_type": "execute_result"
    }
   ],
   "source": [
    "data['children'].unique()"
   ]
  },
  {
   "cell_type": "markdown",
   "metadata": {},
   "source": [
    "20 детей? Теоретически возможно.. А вот отрицательные значения следует устранить."
   ]
  },
  {
   "cell_type": "code",
   "execution_count": 7,
   "metadata": {},
   "outputs": [
    {
     "data": {
      "text/html": [
       "<div>\n",
       "<style scoped>\n",
       "    .dataframe tbody tr th:only-of-type {\n",
       "        vertical-align: middle;\n",
       "    }\n",
       "\n",
       "    .dataframe tbody tr th {\n",
       "        vertical-align: top;\n",
       "    }\n",
       "\n",
       "    .dataframe thead th {\n",
       "        text-align: right;\n",
       "    }\n",
       "</style>\n",
       "<table border=\"1\" class=\"dataframe\">\n",
       "  <thead>\n",
       "    <tr style=\"text-align: right;\">\n",
       "      <th></th>\n",
       "      <th>children</th>\n",
       "      <th>days_employed</th>\n",
       "      <th>dob_years</th>\n",
       "      <th>education</th>\n",
       "      <th>education_id</th>\n",
       "      <th>family_status</th>\n",
       "      <th>family_status_id</th>\n",
       "      <th>gender</th>\n",
       "      <th>income_type</th>\n",
       "      <th>debt</th>\n",
       "      <th>total_income</th>\n",
       "      <th>purpose</th>\n",
       "    </tr>\n",
       "  </thead>\n",
       "  <tbody>\n",
       "    <tr>\n",
       "      <th>20444</th>\n",
       "      <td>0</td>\n",
       "      <td>328728.720605</td>\n",
       "      <td>72</td>\n",
       "      <td>среднее</td>\n",
       "      <td>1</td>\n",
       "      <td>вдовец / вдова</td>\n",
       "      <td>2</td>\n",
       "      <td>F</td>\n",
       "      <td>пенсионер</td>\n",
       "      <td>0</td>\n",
       "      <td>96519.339647</td>\n",
       "      <td>покупка жилья для семьи</td>\n",
       "    </tr>\n",
       "    <tr>\n",
       "      <th>9328</th>\n",
       "      <td>2</td>\n",
       "      <td>328734.923996</td>\n",
       "      <td>41</td>\n",
       "      <td>высшее</td>\n",
       "      <td>0</td>\n",
       "      <td>женат / замужем</td>\n",
       "      <td>0</td>\n",
       "      <td>M</td>\n",
       "      <td>пенсионер</td>\n",
       "      <td>0</td>\n",
       "      <td>126997.497760</td>\n",
       "      <td>операции со своей недвижимостью</td>\n",
       "    </tr>\n",
       "    <tr>\n",
       "      <th>17782</th>\n",
       "      <td>0</td>\n",
       "      <td>328771.341387</td>\n",
       "      <td>56</td>\n",
       "      <td>среднее</td>\n",
       "      <td>1</td>\n",
       "      <td>женат / замужем</td>\n",
       "      <td>0</td>\n",
       "      <td>F</td>\n",
       "      <td>пенсионер</td>\n",
       "      <td>0</td>\n",
       "      <td>68648.047062</td>\n",
       "      <td>операции с коммерческой недвижимостью</td>\n",
       "    </tr>\n",
       "    <tr>\n",
       "      <th>14783</th>\n",
       "      <td>0</td>\n",
       "      <td>328795.726728</td>\n",
       "      <td>62</td>\n",
       "      <td>высшее</td>\n",
       "      <td>0</td>\n",
       "      <td>женат / замужем</td>\n",
       "      <td>0</td>\n",
       "      <td>F</td>\n",
       "      <td>пенсионер</td>\n",
       "      <td>0</td>\n",
       "      <td>79940.196752</td>\n",
       "      <td>на покупку своего автомобиля</td>\n",
       "    </tr>\n",
       "    <tr>\n",
       "      <th>7229</th>\n",
       "      <td>1</td>\n",
       "      <td>328827.345667</td>\n",
       "      <td>32</td>\n",
       "      <td>среднее</td>\n",
       "      <td>1</td>\n",
       "      <td>гражданский брак</td>\n",
       "      <td>1</td>\n",
       "      <td>F</td>\n",
       "      <td>пенсионер</td>\n",
       "      <td>0</td>\n",
       "      <td>122162.965695</td>\n",
       "      <td>сыграть свадьбу</td>\n",
       "    </tr>\n",
       "    <tr>\n",
       "      <th>...</th>\n",
       "      <td>...</td>\n",
       "      <td>...</td>\n",
       "      <td>...</td>\n",
       "      <td>...</td>\n",
       "      <td>...</td>\n",
       "      <td>...</td>\n",
       "      <td>...</td>\n",
       "      <td>...</td>\n",
       "      <td>...</td>\n",
       "      <td>...</td>\n",
       "      <td>...</td>\n",
       "      <td>...</td>\n",
       "    </tr>\n",
       "    <tr>\n",
       "      <th>7794</th>\n",
       "      <td>0</td>\n",
       "      <td>401663.850046</td>\n",
       "      <td>61</td>\n",
       "      <td>среднее</td>\n",
       "      <td>1</td>\n",
       "      <td>гражданский брак</td>\n",
       "      <td>1</td>\n",
       "      <td>F</td>\n",
       "      <td>пенсионер</td>\n",
       "      <td>0</td>\n",
       "      <td>48286.441362</td>\n",
       "      <td>свадьба</td>\n",
       "    </tr>\n",
       "    <tr>\n",
       "      <th>2156</th>\n",
       "      <td>0</td>\n",
       "      <td>401674.466633</td>\n",
       "      <td>60</td>\n",
       "      <td>среднее</td>\n",
       "      <td>1</td>\n",
       "      <td>женат / замужем</td>\n",
       "      <td>0</td>\n",
       "      <td>M</td>\n",
       "      <td>пенсионер</td>\n",
       "      <td>0</td>\n",
       "      <td>325395.724541</td>\n",
       "      <td>автомобили</td>\n",
       "    </tr>\n",
       "    <tr>\n",
       "      <th>7664</th>\n",
       "      <td>1</td>\n",
       "      <td>401675.093434</td>\n",
       "      <td>61</td>\n",
       "      <td>среднее</td>\n",
       "      <td>1</td>\n",
       "      <td>женат / замужем</td>\n",
       "      <td>0</td>\n",
       "      <td>F</td>\n",
       "      <td>пенсионер</td>\n",
       "      <td>0</td>\n",
       "      <td>126214.519212</td>\n",
       "      <td>операции с жильем</td>\n",
       "    </tr>\n",
       "    <tr>\n",
       "      <th>10006</th>\n",
       "      <td>0</td>\n",
       "      <td>401715.811749</td>\n",
       "      <td>69</td>\n",
       "      <td>высшее</td>\n",
       "      <td>0</td>\n",
       "      <td>Не женат / не замужем</td>\n",
       "      <td>4</td>\n",
       "      <td>F</td>\n",
       "      <td>пенсионер</td>\n",
       "      <td>0</td>\n",
       "      <td>57390.256908</td>\n",
       "      <td>получение образования</td>\n",
       "    </tr>\n",
       "    <tr>\n",
       "      <th>6954</th>\n",
       "      <td>0</td>\n",
       "      <td>401755.400475</td>\n",
       "      <td>56</td>\n",
       "      <td>среднее</td>\n",
       "      <td>1</td>\n",
       "      <td>вдовец / вдова</td>\n",
       "      <td>2</td>\n",
       "      <td>F</td>\n",
       "      <td>пенсионер</td>\n",
       "      <td>0</td>\n",
       "      <td>176278.441171</td>\n",
       "      <td>ремонт жилью</td>\n",
       "    </tr>\n",
       "  </tbody>\n",
       "</table>\n",
       "<p>3445 rows × 12 columns</p>\n",
       "</div>"
      ],
      "text/plain": [
       "       children  days_employed  dob_years education  education_id  \\\n",
       "20444         0  328728.720605         72   среднее             1   \n",
       "9328          2  328734.923996         41    высшее             0   \n",
       "17782         0  328771.341387         56   среднее             1   \n",
       "14783         0  328795.726728         62    высшее             0   \n",
       "7229          1  328827.345667         32   среднее             1   \n",
       "...         ...            ...        ...       ...           ...   \n",
       "7794          0  401663.850046         61   среднее             1   \n",
       "2156          0  401674.466633         60   среднее             1   \n",
       "7664          1  401675.093434         61   среднее             1   \n",
       "10006         0  401715.811749         69    высшее             0   \n",
       "6954          0  401755.400475         56   среднее             1   \n",
       "\n",
       "               family_status  family_status_id gender income_type  debt  \\\n",
       "20444         вдовец / вдова                 2      F   пенсионер     0   \n",
       "9328         женат / замужем                 0      M   пенсионер     0   \n",
       "17782        женат / замужем                 0      F   пенсионер     0   \n",
       "14783        женат / замужем                 0      F   пенсионер     0   \n",
       "7229        гражданский брак                 1      F   пенсионер     0   \n",
       "...                      ...               ...    ...         ...   ...   \n",
       "7794        гражданский брак                 1      F   пенсионер     0   \n",
       "2156         женат / замужем                 0      M   пенсионер     0   \n",
       "7664         женат / замужем                 0      F   пенсионер     0   \n",
       "10006  Не женат / не замужем                 4      F   пенсионер     0   \n",
       "6954          вдовец / вдова                 2      F   пенсионер     0   \n",
       "\n",
       "        total_income                                purpose  \n",
       "20444   96519.339647                покупка жилья для семьи  \n",
       "9328   126997.497760        операции со своей недвижимостью  \n",
       "17782   68648.047062  операции с коммерческой недвижимостью  \n",
       "14783   79940.196752           на покупку своего автомобиля  \n",
       "7229   122162.965695                        сыграть свадьбу  \n",
       "...              ...                                    ...  \n",
       "7794    48286.441362                                свадьба  \n",
       "2156   325395.724541                             автомобили  \n",
       "7664   126214.519212                      операции с жильем  \n",
       "10006   57390.256908                  получение образования  \n",
       "6954   176278.441171                           ремонт жилью  \n",
       "\n",
       "[3445 rows x 12 columns]"
      ]
     },
     "execution_count": 7,
     "metadata": {},
     "output_type": "execute_result"
    }
   ],
   "source": [
    "data.loc[data['days_employed'] >= 0].sort_values(by='days_employed')"
   ]
  },
  {
   "cell_type": "markdown",
   "metadata": {},
   "source": [
    "Мы уже знаем, что в трудовом стаже имеются пропуски и отрицательные значения. С положительными значениеями не лучше.. Самый непродолжительный  стаж здесь 923 года, если проводить пересчет в днях. Если предположить, что система сбора данных дала ошибку и считала стаж в часах, то стаж 328827/24/356 = 38 лет для 32-летнего заемщика тоже кажется сомнительным."
   ]
  },
  {
   "cell_type": "code",
   "execution_count": 8,
   "metadata": {},
   "outputs": [
    {
     "data": {
      "text/html": [
       "<div>\n",
       "<style scoped>\n",
       "    .dataframe tbody tr th:only-of-type {\n",
       "        vertical-align: middle;\n",
       "    }\n",
       "\n",
       "    .dataframe tbody tr th {\n",
       "        vertical-align: top;\n",
       "    }\n",
       "\n",
       "    .dataframe thead th {\n",
       "        text-align: right;\n",
       "    }\n",
       "</style>\n",
       "<table border=\"1\" class=\"dataframe\">\n",
       "  <thead>\n",
       "    <tr style=\"text-align: right;\">\n",
       "      <th></th>\n",
       "      <th>children</th>\n",
       "      <th>days_employed</th>\n",
       "      <th>dob_years</th>\n",
       "      <th>education</th>\n",
       "      <th>education_id</th>\n",
       "      <th>family_status</th>\n",
       "      <th>family_status_id</th>\n",
       "      <th>gender</th>\n",
       "      <th>income_type</th>\n",
       "      <th>debt</th>\n",
       "      <th>total_income</th>\n",
       "      <th>purpose</th>\n",
       "    </tr>\n",
       "  </thead>\n",
       "  <tbody>\n",
       "    <tr>\n",
       "      <th>99</th>\n",
       "      <td>0</td>\n",
       "      <td>346541.618895</td>\n",
       "      <td>0</td>\n",
       "      <td>Среднее</td>\n",
       "      <td>1</td>\n",
       "      <td>женат / замужем</td>\n",
       "      <td>0</td>\n",
       "      <td>F</td>\n",
       "      <td>пенсионер</td>\n",
       "      <td>0</td>\n",
       "      <td>71291.522491</td>\n",
       "      <td>автомобиль</td>\n",
       "    </tr>\n",
       "    <tr>\n",
       "      <th>13968</th>\n",
       "      <td>1</td>\n",
       "      <td>-1018.525283</td>\n",
       "      <td>0</td>\n",
       "      <td>среднее</td>\n",
       "      <td>1</td>\n",
       "      <td>женат / замужем</td>\n",
       "      <td>0</td>\n",
       "      <td>F</td>\n",
       "      <td>сотрудник</td>\n",
       "      <td>1</td>\n",
       "      <td>155341.706429</td>\n",
       "      <td>свой автомобиль</td>\n",
       "    </tr>\n",
       "    <tr>\n",
       "      <th>13741</th>\n",
       "      <td>0</td>\n",
       "      <td>NaN</td>\n",
       "      <td>0</td>\n",
       "      <td>среднее</td>\n",
       "      <td>1</td>\n",
       "      <td>гражданский брак</td>\n",
       "      <td>1</td>\n",
       "      <td>F</td>\n",
       "      <td>сотрудник</td>\n",
       "      <td>0</td>\n",
       "      <td>NaN</td>\n",
       "      <td>на проведение свадьбы</td>\n",
       "    </tr>\n",
       "    <tr>\n",
       "      <th>13521</th>\n",
       "      <td>0</td>\n",
       "      <td>-681.907359</td>\n",
       "      <td>0</td>\n",
       "      <td>высшее</td>\n",
       "      <td>0</td>\n",
       "      <td>Не женат / не замужем</td>\n",
       "      <td>4</td>\n",
       "      <td>M</td>\n",
       "      <td>сотрудник</td>\n",
       "      <td>0</td>\n",
       "      <td>115165.323707</td>\n",
       "      <td>строительство жилой недвижимости</td>\n",
       "    </tr>\n",
       "    <tr>\n",
       "      <th>13439</th>\n",
       "      <td>0</td>\n",
       "      <td>-1036.644001</td>\n",
       "      <td>0</td>\n",
       "      <td>среднее</td>\n",
       "      <td>1</td>\n",
       "      <td>женат / замужем</td>\n",
       "      <td>0</td>\n",
       "      <td>M</td>\n",
       "      <td>сотрудник</td>\n",
       "      <td>1</td>\n",
       "      <td>271371.522623</td>\n",
       "      <td>операции с жильем</td>\n",
       "    </tr>\n",
       "    <tr>\n",
       "      <th>...</th>\n",
       "      <td>...</td>\n",
       "      <td>...</td>\n",
       "      <td>...</td>\n",
       "      <td>...</td>\n",
       "      <td>...</td>\n",
       "      <td>...</td>\n",
       "      <td>...</td>\n",
       "      <td>...</td>\n",
       "      <td>...</td>\n",
       "      <td>...</td>\n",
       "      <td>...</td>\n",
       "      <td>...</td>\n",
       "    </tr>\n",
       "    <tr>\n",
       "      <th>6778</th>\n",
       "      <td>0</td>\n",
       "      <td>-1478.092467</td>\n",
       "      <td>0</td>\n",
       "      <td>высшее</td>\n",
       "      <td>0</td>\n",
       "      <td>Не женат / не замужем</td>\n",
       "      <td>4</td>\n",
       "      <td>F</td>\n",
       "      <td>сотрудник</td>\n",
       "      <td>0</td>\n",
       "      <td>157362.970952</td>\n",
       "      <td>получение высшего образования</td>\n",
       "    </tr>\n",
       "    <tr>\n",
       "      <th>6670</th>\n",
       "      <td>0</td>\n",
       "      <td>NaN</td>\n",
       "      <td>0</td>\n",
       "      <td>Высшее</td>\n",
       "      <td>0</td>\n",
       "      <td>в разводе</td>\n",
       "      <td>3</td>\n",
       "      <td>F</td>\n",
       "      <td>пенсионер</td>\n",
       "      <td>0</td>\n",
       "      <td>NaN</td>\n",
       "      <td>покупка жилой недвижимости</td>\n",
       "    </tr>\n",
       "    <tr>\n",
       "      <th>6411</th>\n",
       "      <td>0</td>\n",
       "      <td>NaN</td>\n",
       "      <td>0</td>\n",
       "      <td>высшее</td>\n",
       "      <td>0</td>\n",
       "      <td>гражданский брак</td>\n",
       "      <td>1</td>\n",
       "      <td>F</td>\n",
       "      <td>пенсионер</td>\n",
       "      <td>0</td>\n",
       "      <td>NaN</td>\n",
       "      <td>свадьба</td>\n",
       "    </tr>\n",
       "    <tr>\n",
       "      <th>7344</th>\n",
       "      <td>0</td>\n",
       "      <td>-401.461262</td>\n",
       "      <td>0</td>\n",
       "      <td>среднее</td>\n",
       "      <td>1</td>\n",
       "      <td>женат / замужем</td>\n",
       "      <td>0</td>\n",
       "      <td>M</td>\n",
       "      <td>сотрудник</td>\n",
       "      <td>0</td>\n",
       "      <td>158913.767700</td>\n",
       "      <td>операции с жильем</td>\n",
       "    </tr>\n",
       "    <tr>\n",
       "      <th>21313</th>\n",
       "      <td>0</td>\n",
       "      <td>-1268.487728</td>\n",
       "      <td>0</td>\n",
       "      <td>среднее</td>\n",
       "      <td>1</td>\n",
       "      <td>Не женат / не замужем</td>\n",
       "      <td>4</td>\n",
       "      <td>M</td>\n",
       "      <td>сотрудник</td>\n",
       "      <td>0</td>\n",
       "      <td>152419.184851</td>\n",
       "      <td>операции с жильем</td>\n",
       "    </tr>\n",
       "  </tbody>\n",
       "</table>\n",
       "<p>101 rows × 12 columns</p>\n",
       "</div>"
      ],
      "text/plain": [
       "       children  days_employed  dob_years education  education_id  \\\n",
       "99            0  346541.618895          0   Среднее             1   \n",
       "13968         1   -1018.525283          0   среднее             1   \n",
       "13741         0            NaN          0   среднее             1   \n",
       "13521         0    -681.907359          0    высшее             0   \n",
       "13439         0   -1036.644001          0   среднее             1   \n",
       "...         ...            ...        ...       ...           ...   \n",
       "6778          0   -1478.092467          0    высшее             0   \n",
       "6670          0            NaN          0    Высшее             0   \n",
       "6411          0            NaN          0    высшее             0   \n",
       "7344          0    -401.461262          0   среднее             1   \n",
       "21313         0   -1268.487728          0   среднее             1   \n",
       "\n",
       "               family_status  family_status_id gender income_type  debt  \\\n",
       "99           женат / замужем                 0      F   пенсионер     0   \n",
       "13968        женат / замужем                 0      F   сотрудник     1   \n",
       "13741       гражданский брак                 1      F   сотрудник     0   \n",
       "13521  Не женат / не замужем                 4      M   сотрудник     0   \n",
       "13439        женат / замужем                 0      M   сотрудник     1   \n",
       "...                      ...               ...    ...         ...   ...   \n",
       "6778   Не женат / не замужем                 4      F   сотрудник     0   \n",
       "6670               в разводе                 3      F   пенсионер     0   \n",
       "6411        гражданский брак                 1      F   пенсионер     0   \n",
       "7344         женат / замужем                 0      M   сотрудник     0   \n",
       "21313  Не женат / не замужем                 4      M   сотрудник     0   \n",
       "\n",
       "        total_income                           purpose  \n",
       "99      71291.522491                        автомобиль  \n",
       "13968  155341.706429                   свой автомобиль  \n",
       "13741            NaN             на проведение свадьбы  \n",
       "13521  115165.323707  строительство жилой недвижимости  \n",
       "13439  271371.522623                 операции с жильем  \n",
       "...              ...                               ...  \n",
       "6778   157362.970952     получение высшего образования  \n",
       "6670             NaN        покупка жилой недвижимости  \n",
       "6411             NaN                           свадьба  \n",
       "7344   158913.767700                 операции с жильем  \n",
       "21313  152419.184851                 операции с жильем  \n",
       "\n",
       "[101 rows x 12 columns]"
      ]
     },
     "execution_count": 8,
     "metadata": {},
     "output_type": "execute_result"
    }
   ],
   "source": [
    "data.loc[data['dob_years'] < 18].sort_values(by='dob_years')"
   ]
  },
  {
   "cell_type": "markdown",
   "metadata": {},
   "source": [
    "101 заемщик с возрастом - 0 лет."
   ]
  },
  {
   "cell_type": "code",
   "execution_count": 9,
   "metadata": {},
   "outputs": [
    {
     "data": {
      "text/plain": [
       "среднее                13750\n",
       "высшее                  4718\n",
       "СРЕДНЕЕ                  772\n",
       "Среднее                  711\n",
       "неоконченное высшее      668\n",
       "ВЫСШЕЕ                   274\n",
       "Высшее                   268\n",
       "начальное                250\n",
       "Неоконченное высшее       47\n",
       "НЕОКОНЧЕННОЕ ВЫСШЕЕ       29\n",
       "НАЧАЛЬНОЕ                 17\n",
       "Начальное                 15\n",
       "ученая степень             4\n",
       "Ученая степень             1\n",
       "УЧЕНАЯ СТЕПЕНЬ             1\n",
       "Name: education, dtype: int64"
      ]
     },
     "execution_count": 9,
     "metadata": {},
     "output_type": "execute_result"
    }
   ],
   "source": [
    "data['education'].value_counts()"
   ]
  },
  {
   "cell_type": "markdown",
   "metadata": {},
   "source": [
    "5 видов образования отображаются как 15 из-за различия в регистрах."
   ]
  },
  {
   "cell_type": "code",
   "execution_count": 10,
   "metadata": {},
   "outputs": [
    {
     "data": {
      "text/plain": [
       "F      14236\n",
       "M       7288\n",
       "XNA        1\n",
       "Name: gender, dtype: int64"
      ]
     },
     "execution_count": 10,
     "metadata": {},
     "output_type": "execute_result"
    }
   ],
   "source": [
    "data['gender'].value_counts()"
   ]
  },
  {
   "cell_type": "markdown",
   "metadata": {},
   "source": [
    "Пол XNA? Учитывая, что такое значение единичено, на результаты исследования оно не повлияет."
   ]
  },
  {
   "cell_type": "markdown",
   "metadata": {},
   "source": [
    "**Вывод**"
   ]
  },
  {
   "cell_type": "markdown",
   "metadata": {},
   "source": [
    "Предоставленная таблица состоит из 21525 строк и 12 столбцов, содержащих различные типы данных. В столбцах \"days_employed\" и \"total_income\" заполнены 19351 ячеек, то есть данные в 2174 ячейках этих столбцов отсутствуют. Образовавшиеся пропущенные значения возможно были вызваны ошибками в системе сбора данных.\n",
    "Также, при подготовке данных для работы с ними, следует обратить внимание на отрицательные значения и чрезмерно высокие показатели в столбце \"days_employed\", возраст - 0 лет у заемщиков и привести к единому регистру данные об образовании."
   ]
  },
  {
   "cell_type": "markdown",
   "metadata": {},
   "source": [
    "## Предобработка данных"
   ]
  },
  {
   "cell_type": "markdown",
   "metadata": {},
   "source": [
    "### Обработка пропусков"
   ]
  },
  {
   "cell_type": "code",
   "execution_count": 11,
   "metadata": {
    "scrolled": false
   },
   "outputs": [
    {
     "data": {
      "text/html": [
       "<div>\n",
       "<style scoped>\n",
       "    .dataframe tbody tr th:only-of-type {\n",
       "        vertical-align: middle;\n",
       "    }\n",
       "\n",
       "    .dataframe tbody tr th {\n",
       "        vertical-align: top;\n",
       "    }\n",
       "\n",
       "    .dataframe thead th {\n",
       "        text-align: right;\n",
       "    }\n",
       "</style>\n",
       "<table border=\"1\" class=\"dataframe\">\n",
       "  <thead>\n",
       "    <tr style=\"text-align: right;\">\n",
       "      <th></th>\n",
       "      <th>income_type</th>\n",
       "      <th>total_income</th>\n",
       "      <th>median_total_income</th>\n",
       "    </tr>\n",
       "  </thead>\n",
       "  <tbody>\n",
       "    <tr>\n",
       "      <th>46</th>\n",
       "      <td>сотрудник</td>\n",
       "      <td>NaN</td>\n",
       "      <td>142594.396847</td>\n",
       "    </tr>\n",
       "    <tr>\n",
       "      <th>47</th>\n",
       "      <td>сотрудник</td>\n",
       "      <td>NaN</td>\n",
       "      <td>142594.396847</td>\n",
       "    </tr>\n",
       "    <tr>\n",
       "      <th>49</th>\n",
       "      <td>сотрудник</td>\n",
       "      <td>NaN</td>\n",
       "      <td>142594.396847</td>\n",
       "    </tr>\n",
       "    <tr>\n",
       "      <th>54</th>\n",
       "      <td>сотрудник</td>\n",
       "      <td>NaN</td>\n",
       "      <td>142594.396847</td>\n",
       "    </tr>\n",
       "    <tr>\n",
       "      <th>55</th>\n",
       "      <td>сотрудник</td>\n",
       "      <td>NaN</td>\n",
       "      <td>142594.396847</td>\n",
       "    </tr>\n",
       "    <tr>\n",
       "      <th>...</th>\n",
       "      <td>...</td>\n",
       "      <td>...</td>\n",
       "      <td>...</td>\n",
       "    </tr>\n",
       "    <tr>\n",
       "      <th>21457</th>\n",
       "      <td>госслужащий</td>\n",
       "      <td>NaN</td>\n",
       "      <td>150447.935283</td>\n",
       "    </tr>\n",
       "    <tr>\n",
       "      <th>21489</th>\n",
       "      <td>госслужащий</td>\n",
       "      <td>NaN</td>\n",
       "      <td>150447.935283</td>\n",
       "    </tr>\n",
       "    <tr>\n",
       "      <th>21511</th>\n",
       "      <td>госслужащий</td>\n",
       "      <td>NaN</td>\n",
       "      <td>150447.935283</td>\n",
       "    </tr>\n",
       "    <tr>\n",
       "      <th>21513</th>\n",
       "      <td>госслужащий</td>\n",
       "      <td>NaN</td>\n",
       "      <td>150447.935283</td>\n",
       "    </tr>\n",
       "    <tr>\n",
       "      <th>21521</th>\n",
       "      <td>предприниматель</td>\n",
       "      <td>NaN</td>\n",
       "      <td>499163.144947</td>\n",
       "    </tr>\n",
       "  </tbody>\n",
       "</table>\n",
       "<p>2174 rows × 3 columns</p>\n",
       "</div>"
      ],
      "text/plain": [
       "           income_type  total_income  median_total_income\n",
       "46           сотрудник           NaN        142594.396847\n",
       "47           сотрудник           NaN        142594.396847\n",
       "49           сотрудник           NaN        142594.396847\n",
       "54           сотрудник           NaN        142594.396847\n",
       "55           сотрудник           NaN        142594.396847\n",
       "...                ...           ...                  ...\n",
       "21457      госслужащий           NaN        150447.935283\n",
       "21489      госслужащий           NaN        150447.935283\n",
       "21511      госслужащий           NaN        150447.935283\n",
       "21513      госслужащий           NaN        150447.935283\n",
       "21521  предприниматель           NaN        499163.144947\n",
       "\n",
       "[2174 rows x 3 columns]"
      ]
     },
     "execution_count": 11,
     "metadata": {},
     "output_type": "execute_result"
    }
   ],
   "source": [
    "income_by_income_type = data.groupby('income_type').agg({'total_income' : ['median']})\n",
    "income_by_income_type.columns = ['median_total_income']\n",
    "data = data.merge(income_by_income_type, on= ['income_type'])\n",
    "data[['income_type', 'total_income', 'median_total_income']][data['total_income'].isna()]"
   ]
  },
  {
   "cell_type": "markdown",
   "metadata": {},
   "source": [
    "Находим медианные значения доходов для различных видов занятости."
   ]
  },
  {
   "cell_type": "code",
   "execution_count": 12,
   "metadata": {},
   "outputs": [],
   "source": [
    "data.loc[data['total_income'].isna(), 'total_income'] = data.loc[data['total_income'].isna(), 'median_total_income']"
   ]
  },
  {
   "cell_type": "markdown",
   "metadata": {},
   "source": [
    "Заменяем пропущенные значения в доходах, на медианные, с учетом вида занятости."
   ]
  },
  {
   "cell_type": "code",
   "execution_count": 13,
   "metadata": {},
   "outputs": [
    {
     "data": {
      "text/plain": [
       "-1630.0193809778218"
      ]
     },
     "execution_count": 13,
     "metadata": {},
     "output_type": "execute_result"
    }
   ],
   "source": [
    "median_days_employed = data.loc[data['days_employed'] < 0, 'days_employed'].median()\n",
    "median_days_employed"
   ]
  },
  {
   "cell_type": "markdown",
   "metadata": {},
   "source": [
    "Находим медианное значение в столбце стажа, среди значений ниже 0, как среди самых адекватных."
   ]
  },
  {
   "cell_type": "code",
   "execution_count": 14,
   "metadata": {},
   "outputs": [],
   "source": [
    "data['days_employed'] = data['days_employed'].fillna(median_days_employed)"
   ]
  },
  {
   "cell_type": "code",
   "execution_count": 15,
   "metadata": {},
   "outputs": [],
   "source": [
    "data.loc[data['days_employed'] > 0, 'days_employed'] = median_days_employed"
   ]
  },
  {
   "cell_type": "markdown",
   "metadata": {},
   "source": [
    "Заменяем пропуски и очень большие значения в столбце со стажем на медианные."
   ]
  },
  {
   "cell_type": "code",
   "execution_count": 16,
   "metadata": {},
   "outputs": [],
   "source": [
    "data['days_employed'] = data['days_employed'] * -1"
   ]
  },
  {
   "cell_type": "markdown",
   "metadata": {},
   "source": [
    "Учитывая, что бОльшая часть данных о трудовом стаже имела отрицательные показатели, а их натуральные значения поддавались логике при пересчете на годы, можно предположить, что при заполнении данных, отсчет стажа шел в обратном порядке. Обращаем отрицательные значения в положительные."
   ]
  },
  {
   "cell_type": "code",
   "execution_count": 17,
   "metadata": {},
   "outputs": [],
   "source": [
    "data = data[data['children'] >= 0]"
   ]
  },
  {
   "cell_type": "markdown",
   "metadata": {},
   "source": [
    "Учитывая, что строк с отрицательными значениями в данных о детях ничтожно мало, избавляемся от них."
   ]
  },
  {
   "cell_type": "code",
   "execution_count": 18,
   "metadata": {},
   "outputs": [],
   "source": [
    "data = data[data['dob_years'] >= 18].reset_index(drop=True)"
   ]
  },
  {
   "cell_type": "markdown",
   "metadata": {},
   "source": [
    "Также избавляемся от заемщиков с возрастом ниже допустимого и сбрасываем индексы."
   ]
  },
  {
   "cell_type": "code",
   "execution_count": 19,
   "metadata": {},
   "outputs": [],
   "source": [
    "data['education'] = data['education'].str.lower()"
   ]
  },
  {
   "cell_type": "markdown",
   "metadata": {},
   "source": [
    "Переписываем данные об образовании в нижнем регистре."
   ]
  },
  {
   "cell_type": "code",
   "execution_count": 20,
   "metadata": {},
   "outputs": [
    {
     "name": "stdout",
     "output_type": "stream",
     "text": [
      "<class 'pandas.core.frame.DataFrame'>\n",
      "RangeIndex: 21377 entries, 0 to 21376\n",
      "Data columns (total 13 columns):\n",
      " #   Column               Non-Null Count  Dtype  \n",
      "---  ------               --------------  -----  \n",
      " 0   children             21377 non-null  int64  \n",
      " 1   days_employed        21377 non-null  float64\n",
      " 2   dob_years            21377 non-null  int64  \n",
      " 3   education            21377 non-null  object \n",
      " 4   education_id         21377 non-null  int64  \n",
      " 5   family_status        21377 non-null  object \n",
      " 6   family_status_id     21377 non-null  int64  \n",
      " 7   gender               21377 non-null  object \n",
      " 8   income_type          21377 non-null  object \n",
      " 9   debt                 21377 non-null  int64  \n",
      " 10  total_income         21377 non-null  float64\n",
      " 11  purpose              21377 non-null  object \n",
      " 12  median_total_income  21377 non-null  float64\n",
      "dtypes: float64(3), int64(5), object(5)\n",
      "memory usage: 2.1+ MB\n"
     ]
    }
   ],
   "source": [
    "data.info()"
   ]
  },
  {
   "cell_type": "markdown",
   "metadata": {},
   "source": [
    "**Вывод**"
   ]
  },
  {
   "cell_type": "markdown",
   "metadata": {},
   "source": [
    "После исправления ошибок, выявленных в первой главе, мы получаем таблицу состоящую из 21377 строк, что приблизительно на 0,7% меньше изначального количества. Ценой утраченных строк мы получаем таблицу без пропусков, аномальных показателей и значений равных 0, с данными из которой уже можно работать."
   ]
  },
  {
   "cell_type": "markdown",
   "metadata": {},
   "source": [
    "### Замена типа данных"
   ]
  },
  {
   "cell_type": "code",
   "execution_count": 21,
   "metadata": {},
   "outputs": [],
   "source": [
    "data['days_employed'] = data['days_employed'].astype('int')"
   ]
  },
  {
   "cell_type": "code",
   "execution_count": 22,
   "metadata": {},
   "outputs": [],
   "source": [
    "data['total_income'] = data['total_income'].astype('int')"
   ]
  },
  {
   "cell_type": "code",
   "execution_count": 23,
   "metadata": {},
   "outputs": [],
   "source": [
    "data['median_total_income'] = data['median_total_income'].astype('int')"
   ]
  },
  {
   "cell_type": "code",
   "execution_count": 24,
   "metadata": {},
   "outputs": [
    {
     "data": {
      "text/plain": [
       "children                int64\n",
       "days_employed           int64\n",
       "dob_years               int64\n",
       "education              object\n",
       "education_id            int64\n",
       "family_status          object\n",
       "family_status_id        int64\n",
       "gender                 object\n",
       "income_type            object\n",
       "debt                    int64\n",
       "total_income            int64\n",
       "purpose                object\n",
       "median_total_income     int64\n",
       "dtype: object"
      ]
     },
     "execution_count": 24,
     "metadata": {},
     "output_type": "execute_result"
    }
   ],
   "source": [
    "data.dtypes"
   ]
  },
  {
   "cell_type": "markdown",
   "metadata": {},
   "source": [
    "**Вывод**"
   ]
  },
  {
   "cell_type": "markdown",
   "metadata": {},
   "source": [
    "Для удобства пользования таблицей данные в столбцах \"days_employed\" и \"total_income\" были заменены на целые числа."
   ]
  },
  {
   "cell_type": "markdown",
   "metadata": {},
   "source": [
    "### Обработка дубликатов"
   ]
  },
  {
   "cell_type": "code",
   "execution_count": 25,
   "metadata": {},
   "outputs": [
    {
     "data": {
      "text/plain": [
       "71"
      ]
     },
     "execution_count": 25,
     "metadata": {},
     "output_type": "execute_result"
    }
   ],
   "source": [
    "data.duplicated().sum()"
   ]
  },
  {
   "cell_type": "code",
   "execution_count": 26,
   "metadata": {},
   "outputs": [],
   "source": [
    "data = data.drop_duplicates(inplace=False).reset_index(drop=True)"
   ]
  },
  {
   "cell_type": "markdown",
   "metadata": {},
   "source": [
    "**Вывод**"
   ]
  },
  {
   "cell_type": "markdown",
   "metadata": {},
   "source": [
    "Учитывая то, что в предоставленных данных отсутствуют уникальные идентификаторы, поиск дубликатов производился на предмет полного совпадения. Так как вреоятность полного совпадения данных разных заемщиков по всем параметрам крайне низка, можно предположить, что природой их появления является сбой в системе сбора данных. Удаляем повторяющиеся 71 строку."
   ]
  },
  {
   "cell_type": "markdown",
   "metadata": {},
   "source": [
    "### Лемматизация"
   ]
  },
  {
   "cell_type": "code",
   "execution_count": 27,
   "metadata": {},
   "outputs": [],
   "source": [
    "from pymystem3 import Mystem\n",
    "m = Mystem() \n",
    "from collections import Counter"
   ]
  },
  {
   "cell_type": "code",
   "execution_count": 28,
   "metadata": {},
   "outputs": [
    {
     "data": {
      "text/plain": [
       "свадьба                                   786\n",
       "на проведение свадьбы                     763\n",
       "сыграть свадьбу                           759\n",
       "операции с недвижимостью                  670\n",
       "покупка коммерческой недвижимости         658\n",
       "покупка жилья для сдачи                   648\n",
       "операции с коммерческой недвижимостью     647\n",
       "операции с жильем                         645\n",
       "жилье                                     639\n",
       "покупка жилья                             637\n",
       "покупка жилья для семьи                   637\n",
       "строительство собственной недвижимости    632\n",
       "недвижимость                              628\n",
       "операции со своей недвижимостью           624\n",
       "строительство недвижимости                619\n",
       "покупка своего жилья                      618\n",
       "строительство жилой недвижимости          618\n",
       "покупка недвижимости                      615\n",
       "ремонт жилью                              604\n",
       "покупка жилой недвижимости                601\n",
       "на покупку своего автомобиля              501\n",
       "заняться высшим образованием              493\n",
       "автомобиль                                488\n",
       "сделка с подержанным автомобилем          483\n",
       "на покупку подержанного автомобиля        477\n",
       "автомобили                                475\n",
       "свой автомобиль                           473\n",
       "на покупку автомобиля                     465\n",
       "приобретение автомобиля                   457\n",
       "дополнительное образование                456\n",
       "сделка с автомобилем                      454\n",
       "высшее образование                        448\n",
       "получение дополнительного образования     443\n",
       "образование                               441\n",
       "получение образования                     440\n",
       "профильное образование                    433\n",
       "получение высшего образования             424\n",
       "заняться образованием                     407\n",
       "Name: purpose, dtype: int64"
      ]
     },
     "execution_count": 28,
     "metadata": {},
     "output_type": "execute_result"
    }
   ],
   "source": [
    "data['purpose'].value_counts()"
   ]
  },
  {
   "cell_type": "markdown",
   "metadata": {},
   "source": [
    "Для наглядности."
   ]
  },
  {
   "cell_type": "code",
   "execution_count": 29,
   "metadata": {},
   "outputs": [
    {
     "data": {
      "text/plain": [
       "Counter({'покупка': 10,\n",
       "         ' ': 96,\n",
       "         'жилье': 7,\n",
       "         'приобретение': 1,\n",
       "         'автомобиль': 9,\n",
       "         'дополнительный': 2,\n",
       "         'образование': 9,\n",
       "         'на': 4,\n",
       "         'проведение': 1,\n",
       "         'свадьба': 3,\n",
       "         'для': 2,\n",
       "         'семья': 1,\n",
       "         'коммерческий': 2,\n",
       "         'недвижимость': 10,\n",
       "         'строительство': 3,\n",
       "         'собственный': 1,\n",
       "         'свой': 4,\n",
       "         'подержать': 2,\n",
       "         'сыграть': 1,\n",
       "         'операция': 4,\n",
       "         'со': 1,\n",
       "         'получение': 3,\n",
       "         'заниматься': 2,\n",
       "         'с': 5,\n",
       "         'сделка': 2,\n",
       "         'профильный': 1,\n",
       "         'высокий': 3,\n",
       "         'жилой': 2,\n",
       "         'сдача': 1,\n",
       "         'ремонт': 1,\n",
       "         '\\n': 1})"
      ]
     },
     "execution_count": 29,
     "metadata": {},
     "output_type": "execute_result"
    }
   ],
   "source": [
    "purpose_list = data['purpose'].unique()\n",
    "lemmas = m.lemmatize(' '.join(purpose_list))\n",
    "Counter(lemmas)"
   ]
  },
  {
   "cell_type": "markdown",
   "metadata": {},
   "source": [
    "Получаем информацию о словах и количестве их употреблений в столбце \"Цель\"."
   ]
  },
  {
   "cell_type": "markdown",
   "metadata": {},
   "source": [
    "**Вывод**"
   ]
  },
  {
   "cell_type": "markdown",
   "metadata": {},
   "source": [
    "Проанализировав полученную информацию, можем выделить основные группы целей получения кредита: \"Недвижимость\", \"Автотранспорт\", \"Образование\" и, как ни странно, \"Свадьба\"."
   ]
  },
  {
   "cell_type": "markdown",
   "metadata": {},
   "source": [
    "### Категоризация данных"
   ]
  },
  {
   "cell_type": "code",
   "execution_count": 30,
   "metadata": {},
   "outputs": [
    {
     "data": {
      "text/plain": [
       "операции с недвижимостью    10740\n",
       "автокредит                   4273\n",
       "кредит на образование        3985\n",
       "кредит на свадьбу            2308\n",
       "Name: purpose_group, dtype: int64"
      ]
     },
     "execution_count": 30,
     "metadata": {},
     "output_type": "execute_result"
    }
   ],
   "source": [
    "def purpose_grouping(row_values):\n",
    "    lemm = m.lemmatize(row_values['purpose'])\n",
    "    if 'автомобиль' in lemm:\n",
    "        return 'автокредит'\n",
    "    \n",
    "    if 'образование' in lemm:\n",
    "        return 'кредит на образование'\n",
    "    \n",
    "    if 'свадьба' in lemm:\n",
    "        return 'кредит на свадьбу'\n",
    "    \n",
    "    if 'жилье' or 'недвижимость' in lemm:\n",
    "        return 'операции с недвижимостью'\n",
    "    \n",
    "    return 'иные цели'\n",
    "\n",
    "data['purpose_group'] = data.apply(purpose_grouping, axis=1)\n",
    "data['purpose_group'].value_counts()"
   ]
  },
  {
   "cell_type": "markdown",
   "metadata": {},
   "source": [
    "Категоризируем данные о целях займа по четырем основным группам, используя итоги лемматизации. "
   ]
  },
  {
   "cell_type": "code",
   "execution_count": 31,
   "metadata": {},
   "outputs": [
    {
     "data": {
      "text/plain": [
       "до 110 тысяч           5601\n",
       "от 110 до 145 тысяч    5452\n",
       "от 145 до 200 тысяч    5220\n",
       "свыше 200 тысяч        5033\n",
       "Name: income_group, dtype: int64"
      ]
     },
     "execution_count": 31,
     "metadata": {},
     "output_type": "execute_result"
    }
   ],
   "source": [
    "def total_income_grouping(row):\n",
    "    income = row['total_income']\n",
    "    \n",
    "    if income <= 110000:\n",
    "        return 'до 110 тысяч'\n",
    "    \n",
    "    if 110000 < income <= 145000:\n",
    "        return 'от 110 до 145 тысяч'\n",
    "    \n",
    "    if 145000 < income <= 200000:\n",
    "        return 'от 145 до 200 тысяч'\n",
    "    \n",
    "    return 'свыше 200 тысяч'\n",
    "\n",
    "data['income_group'] = data.apply(total_income_grouping, axis=1)\n",
    "data['income_group'].value_counts()"
   ]
  },
  {
   "cell_type": "markdown",
   "metadata": {},
   "source": [
    "Столбец содержащий информацию о доходах заёмщиков, для удобства постановки выводов, разобьем на 4 категории, которые приблизительно будут равны по своим значениям."
   ]
  },
  {
   "cell_type": "code",
   "execution_count": 32,
   "metadata": {},
   "outputs": [
    {
     "data": {
      "text/plain": [
       "бездетные        14022\n",
       "1 - 2 ребенка     6831\n",
       "многодетные        453\n",
       "Name: children_group, dtype: int64"
      ]
     },
     "execution_count": 32,
     "metadata": {},
     "output_type": "execute_result"
    }
   ],
   "source": [
    "def children_amount_grouping(row):\n",
    "    children = row['children']\n",
    "    \n",
    "    if children == 0:\n",
    "        return 'бездетные'\n",
    "    \n",
    "    if children <= 2:\n",
    "        return '1 - 2 ребенка'\n",
    "    \n",
    "    return 'многодетные'\n",
    "\n",
    "data['children_group'] = data.apply(children_amount_grouping, axis=1)\n",
    "data['children_group'].value_counts()"
   ]
  },
  {
   "cell_type": "markdown",
   "metadata": {},
   "source": [
    "Информацию о количестве детей заёмщиков разобьем на три группы."
   ]
  },
  {
   "cell_type": "markdown",
   "metadata": {},
   "source": [
    "**Вывод**"
   ]
  },
  {
   "cell_type": "markdown",
   "metadata": {},
   "source": [
    "Для удобства подготовки ответов на выдвинутые заказчиком вопросы, в данном разделе мы категоризировали интересующие данные о заёмщиках."
   ]
  },
  {
   "cell_type": "markdown",
   "metadata": {},
   "source": [
    "## Ответы на вопросы, поставленные перед исследованием"
   ]
  },
  {
   "cell_type": "code",
   "execution_count": 33,
   "metadata": {},
   "outputs": [
    {
     "data": {
      "text/html": [
       "<div>\n",
       "<style scoped>\n",
       "    .dataframe tbody tr th:only-of-type {\n",
       "        vertical-align: middle;\n",
       "    }\n",
       "\n",
       "    .dataframe tbody tr th {\n",
       "        vertical-align: top;\n",
       "    }\n",
       "\n",
       "    .dataframe thead th {\n",
       "        text-align: right;\n",
       "    }\n",
       "</style>\n",
       "<table border=\"1\" class=\"dataframe\">\n",
       "  <thead>\n",
       "    <tr style=\"text-align: right;\">\n",
       "      <th></th>\n",
       "      <th>children_group</th>\n",
       "      <th>family_status</th>\n",
       "      <th>income_group</th>\n",
       "      <th>purpose_group</th>\n",
       "      <th>debt</th>\n",
       "    </tr>\n",
       "  </thead>\n",
       "  <tbody>\n",
       "    <tr>\n",
       "      <th>0</th>\n",
       "      <td>1 - 2 ребенка</td>\n",
       "      <td>женат / замужем</td>\n",
       "      <td>свыше 200 тысяч</td>\n",
       "      <td>операции с недвижимостью</td>\n",
       "      <td>0</td>\n",
       "    </tr>\n",
       "    <tr>\n",
       "      <th>1</th>\n",
       "      <td>1 - 2 ребенка</td>\n",
       "      <td>женат / замужем</td>\n",
       "      <td>от 110 до 145 тысяч</td>\n",
       "      <td>автокредит</td>\n",
       "      <td>0</td>\n",
       "    </tr>\n",
       "    <tr>\n",
       "      <th>2</th>\n",
       "      <td>бездетные</td>\n",
       "      <td>женат / замужем</td>\n",
       "      <td>от 145 до 200 тысяч</td>\n",
       "      <td>операции с недвижимостью</td>\n",
       "      <td>0</td>\n",
       "    </tr>\n",
       "    <tr>\n",
       "      <th>3</th>\n",
       "      <td>многодетные</td>\n",
       "      <td>женат / замужем</td>\n",
       "      <td>свыше 200 тысяч</td>\n",
       "      <td>кредит на образование</td>\n",
       "      <td>0</td>\n",
       "    </tr>\n",
       "    <tr>\n",
       "      <th>4</th>\n",
       "      <td>бездетные</td>\n",
       "      <td>женат / замужем</td>\n",
       "      <td>от 110 до 145 тысяч</td>\n",
       "      <td>кредит на образование</td>\n",
       "      <td>0</td>\n",
       "    </tr>\n",
       "    <tr>\n",
       "      <th>...</th>\n",
       "      <td>...</td>\n",
       "      <td>...</td>\n",
       "      <td>...</td>\n",
       "      <td>...</td>\n",
       "      <td>...</td>\n",
       "    </tr>\n",
       "    <tr>\n",
       "      <th>21301</th>\n",
       "      <td>бездетные</td>\n",
       "      <td>гражданский брак</td>\n",
       "      <td>свыше 200 тысяч</td>\n",
       "      <td>операции с недвижимостью</td>\n",
       "      <td>0</td>\n",
       "    </tr>\n",
       "    <tr>\n",
       "      <th>21302</th>\n",
       "      <td>бездетные</td>\n",
       "      <td>женат / замужем</td>\n",
       "      <td>свыше 200 тысяч</td>\n",
       "      <td>операции с недвижимостью</td>\n",
       "      <td>0</td>\n",
       "    </tr>\n",
       "    <tr>\n",
       "      <th>21303</th>\n",
       "      <td>бездетные</td>\n",
       "      <td>гражданский брак</td>\n",
       "      <td>свыше 200 тысяч</td>\n",
       "      <td>кредит на свадьбу</td>\n",
       "      <td>0</td>\n",
       "    </tr>\n",
       "    <tr>\n",
       "      <th>21304</th>\n",
       "      <td>бездетные</td>\n",
       "      <td>Не женат / не замужем</td>\n",
       "      <td>до 110 тысяч</td>\n",
       "      <td>операции с недвижимостью</td>\n",
       "      <td>0</td>\n",
       "    </tr>\n",
       "    <tr>\n",
       "      <th>21305</th>\n",
       "      <td>1 - 2 ребенка</td>\n",
       "      <td>женат / замужем</td>\n",
       "      <td>до 110 тысяч</td>\n",
       "      <td>автокредит</td>\n",
       "      <td>1</td>\n",
       "    </tr>\n",
       "  </tbody>\n",
       "</table>\n",
       "<p>21306 rows × 5 columns</p>\n",
       "</div>"
      ],
      "text/plain": [
       "      children_group          family_status         income_group  \\\n",
       "0      1 - 2 ребенка        женат / замужем      свыше 200 тысяч   \n",
       "1      1 - 2 ребенка        женат / замужем  от 110 до 145 тысяч   \n",
       "2          бездетные        женат / замужем  от 145 до 200 тысяч   \n",
       "3        многодетные        женат / замужем      свыше 200 тысяч   \n",
       "4          бездетные        женат / замужем  от 110 до 145 тысяч   \n",
       "...              ...                    ...                  ...   \n",
       "21301      бездетные       гражданский брак      свыше 200 тысяч   \n",
       "21302      бездетные        женат / замужем      свыше 200 тысяч   \n",
       "21303      бездетные       гражданский брак      свыше 200 тысяч   \n",
       "21304      бездетные  Не женат / не замужем         до 110 тысяч   \n",
       "21305  1 - 2 ребенка        женат / замужем         до 110 тысяч   \n",
       "\n",
       "                  purpose_group  debt  \n",
       "0      операции с недвижимостью     0  \n",
       "1                    автокредит     0  \n",
       "2      операции с недвижимостью     0  \n",
       "3         кредит на образование     0  \n",
       "4         кредит на образование     0  \n",
       "...                         ...   ...  \n",
       "21301  операции с недвижимостью     0  \n",
       "21302  операции с недвижимостью     0  \n",
       "21303         кредит на свадьбу     0  \n",
       "21304  операции с недвижимостью     0  \n",
       "21305                автокредит     1  \n",
       "\n",
       "[21306 rows x 5 columns]"
      ]
     },
     "execution_count": 33,
     "metadata": {},
     "output_type": "execute_result"
    }
   ],
   "source": [
    "required_data = data[['children_group', 'family_status', 'income_group', 'purpose_group', 'debt']]\n",
    "required_data"
   ]
  },
  {
   "cell_type": "markdown",
   "metadata": {},
   "source": [
    "Таблица с интересующими данными."
   ]
  },
  {
   "cell_type": "markdown",
   "metadata": {},
   "source": [
    "### Есть ли зависимость между наличием детей и возвратом кредита в срок?"
   ]
  },
  {
   "cell_type": "code",
   "execution_count": 34,
   "metadata": {},
   "outputs": [
    {
     "data": {
      "text/html": [
       "<style  type=\"text/css\" >\n",
       "</style><table id=\"T_b05bb_\" ><thead>    <tr>        <th class=\"blank level0\" ></th>        <th class=\"col_heading level0 col0\" >общее кол-во заёмщиков</th>        <th class=\"col_heading level0 col1\" >из них, имевших долги</th>        <th class=\"col_heading level0 col2\" >%невозврата</th>    </tr>    <tr>        <th class=\"index_name level0\" >children_group</th>        <th class=\"blank\" ></th>        <th class=\"blank\" ></th>        <th class=\"blank\" ></th>    </tr></thead><tbody>\n",
       "                <tr>\n",
       "                        <th id=\"T_b05bb_level0_row0\" class=\"row_heading level0 row0\" >1 - 2 ребенка</th>\n",
       "                        <td id=\"T_b05bb_row0_col0\" class=\"data row0 col0\" >6831</td>\n",
       "                        <td id=\"T_b05bb_row0_col1\" class=\"data row0 col1\" >635</td>\n",
       "                        <td id=\"T_b05bb_row0_col2\" class=\"data row0 col2\" >9.30%</td>\n",
       "            </tr>\n",
       "            <tr>\n",
       "                        <th id=\"T_b05bb_level0_row1\" class=\"row_heading level0 row1\" >многодетные</th>\n",
       "                        <td id=\"T_b05bb_row1_col0\" class=\"data row1 col0\" >453</td>\n",
       "                        <td id=\"T_b05bb_row1_col1\" class=\"data row1 col1\" >39</td>\n",
       "                        <td id=\"T_b05bb_row1_col2\" class=\"data row1 col2\" >8.61%</td>\n",
       "            </tr>\n",
       "            <tr>\n",
       "                        <th id=\"T_b05bb_level0_row2\" class=\"row_heading level0 row2\" >бездетные</th>\n",
       "                        <td id=\"T_b05bb_row2_col0\" class=\"data row2 col0\" >14022</td>\n",
       "                        <td id=\"T_b05bb_row2_col1\" class=\"data row2 col1\" >1058</td>\n",
       "                        <td id=\"T_b05bb_row2_col2\" class=\"data row2 col2\" >7.55%</td>\n",
       "            </tr>\n",
       "    </tbody></table>"
      ],
      "text/plain": [
       "<pandas.io.formats.style.Styler at 0x7fb6ca49abb0>"
      ]
     },
     "execution_count": 34,
     "metadata": {},
     "output_type": "execute_result"
    }
   ],
   "source": [
    "answer_1 = required_data.groupby('children_group').agg({'debt' : ['count', 'sum', 'mean']})\n",
    "answer_1.columns = ['общее кол-во заёмщиков', 'из них, имевших долги', '%невозврата']\n",
    "answer_1 = answer_1.sort_values(by='%невозврата', ascending=False)\n",
    "answer_1 = answer_1.style.format({'%невозврата':'{:.2%}'})\n",
    "answer_1"
   ]
  },
  {
   "cell_type": "markdown",
   "metadata": {},
   "source": [
    "**Вывод**"
   ]
  },
  {
   "cell_type": "markdown",
   "metadata": {},
   "source": [
    "Несмотря на то, что бездетные заемщики почти в два раза чаще обращаются за кредитом и впоследствии имеют по ним долги, заёмщики, имеющие 1-2 детей почти на 2% чаще не возвращают кредит в срок, по сравнению с бездетными."
   ]
  },
  {
   "cell_type": "markdown",
   "metadata": {},
   "source": [
    "### Есть ли зависимость между семейным положением и возвратом кредита в срок?"
   ]
  },
  {
   "cell_type": "code",
   "execution_count": 35,
   "metadata": {},
   "outputs": [
    {
     "data": {
      "text/html": [
       "<style  type=\"text/css\" >\n",
       "</style><table id=\"T_4fe5f_\" ><thead>    <tr>        <th class=\"blank level0\" ></th>        <th class=\"col_heading level0 col0\" >общее кол-во заёмщиков</th>        <th class=\"col_heading level0 col1\" >из них, имевших долги</th>        <th class=\"col_heading level0 col2\" >%невозврата</th>    </tr>    <tr>        <th class=\"index_name level0\" >family_status</th>        <th class=\"blank\" ></th>        <th class=\"blank\" ></th>        <th class=\"blank\" ></th>    </tr></thead><tbody>\n",
       "                <tr>\n",
       "                        <th id=\"T_4fe5f_level0_row0\" class=\"row_heading level0 row0\" >Не женат / не замужем</th>\n",
       "                        <td id=\"T_4fe5f_row0_col0\" class=\"data row0 col0\" >2789</td>\n",
       "                        <td id=\"T_4fe5f_row0_col1\" class=\"data row0 col1\" >273</td>\n",
       "                        <td id=\"T_4fe5f_row0_col2\" class=\"data row0 col2\" >9.79%</td>\n",
       "            </tr>\n",
       "            <tr>\n",
       "                        <th id=\"T_4fe5f_level0_row1\" class=\"row_heading level0 row1\" >гражданский брак</th>\n",
       "                        <td id=\"T_4fe5f_row1_col0\" class=\"data row1 col0\" >4125</td>\n",
       "                        <td id=\"T_4fe5f_row1_col1\" class=\"data row1 col1\" >386</td>\n",
       "                        <td id=\"T_4fe5f_row1_col2\" class=\"data row1 col2\" >9.36%</td>\n",
       "            </tr>\n",
       "            <tr>\n",
       "                        <th id=\"T_4fe5f_level0_row2\" class=\"row_heading level0 row2\" >женат / замужем</th>\n",
       "                        <td id=\"T_4fe5f_row2_col0\" class=\"data row2 col0\" >12261</td>\n",
       "                        <td id=\"T_4fe5f_row2_col1\" class=\"data row2 col1\" >926</td>\n",
       "                        <td id=\"T_4fe5f_row2_col2\" class=\"data row2 col2\" >7.55%</td>\n",
       "            </tr>\n",
       "            <tr>\n",
       "                        <th id=\"T_4fe5f_level0_row3\" class=\"row_heading level0 row3\" >в разводе</th>\n",
       "                        <td id=\"T_4fe5f_row3_col0\" class=\"data row3 col0\" >1181</td>\n",
       "                        <td id=\"T_4fe5f_row3_col1\" class=\"data row3 col1\" >85</td>\n",
       "                        <td id=\"T_4fe5f_row3_col2\" class=\"data row3 col2\" >7.20%</td>\n",
       "            </tr>\n",
       "            <tr>\n",
       "                        <th id=\"T_4fe5f_level0_row4\" class=\"row_heading level0 row4\" >вдовец / вдова</th>\n",
       "                        <td id=\"T_4fe5f_row4_col0\" class=\"data row4 col0\" >950</td>\n",
       "                        <td id=\"T_4fe5f_row4_col1\" class=\"data row4 col1\" >62</td>\n",
       "                        <td id=\"T_4fe5f_row4_col2\" class=\"data row4 col2\" >6.53%</td>\n",
       "            </tr>\n",
       "    </tbody></table>"
      ],
      "text/plain": [
       "<pandas.io.formats.style.Styler at 0x7fb6c9f78880>"
      ]
     },
     "execution_count": 35,
     "metadata": {},
     "output_type": "execute_result"
    }
   ],
   "source": [
    "answer_2 = required_data.groupby('family_status').agg({'debt' : ['count', 'sum', 'mean']})\n",
    "answer_2.columns = ['общее кол-во заёмщиков', 'из них, имевших долги', '%невозврата']\n",
    "answer_2 = answer_2.sort_values(by='%невозврата', ascending=False)\n",
    "answer_2 = answer_2.style.format({'%невозврата':'{:.2%}'})\n",
    "answer_2"
   ]
  },
  {
   "cell_type": "markdown",
   "metadata": {},
   "source": [
    "**Вывод**"
   ]
  },
  {
   "cell_type": "markdown",
   "metadata": {},
   "source": [
    "Самая многочисленная группа заёмщиков, состоящих в супружеском браке, значительно превалирует над всеми остальными группами, вместе взятыми, по количеству займов и долгов по ним. Однако, не смотря на данный факт, заёмщики, не связавшие себя узами брака или находящиеся в гражданском браке, почти на 2% чаще не возвращают долги по кредитам в устанволенный срок, чем женатые/замужние. Исходя из результатов исследования, овдовевшие заёмщики являются самыми пунктуальными плательщиками. "
   ]
  },
  {
   "cell_type": "markdown",
   "metadata": {},
   "source": [
    "### Есть ли зависимость между уровнем дохода и возвратом кредита в срок?"
   ]
  },
  {
   "cell_type": "code",
   "execution_count": 36,
   "metadata": {},
   "outputs": [
    {
     "data": {
      "text/html": [
       "<style  type=\"text/css\" >\n",
       "</style><table id=\"T_e742d_\" ><thead>    <tr>        <th class=\"blank level0\" ></th>        <th class=\"col_heading level0 col0\" >общее кол-во заёмщиков</th>        <th class=\"col_heading level0 col1\" >из них, имевших долги</th>        <th class=\"col_heading level0 col2\" >%невозврата</th>    </tr>    <tr>        <th class=\"index_name level0\" >income_group</th>        <th class=\"blank\" ></th>        <th class=\"blank\" ></th>        <th class=\"blank\" ></th>    </tr></thead><tbody>\n",
       "                <tr>\n",
       "                        <th id=\"T_e742d_level0_row0\" class=\"row_heading level0 row0\" >от 110 до 145 тысяч</th>\n",
       "                        <td id=\"T_e742d_row0_col0\" class=\"data row0 col0\" >5452</td>\n",
       "                        <td id=\"T_e742d_row0_col1\" class=\"data row0 col1\" >480</td>\n",
       "                        <td id=\"T_e742d_row0_col2\" class=\"data row0 col2\" >8.80%</td>\n",
       "            </tr>\n",
       "            <tr>\n",
       "                        <th id=\"T_e742d_level0_row1\" class=\"row_heading level0 row1\" >от 145 до 200 тысяч</th>\n",
       "                        <td id=\"T_e742d_row1_col0\" class=\"data row1 col0\" >5220</td>\n",
       "                        <td id=\"T_e742d_row1_col1\" class=\"data row1 col1\" >442</td>\n",
       "                        <td id=\"T_e742d_row1_col2\" class=\"data row1 col2\" >8.47%</td>\n",
       "            </tr>\n",
       "            <tr>\n",
       "                        <th id=\"T_e742d_level0_row2\" class=\"row_heading level0 row2\" >до 110 тысяч</th>\n",
       "                        <td id=\"T_e742d_row2_col0\" class=\"data row2 col0\" >5601</td>\n",
       "                        <td id=\"T_e742d_row2_col1\" class=\"data row2 col1\" >453</td>\n",
       "                        <td id=\"T_e742d_row2_col2\" class=\"data row2 col2\" >8.09%</td>\n",
       "            </tr>\n",
       "            <tr>\n",
       "                        <th id=\"T_e742d_level0_row3\" class=\"row_heading level0 row3\" >свыше 200 тысяч</th>\n",
       "                        <td id=\"T_e742d_row3_col0\" class=\"data row3 col0\" >5033</td>\n",
       "                        <td id=\"T_e742d_row3_col1\" class=\"data row3 col1\" >357</td>\n",
       "                        <td id=\"T_e742d_row3_col2\" class=\"data row3 col2\" >7.09%</td>\n",
       "            </tr>\n",
       "    </tbody></table>"
      ],
      "text/plain": [
       "<pandas.io.formats.style.Styler at 0x7fb6c9f11100>"
      ]
     },
     "execution_count": 36,
     "metadata": {},
     "output_type": "execute_result"
    }
   ],
   "source": [
    "answer_3 = required_data.groupby('income_group').agg({'debt' : ['count', 'sum', 'mean']})\n",
    "answer_3.columns = ['общее кол-во заёмщиков', 'из них, имевших долги', '%невозврата']\n",
    "answer_3 = answer_3.sort_values(by='%невозврата', ascending=False)\n",
    "answer_3 = answer_3.style.format({'%невозврата':'{:.2%}'})\n",
    "answer_3"
   ]
  },
  {
   "cell_type": "markdown",
   "metadata": {},
   "source": [
    "**Вывод**"
   ]
  },
  {
   "cell_type": "markdown",
   "metadata": {},
   "source": [
    "Зависимость между уровнем дохода и возвратом кредита в срок прослеживается незначительная. Группы заёмщиков, зарабатывающих до 200 тысяч имеют практически одинаковое количество невозвратов, варьирующееся от 8,09% до 8,8%. Зарабатывающие свыше 200 тысяч являются самыми добросовестными плательщиками по долгам с процентом невозврата - 7,09."
   ]
  },
  {
   "cell_type": "markdown",
   "metadata": {},
   "source": [
    "### Как разные цели кредита влияют на его возврат в срок?"
   ]
  },
  {
   "cell_type": "code",
   "execution_count": 37,
   "metadata": {},
   "outputs": [
    {
     "data": {
      "text/html": [
       "<style  type=\"text/css\" >\n",
       "</style><table id=\"T_cf241_\" ><thead>    <tr>        <th class=\"blank level0\" ></th>        <th class=\"col_heading level0 col0\" >общее кол-во заёмщиков</th>        <th class=\"col_heading level0 col1\" >из них, имевших долги</th>        <th class=\"col_heading level0 col2\" >%невозврата</th>    </tr>    <tr>        <th class=\"index_name level0\" >purpose_group</th>        <th class=\"blank\" ></th>        <th class=\"blank\" ></th>        <th class=\"blank\" ></th>    </tr></thead><tbody>\n",
       "                <tr>\n",
       "                        <th id=\"T_cf241_level0_row0\" class=\"row_heading level0 row0\" >автокредит</th>\n",
       "                        <td id=\"T_cf241_row0_col0\" class=\"data row0 col0\" >4273</td>\n",
       "                        <td id=\"T_cf241_row0_col1\" class=\"data row0 col1\" >399</td>\n",
       "                        <td id=\"T_cf241_row0_col2\" class=\"data row0 col2\" >9.34%</td>\n",
       "            </tr>\n",
       "            <tr>\n",
       "                        <th id=\"T_cf241_level0_row1\" class=\"row_heading level0 row1\" >кредит на образование</th>\n",
       "                        <td id=\"T_cf241_row1_col0\" class=\"data row1 col0\" >3985</td>\n",
       "                        <td id=\"T_cf241_row1_col1\" class=\"data row1 col1\" >370</td>\n",
       "                        <td id=\"T_cf241_row1_col2\" class=\"data row1 col2\" >9.28%</td>\n",
       "            </tr>\n",
       "            <tr>\n",
       "                        <th id=\"T_cf241_level0_row2\" class=\"row_heading level0 row2\" >кредит на свадьбу</th>\n",
       "                        <td id=\"T_cf241_row2_col0\" class=\"data row2 col0\" >2308</td>\n",
       "                        <td id=\"T_cf241_row2_col1\" class=\"data row2 col1\" >184</td>\n",
       "                        <td id=\"T_cf241_row2_col2\" class=\"data row2 col2\" >7.97%</td>\n",
       "            </tr>\n",
       "            <tr>\n",
       "                        <th id=\"T_cf241_level0_row3\" class=\"row_heading level0 row3\" >операции с недвижимостью</th>\n",
       "                        <td id=\"T_cf241_row3_col0\" class=\"data row3 col0\" >10740</td>\n",
       "                        <td id=\"T_cf241_row3_col1\" class=\"data row3 col1\" >779</td>\n",
       "                        <td id=\"T_cf241_row3_col2\" class=\"data row3 col2\" >7.25%</td>\n",
       "            </tr>\n",
       "    </tbody></table>"
      ],
      "text/plain": [
       "<pandas.io.formats.style.Styler at 0x7fb6c9f78a60>"
      ]
     },
     "execution_count": 37,
     "metadata": {},
     "output_type": "execute_result"
    }
   ],
   "source": [
    "answer_4 = required_data.groupby('purpose_group').agg({'debt' : ['count', 'sum', 'mean']})\n",
    "answer_4.columns = ['общее кол-во заёмщиков', 'из них, имевших долги', '%невозврата']\n",
    "answer_4 = answer_4.sort_values(by='%невозврата', ascending=False)\n",
    "answer_4 = answer_4.style.format({'%невозврата':'{:.2%}'})\n",
    "answer_4"
   ]
  },
  {
   "cell_type": "markdown",
   "metadata": {},
   "source": [
    "**Вывод**"
   ]
  },
  {
   "cell_type": "markdown",
   "metadata": {},
   "source": [
    "Исследуемая группа заёмщиков, обратившихся за получением кредита на операции с недвижимостью практически равна количеству заёмщиков по всем оставшимся целевым группам, вместе взятым. При этом, данная группа имеет самый низкий процент невозврата долга - 7,25%, что можно сказать и о взявших кредит на свадьбу - 7,97%. Невозврат по автокредиту и кредиту на образование выше почти на 2пп и составляет 9,34% и 9,28% соответственно."
   ]
  },
  {
   "cell_type": "markdown",
   "metadata": {},
   "source": [
    "## Общий вывод"
   ]
  },
  {
   "cell_type": "markdown",
   "metadata": {},
   "source": [
    "Исследовав полученные данные о заёмщиках, можно сделать выводы о том, что:"
   ]
  },
  {
   "cell_type": "markdown",
   "metadata": {},
   "source": [
    "1. Процент невозврата по всем интересующим группам относительно невысок и не превышает 10%"
   ]
  },
  {
   "cell_type": "markdown",
   "metadata": {},
   "source": [
    "2. Самыми добросовестными плательщиками являются - заёмщики, имеющие доходы свыше 200 тысяч, овдовевшие, не имеющие детей и кредитующиеся для проведения операций с недвижимостью."
   ]
  },
  {
   "cell_type": "markdown",
   "metadata": {},
   "source": [
    "3. Чаще всего не возвращают долг в установленные сроки плательщики по автокредиту, не состоящие в официальном браке, с доходом от 110 до 145 тысяч, имющие 1-2 детей."
   ]
  },
  {
   "cell_type": "markdown",
   "metadata": {},
   "source": [
    "4. Корреляция между исследуемыми группами заёмщиков и процентом невовзрата ими долга, крайне не высока и варьируется на уровне 1-3пп."
   ]
  }
 ],
 "metadata": {
  "ExecuteTimeLog": [
   {
    "duration": 561,
    "start_time": "2023-02-14T17:25:46.804Z"
   },
   {
    "duration": 271,
    "start_time": "2023-02-14T17:25:47.368Z"
   },
   {
    "duration": 17,
    "start_time": "2023-02-14T17:25:47.641Z"
   },
   {
    "duration": 31,
    "start_time": "2023-02-14T17:25:47.660Z"
   },
   {
    "duration": 37,
    "start_time": "2023-02-14T17:25:47.693Z"
   },
   {
    "duration": 9,
    "start_time": "2023-02-14T17:25:47.732Z"
   },
   {
    "duration": 42,
    "start_time": "2023-02-14T17:25:47.744Z"
   },
   {
    "duration": 44,
    "start_time": "2023-02-14T17:25:47.788Z"
   },
   {
    "duration": 15,
    "start_time": "2023-02-14T17:25:47.834Z"
   },
   {
    "duration": 15,
    "start_time": "2023-02-14T17:25:47.853Z"
   },
   {
    "duration": 70,
    "start_time": "2023-02-14T17:25:47.870Z"
   },
   {
    "duration": 7,
    "start_time": "2023-02-14T17:25:47.942Z"
   },
   {
    "duration": 15,
    "start_time": "2023-02-14T17:25:47.951Z"
   },
   {
    "duration": 15,
    "start_time": "2023-02-14T17:25:47.968Z"
   },
   {
    "duration": 16,
    "start_time": "2023-02-14T17:25:47.986Z"
   },
   {
    "duration": 22,
    "start_time": "2023-02-14T17:25:48.010Z"
   },
   {
    "duration": 13,
    "start_time": "2023-02-14T17:25:48.034Z"
   },
   {
    "duration": 10,
    "start_time": "2023-02-14T17:25:48.050Z"
   },
   {
    "duration": 27,
    "start_time": "2023-02-14T17:25:48.062Z"
   },
   {
    "duration": 29,
    "start_time": "2023-02-14T17:25:48.092Z"
   },
   {
    "duration": 12,
    "start_time": "2023-02-14T17:25:48.125Z"
   },
   {
    "duration": 6,
    "start_time": "2023-02-14T17:25:48.139Z"
   },
   {
    "duration": 7,
    "start_time": "2023-02-14T17:25:48.147Z"
   },
   {
    "duration": 11,
    "start_time": "2023-02-14T17:25:48.156Z"
   },
   {
    "duration": 41,
    "start_time": "2023-02-14T17:25:48.169Z"
   },
   {
    "duration": 28,
    "start_time": "2023-02-14T17:25:48.212Z"
   },
   {
    "duration": 58,
    "start_time": "2023-02-14T17:25:48.242Z"
   },
   {
    "duration": 16,
    "start_time": "2023-02-14T17:25:48.306Z"
   },
   {
    "duration": 1249,
    "start_time": "2023-02-14T17:25:48.325Z"
   },
   {
    "duration": 4823,
    "start_time": "2023-02-14T17:25:49.576Z"
   },
   {
    "duration": 181,
    "start_time": "2023-02-14T17:25:54.403Z"
   },
   {
    "duration": 183,
    "start_time": "2023-02-14T17:25:54.586Z"
   },
   {
    "duration": 17,
    "start_time": "2023-02-14T17:25:54.771Z"
   },
   {
    "duration": 622,
    "start_time": "2023-02-14T17:25:54.799Z"
   },
   {
    "duration": 15,
    "start_time": "2023-02-14T17:25:55.424Z"
   },
   {
    "duration": 40,
    "start_time": "2023-02-14T17:25:55.441Z"
   },
   {
    "duration": 34,
    "start_time": "2023-02-14T17:25:55.483Z"
   }
  ],
  "kernelspec": {
   "display_name": "Python 3 (ipykernel)",
   "language": "python",
   "name": "python3"
  },
  "language_info": {
   "codemirror_mode": {
    "name": "ipython",
    "version": 3
   },
   "file_extension": ".py",
   "mimetype": "text/x-python",
   "name": "python",
   "nbconvert_exporter": "python",
   "pygments_lexer": "ipython3",
   "version": "3.9.5"
  },
  "toc": {
   "base_numbering": 1,
   "nav_menu": {
    "height": "101px",
    "width": "294px"
   },
   "number_sections": true,
   "sideBar": false,
   "skip_h1_title": true,
   "title_cell": "Содержание",
   "title_sidebar": "Contents",
   "toc_cell": true,
   "toc_position": {
    "height": "725px",
    "left": "10px",
    "top": "122px",
    "width": "309px"
   },
   "toc_section_display": true,
   "toc_window_display": true
  }
 },
 "nbformat": 4,
 "nbformat_minor": 2
}
